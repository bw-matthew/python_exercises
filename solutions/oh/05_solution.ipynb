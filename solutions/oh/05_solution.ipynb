{
 "cells": [
  {
   "cell_type": "markdown",
   "metadata": {},
   "source": [
    "# joining tables"
   ]
  },
  {
   "cell_type": "code",
   "execution_count": 5,
   "metadata": {},
   "outputs": [
    {
     "name": "stdout",
     "output_type": "stream",
     "text": [
      "/Users/oholm/work/python_exercises/exercises/02 read_write_data/datafiles/NY_rodent_inspections_sample.csv\n"
     ]
    }
   ],
   "source": [
    "import pandas as pd\n",
    "import os\n",
    "\n",
    "USER_HOME = os.path.expanduser('~') \n",
    "BASE_DIR = os.path.join(USER_HOME, 'work/python_exercises/') # path to root directory of the affinity project.\n",
    "RODENT_FILE_PATH = os.path.join(BASE_DIR, 'exercises/02 read_write_data/datafiles/NY_rodent_inspections_sample.csv') # path to data directory of the affinity project.\n",
    "WEATHER_FILE_PATH = os.path.join(BASE_DIR, 'exercises/05/datafiles/NY_rodent_inspections_sample.csv') # path to data directory of the affinity project.\n",
    "print(RODENT_FILE_PATH)"
   ]
  },
  {
   "cell_type": "code",
   "execution_count": 6,
   "metadata": {},
   "outputs": [],
   "source": [
    "rodent_inspections = pd.read_csv(RODENT_FILE_PATH)\n",
    "weather_data = pd.read(WEATHER_FILE_PATH)"
   ]
  },
  {
   "cell_type": "code",
   "execution_count": null,
   "metadata": {},
   "outputs": [],
   "source": []
  }
 ],
 "metadata": {
  "kernelspec": {
   "display_name": "Python 3",
   "language": "python",
   "name": "python3"
  },
  "language_info": {
   "codemirror_mode": {
    "name": "ipython",
    "version": 3
   },
   "file_extension": ".py",
   "mimetype": "text/x-python",
   "name": "python",
   "nbconvert_exporter": "python",
   "pygments_lexer": "ipython3",
   "version": "3.7.0"
  }
 },
 "nbformat": 4,
 "nbformat_minor": 2
}
