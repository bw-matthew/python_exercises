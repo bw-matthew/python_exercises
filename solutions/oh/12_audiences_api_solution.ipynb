{
 "cells": [
  {
   "cell_type": "markdown",
   "metadata": {},
   "source": [
    "# exercise 12  - using the  `audiences` api\n",
    "\n",
    "## this week's exercise:\n",
    "\n",
    "using only python code, generate the following three new audiences in the `audiences` application (feel free to change the search criteria to something more relevant to your own interests if you'd like, but make sure you can generate queries of at least the same complexity):\n",
    "\n",
    "- one audience search for twitter users whose `BIO` contains **any** of these terms: `['dog', 'cat', 'puppy', 'kitten']`\n",
    "- one audience search for twitter users whose `BIO` contains **all** of these terms: `['dog', 'cat', 'love']`\n",
    "- one audience search for twitter users whose bio contains **any** of these terms: `['dog', 'cat', 'puppy', 'kitten', 'kitty']` **and** whose `INTERESTS` includes  `Animals & Pets` (see image below) \n",
    "\n",
    "## solution:\n",
    "in my solution, i employ a set of helper functions, stored in the file `audiences_helper_functions.py` in this folder.\n"
   ]
  },
  {
   "cell_type": "code",
   "execution_count": 1,
   "metadata": {},
   "outputs": [],
   "source": [
    "import json\n",
    "import requests\n",
    "\n",
    "from audiences_helper_functions import create_search_query_child\n",
    "from audiences_helper_functions import add_search_term_to_query_child\n",
    "from audiences_helper_functions import create_search_query_payload\n",
    "from audiences_helper_functions import create_search_query_payload_json\n",
    "from audiences_helper_functions import get_search_query_response\n",
    "from audiences_helper_functions import create_save_query_payload\n",
    "from audiences_helper_functions import create_save_query_payload_json\n",
    "from audiences_helper_functions import save_audience_search"
   ]
  },
  {
   "cell_type": "code",
   "execution_count": 2,
   "metadata": {},
   "outputs": [],
   "source": [
    "# constants\n",
    "preview_request_url = 'https://audiences.brandwatch.com/api/audiences/audiences/preview?start=0&count=5&page=0&sort=influence&direction=desc'\n",
    "save_request_url = 'https://audiences.brandwatch.com/api/audiences/audiences?newFormat=true'\n",
    "user_id = '207736492'\n",
    "authorisation_key = 'eyJhbGciOiJSUzI1NiIsInR5cCI6IkpXVCIsImtpZCI6IjA2MGRlYWI3YTdhNTE0Mjk2NDg5NGFlNjUwMTI1Zjg0Y2VkNjkyNjgifQ.eyJlbWFpbCI6Im9ob2xtQGJyYW5kd2F0Y2guY29tIiwiZmlyc3ROYW1lIjoiT3NrYXIiLCJsYXN0TmFtZSI6IkhvbG0iLCJjbGllbnRJZCI6MTk5NzM5MjcwNSwiYXBpMkFjY2Vzc1Rva2VuIjoiZXlKaGJHY2lPaUpTVXpJMU5pSXNJblI1Y0NJNklrcFhWQ0lzSW10cFpDSTZJakEyTUdSbFlXSTNZVGRoTlRFME1qazJORGc1TkdGbE5qVXdNVEkxWmpnMFkyVmtOamt5TmpnaWZRLmV5SnliMnhsY3lJNld5SkNWMTlDUVZOSlExOVZVMFZTSWl3aVFsZGZRVVJOU1U1ZlZWTkZVaUpkTENKelkyOXdaU0k2ZTMwc0ltVjRjQ0k2TVRVME56UXlNakl3T0N3aVlYVmtJanBiSW1GMVpHbGxibU5sY3k1aWNtRnVaSGRoZEdOb0xtTnZiU0lzSW1Gd2FTNWljbUZ1WkhkaGRHTm9MbU52YlNKZExDSnBjM01pT2lKc2IyZHBiaTVpY21GdVpIZGhkR05vTG1OdmJTSXNJbk4xWWlJNklqSXdOemN6TmpRNU1pSjkuSWxmUnlJQnRvSS1mQnJzWGRia09CZlZORVZiVG5QZUNldENfZWF1YUZtVll3NXloZ0lqa09jaVFMM1V6a0NSOGpYaHdPekpEMUxjWkd4MzR0NHhnNzU3eUpGc3NxM3pwTkwxTlJ6QUlqYS1Hc2daWWlvUFd1VGltRF9wd19oaVdPbVFCeDZKRmlmcWZlLWlGVGxSOGxKM0JTNGhiblVXY0JEZjd3aVlYMExsRWFkejhHSWFJYXd1cC01cHcxS2NXenc5TENRcVpHaFZPSTdfN01aRDBPZ2J2aDJOdGNNSEN0WnZaU296UzlJVzVnd25VTkhKcFNaRGloOTdTQkdIbmZHT1NZM0FzZi1MQS1IMmQ2ZTRCcVlzdkNOTmlmUmdRVlJwenlUQktGeWxuWjl6WmJ5aGg4a25qaXhrdmVhUTd2elRJdkI2OXZyczlrdFNlQlVIQ3hyVjNPVDh3VWgyVmYtSkdMalowN1I2MS1WdHVtZVkwd2lwc2duSERJUVdGTUdJdGozSnlrdVljeUthVUN0b1dxdk9WV1djY2hUZDNYZ0VLQUtDYWlGWUJ3OElRVWtaTWlqR3NHVktfZEdvc1ItWUxyMVJHcGNqSVV0MF9BcDlPMGtTRzJ1dEtqc2YybUFwd2ZDcWdDdFJZVG9GNV9sYjNOZ1F3YWFMZ0NnM2QxdzNRWHU5TlFXalI0UnVmUVFMNnZ3MkhfOEU4VDB1UVBLSlZVbzNIWGE3MHNrUWh5WlUxVGVVVVItVFNzRHJGNmktazBuU2xEdFRZV2pnY19YdWhyeEEzME9yUE5KQ1RHcUJBZXJDTUFENEllR1FVd0lPX2ZlYkw5YVMzdVV3SC1kMW1rb3BIUU9PUjhwelpKcGhsRnZrU0dwMVA0WEV3Q2MzNURHdGoybEkiLCJyb2xlcyI6W10sInNjb3BlIjp7fSwiZXhwIjoxNTQ3NDIyMjA4LCJhdWQiOiJhdWRpZW5jZXMuYnJhbmR3YXRjaC5jb20iLCJpc3MiOiJsb2dpbi5icmFuZHdhdGNoLmNvbSIsInN1YiI6IjIwNzczNjQ5MiJ9.MLS3-dUMjxxdZbfrB6UPMoX3ih3CqYjbGcY06ApBp4O_pFJZfc55K69DSaNTjeS60if79-lqNxAhgR45-zIcJYY3e827doj_NO6gZkLsxuO87RV77M5KXG_-TcgQo_yVnK1BNiCYe6YhuRCYDdRWBfANOqu7cEkkq3Ujn82ovcTgAraRKJu8vG-hYk4Wetez7VKqteFXtAYxcvL91pT4Wz62uFn1B3QbnBl422N6r-wmoCoVzRCpdlPvKob6qpQHv2LfExFzMhv4cQp-KQCgGXi0A6Qtiuzy8nGvFsF3iGDShpgbVFcEeKrqCskiCBjrGYtUDzt7WDYMgZ12R1NZMhaMzowCB6BIUzyfYnb0IR24l5_hO6-PKdmT2RxJbFc2cN2rdzFYiUptZ8jliTt48jt10Jd4vrfqCRNXLfStxp4YhMzxDPS7KudwynfB7109yNxMdJ8ctf5_FJxvdLCntDXom0-MM34mHr9NsjqrYAlFA2u_CIMcExkRBmVj81V5n_GKofaoSM0dq5VEtK8ihxUuk5PIPV_lzb4HR03rzkmwEeUwMm-7zNKGxmkytrQ00e_-GFYuRI0VY5L8A0kIHJJ72D6wMErw_7RZdYLrz_xG6zqF_kf01fwj0qer6hYHUWYgS-3aZqwa_IxCfp5sG7NFm4gCjZCoF3xY9rlX8fg'"
   ]
  },
  {
   "cell_type": "code",
   "execution_count": 3,
   "metadata": {},
   "outputs": [
    {
     "data": {
      "text/plain": [
       "('{\"id\": null, \"query\": {\"operator\": \"AND\", \"children\": [{\"operator\": \"OR\", \"children\": [{\"operator\": \"OR\", \"field\": \"BIO\", \"value\": [\"dog\"]}, {\"operator\": \"OR\", \"field\": \"BIO\", \"value\": [\"cat\"]}, {\"operator\": \"OR\", \"field\": \"BIO\", \"value\": [\"puppy\"]}, {\"operator\": \"OR\", \"field\": \"BIO\", \"value\": [\"kitten\"]}]}]}}',\n",
       " '311')"
      ]
     },
     "execution_count": 3,
     "metadata": {},
     "output_type": "execute_result"
    }
   ],
   "source": [
    "# first audience definition:\n",
    "query_terms_1 = ['dog', 'cat', 'puppy', 'kitten']\n",
    "query_terms_2 = ['dog', 'cat', 'love']\n",
    "query_child = create_search_query_child(query_terms_1,'BIO',bool_operator='OR')\n",
    "query_payload = create_search_query_payload_json([query_child])\n",
    "char_count = str(len(query_payload))\n",
    "query_payload, char_count"
   ]
  },
  {
   "cell_type": "code",
   "execution_count": 4,
   "metadata": {},
   "outputs": [
    {
     "data": {
      "text/plain": [
       "'{\"results\":[{\"piScore\":91,\"name\":\"Michelle Obama\",\"screenName\":\"MichelleObama\",\"profileLocation\":\"Washington, DC\",\"demographics\":{\"location\":{\"name\":\"Washington, D.C.\",\"population\":601723,\"geonameId\":4140963,\"featureCode\":\"PPLC\",\"codes\":{\"PCL\":\"US\",\"ADM1\":\"DC\",\"SUBADM\":\"4140963\",\"ADM2\":\"001\"},\"coords\":{\"lat\":38.89511,\"lon\":-77.03637},\"source\":\"PROFILE_LOCATION\"},\"professions\":[],\"interests\":[\"Animals & Pets\",\"Family & Parenting\"],\"accountType\":\"INDIVIDUAL\",\"accountTypeClassificationProbability\":1.0,\"gender\":\"FEMALE\",\"source\":\"MODEL\"},\"image\":\"https://pbs.twimg.com/profile_images/967808988879482880/tCuE8jn9_normal.jpg\",\"id\":\"409486555\",\"summary\":\"Girl from the South Side and former First Lady. Wife, mother, dog lover. Always hugger-in-chief.\",\"metrics\":{\"followers\":11678039,\"following\":18,\"statuses\":1044,\"favourites\":42,\"listed\":23469},\"verified\":true,\"lastUpdated\":1545272391217,\"highlightedSummary\":\"Girl from the South Side and former First Lady. Wife, mother, <mark>dog</mark> lover. Always hugger-in-chief.\",\"spamProfile\":false},{\"piScore\":90,\"name\":\"WeRateDogs™\",\"screenName\":\"dog_rates\",\"profileLocation\":\"DM YOUR DOGS\",\"demographics\":{\"location\":{\"name\":\"Dominica\",\"population\":72813,\"geonameId\":3575830,\"featureCode\":\"PCLI\",\"codes\":{\"PCL\":\"DM\",\"ADM1\":\"00\"},\"coords\":{\"lat\":15.5,\"lon\":-61.33333},\"source\":\"PROFILE_LOCATION\"},\"professions\":[],\"interests\":[\"Animals & Pets\"],\"accountType\":\"INDIVIDUAL\",\"accountTypeClassificationProbability\":1.0,\"gender\":\"UNKNOWN\",\"source\":\"MODEL\"},\"image\":\"https://pbs.twimg.com/profile_images/1080268745619189760/CyqCf_dA_normal.jpg\",\"id\":\"4196983835\",\"summary\":\"Your Only Source For Professional Dog Ratings ⠀ ⠀IG, FB, Snapchat ⇨ WeRateDogs partnerships@weratedogs.com\",\"metrics\":{\"followers\":7620235,\"following\":12,\"statuses\":9575,\"favourites\":140920,\"listed\":5731},\"verified\":true,\"lastUpdated\":1547346309907,\"highlightedSummary\":\"Your Only Source For Professional <mark>Dog</mark> Ratings ⠀ ⠀IG, FB, Snapchat ⇨ WeRate<mark>Dog</mark>s partnerships@werate<mark>dog</mark>s.com\",\"spamProfile\":false},{\"piScore\":90,\"name\":\"ana marie cox\",\"screenName\":\"anamariecox\",\"profileLocation\":\"Minneapolis, MN\",\"demographics\":{\"location\":{\"name\":\"Minneapolis\",\"population\":382578,\"geonameId\":5037649,\"featureCode\":\"PPLA2\",\"codes\":{\"PCL\":\"US\",\"ADM1\":\"MN\",\"SUBADM\":\"5037649\",\"ADM2\":\"053\"},\"coords\":{\"lat\":44.97997,\"lon\":-93.26384},\"source\":\"PROFILE_LOCATION\"},\"professions\":[],\"interests\":[\"Animals & Pets\"],\"accountType\":\"INDIVIDUAL\",\"accountTypeClassificationProbability\":0.984529670479376,\"gender\":\"FEMALE\",\"source\":\"MODEL\"},\"image\":\"https://pbs.twimg.com/profile_images/1074474102591774721/Ox_KpNcT_normal.jpg\",\"id\":\"11640472\",\"summary\":\"Fight like hell. (She/her | outright mental defective | Dog: Exley, Cats: Luke and Leia)\",\"metrics\":{\"followers\":1211671,\"following\":4767,\"statuses\":131567,\"favourites\":1329,\"listed\":8596},\"verified\":true,\"lastUpdated\":1547362835076,\"highlightedSummary\":\"Fight like hell. (She/her | outright mental defective | <mark>Dog</mark>: Exley, <mark>Cat</mark>s: Luke and Leia)\",\"spamProfile\":false},{\"piScore\":89,\"name\":\"\\\\uD83D\\\\uDC08\",\"screenName\":\"catsu\",\"profileLocation\":\"\\\\uD83D\\\\uDCEC:contact@catsu.co\",\"demographics\":{\"location\":null,\"professions\":[],\"interests\":[\"Animals & Pets\"],\"accountType\":\"INDIVIDUAL\",\"accountTypeClassificationProbability\":1.0,\"gender\":\"UNKNOWN\",\"source\":\"MODEL\"},\"image\":\"https://pbs.twimg.com/profile_images/878457185457647616/rWBjN8Bs_normal.jpg\",\"id\":\"2849879751\",\"summary\":\"cats on demand! • tweet \\'@catsu cat\\' for an instant cat pic. (once per min) • | pls dm your cats i love them!! *i own no content posted*\",\"metrics\":{\"followers\":813228,\"following\":63,\"statuses\":502106,\"favourites\":22033,\"listed\":5824},\"verified\":false,\"lastUpdated\":1547420705910,\"highlightedSummary\":\"<mark>cat</mark>s on demand! • tweet \\'@<mark>cat</mark>su <mark>cat</mark>\\' for an instant <mark>cat</mark> pic. (once per min) • | pls dm your <mark>cat</mark>s i love them!! *i own no content posted*\",\"spamProfile\":false},{\"piScore\":88,\"name\":\"Shreya Ghoshal\",\"screenName\":\"shreyaghoshal\",\"profileLocation\":\"Mumbai, India\",\"demographics\":{\"location\":{\"name\":\"Mumbai\",\"population\":12691836,\"geonameId\":1275339,\"featureCode\":\"PPLA\",\"codes\":{\"PCL\":\"IN\",\"ADM1\":\"16\",\"SUBADM\":\"1275339\",\"ADM2\":\"518\"},\"coords\":{\"lat\":19.07283,\"lon\":72.88261},\"source\":\"PROFILE_LOCATION\"},\"professions\":[],\"interests\":[\"Animals & Pets\",\"Family & Parenting\"],\"accountType\":\"INDIVIDUAL\",\"accountTypeClassificationProbability\":1.0,\"gender\":\"FEMALE\",\"source\":\"MODEL\"},\"image\":\"https://pbs.twimg.com/profile_images/1063395785314836480/2Opw3f5G_normal.jpg\",\"id\":\"55520719\",\"summary\":\"A flower child. Sings the tune of love. Proud mom of her golden retriever puppy @SherlockFetcher\",\"metrics\":{\"followers\":6780645,\"following\":639,\"statuses\":21848,\"favourites\":1899,\"listed\":9955},\"verified\":true,\"lastUpdated\":1547325029152,\"highlightedSummary\":\"A flower child. Sings the tune of love. Proud mom of her golden retriever <mark>puppy</mark> @SherlockFetcher\",\"spamProfile\":false}],\"start\":0,\"count\":5,\"total\":720543}'"
      ]
     },
     "execution_count": 4,
     "metadata": {},
     "output_type": "execute_result"
    }
   ],
   "source": [
    "# test the query_payload\n",
    "response_obj = get_search_query_response(preview_request_url,authorisation_key, query_payload)\n",
    "response_obj.text"
   ]
  },
  {
   "cell_type": "code",
   "execution_count": 5,
   "metadata": {},
   "outputs": [],
   "source": [
    "query_payload = create_search_query_payload([query_child])"
   ]
  },
  {
   "cell_type": "code",
   "execution_count": 7,
   "metadata": {},
   "outputs": [
    {
     "name": "stdout",
     "output_type": "stream",
     "text": [
      "{'name': 'new_audience_pets', 'query': {'id': None, 'query': {'operator': 'AND', 'children': [{'operator': 'OR', 'children': [{'operator': 'OR', 'field': 'BIO', 'value': ['dog']}, {'operator': 'OR', 'field': 'BIO', 'value': ['cat']}, {'operator': 'OR', 'field': 'BIO', 'value': ['puppy']}, {'operator': 'OR', 'field': 'BIO', 'value': ['kitten']}]}]}}}\n",
      "{\"name\": \"new_audience_pets\", \"query\": {\"id\": null, \"query\": {\"operator\": \"AND\", \"children\": [{\"operator\": \"OR\", \"children\": [{\"operator\": \"OR\", \"field\": \"BIO\", \"value\": [\"dog\"]}, {\"operator\": \"OR\", \"field\": \"BIO\", \"value\": [\"cat\"]}, {\"operator\": \"OR\", \"field\": \"BIO\", \"value\": [\"puppy\"]}, {\"operator\": \"OR\", \"field\": \"BIO\", \"value\": [\"kitten\"]}]}]}}}\n"
     ]
    },
    {
     "data": {
      "text/plain": [
       "'{\"cause\":\"Request must include field\",\"errors\":[],\"traceCode\":\"T1547421023027R566426\"}'"
      ]
     },
     "execution_count": 7,
     "metadata": {},
     "output_type": "execute_result"
    }
   ],
   "source": [
    "save_payload = create_save_query_payload(query_payload, 'new_audience_pets')\n",
    "print(save_payload)\n",
    "save_payload = create_save_query_payload_json(query_payload, 'new_audience_pets')\n",
    "print(save_payload)\n",
    "\n",
    "response_obj = save_audience_search(save_payload, authorisation_key, char_count, user_id)\n",
    "response_obj.text"
   ]
  },
  {
   "cell_type": "code",
   "execution_count": null,
   "metadata": {},
   "outputs": [],
   "source": []
  }
 ],
 "metadata": {
  "kernelspec": {
   "display_name": "Python 3",
   "language": "python",
   "name": "python3"
  },
  "language_info": {
   "codemirror_mode": {
    "name": "ipython",
    "version": 3
   },
   "file_extension": ".py",
   "mimetype": "text/x-python",
   "name": "python",
   "nbconvert_exporter": "python",
   "pygments_lexer": "ipython3",
   "version": "3.7.0"
  }
 },
 "nbformat": 4,
 "nbformat_minor": 2
}
