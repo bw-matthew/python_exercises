{
 "cells": [
  {
   "cell_type": "code",
   "execution_count": 2,
   "metadata": {},
   "outputs": [],
   "source": [
    "import numpy as np\n",
    "import pandas as pd\n",
    "import random"
   ]
  },
  {
   "cell_type": "code",
   "execution_count": 3,
   "metadata": {},
   "outputs": [
    {
     "name": "stdout",
     "output_type": "stream",
     "text": [
      "    person_id col_a   col_b    col_c another_column\n",
      "0          13   dog  parrot     None            cat\n",
      "1          15   cat  parrot  hamster            cut\n",
      "2          15   dog    dogs   parrot            cut\n",
      "3          16  None    dogs     None            cut\n",
      "4          17   cat    dogs      dog            cat\n",
      "5          18  None  parrot     dogs            cot\n",
      "6          19   dog  parrot     dogs            cot\n",
      "7          25   cat  parrot     None            cut\n",
      "8          25   dog    dogs  hamster            cot\n",
      "9          25  None    None     None            cot\n",
      "10         25   dog    None     dogs            cot\n",
      "11         25  None    None      dog            cot\n"
     ]
    }
   ],
   "source": [
    "# we start by creating a dataframe to play with. this is how many rows it shall have:\n",
    "NUM_ROWS = 12\n",
    "# these are the possible ids that it has:\n",
    "all_distinct_ids  = [10,11,13,14,15,16,17,18,19,25] # note that 12 is missing!\n",
    "# and these are the possible values that any of the categorical columns can have:\n",
    "all_distinct_values = [None, 'cat', 'dog', 'dogs', 'hamster', 'parrot', None]\n",
    "\n",
    "# remember that a pandas dataframe is comprised of a set of equally long pandas series, \n",
    "# each series being a single column. let us construct the series \n",
    "id_list = sorted([random.choice(all_distinct_ids) for _ in range(NUM_ROWS)])\n",
    "column_id = pd.Series(\n",
    "    id_list, \n",
    "    name='person_id')\n",
    "\n",
    "column_values_a = pd.Series(\n",
    "    [random.choice(all_distinct_values[:3]) for _ in range(NUM_ROWS)], name='col_a')\n",
    "\n",
    "column_values_b = pd.Series(\n",
    "    [random.choice(all_distinct_values[3:]) for _ in range(NUM_ROWS)], \n",
    "    name='col_b')\n",
    "\n",
    "value_list = [random.choice(all_distinct_values) for _ in range(NUM_ROWS)]\n",
    "column_values_c = pd.Series(\n",
    "    value_list, \n",
    "    name='col_c')\n",
    "\n",
    "value_list = [random.choice(['cut','cot', 'cat']) for _ in range(NUM_ROWS)]\n",
    "column_values_bull = pd.Series(\n",
    "    value_list, \n",
    "    name='another_column')\n",
    "\n",
    "# now we assemble the series into a dataframe:\n",
    "all_columns = [column_id, column_values_a, column_values_b, column_values_c, column_values_bull]\n",
    "df = pd.concat(all_columns, axis=1)\n",
    "print(df)"
   ]
  },
  {
   "cell_type": "code",
   "execution_count": 11,
   "metadata": {},
   "outputs": [
    {
     "name": "stdout",
     "output_type": "stream",
     "text": [
      "NaN        0\n",
      "cat        3\n",
      "dog        7\n",
      "dogs       7\n",
      "hamster    2\n",
      "parrot     6\n",
      "NaN        0\n",
      "dtype: int64\n"
     ]
    }
   ],
   "source": [
    "list_of_cat_cols= [\"col_a\", \"col_b\", \"col_c\"]\n",
    "id_col = \"person_id\"\n",
    "\n",
    "distinct_values = set()\n",
    "\n",
    "   # iterate over the categorical columns, collection\n",
    "for acolumn in list_of_cat_cols:\n",
    "       # get the distinct values occuring in column `acolumn`\n",
    "    values_in_col = df[acolumn].unique()\n",
    "       # update the set of distinct values\n",
    "    distinct_values.update(values_in_col)\n",
    "   # initialise a container for the counts, indexed on all the distinct values found\n",
    "value_series_counts = pd.Series(data=[0 for _ in range(len(all_distinct_values))], index=all_distinct_values)\n",
    "# count number of ids that each value occurs\n",
    "for index, row in df.iterrows():\n",
    "    for name in list_of_cat_cols:\n",
    "        current_value = row[name]\n",
    "        if current_value:\n",
    "            # in case of `None`s\n",
    "            value_series_counts[current_value] += 1         \n",
    "print(value_series_counts)"
   ]
  },
  {
   "cell_type": "code",
   "execution_count": null,
   "metadata": {},
   "outputs": [],
   "source": [
    "def count_id_occurances_per_value(df, id_col, list_of_cat_cols):\n",
    "   # initialise a collection of distinct values occurring in the categorical columns.\n",
    "    distinct_values = set()\n",
    "\n",
    "   # iterate over the categorical columns, collection\n",
    "    for acolumn in list_of_cat_cols:\n",
    "       # get the distinct values occuring in column `acolumn`\n",
    "       values_in_col = df[acolumn].unique()\n",
    "       # update the set of distinct values\n",
    "       distinct_values.update(values_in_col)\n",
    "   # initialise a container for the counts, indexed on all the distinct values found\n",
    "    value_series_counts = pd.Series(data=[0 for _ in range(len(all_distinct_values))], index=all_distinct_values)\n",
    "    # count number of ids that each value occurs\n",
    "    for index, row in df.iterrows():\n",
    "        for name in list_of_cat_cols:\n",
    "            current_value = row[name]\n",
    "            if current_value:\n",
    "                # in case of `None`s\n",
    "                value_series_counts[current_value] += 1         \n",
    "    return value_series_counts\n",
    "\n",
    "def count_distinct_value_occurances_per_id(df, id_col, list_of_cat_cols):\n",
    "    \"\"\"\n",
    "    counts, for each id in `id_col` the number of occurancs of each distinct value occurring in \n",
    "    any of the categorical columns listed in `list_of_cat_cols`\n",
    "    input:\n",
    "       df (a pandas dataframe with 1 id column and at least 1 categorical column)\n",
    "       id_col the id column of df (or its index)\n",
    "       list_of_cat_cols a list of columns of df that are categorical and whose value occurances we want to count\n",
    "\n",
    "    \"\"\"\n",
    "    # get distinct ids:\n",
    "    \n",
    "    # initialise a counter \n",
    "    occurance_counts_per_id = pd.Series(data=[{} for _ in range(len(all_distinct_ids))], index=all_distinct_ids)\n",
    "    return id_series_counts"
   ]
  }
 ],
 "metadata": {
  "kernelspec": {
   "display_name": "Python 3",
   "language": "python",
   "name": "python3"
  },
  "language_info": {
   "codemirror_mode": {
    "name": "ipython",
    "version": 3
   },
   "file_extension": ".py",
   "mimetype": "text/x-python",
   "name": "python",
   "nbconvert_exporter": "python",
   "pygments_lexer": "ipython3",
   "version": "3.5.1"
  }
 },
 "nbformat": 4,
 "nbformat_minor": 2
}
