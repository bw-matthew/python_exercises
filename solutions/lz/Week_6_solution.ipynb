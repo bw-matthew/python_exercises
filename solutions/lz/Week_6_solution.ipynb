{
 "cells": [
  {
   "cell_type": "code",
   "execution_count": 1,
   "metadata": {},
   "outputs": [],
   "source": [
    "import urllib\n",
    "import requests\n",
    "from bs4 import BeautifulSoup\n",
    "import datetime"
   ]
  },
  {
   "cell_type": "code",
   "execution_count": 4,
   "metadata": {},
   "outputs": [
    {
     "name": "stdout",
     "output_type": "stream",
     "text": [
      "11\n"
     ]
    }
   ],
   "source": [
    "a_datetime = datetime.datetime(2018, 11, 10)\n",
    "print(a_datetime.month)"
   ]
  },
  {
   "cell_type": "code",
   "execution_count": 8,
   "metadata": {},
   "outputs": [],
   "source": [
    "def fetch_argus_headlines(date):\n",
    "    if date <= datetime.datetime(2008, 1, 1):\n",
    "        print(\"change date to later\")\n",
    "    else:\n",
    "        date_str = date.strftime('%Y/%m/%d')\n",
    "        page = requests.get(\"https://www.theargus.co.uk/archive/\" + date_str)\n",
    "        parsed_tree = BeautifulSoup(page.text, 'html.parser')\n",
    "        article_list = parsed_tree.find(class_='archive-list')\n",
    "        headlines = article_list.find_all('h3') # there are no other h3 tags in the article_list... \n",
    "        return headlines\n"
   ]
  },
  {
   "cell_type": "code",
   "execution_count": 9,
   "metadata": {},
   "outputs": [
    {
     "data": {
      "text/plain": [
       "[<h3>Neighbours say these homes in Hove have been built in the wrong place</h3>,\n",
       " <h3>Flood alert as thunderstorms and high winds batter Sussex</h3>,\n",
       " <h3>A trio of Noughties pop-rock bands hit Brighton with some well known songs</h3>,\n",
       " <h3>Popular burger restaurants could close in Brighton and Chichester</h3>,\n",
       " <h3>Drugs gang attacked dad with swords, knives and baseball bats</h3>,\n",
       " <h3>Jogger randomly stabbed man to death in 'unbelievable, unprovoked' attack</h3>,\n",
       " <h3>These schoolchildren did something really special for Remembrance Day</h3>,\n",
       " <h3>Rogue trader swindled vulnerable pensioner, 95, out of £3,600</h3>,\n",
       " <h3>Anger and frustration - Hughton on red card and 'offside' goal</h3>,\n",
       " <h3>Albion fume at Cardiff winner</h3>,\n",
       " <h3>Traffic chaos as taxi blocks busy bus route for half an hour</h3>,\n",
       " <h3>Sharp rise in children with autism in Brighton – here's what's being done to help</h3>,\n",
       " <h3>It's another step forward for Gyokeres as he is named on bench</h3>,\n",
       " <h3>Steps singer stars as Aladdin in Christmas panto</h3>,\n",
       " <h3>Tiny house to be built below street level in Kemp Town back garden</h3>,\n",
       " <h3>This is what acting legend Sir Ian McKellen thinks of Brighton</h3>,\n",
       " <h3>Sussex Police motorbike's stunning poppy design to mark Armistice Day</h3>,\n",
       " <h3>Historic coach house will be demolished to make way for new home</h3>,\n",
       " <h3>Brighton and Hove bus tickets are changing this weekend - here's what you need to know</h3>,\n",
       " <h3>Seagulls hit by late goal - after Stephens sent off. How Albion lost 2-1 at Cardiff City</h3>,\n",
       " <h3>Evil child killer Roy Whiting 'stabbed and left for dead' in his prison cell</h3>,\n",
       " <h3>'The food here is dire' - 11 Sussex Wetherspoons ranked according to Tripadvisor reviews</h3>,\n",
       " <h3>Trollope's Cardiff exit works out well for Albion</h3>,\n",
       " <h3>Murray eyes chance to pick up points</h3>,\n",
       " <h3>Morris praises fans as Crawley set 2K target</h3>,\n",
       " <h3>Hughton expects a quiet January window for Albion</h3>,\n",
       " <h3>Former Juice FM DJ brings alter-ego and punk band to charity gig</h3>,\n",
       " <h3>Free bus travel for veterans and serving forces personnel on Sunday</h3>,\n",
       " <h3>'I felt the walls were caving in' - Mums describe heartbreak of losing their babies</h3>,\n",
       " <h3>See inside this magnificent country home - yours for just £1.7m</h3>,\n",
       " <h3>Shirley Southon</h3>,\n",
       " <h3>Leona Laycock</h3>,\n",
       " <h3>Marion Ross</h3>,\n",
       " <h3>Josh Richardson</h3>,\n",
       " <h3>Homeless couple's tent removed from shopping street after six months</h3>,\n",
       " <h3>Man dies after falling from bridge onto A27 at Hangleton</h3>]"
      ]
     },
     "execution_count": 9,
     "metadata": {},
     "output_type": "execute_result"
    }
   ],
   "source": [
    "fetch_argus_headlines(a_datetime)"
   ]
  }
 ],
 "metadata": {
  "kernelspec": {
   "display_name": "Python 3",
   "language": "python",
   "name": "python3"
  },
  "language_info": {
   "codemirror_mode": {
    "name": "ipython",
    "version": 3
   },
   "file_extension": ".py",
   "mimetype": "text/x-python",
   "name": "python",
   "nbconvert_exporter": "python",
   "pygments_lexer": "ipython3",
   "version": "3.5.1"
  }
 },
 "nbformat": 4,
 "nbformat_minor": 2
}
