{
 "cells": [
  {
   "cell_type": "code",
   "execution_count": 2,
   "metadata": {},
   "outputs": [],
   "source": [
    "import os"
   ]
  },
  {
   "cell_type": "code",
   "execution_count": 3,
   "metadata": {},
   "outputs": [
    {
     "name": "stdout",
     "output_type": "stream",
     "text": [
      "/Users/ludovica/LZ Projects/python_exercises/solutions/lz\n"
     ]
    }
   ],
   "source": [
    "#get current directory\n",
    "\n",
    "print(os.getcwd()) \n",
    "start_here = os.getcwd()"
   ]
  },
  {
   "cell_type": "code",
   "execution_count": 13,
   "metadata": {},
   "outputs": [
    {
     "data": {
      "text/plain": [
       "['.DS_Store',\n",
       " '.ipynb_checkpoints',\n",
       " 'exciting_data',\n",
       " 'first_exercise.md',\n",
       " 'list_my_files.ipynb',\n",
       " 'listmyfiles.py',\n",
       " 'solution - lz.ipynb',\n",
       " 'tempfolder']"
      ]
     },
     "execution_count": 13,
     "metadata": {},
     "output_type": "execute_result"
    }
   ],
   "source": [
    "# function that returns a list of files in current directory\n",
    "def dir_file_reader():\n",
    "    return os.listdir('.')\n",
    "\n",
    "# testing the function\n",
    "dir_file_reader()"
   ]
  },
  {
   "cell_type": "code",
   "execution_count": 16,
   "metadata": {},
   "outputs": [
    {
     "data": {
      "text/plain": [
       "['.DS_Store',\n",
       " '.ipynb_checkpoints',\n",
       " 'exciting_data',\n",
       " 'first_exercise.md',\n",
       " 'list_my_files.ipynb',\n",
       " 'listmyfiles.py',\n",
       " 'solution - lz.ipynb',\n",
       " 'tempfolder']"
      ]
     },
     "execution_count": 16,
     "metadata": {},
     "output_type": "execute_result"
    }
   ],
   "source": [
    "# Edited code with two arguments\n",
    "def dir_file_reader(directory, extension):\n",
    "    return os.listdir(directory)\n",
    "\n",
    "#testing the above\n",
    "\n",
    "dir_file_reader(\"./\", \".dat\")"
   ]
  },
  {
   "cell_type": "markdown",
   "metadata": {},
   "source": [
    "## Problem solution - Getting the list of data files"
   ]
  },
  {
   "cell_type": "markdown",
   "metadata": {},
   "source": [
    "Using the os.walk function to look at all directories: for each file in the directory (if the file ends with .dat)\n",
    "make a list that contains the file name and its size (using os.stat) and add it to list_of_relevant_files"
   ]
  },
  {
   "cell_type": "code",
   "execution_count": 50,
   "metadata": {},
   "outputs": [
    {
     "name": "stdout",
     "output_type": "stream",
     "text": [
      "[['file1.dat', 12], ['file2.dat', 13], ['file3.dat', 65], ['file4.dat', 13], ['file6.dat', 13], ['file7.dat', 130], ['file5.dat', 26]]\n"
     ]
    }
   ],
   "source": [
    "list_of_relevant_files = []\n",
    "\n",
    "for root, dirs, files in (os.walk(\"exciting_data\")):\n",
    "    for file in files:\n",
    "        if file.endswith('.dat'):\n",
    "            list_of_relevant_files.append([file, ((os.stat(os.path.join(root, file)).st_size))])\n",
    "            \n",
    "\n",
    "print(list_of_relevant_files)"
   ]
  },
  {
   "cell_type": "markdown",
   "metadata": {},
   "source": [
    "### Ordering the list by size"
   ]
  },
  {
   "cell_type": "code",
   "execution_count": 48,
   "metadata": {},
   "outputs": [
    {
     "name": "stdout",
     "output_type": "stream",
     "text": [
      "[['file7.dat', 130], ['file3.dat', 65], ['file5.dat', 26], ['file2.dat', 13], ['file4.dat', 13], ['file6.dat', 13], ['file1.dat', 12]]\n"
     ]
    }
   ],
   "source": [
    "# take second element for sort\n",
    "def takeSecond(item):\n",
    "    return item[1]\n",
    "\n",
    "# sort list with key\n",
    "list_of_relevant_files.sort(key=takeSecond, reverse = True)\n",
    "\n",
    "# print list\n",
    "print(list_of_relevant_files)"
   ]
  },
  {
   "cell_type": "code",
   "execution_count": null,
   "metadata": {},
   "outputs": [],
   "source": []
  }
 ],
 "metadata": {
  "kernelspec": {
   "display_name": "Python 3",
   "language": "python",
   "name": "python3"
  },
  "language_info": {
   "codemirror_mode": {
    "name": "ipython",
    "version": 3
   },
   "file_extension": ".py",
   "mimetype": "text/x-python",
   "name": "python",
   "nbconvert_exporter": "python",
   "pygments_lexer": "ipython3",
   "version": "3.5.1"
  }
 },
 "nbformat": 4,
 "nbformat_minor": 2
}
