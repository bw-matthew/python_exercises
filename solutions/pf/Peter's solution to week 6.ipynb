{
 "cells": [
  {
   "cell_type": "code",
   "execution_count": 1,
   "metadata": {},
   "outputs": [],
   "source": [
    "from datetime import datetime\n",
    "import requests\n",
    "from bs4 import BeautifulSoup"
   ]
  },
  {
   "cell_type": "code",
   "execution_count": 46,
   "metadata": {},
   "outputs": [],
   "source": [
    "def get_argus_headlines(date):\n",
    "    argus_archive_url = 'https://www.theargus.co.uk/archive/'\n",
    "    #we need to extract the year, month and day in this format: /2018/11/01/ (where 11 is november)\n",
    "    year = date.strftime(\"%Y\")\n",
    "    month = date.strftime(\"%m\")\n",
    "    day = date.strftime(\"%d\")\n",
    "    url_date_segment = f\"{year}/{month}/{day}\"\n",
    "#     print(url_date_segment)\n",
    "    get_url = argus_archive_url+url_date_segment\n",
    "    page = requests.get(get_url)\n",
    "    parsed_tree = BeautifulSoup(page.text, 'html.parser')\n",
    "    article_list = parsed_tree.find(class_='archive-list')\n",
    "    headlines = article_list.find_all('h3')\n",
    "    headlines_list = [headline.contents[0] for headline in headlines]\n",
    "    return headline_list"
   ]
  },
  {
   "cell_type": "code",
   "execution_count": 47,
   "metadata": {},
   "outputs": [],
   "source": [
    "#user inputs date string in format YYYY-MM-DD\n",
    "date_string = \"2018-09-01\"\n",
    "dt_date = datetime.strptime(date_string,\"%Y-%m-%d\")"
   ]
  },
  {
   "cell_type": "code",
   "execution_count": 50,
   "metadata": {},
   "outputs": [],
   "source": [
    "basic_solution = get_argus_headlines(dt_date)"
   ]
  },
  {
   "cell_type": "code",
   "execution_count": 52,
   "metadata": {},
   "outputs": [],
   "source": [
    "# basic_solution"
   ]
  },
  {
   "cell_type": "code",
   "execution_count": 119,
   "metadata": {},
   "outputs": [],
   "source": [
    "def get_argus_links(date):\n",
    "    argus_archive_url = 'https://www.theargus.co.uk/archive/'\n",
    "    #we need to extract the year, month and day in this format: /2018/11/01/ (where 11 is november)\n",
    "    year = date.strftime(\"%Y\")\n",
    "    month = date.strftime(\"%m\")\n",
    "    day = date.strftime(\"%d\")\n",
    "    url_date_segment = f\"{year}/{month}/{day}\"\n",
    "#     print(url_date_segment)\n",
    "    get_url = argus_archive_url+url_date_segment\n",
    "    page = requests.get(get_url)\n",
    "    parsed_tree = BeautifulSoup(page.text, 'html.parser')\n",
    "    article_list = parsed_tree.find(class_='archive-list')\n",
    "    link_list = []\n",
    "    for x in article_list.find_all(\"a\", href=True):\n",
    "        link_list.append(x[\"href\"])\n",
    "    full_links = []\n",
    "    for x in link_list:\n",
    "        full_links.append(\"www.theargus.co.uk/news\"+x)\n",
    "    return full_links\n",
    "\n",
    "bonus_solution = get_argus_links(dt_date)"
   ]
  },
  {
   "cell_type": "code",
   "execution_count": 120,
   "metadata": {},
   "outputs": [
    {
     "data": {
      "text/plain": [
       "['www.theargus.co.uk/news/news/16682750.Corinne_Bailey_Rae_brings_hits_to_the_seaside/?ref=arc',\n",
       " 'www.theargus.co.uk/news/news/16682750.Corinne_Bailey_Rae_brings_hits_to_the_seaside/?ref=arc',\n",
       " 'www.theargus.co.uk/news/news/16682719.More_pluses_than_minuses_says_Hughton_after_Albion_stalemate/?ref=arc',\n",
       " 'www.theargus.co.uk/news/news/16682719.More_pluses_than_minuses_says_Hughton_after_Albion_stalemate/?ref=arc',\n",
       " 'www.theargus.co.uk/news/news/16682674.Murray_disappointed_with_draw_for_Albion_despite_comeback/?ref=arc',\n",
       " 'www.theargus.co.uk/news/news/16682674.Murray_disappointed_with_draw_for_Albion_despite_comeback/?ref=arc',\n",
       " 'www.theargus.co.uk/news/news/16682643.This_girl_grew_her_hair_for_three_years_to_help_kids_with_cancer/?ref=arc',\n",
       " 'www.theargus.co.uk/news/news/16682643.This_girl_grew_her_hair_for_three_years_to_help_kids_with_cancer/?ref=arc',\n",
       " 'www.theargus.co.uk/news/news/16627235.Murray_double_saves_a_point__See_how_Albion_came_from_2-0_down_to_draw_2-2_with_Fulham/?ref=arc',\n",
       " 'www.theargus.co.uk/news/news/16627235.Murray_double_saves_a_point__See_how_Albion_came_from_2-0_down_to_draw_2-2_with_Fulham/?ref=arc',\n",
       " 'www.theargus.co.uk/news/news/16626775.Peter_Brackley_Column__What_Fulham_legend_Jimmy_Hill_could_tell_Mourinho_about_being_popular/?ref=arc',\n",
       " 'www.theargus.co.uk/news/news/16626775.Peter_Brackley_Column__What_Fulham_legend_Jimmy_Hill_could_tell_Mourinho_about_being_popular/?ref=arc',\n",
       " 'www.theargus.co.uk/news/news/16621458.Spandau_Ballet__39_s_Steve_Norman_plays_hometown_Hove_show/?ref=arc',\n",
       " 'www.theargus.co.uk/news/news/16621458.Spandau_Ballet__39_s_Steve_Norman_plays_hometown_Hove_show/?ref=arc',\n",
       " 'www.theargus.co.uk/news/news/16621511.Swing_storms_seafront_as_dancers_perform_on_bandstand/?ref=arc',\n",
       " 'www.theargus.co.uk/news/news/16621511.Swing_storms_seafront_as_dancers_perform_on_bandstand/?ref=arc',\n",
       " 'www.theargus.co.uk/news/news/16611161.Make_Prem_experience_count_says_Hughton/?ref=arc',\n",
       " 'www.theargus.co.uk/news/news/16611161.Make_Prem_experience_count_says_Hughton/?ref=arc',\n",
       " 'www.theargus.co.uk/news/news/16617449.Lorry_wedged_under_railway_bridge_in_Trafalgar_Street__Brighton/?ref=arc',\n",
       " 'www.theargus.co.uk/news/news/16617449.Lorry_wedged_under_railway_bridge_in_Trafalgar_Street__Brighton/?ref=arc',\n",
       " 'www.theargus.co.uk/news/news/16617441.Old_bus_transformed_into_a_top_nosh_venue/?ref=arc',\n",
       " 'www.theargus.co.uk/news/news/16617441.Old_bus_transformed_into_a_top_nosh_venue/?ref=arc',\n",
       " 'www.theargus.co.uk/news/news/16617422.Altogether_Now___s_event_for_the_town___s_community/?ref=arc',\n",
       " 'www.theargus.co.uk/news/news/16617422.Altogether_Now___s_event_for_the_town___s_community/?ref=arc',\n",
       " 'www.theargus.co.uk/news/news/16617421.Man_fined_for_illegally_dumping_rubbish_at_Housedean_near_Falmer/?ref=arc',\n",
       " 'www.theargus.co.uk/news/news/16617421.Man_fined_for_illegally_dumping_rubbish_at_Housedean_near_Falmer/?ref=arc',\n",
       " 'www.theargus.co.uk/news/news/16617418.It_s_the_final_weekend_of_Lewes_Artwave_Festival/?ref=arc',\n",
       " 'www.theargus.co.uk/news/news/16617418.It_s_the_final_weekend_of_Lewes_Artwave_Festival/?ref=arc',\n",
       " 'www.theargus.co.uk/news/news/16617416.Legal___General___s_shock_homes_survey_findings/?ref=arc',\n",
       " 'www.theargus.co.uk/news/news/16617416.Legal___General___s_shock_homes_survey_findings/?ref=arc',\n",
       " 'www.theargus.co.uk/news/news/16617414.Accountancy_firms_announce_merger/?ref=arc',\n",
       " 'www.theargus.co.uk/news/news/16617414.Accountancy_firms_announce_merger/?ref=arc',\n",
       " 'www.theargus.co.uk/news/news/16617413.Starting_a_business____is_exciting_but_lonely___/?ref=arc',\n",
       " 'www.theargus.co.uk/news/news/16617413.Starting_a_business____is_exciting_but_lonely___/?ref=arc',\n",
       " 'www.theargus.co.uk/news/news/16611301.Albion_can_bank_on_Bong_to_maintain_unity/?ref=arc',\n",
       " 'www.theargus.co.uk/news/news/16611301.Albion_can_bank_on_Bong_to_maintain_unity/?ref=arc',\n",
       " 'www.theargus.co.uk/news/news/16617406.Builders_merchant_supports_hospices/?ref=arc',\n",
       " 'www.theargus.co.uk/news/news/16617406.Builders_merchant_supports_hospices/?ref=arc',\n",
       " 'www.theargus.co.uk/news/news/16617404.Sooty_the_therapy_pony_helps_patients_with_mental_health_problems/?ref=arc',\n",
       " 'www.theargus.co.uk/news/news/16617404.Sooty_the_therapy_pony_helps_patients_with_mental_health_problems/?ref=arc',\n",
       " 'www.theargus.co.uk/news/news/16614670.Hughton__I_don_t_envy_big_money_rivals/?ref=arc',\n",
       " 'www.theargus.co.uk/news/news/16614670.Hughton__I_don_t_envy_big_money_rivals/?ref=arc',\n",
       " 'www.theargus.co.uk/news/news/16617251.Thief_threatened_to_stab_officer_with_needle/?ref=arc',\n",
       " 'www.theargus.co.uk/news/news/16617251.Thief_threatened_to_stab_officer_with_needle/?ref=arc',\n",
       " 'www.theargus.co.uk/news/news/16617269.Restraining_order_for_man_who_put___39_menacing__39__posts_online/?ref=arc',\n",
       " 'www.theargus.co.uk/news/news/16617269.Restraining_order_for_man_who_put___39_menacing__39__posts_online/?ref=arc',\n",
       " 'www.theargus.co.uk/news/news/16614302.Column__More_expenses__MPs_are_just_being_greedy/?ref=arc',\n",
       " 'www.theargus.co.uk/news/news/16614302.Column__More_expenses__MPs_are_just_being_greedy/?ref=arc',\n",
       " 'www.theargus.co.uk/news/news/16617287.New_owners_want_to_refurbish___39_Winnie_the_Pooh_home__39_/?ref=arc',\n",
       " 'www.theargus.co.uk/news/news/16617287.New_owners_want_to_refurbish___39_Winnie_the_Pooh_home__39_/?ref=arc',\n",
       " 'www.theargus.co.uk/news/news/16617289.Comment__Time_to_eat_on_the_move/?ref=arc',\n",
       " 'www.theargus.co.uk/news/news/16617289.Comment__Time_to_eat_on_the_move/?ref=arc',\n",
       " 'www.theargus.co.uk/news/news/16613963.Review__There_is_nothing_anti_trans_in_this_school_pack/?ref=arc',\n",
       " 'www.theargus.co.uk/news/news/16613963.Review__There_is_nothing_anti_trans_in_this_school_pack/?ref=arc',\n",
       " 'www.theargus.co.uk/news/news/16617286.___Hotel_sale____puts_paid_to_booked_weddings/?ref=arc',\n",
       " 'www.theargus.co.uk/news/news/16617286.___Hotel_sale____puts_paid_to_booked_weddings/?ref=arc',\n",
       " 'www.theargus.co.uk/news/news/16617252.Homeless_people___39_lack_support__39__in_temporary_accommodation/?ref=arc',\n",
       " 'www.theargus.co.uk/news/news/16617252.Homeless_people___39_lack_support__39__in_temporary_accommodation/?ref=arc',\n",
       " 'www.theargus.co.uk/news/news/16617263.Find_Winnie_the_Pooh_on_this_Hundred_Acre_Wood_walk/?ref=arc',\n",
       " 'www.theargus.co.uk/news/news/16617263.Find_Winnie_the_Pooh_on_this_Hundred_Acre_Wood_walk/?ref=arc',\n",
       " 'www.theargus.co.uk/news/news/16617241.Home_Safe_Collective__run_by_Angela_Barnes__wins_Edinburgh_Panel_Prize/?ref=arc',\n",
       " 'www.theargus.co.uk/news/news/16617241.Home_Safe_Collective__run_by_Angela_Barnes__wins_Edinburgh_Panel_Prize/?ref=arc']"
      ]
     },
     "execution_count": 120,
     "metadata": {},
     "output_type": "execute_result"
    }
   ],
   "source": [
    "bonus_solution"
   ]
  },
  {
   "cell_type": "code",
   "execution_count": 95,
   "metadata": {},
   "outputs": [],
   "source": []
  },
  {
   "cell_type": "code",
   "execution_count": null,
   "metadata": {},
   "outputs": [],
   "source": []
  }
 ],
 "metadata": {
  "kernelspec": {
   "display_name": "Python 3",
   "language": "python",
   "name": "python3"
  },
  "language_info": {
   "codemirror_mode": {
    "name": "ipython",
    "version": 3
   },
   "file_extension": ".py",
   "mimetype": "text/x-python",
   "name": "python",
   "nbconvert_exporter": "python",
   "pygments_lexer": "ipython3",
   "version": "3.6.5"
  }
 },
 "nbformat": 4,
 "nbformat_minor": 2
}
