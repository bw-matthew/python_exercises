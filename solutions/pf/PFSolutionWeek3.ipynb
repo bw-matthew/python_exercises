{
 "cells": [
  {
   "cell_type": "markdown",
   "metadata": {},
   "source": [
    "# this week's exercise:\n",
    "read in the new york rodent inspection data from last week. parse the date format of the two columns containing datetime information ('INSPECTION_DATE' and 'APPROVED_DATE'). hint: new york is in the united states. then, for each record (row), populate four new columns: \n",
    "- one containing the weekday name when the inspection took place (monday, tuesday, wednesday,...). \n",
    "- one containing the name of the month the inspection took place in.\n",
    "- one containing the [iso-week](https://en.wikipedia.org/wiki/ISO_week_date) in which the inspection took place. \n",
    "- one column containing how long did it take for an inspection to be approved (in appropriate time units)."
   ]
  },
  {
   "cell_type": "code",
   "execution_count": 1,
   "metadata": {},
   "outputs": [
    {
     "name": "stderr",
     "output_type": "stream",
     "text": [
      "/Users/peterf/.pyenv/versions/3.6.5/lib/python3.6/importlib/_bootstrap.py:219: RuntimeWarning: numpy.dtype size changed, may indicate binary incompatibility. Expected 96, got 88\n",
      "  return f(*args, **kwds)\n",
      "/Users/peterf/.pyenv/versions/3.6.5/lib/python3.6/importlib/_bootstrap.py:219: RuntimeWarning: numpy.dtype size changed, may indicate binary incompatibility. Expected 96, got 88\n",
      "  return f(*args, **kwds)\n"
     ]
    }
   ],
   "source": [
    "import pandas as pd\n",
    "import datetime"
   ]
  },
  {
   "cell_type": "code",
   "execution_count": 2,
   "metadata": {},
   "outputs": [],
   "source": [
    "filename_csv = 'NY_rodent_inspections_sample_medium.csv'\n",
    "\n",
    "df = pd.read_csv(filename_csv)"
   ]
  },
  {
   "cell_type": "code",
   "execution_count": 16,
   "metadata": {},
   "outputs": [
    {
     "name": "stdout",
     "output_type": "stream",
     "text": [
      "  INSPECTION_TYPE  JOB_TICKET_OR_WORK_ORDER_ID   JOB_ID  JOB_PROGRESS  \\\n",
      "0            BAIT                            1  PO12965             3   \n",
      "1            BAIT                            2  PO12966             3   \n",
      "2            BAIT                           30  PO16966             3   \n",
      "3            BAIT                           31  PO13665             3   \n",
      "4            BAIT                           38  PO11291             3   \n",
      "\n",
      "          BBL  BORO_CODE  BLOCK  LOT HOUSE_NUMBER       STREET_NAME  \\\n",
      "0  1011470035          1   1147   35          104    WEST 76 STREET   \n",
      "1  1011470034          1   1147   34          102    WEST 76 STREET   \n",
      "2  2043370027          2   4337   27          620    THWAITES PLACE   \n",
      "3  2037670077          2   3767   77         1227  WHITEPLAINS ROAD   \n",
      "4  1011690057          1   1169   57         2199          BROADWAY   \n",
      "\n",
      "         ...            BOROUGH     INSPECTION_DATE        RESULT  \\\n",
      "0        ...          Manhattan 2009-10-14 12:00:27  Bait applied   \n",
      "1        ...          Manhattan 2009-10-14 12:51:21  Bait applied   \n",
      "2        ...              Bronx 2009-11-09 12:59:55  Bait applied   \n",
      "3        ...              Bronx 2009-11-09 11:10:16  Bait applied   \n",
      "4        ...          Manhattan 2009-11-10 08:40:42  Bait applied   \n",
      "\n",
      "        APPROVED_DATE                               LOCATION  \\\n",
      "0 2009-10-14 15:01:46  (40.7802039792471, -73.9774144709456)   \n",
      "1 2009-10-14 15:02:30   (40.7801875030438, -73.977374757787)   \n",
      "2 2009-11-10 14:54:52  (40.8588765781972, -73.8703636422023)   \n",
      "3 2009-11-10 14:56:42   (40.8313209626148, -73.861994089899)   \n",
      "4 2009-11-17 11:39:11  (40.7830590725833, -73.9805333640688)   \n",
      "\n",
      "  inspection weekday inspection month inspection iso week   approval time  \\\n",
      "0          Wednesday          October                  41 0 days 03:01:19   \n",
      "1          Wednesday          October                  41 0 days 02:11:09   \n",
      "2             Monday         November                  45 1 days 01:54:57   \n",
      "3             Monday         November                  45 1 days 03:46:26   \n",
      "4            Tuesday         November                  45 7 days 02:58:29   \n",
      "\n",
      "  approval num weeks  \n",
      "0                  0  \n",
      "1                  0  \n",
      "2                  1  \n",
      "3                  1  \n",
      "4                  7  \n",
      "\n",
      "[5 rows x 25 columns]\n"
     ]
    }
   ],
   "source": [
    "print(df.head())"
   ]
  },
  {
   "cell_type": "markdown",
   "metadata": {},
   "source": [
    "## one containing the weekday name when the inspection took place (monday, tuesday, wednesday,...)."
   ]
  },
  {
   "cell_type": "code",
   "execution_count": 4,
   "metadata": {},
   "outputs": [],
   "source": [
    "#remake the inpecttion date column with the datetime format"
   ]
  },
  {
   "cell_type": "code",
   "execution_count": 5,
   "metadata": {},
   "outputs": [],
   "source": [
    "df['INSPECTION_DATE'] = pd.to_datetime(df['INSPECTION_DATE'])"
   ]
  },
  {
   "cell_type": "code",
   "execution_count": 6,
   "metadata": {},
   "outputs": [],
   "source": [
    "\n",
    "#turn that into the weekday of that column\n",
    "df[\"inspection weekday\"] = df['INSPECTION_DATE'].dt.weekday\n",
    "\n",
    "#now turn that into the string values of weekdays\n",
    "dayOfWeek={0:'Monday', 1:'Tuesday', 2:'Wednesday', 3:'Thursday', 4:'Friday', 5:'Saturday', 6:'Sunday'}\n",
    "df['inspection weekday'] = df['inspection weekday'].map(dayOfWeek)"
   ]
  },
  {
   "cell_type": "markdown",
   "metadata": {},
   "source": [
    "## one containing the name of the month the inspection took place in."
   ]
  },
  {
   "cell_type": "code",
   "execution_count": 7,
   "metadata": {},
   "outputs": [],
   "source": [
    "df[\"inspection month\"] = df['INSPECTION_DATE'].dt.month"
   ]
  },
  {
   "cell_type": "code",
   "execution_count": 8,
   "metadata": {},
   "outputs": [],
   "source": [
    "def returnmonth(date):\n",
    "    return date.strftime('%B')  # %B shows the full month"
   ]
  },
  {
   "cell_type": "code",
   "execution_count": 9,
   "metadata": {},
   "outputs": [],
   "source": [
    "try:\n",
    "    df[\"inspection month\"] = df['INSPECTION_DATE'].apply(returnmonth)\n",
    "except:\n",
    "    print(\"error, have you run this cell already?\")"
   ]
  },
  {
   "cell_type": "markdown",
   "metadata": {},
   "source": [
    "## one containing the iso-week in which the inspection took place.\n",
    "# Q: Is this really the ISO week?"
   ]
  },
  {
   "cell_type": "code",
   "execution_count": 10,
   "metadata": {},
   "outputs": [],
   "source": [
    "def returnisoweek(date):\n",
    "    return date.strftime('%W')  # %W shows the week"
   ]
  },
  {
   "cell_type": "code",
   "execution_count": 11,
   "metadata": {},
   "outputs": [],
   "source": [
    "try:\n",
    "    df[\"inspection iso week\"] = df['INSPECTION_DATE'].apply(returnisoweek)\n",
    "except:\n",
    "    print(\"error, have you run this cell already?\")"
   ]
  },
  {
   "cell_type": "markdown",
   "metadata": {},
   "source": [
    "## one column containing how long did it take for an inspection to be approved (in appropriate time units)."
   ]
  },
  {
   "cell_type": "code",
   "execution_count": 12,
   "metadata": {},
   "outputs": [],
   "source": [
    "#first convert the approval date to datetime format\n",
    "df[\"APPROVED_DATE\"] = pd.to_datetime(df[\"APPROVED_DATE\"])"
   ]
  },
  {
   "cell_type": "code",
   "execution_count": 13,
   "metadata": {},
   "outputs": [],
   "source": [
    "df[\"approval time\"] =df[\"APPROVED_DATE\"] - df['INSPECTION_DATE'] "
   ]
  },
  {
   "cell_type": "code",
   "execution_count": 14,
   "metadata": {},
   "outputs": [],
   "source": [
    "def delta_to_days(delta):\n",
    "    return delta.days"
   ]
  },
  {
   "cell_type": "code",
   "execution_count": 15,
   "metadata": {},
   "outputs": [],
   "source": [
    "df[\"approval num weeks\"] = df[\"approval time\"].apply(delta_to_days)"
   ]
  },
  {
   "cell_type": "code",
   "execution_count": 17,
   "metadata": {},
   "outputs": [
    {
     "name": "stdout",
     "output_type": "stream",
     "text": [
      "  INSPECTION_TYPE  JOB_TICKET_OR_WORK_ORDER_ID   JOB_ID  JOB_PROGRESS  \\\n",
      "0            BAIT                            1  PO12965             3   \n",
      "1            BAIT                            2  PO12966             3   \n",
      "2            BAIT                           30  PO16966             3   \n",
      "3            BAIT                           31  PO13665             3   \n",
      "4            BAIT                           38  PO11291             3   \n",
      "\n",
      "          BBL  BORO_CODE  BLOCK  LOT HOUSE_NUMBER       STREET_NAME  \\\n",
      "0  1011470035          1   1147   35          104    WEST 76 STREET   \n",
      "1  1011470034          1   1147   34          102    WEST 76 STREET   \n",
      "2  2043370027          2   4337   27          620    THWAITES PLACE   \n",
      "3  2037670077          2   3767   77         1227  WHITEPLAINS ROAD   \n",
      "4  1011690057          1   1169   57         2199          BROADWAY   \n",
      "\n",
      "         ...            BOROUGH     INSPECTION_DATE        RESULT  \\\n",
      "0        ...          Manhattan 2009-10-14 12:00:27  Bait applied   \n",
      "1        ...          Manhattan 2009-10-14 12:51:21  Bait applied   \n",
      "2        ...              Bronx 2009-11-09 12:59:55  Bait applied   \n",
      "3        ...              Bronx 2009-11-09 11:10:16  Bait applied   \n",
      "4        ...          Manhattan 2009-11-10 08:40:42  Bait applied   \n",
      "\n",
      "        APPROVED_DATE                               LOCATION  \\\n",
      "0 2009-10-14 15:01:46  (40.7802039792471, -73.9774144709456)   \n",
      "1 2009-10-14 15:02:30   (40.7801875030438, -73.977374757787)   \n",
      "2 2009-11-10 14:54:52  (40.8588765781972, -73.8703636422023)   \n",
      "3 2009-11-10 14:56:42   (40.8313209626148, -73.861994089899)   \n",
      "4 2009-11-17 11:39:11  (40.7830590725833, -73.9805333640688)   \n",
      "\n",
      "  inspection weekday inspection month inspection iso week   approval time  \\\n",
      "0          Wednesday          October                  41 0 days 03:01:19   \n",
      "1          Wednesday          October                  41 0 days 02:11:09   \n",
      "2             Monday         November                  45 1 days 01:54:57   \n",
      "3             Monday         November                  45 1 days 03:46:26   \n",
      "4            Tuesday         November                  45 7 days 02:58:29   \n",
      "\n",
      "  approval num weeks  \n",
      "0                  0  \n",
      "1                  0  \n",
      "2                  1  \n",
      "3                  1  \n",
      "4                  7  \n",
      "\n",
      "[5 rows x 25 columns]\n"
     ]
    }
   ],
   "source": [
    "print(df.head())"
   ]
  },
  {
   "cell_type": "code",
   "execution_count": null,
   "metadata": {},
   "outputs": [],
   "source": []
  },
  {
   "cell_type": "code",
   "execution_count": null,
   "metadata": {},
   "outputs": [],
   "source": []
  },
  {
   "cell_type": "code",
   "execution_count": null,
   "metadata": {},
   "outputs": [],
   "source": [
    "#this cell doesn't work! but it doesnt matter \n",
    "# def timedifference(inpection_time, approval_time):\n",
    "#     diff = approval_time - inpection_time\n",
    "#     return diff.days\n",
    "\n",
    "#df[\"approval time\"] = df[\"INSPECTION_DATE\"],df[\"APPROVED_DATE\"].apply(timedifference)"
   ]
  },
  {
   "cell_type": "code",
   "execution_count": null,
   "metadata": {},
   "outputs": [],
   "source": []
  },
  {
   "cell_type": "code",
   "execution_count": null,
   "metadata": {},
   "outputs": [],
   "source": []
  }
 ],
 "metadata": {
  "kernelspec": {
   "display_name": "Python 3",
   "language": "python",
   "name": "python3"
  },
  "language_info": {
   "codemirror_mode": {
    "name": "ipython",
    "version": 3
   },
   "file_extension": ".py",
   "mimetype": "text/x-python",
   "name": "python",
   "nbconvert_exporter": "python",
   "pygments_lexer": "ipython3",
   "version": "3.6.5"
  }
 },
 "nbformat": 4,
 "nbformat_minor": 2
}
