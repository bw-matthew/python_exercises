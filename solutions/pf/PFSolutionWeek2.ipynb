{
 "cells": [
  {
   "cell_type": "code",
   "execution_count": 1,
   "metadata": {},
   "outputs": [
    {
     "name": "stderr",
     "output_type": "stream",
     "text": [
      "/Users/peterf/.pyenv/versions/3.6.5/lib/python3.6/importlib/_bootstrap.py:219: RuntimeWarning: numpy.dtype size changed, may indicate binary incompatibility. Expected 96, got 88\n",
      "  return f(*args, **kwds)\n",
      "/Users/peterf/.pyenv/versions/3.6.5/lib/python3.6/importlib/_bootstrap.py:219: RuntimeWarning: numpy.dtype size changed, may indicate binary incompatibility. Expected 96, got 88\n",
      "  return f(*args, **kwds)\n"
     ]
    }
   ],
   "source": [
    "import pandas as pd"
   ]
  },
  {
   "cell_type": "code",
   "execution_count": 3,
   "metadata": {},
   "outputs": [],
   "source": [
    "def sdk_format(f_list):\n",
    "    return [formatting_info[lookup] for lookup in f_list]\n",
    "\n",
    "# print(sdk_format([\"Xpage Type\", \"Xdomain\"]))"
   ]
  },
  {
   "cell_type": "code",
   "execution_count": 6,
   "metadata": {},
   "outputs": [],
   "source": [
    "excel_filename = 'ExampleFilters.xlsx'\n",
    "full_data = pd.read_excel(excel_filename)\n",
    "# print(full_data[0:3])"
   ]
  },
  {
   "cell_type": "code",
   "execution_count": 8,
   "metadata": {},
   "outputs": [],
   "source": [
    "#make a list which will later contain the imported tables (with request info) as dataframes\n",
    "requests_dataframes = []\n",
    "\n",
    "for col_index in range(len(full_data.columns)):\n",
    "    if \"Chart Data Export\" in full_data.columns[col_index]:\n",
    "        #print that column and the one following it\n",
    "#         print(full_data[full_data.columns[col_index:col_index+2]])\n",
    "        #why are we going to that column and then adding 2?...\n",
    "        #...because the tables are 2 columns wide\n",
    "        requests_dataframes.append (full_data[full_data.columns[col_index:col_index+2]])"
   ]
  },
  {
   "cell_type": "code",
   "execution_count": 11,
   "metadata": {},
   "outputs": [],
   "source": [
    "#dictionary to contain input format requests (e.g. Start Date)\n",
    "requests_unformatted = {}\n",
    "\n",
    "request_num = 0\n",
    "for each_dataframe in requests_dataframes:\n",
    "    #create a name for the dictionary (e.g. request 1)\n",
    "    request_string = \"request \"+str(request_num)\n",
    "    request_num+=1     #add one to request num\n",
    "    requests_unformatted[request_string]={}\n",
    "    for index, row in each_dataframe.iterrows():\n",
    "        requests_unformatted[request_string][row[0]] = row[1] #row [0] is first col, row[1] is second"
   ]
  },
  {
   "cell_type": "code",
   "execution_count": 12,
   "metadata": {},
   "outputs": [],
   "source": [
    "# dictionary with examples of excel export format as keys...\n",
    "#... and SDK format as values\n",
    "# PLEASE NOTE - THESE ARE EXAMPLES ONLY AND MAY NOT ACTUALLY BE THE RIGHT FORMAT!\n",
    "formatting_info = {\n",
    "    \"Aggregate\":\"y_axis\",\n",
    "    \"Dimension 1\":\"y_axis\",\n",
    "    \"Dimension 2\":\"breakdownBy\",\n",
    "    \"Start Date\":\"startDate\",\n",
    "    \"End Date\":\"endDate\",\n",
    "    \"days\":\"days\",\n",
    "    \"Xdomain\":\"xDomain\",\n",
    "    \"Xpage Type\":\"xpageType\",\n",
    "    \"Xtag\":\"xtag\"\n",
    "}"
   ]
  },
  {
   "cell_type": "code",
   "execution_count": 13,
   "metadata": {},
   "outputs": [],
   "source": [
    "# dictionary to contain the requessts in a format the SDK can understand\n",
    "requests_formatted = {}\n",
    "\n",
    "for each_key in requests_unformatted:\n",
    "    #make a blank entry in the formatted dict, e.g. 'request 1'\n",
    "    requests_formatted[each_key] = {}\n",
    "    lookup_list = []\n",
    "    #for every input format filter, e.g. \"Xpage Type\"\n",
    "    for each_filter in requests_unformatted[each_key]:\n",
    "        #if that old format filter is in the formatting info dict...\n",
    "        if each_filter in formatting_info.keys():\n",
    "#             print(each_filter)\n",
    "            lookup_list.append(each_filter)\n",
    "        for each_lookup in lookup_list:\n",
    "            #make a temporary var containing the sdk format filter, e.g. pageType e\n",
    "            temp_lookup = formatting_info[each_lookup]\n",
    "            requests_formatted[each_key][temp_lookup] = requests_unformatted[each_key][each_lookup]\n",
    "#         print()"
   ]
  },
  {
   "cell_type": "markdown",
   "metadata": {},
   "source": [
    "# Showing the result works"
   ]
  },
  {
   "cell_type": "code",
   "execution_count": 23,
   "metadata": {},
   "outputs": [
    {
     "name": "stdout",
     "output_type": "stream",
     "text": [
      "request 0 : {'y_axis': 'impressions', 'breakdownBy': 'categories', 'startDate': 'Tue Aug 14 04:00:00 UTC 2018', 'endDate': 'Fri Sep 14 04:00:00 UTC 2018', 'xDomain': 'www.youtube.com', 'xpageType': '[licensed, print, facebook]'} \n",
      "\n",
      "request 1 : {'y_axis': 'volume', 'breakdownBy': 'categories', 'startDate': 'Fri Jul 20 04:00:00 UTC 2018', 'endDate': 'Fri Sep 14 04:00:00 UTC 2018', 'xDomain': 'www.youtube.com', 'xtag': 'Exclusions'} \n",
      "\n"
     ]
    }
   ],
   "source": [
    "for each_request in requests_formatted:\n",
    "    print(each_request, \":\", requests_formatted[each_request],\"\\n\")"
   ]
  },
  {
   "cell_type": "code",
   "execution_count": null,
   "metadata": {},
   "outputs": [],
   "source": []
  },
  {
   "cell_type": "code",
   "execution_count": null,
   "metadata": {},
   "outputs": [],
   "source": []
  },
  {
   "cell_type": "code",
   "execution_count": null,
   "metadata": {},
   "outputs": [],
   "source": []
  },
  {
   "cell_type": "markdown",
   "metadata": {},
   "source": [
    "# Appendix"
   ]
  },
  {
   "cell_type": "code",
   "execution_count": null,
   "metadata": {},
   "outputs": [],
   "source": [
    "\n",
    "# for index, row in requests_dataframes[1].iterrows():\n",
    "#     print (row[0], row[1])\n",
    "# #     print(row)\n",
    "#     print(\"\")"
   ]
  },
  {
   "cell_type": "code",
   "execution_count": null,
   "metadata": {},
   "outputs": [],
   "source": [
    "requests_unformatted = []\n",
    "\n",
    "for i in requests_dataframes:\n",
    "    print(i)\n",
    "#     requests_unformatted.append({str(i.columns):0})\n",
    "#     for i2 in i:\n",
    "#         print(i[i2])"
   ]
  },
  {
   "cell_type": "code",
   "execution_count": null,
   "metadata": {},
   "outputs": [],
   "source": [
    "# requests_dataframes[1]\n",
    "\n",
    "for index, row in requests_dataframes[1].iterrows():\n",
    "    print (row[0], row[1])\n",
    "#     print(row)\n",
    "    print(\"\")"
   ]
  }
 ],
 "metadata": {
  "kernelspec": {
   "display_name": "Python 3",
   "language": "python",
   "name": "python3"
  },
  "language_info": {
   "codemirror_mode": {
    "name": "ipython",
    "version": 3
   },
   "file_extension": ".py",
   "mimetype": "text/x-python",
   "name": "python",
   "nbconvert_exporter": "python",
   "pygments_lexer": "ipython3",
   "version": "3.6.5"
  }
 },
 "nbformat": 4,
 "nbformat_minor": 2
}
