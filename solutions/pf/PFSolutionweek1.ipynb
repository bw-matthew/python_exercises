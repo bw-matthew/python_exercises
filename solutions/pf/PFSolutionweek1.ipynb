{
 "cells": [
  {
   "cell_type": "markdown",
   "metadata": {},
   "source": [
    "# problem statement\n",
    "we'll start by describing the problem we want to solve. if you already know all you need to solve it, you can skip the rest of this session! \n",
    "\n",
    "imagine you found a nice dataset you need to analyse, but instead of consisting of a single file or a set of conveniently named files sitting together in a directory the files are scattered about in folders, sub folders, and sub-sub folders. there are tens, or hundreds of them. also, not all of the files are data files, some of them are documentation files. \n",
    "\n",
    "you just want a list of the data files so you can iterate over it and process  them all in some way. so you now need to create a python function that takes a path to a root directory as its arguement, and then will traverse the  folder tree structure and collect all the files therein that have a given filename extension and returns a list of the files found (path + filename) \n",
    "\n",
    "## bonus: \n",
    "filter the data files (assumed to have `.dat` filename ending) and return the list, ordered by **decreasing file size**."
   ]
  },
  {
   "cell_type": "code",
   "execution_count": 1,
   "metadata": {},
   "outputs": [],
   "source": [
    "import os"
   ]
  },
  {
   "cell_type": "markdown",
   "metadata": {},
   "source": [
    "## USER INPUT"
   ]
  },
  {
   "cell_type": "code",
   "execution_count": 2,
   "metadata": {},
   "outputs": [],
   "source": [
    "filename_to_collect = \".dat\"\n",
    "# collect_from_directory = \"\""
   ]
  },
  {
   "cell_type": "code",
   "execution_count": 3,
   "metadata": {},
   "outputs": [
    {
     "name": "stdout",
     "output_type": "stream",
     "text": [
      "/Users/peterf/Documents/Python and automation/Python Workshop/python_exercises\n"
     ]
    }
   ],
   "source": [
    "print(os.getcwd()) # get-current-working-directory\n",
    "start_here = os.getcwd()"
   ]
  },
  {
   "cell_type": "code",
   "execution_count": 4,
   "metadata": {},
   "outputs": [],
   "source": [
    "def get_filesize(f_file, f_filepath):\n",
    "    #Add the / becuase it the directory doesn't end in a / as I might expect it to\n",
    "    return os.path.getsize(f_filepath+\"/\"+f_file)"
   ]
  },
  {
   "cell_type": "code",
   "execution_count": 5,
   "metadata": {},
   "outputs": [],
   "source": [
    "def collect_files(f_collect_from):\n",
    "    files_dict = {}\n",
    "    #for the tuple containing the current directory, the sub directories and the files...\n",
    "    for current_directory, sub_directories, files in os.walk(f_collect_from):\n",
    "        #... for each filename in the list of files...\n",
    "        for file in files:\n",
    "            #...if the filename ends in the selected file type (e.g. .dat)\n",
    "            if file.endswith(filename_to_collect):\n",
    "                #make a new dictionary with some info about the file\n",
    "                #decided to make the directory and filename the key, as that's more unique than either alone\n",
    "                files_dict[current_directory+file] = {\"directory\":current_directory, \n",
    "                                                      \"filename\":file, \n",
    "                                                      \"file size\":get_filesize(file,current_directory)}\n",
    "    return files_dict"
   ]
  },
  {
   "cell_type": "code",
   "execution_count": 6,
   "metadata": {},
   "outputs": [],
   "source": [
    "def print_file_info(f_dict):\n",
    "    for each_file in f_dict:\n",
    "#     print(each_file)\n",
    "    #for each dictionary containing a different bit of info about each file...\n",
    "        for each_sub_dict in f_dict[each_file]:\n",
    "            #print that bit of info, e.g. its directory\n",
    "            print(each_sub_dict, \":\", f_dict[each_file][each_sub_dict])\n",
    "    # use ---- as a spacer beteeen each file's info\n",
    "        print(\"----\")"
   ]
  },
  {
   "cell_type": "code",
   "execution_count": 7,
   "metadata": {},
   "outputs": [],
   "source": [
    "#make the dictionary that will contain the output\n",
    "#...and perform the collect files function on the selected directory\n",
    "output_dict = collect_files(start_here)"
   ]
  },
  {
   "cell_type": "code",
   "execution_count": 8,
   "metadata": {},
   "outputs": [
    {
     "name": "stdout",
     "output_type": "stream",
     "text": [
      "directory : /Users/peterf/Documents/Python and automation/Python Workshop/python_exercises/exercises/01 intro and setup/exciting_data\n",
      "filename : file1.dat\n",
      "file size : 12\n",
      "----\n",
      "directory : /Users/peterf/Documents/Python and automation/Python Workshop/python_exercises/exercises/01 intro and setup/exciting_data\n",
      "filename : file2.dat\n",
      "file size : 13\n",
      "----\n",
      "directory : /Users/peterf/Documents/Python and automation/Python Workshop/python_exercises/exercises/01 intro and setup/exciting_data/sub_1\n",
      "filename : file3.dat\n",
      "file size : 65\n",
      "----\n",
      "directory : /Users/peterf/Documents/Python and automation/Python Workshop/python_exercises/exercises/01 intro and setup/exciting_data/sub_2\n",
      "filename : file4.dat\n",
      "file size : 13\n",
      "----\n",
      "directory : /Users/peterf/Documents/Python and automation/Python Workshop/python_exercises/exercises/01 intro and setup/exciting_data/sub_2/subsub_1\n",
      "filename : file6.dat\n",
      "file size : 13\n",
      "----\n",
      "directory : /Users/peterf/Documents/Python and automation/Python Workshop/python_exercises/exercises/01 intro and setup/exciting_data/sub_2/subsub_3/thisisenough\n",
      "filename : file7.dat\n",
      "file size : 130\n",
      "----\n",
      "directory : /Users/peterf/Documents/Python and automation/Python Workshop/python_exercises/exercises/01 intro and setup/exciting_data/sub_3\n",
      "filename : file5.dat\n",
      "file size : 26\n",
      "----\n"
     ]
    }
   ],
   "source": [
    "print_file_info(output_dict)"
   ]
  },
  {
   "cell_type": "code",
   "execution_count": null,
   "metadata": {},
   "outputs": [],
   "source": []
  },
  {
   "cell_type": "markdown",
   "metadata": {},
   "source": [
    "# Appendix, proof of concepts"
   ]
  },
  {
   "cell_type": "code",
   "execution_count": 69,
   "metadata": {},
   "outputs": [
    {
     "data": {
      "text/plain": [
       "True"
      ]
     },
     "execution_count": 69,
     "metadata": {},
     "output_type": "execute_result"
    }
   ],
   "source": [
    "test_string = \"myfile.dat\"\n",
    "\n",
    "test_string.endswith(\".dat\")"
   ]
  },
  {
   "cell_type": "code",
   "execution_count": 88,
   "metadata": {},
   "outputs": [
    {
     "name": "stdout",
     "output_type": "stream",
     "text": [
      "/Users/peterf/Documents/Python and automation/Python Workshop/python_exercises/exercises/01 intro and setup/exciting_data/sub_3/file5.dat ----- 26 bytes\n"
     ]
    }
   ],
   "source": [
    "test_file = \"/Users/peterf/Documents/Python and automation/Python Workshop/python_exercises/exercises/01 intro and setup/exciting_data/sub_3/file5.dat\"\n",
    "\n",
    "print(test_file, \"-----\", os.path.getsize(test_file), \"bytes\")"
   ]
  },
  {
   "cell_type": "code",
   "execution_count": 144,
   "metadata": {},
   "outputs": [
    {
     "name": "stdout",
     "output_type": "stream",
     "text": [
      "12\n",
      "13\n",
      "65\n",
      "13\n",
      "13\n",
      "130\n",
      "26\n"
     ]
    }
   ],
   "source": [
    "for each_file in files_and_directories:\n",
    "    print(get_filesize(each_file, files_and_directories[each_file]))"
   ]
  },
  {
   "cell_type": "code",
   "execution_count": 11,
   "metadata": {},
   "outputs": [
    {
     "name": "stdout",
     "output_type": "stream",
     "text": [
      "directory : /Users/peterf/Documents/Python and automation/Python Workshop/python_exercises/exercises/01 intro and setup/exciting_data\n",
      "filename : file1.dat\n",
      "file size : 12\n",
      "----\n",
      "directory : /Users/peterf/Documents/Python and automation/Python Workshop/python_exercises/exercises/01 intro and setup/exciting_data\n",
      "filename : file2.dat\n",
      "file size : 13\n",
      "----\n",
      "directory : /Users/peterf/Documents/Python and automation/Python Workshop/python_exercises/exercises/01 intro and setup/exciting_data/sub_1\n",
      "filename : file3.dat\n",
      "file size : 65\n",
      "----\n",
      "directory : /Users/peterf/Documents/Python and automation/Python Workshop/python_exercises/exercises/01 intro and setup/exciting_data/sub_2\n",
      "filename : file4.dat\n",
      "file size : 13\n",
      "----\n",
      "directory : /Users/peterf/Documents/Python and automation/Python Workshop/python_exercises/exercises/01 intro and setup/exciting_data/sub_2/subsub_1\n",
      "filename : file6.dat\n",
      "file size : 13\n",
      "----\n",
      "directory : /Users/peterf/Documents/Python and automation/Python Workshop/python_exercises/exercises/01 intro and setup/exciting_data/sub_2/subsub_3/thisisenough\n",
      "filename : file7.dat\n",
      "file size : 130\n",
      "----\n",
      "directory : /Users/peterf/Documents/Python and automation/Python Workshop/python_exercises/exercises/01 intro and setup/exciting_data/sub_3\n",
      "filename : file5.dat\n",
      "file size : 26\n",
      "----\n"
     ]
    }
   ],
   "source": [
    "for each_file in output_dict:\n",
    "#     print(each_file)\n",
    "    #for each dictionary containing a different bit of info about each file...\n",
    "    for each_sub_dict in output_dict[each_file]:\n",
    "        #print that bit of info, e.g. its directory\n",
    "        print(each_sub_dict, \":\", output_dict[each_file][each_sub_dict])\n",
    "    # use ---- as a spacer beteeen each file's info\n",
    "    print(\"----\")"
   ]
  },
  {
   "cell_type": "code",
   "execution_count": null,
   "metadata": {},
   "outputs": [],
   "source": []
  }
 ],
 "metadata": {
  "kernelspec": {
   "display_name": "Python 3",
   "language": "python",
   "name": "python3"
  },
  "language_info": {
   "codemirror_mode": {
    "name": "ipython",
    "version": 3
   },
   "file_extension": ".py",
   "mimetype": "text/x-python",
   "name": "python",
   "nbconvert_exporter": "python",
   "pygments_lexer": "ipython3",
   "version": "3.6.5"
  }
 },
 "nbformat": 4,
 "nbformat_minor": 2
}
