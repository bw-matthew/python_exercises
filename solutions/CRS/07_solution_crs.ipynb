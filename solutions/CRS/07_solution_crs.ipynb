{
 "cells": [
  {
   "cell_type": "markdown",
   "metadata": {},
   "source": [
    "given a toy dataframe A with columns: client_id, dash_a_filter, dash_b_filter, dash_c_filter, we want to answer questions like:\n",
    "1) how many times does each client filter (a,b,c,d) by a each location code? \n",
    "2) how many dashboards does each location code occur in? \n",
    "3) how many times overall?"
   ]
  },
  {
   "cell_type": "markdown",
   "metadata": {},
   "source": [
    "Q1 \n",
    "write a function that accepts:\n",
    "- such a dataframe,\n",
    "- the name of the id column,\n",
    "- and a list of the (categorical) columns names.\n",
    "then, the function returns a series whose indeces are all the distinct values that occur at least once in any of the categorical columns, and whose corresponding values are the number of distinct ids in the dataframe that the index occurs in.\n",
    "\n",
    "Q2 \n",
    "- write another function that accepts the same kind of input, but this time returns a series indexed on the ids, (one row per id) and whose values are the number of distinct values in all three columns the dataframe has.\n"
   ]
  },
  {
   "cell_type": "code",
   "execution_count": 1,
   "metadata": {},
   "outputs": [],
   "source": [
    "import numpy as np\n",
    "import pandas as pd\n",
    "import random"
   ]
  },
  {
   "cell_type": "code",
   "execution_count": 2,
   "metadata": {},
   "outputs": [
    {
     "name": "stdout",
     "output_type": "stream",
     "text": [
      "    person_id col_a    col_b    col_c another_column\n",
      "0          10   cat  hamster   parrot            cot\n",
      "1          10   dog     None   parrot            cat\n",
      "2          11   cat     dogs      dog            cat\n",
      "3          11   cat   parrot  hamster            cot\n",
      "4          14  None   parrot      cat            cut\n",
      "5          14   cat  hamster   parrot            cot\n",
      "6          15  None   parrot     None            cat\n",
      "7          17  None     None     None            cat\n",
      "8          18  None   parrot      cat            cut\n",
      "9          18   dog  hamster     None            cat\n",
      "10         25   dog     None     None            cat\n",
      "11         25   dog   parrot      cat            cot\n"
     ]
    }
   ],
   "source": [
    "# make dataframe:\n",
    "\n",
    "NUM_ROWS = 12\n",
    "all_distinct_ids  = [10,11,13,14,15,16,17,18,19,25]\n",
    "all_distinct_values = [None, 'cat', 'dog', 'dogs', 'hamster', 'parrot', None]\n",
    "id_list = sorted([random.choice(all_distinct_ids) for _ in range(NUM_ROWS)])\n",
    "\n",
    "column_id = pd.Series(id_list, name='person_id')\n",
    "\n",
    "column_values_a = pd.Series([random.choice(all_distinct_values[:3]) for _ in range(NUM_ROWS)], name='col_a')\n",
    "\n",
    "column_values_b = pd.Series([random.choice(all_distinct_values[3:]) for _ in range(NUM_ROWS)], name='col_b')\n",
    "\n",
    "value_list = [random.choice(all_distinct_values) for _ in range(NUM_ROWS)]\n",
    "column_values_c = pd.Series(value_list, name='col_c')\n",
    "\n",
    "word_list = [random.choice(['cut','cot', 'cat']) for _ in range(NUM_ROWS)]\n",
    "column_values_bull = pd.Series(word_list, name='another_column')\n",
    "\n",
    "all_columns = [column_id, column_values_a, column_values_b, column_values_c, column_values_bull]\n",
    "df = pd.concat(all_columns, axis=1)\n",
    "print(df)"
   ]
  },
  {
   "cell_type": "code",
   "execution_count": 3,
   "metadata": {},
   "outputs": [],
   "source": [
    "column_names = ['col_a','col_b','col_c',]\n",
    "id_column = \"person_id\""
   ]
  },
  {
   "cell_type": "code",
   "execution_count": 4,
   "metadata": {},
   "outputs": [],
   "source": [
    "# QUESTION 1:\n",
    "# count the number of distinct/different IDs in which each value/word occurs in the dataframe \n",
    "\n",
    "def count_id_occurances_per_value(dataframe, id_col, list_of_cat_cols):\n",
    "   \n",
    "    all_distinct_values = set()\n",
    "    for acolumn in list_of_cat_cols:\n",
    "        values_in_col = dataframe[acolumn].unique()\n",
    "        all_distinct_values.update(values_in_col)\n",
    "        \n",
    "    value_series_counts = pd.Series(data=[0 for _ in range(len(all_distinct_values))], index=all_distinct_values)\n",
    "\n",
    "    for value in all_distinct_values:\n",
    "        set_of_ids = {}\n",
    "        for acolumn in list_of_cat_cols:\n",
    "            subset_df = dataframe[dataframe[acolumn] == value]\n",
    "            set_of_ids.update(subset_df[id_col])\n",
    "        value_series_counts[value] = len(set_of_ids)\n",
    "\n",
    "    return value_series_counts"
   ]
  },
  {
   "cell_type": "code",
   "execution_count": 5,
   "metadata": {},
   "outputs": [
    {
     "data": {
      "text/plain": [
       "cat        7\n",
       "dog        5\n",
       "NaN        0\n",
       "parrot     8\n",
       "dogs       1\n",
       "hamster    4\n",
       "dtype: int64"
      ]
     },
     "execution_count": 5,
     "metadata": {},
     "output_type": "execute_result"
    }
   ],
   "source": [
    "count_id_occurances_per_value(df, id_column, column_names)"
   ]
  },
  {
   "cell_type": "code",
   "execution_count": 6,
   "metadata": {},
   "outputs": [],
   "source": [
    "# QUESTION 2:\n",
    "# count the number of times each word occurs per person\n",
    "\n",
    "def count_distinct_value_occurances_per_id(df, id_col, list_of_cat_cols):\n",
    "    \n",
    "    id_series_counts = pd.Series(data=[{} for _ in range(len(all_distinct_ids))], index=all_distinct_ids)\n",
    "\n",
    "    for person in all_distinct_ids:\n",
    "        count_dict = {}\n",
    "        df_subset = df[df[id_column]==person]\n",
    "        for column in list_of_cat_cols:\n",
    "            single_col_count = df_subset[column].value_counts()\n",
    "            for word, count in single_col_count.items():\n",
    "                old_value = count_dict.get(word,0)\n",
    "                new_value = old_value + count\n",
    "                count_dict[word] = new_value\n",
    "        id_series_counts[person] = count_dict\n",
    "    \n",
    "    return id_series_counts"
   ]
  },
  {
   "cell_type": "code",
   "execution_count": 7,
   "metadata": {},
   "outputs": [
    {
     "data": {
      "text/plain": [
       "10      {'cat': 1, 'dog': 1, 'hamster': 1, 'parrot': 2}\n",
       "11    {'cat': 2, 'parrot': 1, 'dogs': 1, 'dog': 1, '...\n",
       "13                                                   {}\n",
       "14                {'cat': 2, 'parrot': 2, 'hamster': 1}\n",
       "15                                        {'parrot': 1}\n",
       "16                                                   {}\n",
       "17                                                   {}\n",
       "18      {'dog': 1, 'parrot': 1, 'hamster': 1, 'cat': 1}\n",
       "19                                                   {}\n",
       "25                    {'dog': 2, 'parrot': 1, 'cat': 1}\n",
       "dtype: object"
      ]
     },
     "execution_count": 7,
     "metadata": {},
     "output_type": "execute_result"
    }
   ],
   "source": [
    "count_distinct_value_occurances_per_id(df, id_column, column_names)"
   ]
  }
 ],
 "metadata": {
  "kernelspec": {
   "display_name": "Python 3",
   "language": "python",
   "name": "python3"
  },
  "language_info": {
   "codemirror_mode": {
    "name": "ipython",
    "version": 3
   },
   "file_extension": ".py",
   "mimetype": "text/x-python",
   "name": "python",
   "nbconvert_exporter": "python",
   "pygments_lexer": "ipython3",
   "version": "3.7.0"
  }
 },
 "nbformat": 4,
 "nbformat_minor": 2
}
