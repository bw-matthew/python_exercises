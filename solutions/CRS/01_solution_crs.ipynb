{
 "cells": [
  {
   "cell_type": "markdown",
   "metadata": {},
   "source": [
    "# 01 - interacting with the file system\n",
    " welcome to the first workshop, which trains use of the `os` module "
   ]
  },
  {
   "cell_type": "markdown",
   "metadata": {},
   "source": [
    "# problem statement\n",
    "we'll start by describing the problem we want to solve. if you already know all you need to solve it, you can skip the rest of this session! \n",
    "\n",
    "imagine you found a nice dataset you need to analyse, but instead of consisting of a single file or a set of conveniently named files sitting together in a directory the files are scattered about in folders, sub folders, and sub-sub folders. there are tens, or hundreds of them. also, not all of the files are data files, some of them are documentation files. \n",
    "\n",
    "you just want a list of the data files so you can iterate over it and process  them all in some way. so you now need to create a python function that takes a path to a root directory as its arguement, and then will traverse the  folder tree structure and collect all the files therein that have a given filename extension and returns a list of the files found (path + filename) \n",
    "\n",
    "## bonus: \n",
    "filter the data files (assumed to have `.dat` filename ending) and return the list, ordered by **decreasing file size**."
   ]
  },
  {
   "cell_type": "markdown",
   "metadata": {},
   "source": [
    "we will start easy. the `os` module allows our python session to interact with the wider world of the operating system outside of it, including the file system."
   ]
  },
  {
   "cell_type": "code",
   "execution_count": 50,
   "metadata": {},
   "outputs": [],
   "source": [
    "import os"
   ]
  },
  {
   "cell_type": "code",
   "execution_count": 51,
   "metadata": {},
   "outputs": [],
   "source": [
    "os.chdir('/Users/crsharp/python_workshop_oskar/python_exercises/exercises/01 intro and setup')"
   ]
  },
  {
   "cell_type": "code",
   "execution_count": 52,
   "metadata": {},
   "outputs": [
    {
     "name": "stdout",
     "output_type": "stream",
     "text": [
      "/Users/crsharp/python_workshop_oskar/python_exercises/exercises/01 intro and setup\n"
     ]
    }
   ],
   "source": [
    "print(os.getcwd()) # get-current-working-directory\n",
    "whereami = os.getcwd() # save it in a variable."
   ]
  },
  {
   "cell_type": "code",
   "execution_count": 53,
   "metadata": {},
   "outputs": [],
   "source": [
    "def crawl_directory(crawldirectory, file_ending):\n",
    "    # crawls given directory and returns a list of files within directory all with the specified file ending\n",
    "    data_files = []\n",
    "    for current_dir, sub_directories, files in os.walk(crawldirectory):\n",
    "        for filename in files:\n",
    "            if filename.endswith(file_ending):\n",
    "                data_files.append(os.path.join(current_dir, filename))\n",
    "    return data_files\n"
   ]
  },
  {
   "cell_type": "code",
   "execution_count": 55,
   "metadata": {},
   "outputs": [
    {
     "data": {
      "text/plain": [
       "['exciting_data/file2.dat',\n",
       " 'exciting_data/file1.dat',\n",
       " 'exciting_data/sub_1/file3.dat',\n",
       " 'exciting_data/sub_3/file5.dat',\n",
       " 'exciting_data/sub_2/file4.dat',\n",
       " 'exciting_data/sub_2/subsub_3/thisisenough/file7.dat',\n",
       " 'exciting_data/sub_2/subsub_1/file6.dat']"
      ]
     },
     "execution_count": 55,
     "metadata": {},
     "output_type": "execute_result"
    }
   ],
   "source": [
    "crawl_directory(\"exciting_data\", \".dat\")"
   ]
  },
  {
   "cell_type": "code",
   "execution_count": 56,
   "metadata": {},
   "outputs": [],
   "source": [
    "# sort by file size\n",
    "def list_files_by_size(filepathlist, decreasing=True):\n",
    "    sorted_files = sorted(filepathlist, key=os.path.getsize, reverse=decreasing)\n",
    "    return sorted_files"
   ]
  },
  {
   "cell_type": "code",
   "execution_count": 57,
   "metadata": {},
   "outputs": [
    {
     "name": "stdout",
     "output_type": "stream",
     "text": [
      "exciting_data/sub_2/subsub_3/thisisenough/file7.dat 130\n",
      "exciting_data/sub_1/file3.dat 65\n",
      "exciting_data/sub_3/file5.dat 26\n",
      "exciting_data/file2.dat 13\n",
      "exciting_data/sub_2/file4.dat 13\n",
      "exciting_data/sub_2/subsub_1/file6.dat 13\n",
      "exciting_data/file1.dat 12\n"
     ]
    }
   ],
   "source": [
    "orderedlist = list_files_by_size(data_files)\n",
    "\n",
    "for file in orderedlist:\n",
    "    print(file, os.path.getsize(file))"
   ]
  },
  {
   "cell_type": "code",
   "execution_count": 58,
   "metadata": {},
   "outputs": [],
   "source": [
    "def gimmeorderedfiles(directory, filenameending='.dat'):\n",
    "    # crawling directory with .dat ending and returning indecreasing size\n",
    "    thelist = crawl_directory(directory, filenameending)\n",
    "    ordered_files = list_files_by_size(thelist)\n",
    "    return ordered_files\n",
    "\n",
    "finalanswer = gimmeorderedfiles('exciting_data', filenameending='.dat')"
   ]
  },
  {
   "cell_type": "code",
   "execution_count": 60,
   "metadata": {},
   "outputs": [
    {
     "name": "stdout",
     "output_type": "stream",
     "text": [
      "['exciting_data/sub_2/subsub_3/thisisenough/file7.dat', 'exciting_data/sub_1/file3.dat', 'exciting_data/sub_3/file5.dat', 'exciting_data/file2.dat', 'exciting_data/sub_2/file4.dat', 'exciting_data/sub_2/subsub_1/file6.dat', 'exciting_data/file1.dat']\n"
     ]
    }
   ],
   "source": [
    "print(finalanswer)"
   ]
  },
  {
   "cell_type": "code",
   "execution_count": null,
   "metadata": {},
   "outputs": [],
   "source": []
  }
 ],
 "metadata": {
  "kernelspec": {
   "display_name": "Python 3",
   "language": "python",
   "name": "python3"
  },
  "language_info": {
   "codemirror_mode": {
    "name": "ipython",
    "version": 3
   },
   "file_extension": ".py",
   "mimetype": "text/x-python",
   "name": "python",
   "nbconvert_exporter": "python",
   "pygments_lexer": "ipython3",
   "version": "3.7.0"
  }
 },
 "nbformat": 4,
 "nbformat_minor": 2
}
