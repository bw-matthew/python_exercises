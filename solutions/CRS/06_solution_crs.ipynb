{
 "cells": [
  {
   "cell_type": "code",
   "execution_count": 1,
   "metadata": {},
   "outputs": [],
   "source": [
    "import requests\n",
    "import datetime\n",
    "from datetime import date, timedelta\n",
    "from bs4 import BeautifulSoup"
   ]
  },
  {
   "cell_type": "code",
   "execution_count": 2,
   "metadata": {},
   "outputs": [],
   "source": [
    "url = 'https://www.theargus.co.uk/archive/'"
   ]
  },
  {
   "cell_type": "code",
   "execution_count": 3,
   "metadata": {},
   "outputs": [],
   "source": [
    "# accept as its sole input argument a date string (you know how to format it now!).\n",
    "# verify that the input date is in the past (but not too far in the past, the argus archive is limited).\n",
    "# if so, fetch all the argus headlines from that date.\n",
    "# return a list of strings\n",
    "\n",
    "def fetch_argus_headlines(date):\n",
    "\n",
    "# 1) check input is a string in the correct format. the format indicator checks this, it doesn't change it\n",
    "    \n",
    "    try:\n",
    "        datetime_object = datetime.datetime.strptime(date, '%Y-%m-%d')\n",
    "    except ValueError:\n",
    "        print(\"Incorrect date format, should be in the format: 'YYYY-MM-DD' \")\n",
    "        \n",
    "    print('datetime object:', datetime_object)\n",
    "    \n",
    "    \n",
    "# 2) verify that the input date is in the past (but not too far in the past, the argus archive is limited\n",
    "    \n",
    "    today = datetime.datetime.today()\n",
    "    three_yrs_ago = today - datetime.timedelta(days=(3*365))\n",
    "    if three_yrs_ago <= datetime_object <= today: \n",
    "        \n",
    "\n",
    "# 3) and 4) if so, fetch all the argus headlines from that date\n",
    "        datetime_year = datetime_object.strftime(\"%Y\")\n",
    "        datetime_month = datetime_object.strftime(\"%m\")\n",
    "        datetime_day = datetime_object.strftime(\"%d\")\n",
    "        fetch_this_url = url + f'{datetime_year}/{datetime_month}/{datetime_day}/'\n",
    "        print('Fetching:', fetch_this_url)\n",
    "        \n",
    "        webpage = requests.get(fetch_this_url)\n",
    "        parsed_web_tree = BeautifulSoup(webpage.text, 'html.parser')\n",
    "        article_list = parsed_web_tree.find(class_='archive-list')\n",
    "        \n",
    "        if article_list: #is not None\n",
    "            headlines = article_list.find_all('h3')\n",
    "        else:\n",
    "            print('There are no headlines!')\n",
    "        \n",
    "        headline_list = list()\n",
    "        for headline in headlines:\n",
    "            headline_list.append(headline.contents[0])\n",
    "        return headline_list\n",
    "        print(headline_list)"
   ]
  },
  {
   "cell_type": "code",
   "execution_count": 4,
   "metadata": {},
   "outputs": [
    {
     "name": "stdout",
     "output_type": "stream",
     "text": [
      "datetime object: 2017-08-08 00:00:00\n",
      "Fetching: https://www.theargus.co.uk/archive/2017/08/08/\n"
     ]
    },
    {
     "data": {
      "text/plain": [
       "['Crawley crash out of Carabao Cup as Adams hits hat-trick',\n",
       " 'Sussex eye promotion push after brilliant win at Worcestershire',\n",
       " \"Eubank Jr's World Boxing Super Series quarter-final to take place in Germany\",\n",
       " 'Ryan takes No.1 as Albion reveal squad numbers',\n",
       " 'Knockaert and Murray get 45 minute run-outs as Albion eye City clash',\n",
       " 'Open auditions for Britain’s Got Talent to be held in Brighton',\n",
       " \"Waitrose and Sainsbury's shoppers warned after £20,000 stolen by card thieves\",\n",
       " 'Blondie set for Brighton gig',\n",
       " 'E-fit released after man attacks 12-year-old boy',\n",
       " 'Bloom might smash record again for striker',\n",
       " 'Large straw bale blaze likely to be arson attack',\n",
       " 'Heavy goods vehicle burnt out on A24',\n",
       " 'Two-car crash caused delays on A27',\n",
       " 'Warning issued for heavy rain across Sussex',\n",
       " 'Concern for missing 15-year-old girl',\n",
       " 'Propper ready to prove doubters wrong',\n",
       " 'Sales of Arches prints to help save Terraces',\n",
       " 'Picture of the Day: Brighton’s Royal Pavilion',\n",
       " 'Work on £130m project to bring homes, student rooms, offices, restaurants and a major dance studio begins',\n",
       " 'Mother thanks hero bus driver who helped find her lost daughter',\n",
       " 'i360 critics are urged: Try it, you might like it',\n",
       " 'Nostalgia: Seventies’ star cuts ribbon to open shop – but where?',\n",
       " 'Huge show of Pride in record-breaking year',\n",
       " 'Charity named after Diana’s godchild gets a new home',\n",
       " 'Help the homeless by giving to charities',\n",
       " 'Dog walker scoops Mr Gay Europe title',\n",
       " 'Mystery of ketchup attack on house and cars',\n",
       " 'Southern Rail talks stall with no agreement',\n",
       " 'Summer party time for young patients',\n",
       " 'Woman, 69, fighting for her life after being run over by BMW driver',\n",
       " 'Burger King under fire over lack of free water',\n",
       " 'Revellers ‘dodge out the way’ of quadbikes',\n",
       " \"Shopper outraged over 'sexist' Marks and Spencer toilet signs\",\n",
       " 'Dad swam for four hours to survive but friends still missing']"
      ]
     },
     "execution_count": 4,
     "metadata": {},
     "output_type": "execute_result"
    }
   ],
   "source": [
    "fetch_argus_headlines(\"2017-08-08\")"
   ]
  },
  {
   "cell_type": "code",
   "execution_count": 55,
   "metadata": {},
   "outputs": [],
   "source": [
    "# instead of the headlines, fetches and return a list of links to that day's articles.\n",
    "\n",
    "def fetch_argus_article_links(date):\n",
    "\n",
    "    try:\n",
    "        datetime_object = datetime.datetime.strptime(date, '%Y-%m-%d')\n",
    "    except ValueError:\n",
    "        print(\"Incorrect date format, should be in the format: 'YYYY-MM-DD' \")\n",
    "        \n",
    "    print('datetime object:', datetime_object)\n",
    "    datetime_year = datetime_object.strftime(\"%Y\")\n",
    "    datetime_month = datetime_object.strftime(\"%m\")\n",
    "    datetime_day = datetime_object.strftime(\"%d\")\n",
    "    fetch_this_url_links = url + f'{datetime_year}/{datetime_month}/{datetime_day}/'\n",
    "    print('Fetching:', fetch_this_url_links)\n",
    "        \n",
    "    webpage_forlinks = requests.get(fetch_this_url_links)\n",
    "    parsed_web_tree_forlinks = BeautifulSoup(webpage_forlinks.text, 'html.parser')\n",
    "    archive_list = parsed_web_tree_forlinks.find(class_='archive-list')\n",
    "        \n",
    "    link_list = list()\n",
    "    final_list = list()\n",
    "    \n",
    "    anchors = archive_list.find_all('a')\n",
    "    for tag in anchors:\n",
    "        link_list.append('https://www.theargus.co.uk' + tag.get('href', None))\n",
    "\n",
    "    return link_list"
   ]
  },
  {
   "cell_type": "code",
   "execution_count": 56,
   "metadata": {},
   "outputs": [
    {
     "name": "stdout",
     "output_type": "stream",
     "text": [
      "datetime object: 2017-08-08 00:00:00\n",
      "Fetching: https://www.theargus.co.uk/archive/2017/08/08/\n"
     ]
    },
    {
     "data": {
      "text/plain": [
       "['https://www.theargus.co.uk/news/15461380.Crawley_crash_out_of_Carabao_Cup_as_Adams_hits_hat-trick/?ref=arc',\n",
       " 'https://www.theargus.co.uk/news/15461380.Crawley_crash_out_of_Carabao_Cup_as_Adams_hits_hat-trick/?ref=arc',\n",
       " 'https://www.theargus.co.uk/news/15461207.Sussex_eye_promotion_push_after_brilliant_win_at_Worcestershire/?ref=arc',\n",
       " 'https://www.theargus.co.uk/news/15461207.Sussex_eye_promotion_push_after_brilliant_win_at_Worcestershire/?ref=arc',\n",
       " 'https://www.theargus.co.uk/news/15461152.Eubank_Jr_s_World_Boxing_Super_Series_quarter-final_to_take_place_in_Germany/?ref=arc',\n",
       " 'https://www.theargus.co.uk/news/15461152.Eubank_Jr_s_World_Boxing_Super_Series_quarter-final_to_take_place_in_Germany/?ref=arc',\n",
       " 'https://www.theargus.co.uk/news/15461042.Ryan_takes_No_1_as_Albion_reveal_squad_numbers/?ref=arc',\n",
       " 'https://www.theargus.co.uk/news/15461042.Ryan_takes_No_1_as_Albion_reveal_squad_numbers/?ref=arc',\n",
       " 'https://www.theargus.co.uk/news/15460631.Knockaert_and_Murray_get_45_minute_run-outs_as_Albion_eye_City_clash/?ref=arc',\n",
       " 'https://www.theargus.co.uk/news/15460631.Knockaert_and_Murray_get_45_minute_run-outs_as_Albion_eye_City_clash/?ref=arc',\n",
       " 'https://www.theargus.co.uk/news/15460513.Open_auditions_for_Britain___s_Got_Talent_to_be_held_in_Brighton/?ref=arc',\n",
       " 'https://www.theargus.co.uk/news/15460513.Open_auditions_for_Britain___s_Got_Talent_to_be_held_in_Brighton/?ref=arc',\n",
       " 'https://www.theargus.co.uk/news/15460515.Waitrose_and_Sainsbury_s_shoppers_warned_after___20_000_stolen_by_card_thieves/?ref=arc',\n",
       " 'https://www.theargus.co.uk/news/15460515.Waitrose_and_Sainsbury_s_shoppers_warned_after___20_000_stolen_by_card_thieves/?ref=arc',\n",
       " 'https://www.theargus.co.uk/news/15460322.Blondie_set_for_Brighton_gig/?ref=arc',\n",
       " 'https://www.theargus.co.uk/news/15460322.Blondie_set_for_Brighton_gig/?ref=arc',\n",
       " 'https://www.theargus.co.uk/news/15460270.E-fit_released_after_man_attacks_12-year-old_boy/?ref=arc',\n",
       " 'https://www.theargus.co.uk/news/15460270.E-fit_released_after_man_attacks_12-year-old_boy/?ref=arc',\n",
       " 'https://www.theargus.co.uk/news/15459166.Bloom_might_smash_record_again_for_striker/?ref=arc',\n",
       " 'https://www.theargus.co.uk/news/15459166.Bloom_might_smash_record_again_for_striker/?ref=arc',\n",
       " 'https://www.theargus.co.uk/news/15459557.Large_straw_bale_blaze_likely_to_be_arson_attack/?ref=arc',\n",
       " 'https://www.theargus.co.uk/news/15459557.Large_straw_bale_blaze_likely_to_be_arson_attack/?ref=arc',\n",
       " 'https://www.theargus.co.uk/news/15459530.Heavy_goods_vehicle_burnt_out_on_A24/?ref=arc',\n",
       " 'https://www.theargus.co.uk/news/15459530.Heavy_goods_vehicle_burnt_out_on_A24/?ref=arc',\n",
       " 'https://www.theargus.co.uk/news/15459495.Two-car_crash_caused_delays_on_A27/?ref=arc',\n",
       " 'https://www.theargus.co.uk/news/15459495.Two-car_crash_caused_delays_on_A27/?ref=arc',\n",
       " 'https://www.theargus.co.uk/news/15459483.Warning_issued_for_heavy_rain_across_Sussex/?ref=arc',\n",
       " 'https://www.theargus.co.uk/news/15459483.Warning_issued_for_heavy_rain_across_Sussex/?ref=arc',\n",
       " 'https://www.theargus.co.uk/news/15459450.Concern_for_missing_15-year-old_girl/?ref=arc',\n",
       " 'https://www.theargus.co.uk/news/15459450.Concern_for_missing_15-year-old_girl/?ref=arc',\n",
       " 'https://www.theargus.co.uk/news/15459158.Propper_ready_to_prove_doubters_wrong/?ref=arc',\n",
       " 'https://www.theargus.co.uk/news/15459158.Propper_ready_to_prove_doubters_wrong/?ref=arc',\n",
       " 'https://www.theargus.co.uk/news/15458248.Sales_of_Arches_prints_to_help_save_Terraces/?ref=arc',\n",
       " 'https://www.theargus.co.uk/news/15458248.Sales_of_Arches_prints_to_help_save_Terraces/?ref=arc',\n",
       " 'https://www.theargus.co.uk/news/15460892.Picture_of_the_Day__Brighton___s_Royal_Pavilion/?ref=arc',\n",
       " 'https://www.theargus.co.uk/news/15460892.Picture_of_the_Day__Brighton___s_Royal_Pavilion/?ref=arc',\n",
       " 'https://www.theargus.co.uk/news/15459066.Work_on___130m_project_to_bring_homes__student_rooms__offices__restaurants_and_a_major_dance_studio_begins/?ref=arc',\n",
       " 'https://www.theargus.co.uk/news/15459066.Work_on___130m_project_to_bring_homes__student_rooms__offices__restaurants_and_a_major_dance_studio_begins/?ref=arc',\n",
       " 'https://www.theargus.co.uk/news/15457003.Mother_thanks_hero_bus_driver_who_helped_find_her_lost_daughter/?ref=arc',\n",
       " 'https://www.theargus.co.uk/news/15457003.Mother_thanks_hero_bus_driver_who_helped_find_her_lost_daughter/?ref=arc',\n",
       " 'https://www.theargus.co.uk/news/15458225.i360_critics_are_urged__Try_it__you_might_like_it/?ref=arc',\n",
       " 'https://www.theargus.co.uk/news/15458225.i360_critics_are_urged__Try_it__you_might_like_it/?ref=arc',\n",
       " 'https://www.theargus.co.uk/news/15460222.Nostalgia__Seventies____star_cuts_ribbon_to_open_shop_____but_where_/?ref=arc',\n",
       " 'https://www.theargus.co.uk/news/15460222.Nostalgia__Seventies____star_cuts_ribbon_to_open_shop_____but_where_/?ref=arc',\n",
       " 'https://www.theargus.co.uk/news/15459079.Huge_show_of_Pride_in_record-breaking_year/?ref=arc',\n",
       " 'https://www.theargus.co.uk/news/15459079.Huge_show_of_Pride_in_record-breaking_year/?ref=arc',\n",
       " 'https://www.theargus.co.uk/news/15460242.Charity_named_after_Diana___s_godchild_gets_a_new_home/?ref=arc',\n",
       " 'https://www.theargus.co.uk/news/15460242.Charity_named_after_Diana___s_godchild_gets_a_new_home/?ref=arc',\n",
       " 'https://www.theargus.co.uk/news/15458893.Help_the_homeless_by_giving_to_charities/?ref=arc',\n",
       " 'https://www.theargus.co.uk/news/15458893.Help_the_homeless_by_giving_to_charities/?ref=arc',\n",
       " 'https://www.theargus.co.uk/news/15458853.Dog_walker_scoops_Mr_Gay_Europe_title/?ref=arc',\n",
       " 'https://www.theargus.co.uk/news/15458853.Dog_walker_scoops_Mr_Gay_Europe_title/?ref=arc',\n",
       " 'https://www.theargus.co.uk/news/15459399.Mystery_of_ketchup_attack_on_house_and_cars/?ref=arc',\n",
       " 'https://www.theargus.co.uk/news/15459399.Mystery_of_ketchup_attack_on_house_and_cars/?ref=arc',\n",
       " 'https://www.theargus.co.uk/news/15459420.Southern_Rail_talks_stall_with_no_agreement/?ref=arc',\n",
       " 'https://www.theargus.co.uk/news/15459420.Southern_Rail_talks_stall_with_no_agreement/?ref=arc',\n",
       " 'https://www.theargus.co.uk/news/15460477.Summer_party_time_for_young_patients/?ref=arc',\n",
       " 'https://www.theargus.co.uk/news/15460477.Summer_party_time_for_young_patients/?ref=arc',\n",
       " 'https://www.theargus.co.uk/news/15459400.Woman__69__fighting_for_her_life_after_being_run_over_by_BMW_driver/?ref=arc',\n",
       " 'https://www.theargus.co.uk/news/15459400.Woman__69__fighting_for_her_life_after_being_run_over_by_BMW_driver/?ref=arc',\n",
       " 'https://www.theargus.co.uk/news/15458062.Burger_King_under_fire_over_lack_of_free_water/?ref=arc',\n",
       " 'https://www.theargus.co.uk/news/15458062.Burger_King_under_fire_over_lack_of_free_water/?ref=arc',\n",
       " 'https://www.theargus.co.uk/news/15458699.Revellers____dodge_out_the_way____of_quadbikes/?ref=arc',\n",
       " 'https://www.theargus.co.uk/news/15458699.Revellers____dodge_out_the_way____of_quadbikes/?ref=arc',\n",
       " 'https://www.theargus.co.uk/news/15458113.Shopper_outraged_over__sexist__Marks_and_Spencer_toilet_signs/?ref=arc',\n",
       " 'https://www.theargus.co.uk/news/15458113.Shopper_outraged_over__sexist__Marks_and_Spencer_toilet_signs/?ref=arc',\n",
       " 'https://www.theargus.co.uk/news/15459045.Dad_swam_for_four_hours_to_survive_but_friends_still_missing/?ref=arc',\n",
       " 'https://www.theargus.co.uk/news/15459045.Dad_swam_for_four_hours_to_survive_but_friends_still_missing/?ref=arc']"
      ]
     },
     "execution_count": 56,
     "metadata": {},
     "output_type": "execute_result"
    }
   ],
   "source": [
    "fetch_argus_article_links('2017-08-08')"
   ]
  },
  {
   "cell_type": "code",
   "execution_count": null,
   "metadata": {},
   "outputs": [],
   "source": []
  }
 ],
 "metadata": {
  "kernelspec": {
   "display_name": "Python 3",
   "language": "python",
   "name": "python3"
  },
  "language_info": {
   "codemirror_mode": {
    "name": "ipython",
    "version": 3
   },
   "file_extension": ".py",
   "mimetype": "text/x-python",
   "name": "python",
   "nbconvert_exporter": "python",
   "pygments_lexer": "ipython3",
   "version": "3.7.0"
  }
 },
 "nbformat": 4,
 "nbformat_minor": 2
}
