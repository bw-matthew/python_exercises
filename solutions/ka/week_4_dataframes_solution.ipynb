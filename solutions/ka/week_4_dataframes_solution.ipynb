{
 "cells": [
  {
   "cell_type": "markdown",
   "metadata": {},
   "source": [
    "# 04 - dataframes "
   ]
  },
  {
   "cell_type": "markdown",
   "metadata": {},
   "source": [
    "# today's exercise:\n",
    "\n",
    "use what you have learned in your previous solutions to read in the new york rodent inspection data as a `pandas` dataframe, and then augment that dataframe with wait time (interval between inspection and approval), weekday,  and iso-week of inspection. also add a new column, `season` of the inspection date (defined as: dec-feb, inclusive, is winter, mar-may is spring, jun-aug is summer, sep-nov is fall). \n",
    "\n",
    "then answer the following questions: \n",
    "- between the dates of 2010-01-01 and 2010-03-31, what was the daily average number of inspections?\n",
    "- between the dates of 2010-01-01 and 2010-03-31, which weekday had the greatest number of inspections?\n",
    "- between the dates of 2010-01-01 and 2010-03-31, which weekday had the least number of inspections?\n",
    "\n",
    "if you are confident that you can already solve this, the rest of the session is not much use to you. \n",
    "\n",
    "as a bonus we should be able to answer these further questions\n",
    "- which weekday has the longest average wait time for approval in the winter? (let's define the seasons as: (dec-feb is winter, mar-may is spring, jun-aug is summer, sep-nov is fall).\n",
    "- which weekday has the longest average wait time for approval in the summer?\n",
    "- which season has the greatest number of inspections? \n",
    "- which season has the greatest number of distinct dates ...\n",
    "    + a) in the data set\n",
    "    + b) in the calendar? \n",
    "- which borough has the greatest difference in the number of inspections in the spring vs in the fall?\n",
    "- count the number of inspections per [iso-week](https://en.wikipedia.org/wiki/ISO_week_date). find the week with the greatest number of inspections. for that week, and that week only, count the inspections by day-of-week."
   ]
  },
  {
   "cell_type": "code",
   "execution_count": 1,
   "metadata": {},
   "outputs": [],
   "source": [
    "import pandas as pd"
   ]
  },
  {
   "cell_type": "code",
   "execution_count": 2,
   "metadata": {},
   "outputs": [],
   "source": [
    "rodent_df = pd.read_csv('/Users/katiea/git/python_workshops/python_exercises/exercises/04_dataframes/NY_rodent_inspections_sample.csv',\n",
    "                       parse_dates=['INSPECTION_DATE', 'APPROVED_DATE'])"
   ]
  },
  {
   "cell_type": "code",
   "execution_count": 3,
   "metadata": {},
   "outputs": [
    {
     "data": {
      "text/html": [
       "<div>\n",
       "<style scoped>\n",
       "    .dataframe tbody tr th:only-of-type {\n",
       "        vertical-align: middle;\n",
       "    }\n",
       "\n",
       "    .dataframe tbody tr th {\n",
       "        vertical-align: top;\n",
       "    }\n",
       "\n",
       "    .dataframe thead th {\n",
       "        text-align: right;\n",
       "    }\n",
       "</style>\n",
       "<table border=\"1\" class=\"dataframe\">\n",
       "  <thead>\n",
       "    <tr style=\"text-align: right;\">\n",
       "      <th></th>\n",
       "      <th>INSPECTION_TYPE</th>\n",
       "      <th>JOB_TICKET_OR_WORK_ORDER_ID</th>\n",
       "      <th>JOB_ID</th>\n",
       "      <th>JOB_PROGRESS</th>\n",
       "      <th>BBL</th>\n",
       "      <th>BORO_CODE</th>\n",
       "      <th>BLOCK</th>\n",
       "      <th>LOT</th>\n",
       "      <th>HOUSE_NUMBER</th>\n",
       "      <th>STREET_NAME</th>\n",
       "      <th>ZIP_CODE</th>\n",
       "      <th>X_COORD</th>\n",
       "      <th>Y_COORD</th>\n",
       "      <th>LATITUDE</th>\n",
       "      <th>LONGITUDE</th>\n",
       "      <th>BOROUGH</th>\n",
       "      <th>INSPECTION_DATE</th>\n",
       "      <th>RESULT</th>\n",
       "      <th>APPROVED_DATE</th>\n",
       "      <th>LOCATION</th>\n",
       "    </tr>\n",
       "  </thead>\n",
       "  <tbody>\n",
       "    <tr>\n",
       "      <th>0</th>\n",
       "      <td>BAIT</td>\n",
       "      <td>1</td>\n",
       "      <td>PO12965</td>\n",
       "      <td>3</td>\n",
       "      <td>1011470035</td>\n",
       "      <td>1</td>\n",
       "      <td>1147</td>\n",
       "      <td>35</td>\n",
       "      <td>104</td>\n",
       "      <td>WEST 76 STREET</td>\n",
       "      <td>10023</td>\n",
       "      <td>990505</td>\n",
       "      <td>223527</td>\n",
       "      <td>40.780204</td>\n",
       "      <td>-73.977414</td>\n",
       "      <td>Manhattan</td>\n",
       "      <td>2009-10-14 12:00:27</td>\n",
       "      <td>Bait applied</td>\n",
       "      <td>2009-10-14 15:01:46</td>\n",
       "      <td>(40.7802039792471, -73.9774144709456)</td>\n",
       "    </tr>\n",
       "    <tr>\n",
       "      <th>1</th>\n",
       "      <td>BAIT</td>\n",
       "      <td>2</td>\n",
       "      <td>PO12966</td>\n",
       "      <td>3</td>\n",
       "      <td>1011470034</td>\n",
       "      <td>1</td>\n",
       "      <td>1147</td>\n",
       "      <td>34</td>\n",
       "      <td>102</td>\n",
       "      <td>WEST 76 STREET</td>\n",
       "      <td>10023</td>\n",
       "      <td>990516</td>\n",
       "      <td>223521</td>\n",
       "      <td>40.780188</td>\n",
       "      <td>-73.977375</td>\n",
       "      <td>Manhattan</td>\n",
       "      <td>2009-10-14 12:51:21</td>\n",
       "      <td>Bait applied</td>\n",
       "      <td>2009-10-14 15:02:30</td>\n",
       "      <td>(40.7801875030438, -73.977374757787)</td>\n",
       "    </tr>\n",
       "    <tr>\n",
       "      <th>2</th>\n",
       "      <td>BAIT</td>\n",
       "      <td>30</td>\n",
       "      <td>PO16966</td>\n",
       "      <td>3</td>\n",
       "      <td>2043370027</td>\n",
       "      <td>2</td>\n",
       "      <td>4337</td>\n",
       "      <td>27</td>\n",
       "      <td>620</td>\n",
       "      <td>THWAITES PLACE</td>\n",
       "      <td>10467</td>\n",
       "      <td>1020110</td>\n",
       "      <td>252216</td>\n",
       "      <td>40.858877</td>\n",
       "      <td>-73.870364</td>\n",
       "      <td>Bronx</td>\n",
       "      <td>2009-11-09 12:59:55</td>\n",
       "      <td>Bait applied</td>\n",
       "      <td>2009-11-10 14:54:52</td>\n",
       "      <td>(40.8588765781972, -73.8703636422023)</td>\n",
       "    </tr>\n",
       "    <tr>\n",
       "      <th>3</th>\n",
       "      <td>BAIT</td>\n",
       "      <td>31</td>\n",
       "      <td>PO13665</td>\n",
       "      <td>3</td>\n",
       "      <td>2037670077</td>\n",
       "      <td>2</td>\n",
       "      <td>3767</td>\n",
       "      <td>77</td>\n",
       "      <td>1227</td>\n",
       "      <td>WHITEPLAINS ROAD</td>\n",
       "      <td>10472</td>\n",
       "      <td>1022441</td>\n",
       "      <td>242180</td>\n",
       "      <td>40.831321</td>\n",
       "      <td>-73.861994</td>\n",
       "      <td>Bronx</td>\n",
       "      <td>2009-11-09 11:10:16</td>\n",
       "      <td>Bait applied</td>\n",
       "      <td>2009-11-10 14:56:42</td>\n",
       "      <td>(40.8313209626148, -73.861994089899)</td>\n",
       "    </tr>\n",
       "    <tr>\n",
       "      <th>4</th>\n",
       "      <td>BAIT</td>\n",
       "      <td>38</td>\n",
       "      <td>PO11291</td>\n",
       "      <td>3</td>\n",
       "      <td>1011690057</td>\n",
       "      <td>1</td>\n",
       "      <td>1169</td>\n",
       "      <td>57</td>\n",
       "      <td>2199</td>\n",
       "      <td>BROADWAY</td>\n",
       "      <td>10024</td>\n",
       "      <td>989641</td>\n",
       "      <td>224567</td>\n",
       "      <td>40.783059</td>\n",
       "      <td>-73.980533</td>\n",
       "      <td>Manhattan</td>\n",
       "      <td>2009-11-10 08:40:42</td>\n",
       "      <td>Bait applied</td>\n",
       "      <td>2009-11-17 11:39:11</td>\n",
       "      <td>(40.7830590725833, -73.9805333640688)</td>\n",
       "    </tr>\n",
       "  </tbody>\n",
       "</table>\n",
       "</div>"
      ],
      "text/plain": [
       "  INSPECTION_TYPE  JOB_TICKET_OR_WORK_ORDER_ID   JOB_ID  JOB_PROGRESS  \\\n",
       "0            BAIT                            1  PO12965             3   \n",
       "1            BAIT                            2  PO12966             3   \n",
       "2            BAIT                           30  PO16966             3   \n",
       "3            BAIT                           31  PO13665             3   \n",
       "4            BAIT                           38  PO11291             3   \n",
       "\n",
       "          BBL  BORO_CODE  BLOCK  LOT HOUSE_NUMBER       STREET_NAME  ZIP_CODE  \\\n",
       "0  1011470035          1   1147   35          104    WEST 76 STREET     10023   \n",
       "1  1011470034          1   1147   34          102    WEST 76 STREET     10023   \n",
       "2  2043370027          2   4337   27          620    THWAITES PLACE     10467   \n",
       "3  2037670077          2   3767   77         1227  WHITEPLAINS ROAD     10472   \n",
       "4  1011690057          1   1169   57         2199          BROADWAY     10024   \n",
       "\n",
       "   X_COORD  Y_COORD   LATITUDE  LONGITUDE    BOROUGH     INSPECTION_DATE  \\\n",
       "0   990505   223527  40.780204 -73.977414  Manhattan 2009-10-14 12:00:27   \n",
       "1   990516   223521  40.780188 -73.977375  Manhattan 2009-10-14 12:51:21   \n",
       "2  1020110   252216  40.858877 -73.870364      Bronx 2009-11-09 12:59:55   \n",
       "3  1022441   242180  40.831321 -73.861994      Bronx 2009-11-09 11:10:16   \n",
       "4   989641   224567  40.783059 -73.980533  Manhattan 2009-11-10 08:40:42   \n",
       "\n",
       "         RESULT       APPROVED_DATE                               LOCATION  \n",
       "0  Bait applied 2009-10-14 15:01:46  (40.7802039792471, -73.9774144709456)  \n",
       "1  Bait applied 2009-10-14 15:02:30   (40.7801875030438, -73.977374757787)  \n",
       "2  Bait applied 2009-11-10 14:54:52  (40.8588765781972, -73.8703636422023)  \n",
       "3  Bait applied 2009-11-10 14:56:42   (40.8313209626148, -73.861994089899)  \n",
       "4  Bait applied 2009-11-17 11:39:11  (40.7830590725833, -73.9805333640688)  "
      ]
     },
     "execution_count": 3,
     "metadata": {},
     "output_type": "execute_result"
    }
   ],
   "source": [
    "rodent_df.head()"
   ]
  },
  {
   "cell_type": "code",
   "execution_count": 4,
   "metadata": {},
   "outputs": [],
   "source": [
    "# Add a column providing wait time (i.e. the number of hours between inspection and approved date)\n",
    "rodent_df['wait_time'] = rodent_df.apply(lambda row: ((row['APPROVED_DATE'] - row['INSPECTION_DATE']).days * 24) + ((row['APPROVED_DATE'] - row['INSPECTION_DATE']).seconds / (60*60)), axis=1)"
   ]
  },
  {
   "cell_type": "code",
   "execution_count": 5,
   "metadata": {},
   "outputs": [],
   "source": [
    "# Add a column providing weekday name \n",
    "rodent_df['weekday_name'] = rodent_df.apply(lambda row: row['INSPECTION_DATE'].strftime(\"%A\"),axis=1)"
   ]
  },
  {
   "cell_type": "code",
   "execution_count": 6,
   "metadata": {},
   "outputs": [],
   "source": [
    "# Add a column providing ISO week number\n",
    "rodent_df['iso_week'] = rodent_df.apply(lambda row: row['INSPECTION_DATE'].isocalendar()[1],axis=1)"
   ]
  },
  {
   "cell_type": "code",
   "execution_count": 7,
   "metadata": {},
   "outputs": [],
   "source": [
    "# Add a column providing season; defined as: dec-feb, inclusive, is winter, mar-may is spring, jun-aug is summer, \n",
    "# sep-nov is fall)\n",
    "\n",
    "def determine_season(inspection_date):\n",
    "    if inspection_date.month in [12, 1, 2]:\n",
    "        season = \"winter\"\n",
    "    elif inspection_date.month in [3, 4, 5]:\n",
    "        season = \"spring\"\n",
    "    elif inspection_date.month in [6, 7, 8]:\n",
    "        season = \"summer\"\n",
    "    elif inspection_date.month in [9, 10, 11]:\n",
    "        season = \"fall\"\n",
    "    return season\n",
    "    \n",
    "rodent_df['season'] = rodent_df.apply(lambda row: determine_season(row['INSPECTION_DATE']),axis=1)"
   ]
  },
  {
   "cell_type": "code",
   "execution_count": 8,
   "metadata": {},
   "outputs": [
    {
     "data": {
      "text/html": [
       "<div>\n",
       "<style scoped>\n",
       "    .dataframe tbody tr th:only-of-type {\n",
       "        vertical-align: middle;\n",
       "    }\n",
       "\n",
       "    .dataframe tbody tr th {\n",
       "        vertical-align: top;\n",
       "    }\n",
       "\n",
       "    .dataframe thead th {\n",
       "        text-align: right;\n",
       "    }\n",
       "</style>\n",
       "<table border=\"1\" class=\"dataframe\">\n",
       "  <thead>\n",
       "    <tr style=\"text-align: right;\">\n",
       "      <th></th>\n",
       "      <th>INSPECTION_TYPE</th>\n",
       "      <th>JOB_TICKET_OR_WORK_ORDER_ID</th>\n",
       "      <th>JOB_ID</th>\n",
       "      <th>JOB_PROGRESS</th>\n",
       "      <th>BBL</th>\n",
       "      <th>BORO_CODE</th>\n",
       "      <th>BLOCK</th>\n",
       "      <th>LOT</th>\n",
       "      <th>HOUSE_NUMBER</th>\n",
       "      <th>STREET_NAME</th>\n",
       "      <th>...</th>\n",
       "      <th>LONGITUDE</th>\n",
       "      <th>BOROUGH</th>\n",
       "      <th>INSPECTION_DATE</th>\n",
       "      <th>RESULT</th>\n",
       "      <th>APPROVED_DATE</th>\n",
       "      <th>LOCATION</th>\n",
       "      <th>wait_time</th>\n",
       "      <th>weekday_name</th>\n",
       "      <th>iso_week</th>\n",
       "      <th>season</th>\n",
       "    </tr>\n",
       "  </thead>\n",
       "  <tbody>\n",
       "    <tr>\n",
       "      <th>0</th>\n",
       "      <td>BAIT</td>\n",
       "      <td>1</td>\n",
       "      <td>PO12965</td>\n",
       "      <td>3</td>\n",
       "      <td>1011470035</td>\n",
       "      <td>1</td>\n",
       "      <td>1147</td>\n",
       "      <td>35</td>\n",
       "      <td>104</td>\n",
       "      <td>WEST 76 STREET</td>\n",
       "      <td>...</td>\n",
       "      <td>-73.977414</td>\n",
       "      <td>Manhattan</td>\n",
       "      <td>2009-10-14 12:00:27</td>\n",
       "      <td>Bait applied</td>\n",
       "      <td>2009-10-14 15:01:46</td>\n",
       "      <td>(40.7802039792471, -73.9774144709456)</td>\n",
       "      <td>3.021944</td>\n",
       "      <td>Wednesday</td>\n",
       "      <td>42</td>\n",
       "      <td>fall</td>\n",
       "    </tr>\n",
       "    <tr>\n",
       "      <th>1</th>\n",
       "      <td>BAIT</td>\n",
       "      <td>2</td>\n",
       "      <td>PO12966</td>\n",
       "      <td>3</td>\n",
       "      <td>1011470034</td>\n",
       "      <td>1</td>\n",
       "      <td>1147</td>\n",
       "      <td>34</td>\n",
       "      <td>102</td>\n",
       "      <td>WEST 76 STREET</td>\n",
       "      <td>...</td>\n",
       "      <td>-73.977375</td>\n",
       "      <td>Manhattan</td>\n",
       "      <td>2009-10-14 12:51:21</td>\n",
       "      <td>Bait applied</td>\n",
       "      <td>2009-10-14 15:02:30</td>\n",
       "      <td>(40.7801875030438, -73.977374757787)</td>\n",
       "      <td>2.185833</td>\n",
       "      <td>Wednesday</td>\n",
       "      <td>42</td>\n",
       "      <td>fall</td>\n",
       "    </tr>\n",
       "    <tr>\n",
       "      <th>2</th>\n",
       "      <td>BAIT</td>\n",
       "      <td>30</td>\n",
       "      <td>PO16966</td>\n",
       "      <td>3</td>\n",
       "      <td>2043370027</td>\n",
       "      <td>2</td>\n",
       "      <td>4337</td>\n",
       "      <td>27</td>\n",
       "      <td>620</td>\n",
       "      <td>THWAITES PLACE</td>\n",
       "      <td>...</td>\n",
       "      <td>-73.870364</td>\n",
       "      <td>Bronx</td>\n",
       "      <td>2009-11-09 12:59:55</td>\n",
       "      <td>Bait applied</td>\n",
       "      <td>2009-11-10 14:54:52</td>\n",
       "      <td>(40.8588765781972, -73.8703636422023)</td>\n",
       "      <td>25.915833</td>\n",
       "      <td>Monday</td>\n",
       "      <td>46</td>\n",
       "      <td>fall</td>\n",
       "    </tr>\n",
       "    <tr>\n",
       "      <th>3</th>\n",
       "      <td>BAIT</td>\n",
       "      <td>31</td>\n",
       "      <td>PO13665</td>\n",
       "      <td>3</td>\n",
       "      <td>2037670077</td>\n",
       "      <td>2</td>\n",
       "      <td>3767</td>\n",
       "      <td>77</td>\n",
       "      <td>1227</td>\n",
       "      <td>WHITEPLAINS ROAD</td>\n",
       "      <td>...</td>\n",
       "      <td>-73.861994</td>\n",
       "      <td>Bronx</td>\n",
       "      <td>2009-11-09 11:10:16</td>\n",
       "      <td>Bait applied</td>\n",
       "      <td>2009-11-10 14:56:42</td>\n",
       "      <td>(40.8313209626148, -73.861994089899)</td>\n",
       "      <td>27.773889</td>\n",
       "      <td>Monday</td>\n",
       "      <td>46</td>\n",
       "      <td>fall</td>\n",
       "    </tr>\n",
       "    <tr>\n",
       "      <th>4</th>\n",
       "      <td>BAIT</td>\n",
       "      <td>38</td>\n",
       "      <td>PO11291</td>\n",
       "      <td>3</td>\n",
       "      <td>1011690057</td>\n",
       "      <td>1</td>\n",
       "      <td>1169</td>\n",
       "      <td>57</td>\n",
       "      <td>2199</td>\n",
       "      <td>BROADWAY</td>\n",
       "      <td>...</td>\n",
       "      <td>-73.980533</td>\n",
       "      <td>Manhattan</td>\n",
       "      <td>2009-11-10 08:40:42</td>\n",
       "      <td>Bait applied</td>\n",
       "      <td>2009-11-17 11:39:11</td>\n",
       "      <td>(40.7830590725833, -73.9805333640688)</td>\n",
       "      <td>170.974722</td>\n",
       "      <td>Tuesday</td>\n",
       "      <td>46</td>\n",
       "      <td>fall</td>\n",
       "    </tr>\n",
       "  </tbody>\n",
       "</table>\n",
       "<p>5 rows × 24 columns</p>\n",
       "</div>"
      ],
      "text/plain": [
       "  INSPECTION_TYPE  JOB_TICKET_OR_WORK_ORDER_ID   JOB_ID  JOB_PROGRESS  \\\n",
       "0            BAIT                            1  PO12965             3   \n",
       "1            BAIT                            2  PO12966             3   \n",
       "2            BAIT                           30  PO16966             3   \n",
       "3            BAIT                           31  PO13665             3   \n",
       "4            BAIT                           38  PO11291             3   \n",
       "\n",
       "          BBL  BORO_CODE  BLOCK  LOT HOUSE_NUMBER       STREET_NAME  ...    \\\n",
       "0  1011470035          1   1147   35          104    WEST 76 STREET  ...     \n",
       "1  1011470034          1   1147   34          102    WEST 76 STREET  ...     \n",
       "2  2043370027          2   4337   27          620    THWAITES PLACE  ...     \n",
       "3  2037670077          2   3767   77         1227  WHITEPLAINS ROAD  ...     \n",
       "4  1011690057          1   1169   57         2199          BROADWAY  ...     \n",
       "\n",
       "   LONGITUDE    BOROUGH     INSPECTION_DATE        RESULT       APPROVED_DATE  \\\n",
       "0 -73.977414  Manhattan 2009-10-14 12:00:27  Bait applied 2009-10-14 15:01:46   \n",
       "1 -73.977375  Manhattan 2009-10-14 12:51:21  Bait applied 2009-10-14 15:02:30   \n",
       "2 -73.870364      Bronx 2009-11-09 12:59:55  Bait applied 2009-11-10 14:54:52   \n",
       "3 -73.861994      Bronx 2009-11-09 11:10:16  Bait applied 2009-11-10 14:56:42   \n",
       "4 -73.980533  Manhattan 2009-11-10 08:40:42  Bait applied 2009-11-17 11:39:11   \n",
       "\n",
       "                                LOCATION   wait_time weekday_name iso_week  \\\n",
       "0  (40.7802039792471, -73.9774144709456)    3.021944    Wednesday       42   \n",
       "1   (40.7801875030438, -73.977374757787)    2.185833    Wednesday       42   \n",
       "2  (40.8588765781972, -73.8703636422023)   25.915833       Monday       46   \n",
       "3   (40.8313209626148, -73.861994089899)   27.773889       Monday       46   \n",
       "4  (40.7830590725833, -73.9805333640688)  170.974722      Tuesday       46   \n",
       "\n",
       "  season  \n",
       "0   fall  \n",
       "1   fall  \n",
       "2   fall  \n",
       "3   fall  \n",
       "4   fall  \n",
       "\n",
       "[5 rows x 24 columns]"
      ]
     },
     "execution_count": 8,
     "metadata": {},
     "output_type": "execute_result"
    }
   ],
   "source": [
    "rodent_df.head()"
   ]
  },
  {
   "cell_type": "code",
   "execution_count": 9,
   "metadata": {},
   "outputs": [],
   "source": [
    "# Subset the dataframe between the dates of 2010-01-01 and 2010-03-31 in order to be able to answer the following \n",
    "# three questions \n",
    "\n",
    "criteria = (rodent_df.INSPECTION_DATE >= \"2010-01-01\") & (rodent_df.INSPECTION_DATE <= \"2010-03-31\")\n",
    "\n",
    "rodent_df_subset = rodent_df.loc[criteria]"
   ]
  },
  {
   "cell_type": "code",
   "execution_count": 10,
   "metadata": {},
   "outputs": [
    {
     "name": "stdout",
     "output_type": "stream",
     "text": [
      "The daily average number of inspections = 1.0109824873849806\n"
     ]
    }
   ],
   "source": [
    "# between the dates of 2010-01-01 and 2010-03-31, what was the daily average number of inspections?\n",
    "\n",
    "daily_inspections = rodent_df_subset['INSPECTION_DATE'].value_counts()\n",
    "print(f\"The daily average number of inspections = {daily_inspections.mean()}\")"
   ]
  },
  {
   "cell_type": "code",
   "execution_count": 11,
   "metadata": {},
   "outputs": [
    {
     "name": "stdout",
     "output_type": "stream",
     "text": [
      "Tuesday      795\n",
      "Thursday     739\n",
      "Friday       671\n",
      "Monday       658\n",
      "Wednesday    542\n",
      "Sunday         1\n",
      "Name: weekday_name, dtype: int64\n",
      "The weekday with the greatest number of inspections = Tuesday\n"
     ]
    }
   ],
   "source": [
    "# between the dates of 2010-01-01 and 2010-03-31, which weekday had the greatest number of inspections?\n",
    "\n",
    "inspections_per_weekday = rodent_df_subset['weekday_name'].value_counts()\n",
    "print(inspections_per_weekday)\n",
    "print(f\"The weekday with the greatest number of inspections = {inspections_per_weekday.idxmax()}\")"
   ]
  },
  {
   "cell_type": "code",
   "execution_count": 12,
   "metadata": {},
   "outputs": [
    {
     "name": "stdout",
     "output_type": "stream",
     "text": [
      "The weekday with the least number of inspections = Sunday\n"
     ]
    }
   ],
   "source": [
    "# between the dates of 2010-01-01 and 2010-03-31, which weekday had the least number of inspections?\n",
    "\n",
    "print(f\"The weekday with the least number of inspections = {inspections_per_weekday.idxmin()}\")"
   ]
  },
  {
   "cell_type": "code",
   "execution_count": 13,
   "metadata": {},
   "outputs": [
    {
     "name": "stdout",
     "output_type": "stream",
     "text": [
      "weekday_name\n",
      "Friday       102.970981\n",
      "Monday        38.333509\n",
      "Sunday        98.312500\n",
      "Thursday      58.853018\n",
      "Tuesday       42.990648\n",
      "Wednesday     59.829062\n",
      "Name: wait_time, dtype: float64\n",
      "The weekday with the longest average wait time for approval in winter = Friday\n"
     ]
    }
   ],
   "source": [
    "# create winter data subset to answer the below question\n",
    "\n",
    "winter_criteria = (rodent_df.season == \"winter\")\n",
    "rodent_df_winter = rodent_df.loc[winter_criteria]\n",
    "\n",
    "# which weekday has the longest average wait time for approval in the winter?\n",
    "\n",
    "winter_average_wait_time = rodent_df_winter.groupby('weekday_name')['wait_time'].mean()\n",
    "print(winter_average_wait_time)\n",
    "print(f\"The weekday with the longest average wait time for approval in winter = {winter_average_wait_time.idxmax()}\")"
   ]
  },
  {
   "cell_type": "code",
   "execution_count": 14,
   "metadata": {},
   "outputs": [
    {
     "name": "stdout",
     "output_type": "stream",
     "text": [
      "weekday_name\n",
      "Friday       97.479622\n",
      "Monday       24.875926\n",
      "Saturday     85.458623\n",
      "Sunday       37.510391\n",
      "Thursday     69.628545\n",
      "Tuesday      46.619051\n",
      "Wednesday    40.166068\n",
      "Name: wait_time, dtype: float64\n",
      "The weekday with the longest average wait time for approval in summer = Friday\n"
     ]
    }
   ],
   "source": [
    "# create summer data subset to answer the below question\n",
    "\n",
    "summer_criteria = (rodent_df.season == \"summer\")\n",
    "rodent_df_summer = rodent_df.loc[summer_criteria]\n",
    "\n",
    "# which weekday has the longest average wait time for approval in the summer?\n",
    "\n",
    "summer_average_wait_time = rodent_df_summer.groupby('weekday_name')['wait_time'].mean()\n",
    "print(summer_average_wait_time)\n",
    "print(f\"The weekday with the longest average wait time for approval in summer = {summer_average_wait_time.idxmax()}\")"
   ]
  },
  {
   "cell_type": "code",
   "execution_count": 15,
   "metadata": {},
   "outputs": [
    {
     "name": "stdout",
     "output_type": "stream",
     "text": [
      "spring    5536\n",
      "summer    2500\n",
      "winter    1915\n",
      "fall        48\n",
      "Name: season, dtype: int64\n",
      "The season with the greatest number of inspections = spring\n"
     ]
    }
   ],
   "source": [
    "# which season has the greatest number of inspections?\n",
    "\n",
    "seasonal_inspections = rodent_df['season'].value_counts()\n",
    "print(seasonal_inspections)\n",
    "print(f\"The season with the greatest number of inspections = {seasonal_inspections.idxmax()}\")"
   ]
  },
  {
   "cell_type": "code",
   "execution_count": 16,
   "metadata": {},
   "outputs": [
    {
     "name": "stdout",
     "output_type": "stream",
     "text": [
      "season\n",
      "fall      12\n",
      "spring    65\n",
      "summer    39\n",
      "winter    57\n",
      "Name: inspection_date_only, dtype: int64\n",
      "The season with the greatest number of distinct dates = spring\n"
     ]
    }
   ],
   "source": [
    "# which season has the greatest number of distinct dates ...\n",
    "\n",
    "# a) in the data set?\n",
    "\n",
    "# create new column with inspection date separated from time \n",
    "\n",
    "rodent_df['inspection_date_only'] = rodent_df.apply(lambda row: row['INSPECTION_DATE'].date(),axis=1)\n",
    "\n",
    "number_dates_per_season = rodent_df.groupby('season')['inspection_date_only'].nunique()\n",
    "print(number_dates_per_season)\n",
    "print(f\"The season with the greatest number of distinct dates = {number_dates_per_season.idxmax()}\")"
   ]
  },
  {
   "cell_type": "code",
   "execution_count": 17,
   "metadata": {},
   "outputs": [
    {
     "name": "stdout",
     "output_type": "stream",
     "text": [
      "season\n",
      "fall      239\n",
      "spring    276\n",
      "summer    276\n",
      "winter    224\n",
      "Name: calendar_date, dtype: int64\n",
      "The seasons with the greatest number of distinct dates = ['spring', 'summer']\n"
     ]
    }
   ],
   "source": [
    "# b) in the calendar?\n",
    "\n",
    "# I'm assuming that this means the number of distinct calendar dates between the minimum and maximum dates in the \n",
    "# dataset? If so, this is my answer...\n",
    "\n",
    "calendar_df = pd.date_range(start=rodent_df['inspection_date_only'].min(), end=rodent_df['inspection_date_only'].max())\n",
    "calendar_df = calendar_df.to_frame(index=False)\n",
    "calendar_df.columns = ['calendar_date']\n",
    "calendar_df['season'] = calendar_df.apply(lambda row: determine_season(row['calendar_date']),axis=1)\n",
    "calendar_dates_per_season = calendar_df.groupby('season')['calendar_date'].nunique()\n",
    "print(calendar_dates_per_season)\n",
    "print(f\"The seasons with the greatest number of distinct dates = {calendar_dates_per_season.index[calendar_dates_per_season == calendar_dates_per_season.max()].tolist()}\")\n"
   ]
  },
  {
   "cell_type": "code",
   "execution_count": 18,
   "metadata": {},
   "outputs": [
    {
     "name": "stdout",
     "output_type": "stream",
     "text": [
      "The borough that has the greatest difference in the number of inspections in the spring vs. in the fall = Bronx\n"
     ]
    }
   ],
   "source": [
    "# which borough has the greatest difference in the number of inspections in the spring vs in the fall?\n",
    "\n",
    "# subset the dataframe to only include spring or fall \n",
    "spring_criteria = (rodent_df.season == \"spring\") \n",
    "fall_criteria = (rodent_df.season == \"fall\")\n",
    "rodent_df_spring = rodent_df.loc[spring_criteria]\n",
    "rodent_df_fall = rodent_df.loc[fall_criteria]\n",
    "\n",
    "spring_inspections_per_borough = rodent_df_spring.groupby('BOROUGH')['inspection_date_only'].count().to_frame()\n",
    "spring_inspections_per_borough.columns = ['number_of_spring_inspections']\n",
    "fall_inspections_per_borough = rodent_df_fall.groupby('BOROUGH')['inspection_date_only'].count().to_frame()\n",
    "fall_inspections_per_borough.columns = ['number_of_fall_inspections']\n",
    "\n",
    "# merge the dataframes on index\n",
    "spring_and_fall_inspections_df = spring_inspections_per_borough.join(fall_inspections_per_borough, how='outer')\n",
    "spring_and_fall_inspections_df = spring_and_fall_inspections_df.fillna(0)\n",
    "\n",
    "# calculate the difference \n",
    "spring_and_fall_inspections_df['difference_between_spring_and_fall'] = spring_and_fall_inspections_df['number_of_spring_inspections'] - spring_and_fall_inspections_df['number_of_fall_inspections']\n",
    "print(f\"The borough that has the greatest difference in the number of inspections in the spring vs. in the fall = {spring_and_fall_inspections_df['difference_between_spring_and_fall'].idxmax()}\")"
   ]
  },
  {
   "cell_type": "code",
   "execution_count": 19,
   "metadata": {},
   "outputs": [
    {
     "data": {
      "text/plain": [
       "23    601\n",
       "12    587\n",
       "17    541\n",
       "15    535\n",
       "16    501\n",
       "14    497\n",
       "24    471\n",
       "25    466\n",
       "9     444\n",
       "18    433\n",
       "13    404\n",
       "19    392\n",
       "8     365\n",
       "20    345\n",
       "22    344\n",
       "21    339\n",
       "10    313\n",
       "5     264\n",
       "2     212\n",
       "1     209\n",
       "27    207\n",
       "28    207\n",
       "7     206\n",
       "11    205\n",
       "4     203\n",
       "26    202\n",
       "3     160\n",
       "51    102\n",
       "6      93\n",
       "50     41\n",
       "53     33\n",
       "47     20\n",
       "49     17\n",
       "52     17\n",
       "48     13\n",
       "46      5\n",
       "42      2\n",
       "30      2\n",
       "43      1\n",
       "Name: iso_week, dtype: int64"
      ]
     },
     "execution_count": 19,
     "metadata": {},
     "output_type": "execute_result"
    }
   ],
   "source": [
    "# count the number of inspections per iso-week\n",
    "\n",
    "iso_week_inspections = rodent_df['iso_week'].value_counts()\n",
    "iso_week_inspections"
   ]
  },
  {
   "cell_type": "code",
   "execution_count": 20,
   "metadata": {},
   "outputs": [
    {
     "name": "stdout",
     "output_type": "stream",
     "text": [
      "The iso week with the greatest number of inspections = 23\n"
     ]
    }
   ],
   "source": [
    "# find the week with the greatest number of inspections\n",
    "\n",
    "print(f\"The iso week with the greatest number of inspections = {iso_week_inspections.idxmax()}\")"
   ]
  },
  {
   "cell_type": "code",
   "execution_count": 21,
   "metadata": {},
   "outputs": [
    {
     "data": {
      "text/plain": [
       "weekday_name\n",
       "Friday        55\n",
       "Monday        82\n",
       "Saturday     117\n",
       "Sunday       103\n",
       "Thursday      65\n",
       "Tuesday      104\n",
       "Wednesday     75\n",
       "Name: JOB_TICKET_OR_WORK_ORDER_ID, dtype: int64"
      ]
     },
     "execution_count": 21,
     "metadata": {},
     "output_type": "execute_result"
    }
   ],
   "source": [
    "# for that week, and that week only, count the inspections by day-of-week\n",
    "\n",
    "# subset the dataframe to the iso week with the highest number of inspections\n",
    "iso_week_criteria = (rodent_df.iso_week == iso_week_inspections.idxmax()) \n",
    "iso_week_subset = rodent_df.loc[iso_week_criteria]\n",
    "\n",
    "# show the number of inspections per day of the week\n",
    "inspections_per_day_of_week = iso_week_subset.groupby('weekday_name')['JOB_TICKET_OR_WORK_ORDER_ID'].count()\n",
    "inspections_per_day_of_week"
   ]
  },
  {
   "cell_type": "code",
   "execution_count": null,
   "metadata": {},
   "outputs": [],
   "source": []
  }
 ],
 "metadata": {
  "kernelspec": {
   "display_name": "python_exercises-O_QUHeVL",
   "language": "python",
   "name": "python_exercises-o_quhevl"
  },
  "language_info": {
   "codemirror_mode": {
    "name": "ipython",
    "version": 3
   },
   "file_extension": ".py",
   "mimetype": "text/x-python",
   "name": "python",
   "nbconvert_exporter": "python",
   "pygments_lexer": "ipython3",
   "version": "3.7.0"
  }
 },
 "nbformat": 4,
 "nbformat_minor": 2
}
