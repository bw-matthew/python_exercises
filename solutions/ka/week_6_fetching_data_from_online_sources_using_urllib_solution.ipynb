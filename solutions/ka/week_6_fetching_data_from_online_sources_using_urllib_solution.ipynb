{
 "cells": [
  {
   "cell_type": "markdown",
   "metadata": {},
   "source": [
    "# 06 - fetching data from online sources using urllib"
   ]
  },
  {
   "cell_type": "markdown",
   "metadata": {},
   "source": [
    "# this week's exercise:\n",
    "read the argos. or, since that is very boring, write a function in python to read the argus for you. the function should be called `fetch_argus_headlines(date)`. this function should:\n",
    "- accept as its sole input argument a date string (you know how to format it now!).\n",
    "- verify that the input date is in the past (but not too far in the past, the argus archive is limited).\n",
    "- if so, fetch all the argus headlines from that date.\n",
    "- return a list of strings\n",
    "\n",
    "## bonus:\n",
    "write another function `fetch_argus_article_links(date)` which, instead of the headlines, fetches and return a list of links to that day's articles."
   ]
  },
  {
   "cell_type": "code",
   "execution_count": 13,
   "metadata": {},
   "outputs": [],
   "source": [
    "import requests \n",
    "import datetime\n",
    "from bs4 import BeautifulSoup"
   ]
  },
  {
   "cell_type": "code",
   "execution_count": 116,
   "metadata": {},
   "outputs": [],
   "source": [
    "def fetch_argus_headlines(date):\n",
    "    \n",
    "    # validate that the date is in the required format (YYYY-MM-DD)\n",
    "    try:\n",
    "        d = datetime.datetime.strptime(date, '%Y-%m-%d')\n",
    "    except ValueError:\n",
    "        print(\"Incorrect date format, should be YYYY-MM-DD\")\n",
    "    \n",
    "    # check that the date is within the past 5 years (chose 5 years as an arbitrary number and) extract headlines\n",
    "    todays_date = datetime.datetime.today()\n",
    "    five_years_ago = todays_date - datetime.timedelta(days=(5*365))\n",
    "    if five_years_ago <= d <= todays_date:\n",
    "        page = requests.get(f'https://www.theargus.co.uk/archive/{d.year}/{d.month}/{d.day}/')\n",
    "        parsed_tree = BeautifulSoup(page.text, 'html.parser')\n",
    "        article_list = parsed_tree.find(class_='archive-list')\n",
    "        headlines = article_list.find_all('h3')\n",
    "        headlines_list = [headline.contents[0] for headline in headlines]\n",
    "    else:\n",
    "        headlines_list = \"Please choose a date within the last five years\"\n",
    "        \n",
    "    return headlines_list"
   ]
  },
  {
   "cell_type": "code",
   "execution_count": 118,
   "metadata": {},
   "outputs": [
    {
     "data": {
      "text/plain": [
       "['Rob Cross wins World Championship final as he pulls plug on The Power',\n",
       " 'Albion v Bournemouth Analysis: Defending from corners a mounting concern',\n",
       " 'Murray praises Albion performance - but rues set-piece goals',\n",
       " 'Albion v Bournemouth: Two points dropped says Hughton',\n",
       " 'Seagulls twice pegged back. See how Albion drew 2-2 with Bournemouth at the Amex today',\n",
       " 'Duffy backs promoted trio to stay up',\n",
       " 'Armed police called to man with knife in Seaford',\n",
       " \"Albion's central defensive duo Lewis Dunk and Shane Duffy urged to add goals to their game\",\n",
       " \"Distressed woman rescued from water's edge in Shoreham\",\n",
       " 'Business is booming as Albion cash flows into the city',\n",
       " 'Chris Hughton says keeping Albion in Premier would be as big an achievement as getting them there',\n",
       " 'Meet the man who could be youngest council member',\n",
       " 'New search for kinder treatments for cancer',\n",
       " 'Five generations celebrate former mayor’s 100th',\n",
       " 'Marshall-Tufflex’s £54k charity total',\n",
       " '‘Treatment gave me my life back’',\n",
       " 'Support adults with disabilities',\n",
       " 'City start-up’s new video VR release',\n",
       " 'Gatwick’s new link with the Far East',\n",
       " 'Shooting team ready to compete on world stage',\n",
       " '£10k business support on offer',\n",
       " 'App proves a top hit with mums and babies',\n",
       " 'App is a Barclays winning genius',\n",
       " 'Hospital leads major survey into artificial eyes',\n",
       " 'New hotel is coming to Lancing',\n",
       " 'Please help me force Government’s hand over road changes',\n",
       " 'Eileen Inkpen']"
      ]
     },
     "execution_count": 118,
     "metadata": {},
     "output_type": "execute_result"
    }
   ],
   "source": [
    "fetch_argus_headlines(\"2018-01-01\")"
   ]
  },
  {
   "cell_type": "code",
   "execution_count": 135,
   "metadata": {},
   "outputs": [],
   "source": [
    "def fetch_argus_article_links(date):\n",
    "    \n",
    "    # validate that the date is in the required format (YYYY-MM-DD)\n",
    "    try:\n",
    "        d = datetime.datetime.strptime(date, '%Y-%m-%d')\n",
    "    except ValueError:\n",
    "        print(\"Incorrect date format, should be YYYY-MM-DD\")\n",
    "    \n",
    "    # check that the date is within the past 5 years (chose 5 years as an arbitrary number) and extract links\n",
    "    todays_date = datetime.datetime.today()\n",
    "    five_years_ago = todays_date - datetime.timedelta(days=(5*365))\n",
    "    if five_years_ago <= d <= todays_date:\n",
    "        page = requests.get(f'https://www.theargus.co.uk/archive/{d.year}/{d.month}/{d.day}/')\n",
    "        parsed_tree = BeautifulSoup(page.text, 'html.parser')\n",
    "        article_list = parsed_tree.find(class_='archive-list')\n",
    "        links = article_list.find_all('a')\n",
    "        links_list = [link['href'] for link in links]\n",
    "        links_list = list(set(links_list)) # removes duplicates \n",
    "        links_list = ['https://www.theargus.co.uk' + link for link in links_list] # create the full link\n",
    "    else:\n",
    "        links_list = \"Please choose a date within the last five years\"\n",
    "        \n",
    "    return links_list"
   ]
  },
  {
   "cell_type": "code",
   "execution_count": 136,
   "metadata": {},
   "outputs": [
    {
     "data": {
      "text/plain": [
       "['https://www.theargus.co.uk/news/15801209.Duffy_backs_promoted_trio_to_stay_up/?ref=arc',\n",
       " 'https://www.theargus.co.uk/news/15801146.Armed_police_called_to_man_with_knife_in_Seaford/?ref=arc',\n",
       " 'https://www.theargus.co.uk/news/15800983.Eileen_Inkpen/?ref=arc',\n",
       " 'https://www.theargus.co.uk/news/15800895.Please_help_me_force_Government___s_hand_over_road_changes/?ref=arc',\n",
       " 'https://www.theargus.co.uk/news/15801217.Seagulls_twice_pegged_back__See_how_Albion_drew_2-2_with_Bournemouth_at_the_Amex_today/?ref=arc',\n",
       " 'https://www.theargus.co.uk/news/15800709.New_search_for_kinder_treatments_for_cancer/?ref=arc',\n",
       " 'https://www.theargus.co.uk/news/15800646.Shooting_team_ready_to_compete_on_world_stage/?ref=arc',\n",
       " 'https://www.theargus.co.uk/news/15800887.Gatwick___s_new_link_with_the_Far_East/?ref=arc',\n",
       " 'https://www.theargus.co.uk/news/15800688.App_proves_a_top_hit_with_mums_and_babies/?ref=arc',\n",
       " 'https://www.theargus.co.uk/news/15801099.Business_is_booming_as_Albion_cash_flows_into_the_city/?ref=arc',\n",
       " 'https://www.theargus.co.uk/news/15801481.Murray_praises_Albion_performance_-_but_rues_set-piece_goals/?ref=arc',\n",
       " 'https://www.theargus.co.uk/news/15800888.City_start-up___s_new_video_VR_release/?ref=arc',\n",
       " 'https://www.theargus.co.uk/news/15801641.Albion_v_Bournemouth_Analysis__Defending_from_corners_a_mounting_concern/?ref=arc',\n",
       " 'https://www.theargus.co.uk/news/15800602.Marshall-Tufflex___s___54k_charity_total/?ref=arc',\n",
       " 'https://www.theargus.co.uk/news/15800889.Support_adults_with_disabilities/?ref=arc',\n",
       " 'https://www.theargus.co.uk/news/15800674.Hospital_leads_major_survey_into_artificial_eyes/?ref=arc',\n",
       " 'https://www.theargus.co.uk/news/15800621.New_hotel_is_coming_to_Lancing/?ref=arc',\n",
       " 'https://www.theargus.co.uk/news/15800892.Meet_the_man_who_could_be_youngest_council_member/?ref=arc',\n",
       " 'https://www.theargus.co.uk/news/15800708.Five_generations_celebrate_former_mayor___s_100th/?ref=arc',\n",
       " 'https://www.theargus.co.uk/news/15801126.Distressed_woman_rescued_from_water_s_edge_in_Shoreham/?ref=arc',\n",
       " 'https://www.theargus.co.uk/news/15800580.App_is_a_Barclays_winning_genius/?ref=arc',\n",
       " 'https://www.theargus.co.uk/news/15800706.___Treatment_gave_me_my_life_back___/?ref=arc',\n",
       " 'https://www.theargus.co.uk/news/15801711.Rob_Cross_wins_World_Championship_final_as_he_pulls_plug_on_The_Power/?ref=arc',\n",
       " 'https://www.theargus.co.uk/news/15801471.Albion_v_Bournemouth__Two_points_dropped_says_Hughton/?ref=arc',\n",
       " 'https://www.theargus.co.uk/news/15800886.Albion_s_central_defensive_duo_Lewis_Dunk_and_Shane_Duffy_urged_to_add_goals_to_their_game/?ref=arc',\n",
       " 'https://www.theargus.co.uk/news/15800891.Chris_Hughton_says_keeping_Albion_in_Premier_would_be_as_big_an_achievement_as_getting_them_there/?ref=arc',\n",
       " 'https://www.theargus.co.uk/news/15800581.__10k_business_support_on_offer/?ref=arc']"
      ]
     },
     "execution_count": 136,
     "metadata": {},
     "output_type": "execute_result"
    }
   ],
   "source": [
    "fetch_argus_article_links(\"2018-01-01\")"
   ]
  },
  {
   "cell_type": "code",
   "execution_count": null,
   "metadata": {},
   "outputs": [],
   "source": []
  }
 ],
 "metadata": {
  "kernelspec": {
   "display_name": "python_exercises-O_QUHeVL",
   "language": "python",
   "name": "python_exercises-o_quhevl"
  },
  "language_info": {
   "codemirror_mode": {
    "name": "ipython",
    "version": 3
   },
   "file_extension": ".py",
   "mimetype": "text/x-python",
   "name": "python",
   "nbconvert_exporter": "python",
   "pygments_lexer": "ipython3",
   "version": "3.7.0"
  }
 },
 "nbformat": 4,
 "nbformat_minor": 2
}
