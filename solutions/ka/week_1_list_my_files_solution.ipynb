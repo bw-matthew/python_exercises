{
 "cells": [
  {
   "cell_type": "markdown",
   "metadata": {},
   "source": [
    "# 01 - interacting with the file system"
   ]
  },
  {
   "cell_type": "markdown",
   "metadata": {},
   "source": [
    "# problem statement\n",
    "we'll start by describing the problem we want to solve. if you already know all you need to solve it, you can skip the rest of this session! \n",
    "\n",
    "imagine you found a nice dataset you need to analyse, but instead of consisting of a single file or a set of conveniently named files sitting together in a directory the files are scattered about in folders, sub folders, and sub-sub folders. there are tens, or hundreds of them. also, not all of the files are data files, some of them are documentation files. \n",
    "\n",
    "you just want a list of the data files so you can iterate over it and process  them all in some way. so you now need to create a python function that takes a path to a root directory as its arguement, and then will traverse the  folder tree structure and collect all the files therein that have a given filename extension and returns a list of the files found (path + filename) \n",
    "\n",
    "## bonus: \n",
    "filter the data files (assumed to have `.dat` filename ending) and return the list, ordered by **decreasing file size**."
   ]
  },
  {
   "cell_type": "code",
   "execution_count": 1,
   "metadata": {},
   "outputs": [],
   "source": [
    "import os\n",
    "import operator"
   ]
  },
  {
   "cell_type": "markdown",
   "metadata": {},
   "source": [
    "## solution - list all files with given filename ending, ordered by decreasing file size"
   ]
  },
  {
   "cell_type": "code",
   "execution_count": 2,
   "metadata": {},
   "outputs": [],
   "source": [
    "# set the root directory \n",
    "start_here = '/Users/katiea/git/python_workshop/python_exercises/exercises/01 intro and setup'"
   ]
  },
  {
   "cell_type": "code",
   "execution_count": 3,
   "metadata": {},
   "outputs": [],
   "source": [
    "# provide filename ending\n",
    "filename_ending = '.dat'"
   ]
  },
  {
   "cell_type": "code",
   "execution_count": 4,
   "metadata": {},
   "outputs": [],
   "source": [
    "# function that takes a list of files, retrieves the filesize, sorts the list of files in decreasing order of size\n",
    "# and returns the sorted list \n",
    "\n",
    "def getKey(item):\n",
    "    return item[1]\n",
    "\n",
    "def order_files_by_size(list_of_files):\n",
    "    list_of_files_and_size = []\n",
    "    for f in list_of_files:\n",
    "        file_size_tuple = (f, os.path.getsize(f))\n",
    "        list_of_files_and_size.append(file_size_tuple)\n",
    "    sorted_list_of_files = sorted(list_of_files_and_size, key=getKey, reverse=True)\n",
    "    return sorted_list_of_files"
   ]
  },
  {
   "cell_type": "code",
   "execution_count": 5,
   "metadata": {},
   "outputs": [],
   "source": [
    "# function that takes a root directory and file extension, traverses the root directory, retrieves all files in\n",
    "# the root directory and sub-directories that end with the specified file extension, and then uses the above function\n",
    "# to order them according to filesize\n",
    "\n",
    "def retrieve_list_of_files(root_directory, file_extension):\n",
    "    list_of_files = []\n",
    "    for current_dir, directories, files in os.walk(root_directory):\n",
    "        for file in files:\n",
    "            if file.endswith(file_extension):\n",
    "                list_of_files.append(os.path.join(current_dir, file))\n",
    "    ordered_list_of_files = order_files_by_size(list_of_files)\n",
    "    return ordered_list_of_files"
   ]
  },
  {
   "cell_type": "code",
   "execution_count": 6,
   "metadata": {},
   "outputs": [
    {
     "data": {
      "text/plain": [
       "[('/Users/katiea/git/python_workshop/python_exercises/exercises/01 intro and setup/exciting_data/sub_2/subsub_3/thisisenough/file7.dat',\n",
       "  130),\n",
       " ('/Users/katiea/git/python_workshop/python_exercises/exercises/01 intro and setup/exciting_data/sub_1/file3.dat',\n",
       "  65),\n",
       " ('/Users/katiea/git/python_workshop/python_exercises/exercises/01 intro and setup/exciting_data/sub_3/file5.dat',\n",
       "  26),\n",
       " ('/Users/katiea/git/python_workshop/python_exercises/exercises/01 intro and setup/exciting_data/file2.dat',\n",
       "  13),\n",
       " ('/Users/katiea/git/python_workshop/python_exercises/exercises/01 intro and setup/exciting_data/sub_2/file4.dat',\n",
       "  13),\n",
       " ('/Users/katiea/git/python_workshop/python_exercises/exercises/01 intro and setup/exciting_data/sub_2/subsub_1/file6.dat',\n",
       "  13),\n",
       " ('/Users/katiea/git/python_workshop/python_exercises/exercises/01 intro and setup/exciting_data/file1.dat',\n",
       "  12)]"
      ]
     },
     "execution_count": 6,
     "metadata": {},
     "output_type": "execute_result"
    }
   ],
   "source": [
    "# Ta-da!\n",
    "retrieve_list_of_files(start_here, filename_ending)"
   ]
  },
  {
   "cell_type": "code",
   "execution_count": null,
   "metadata": {},
   "outputs": [],
   "source": []
  }
 ],
 "metadata": {
  "kernelspec": {
   "display_name": "Python 3",
   "language": "python",
   "name": "python3"
  },
  "language_info": {
   "codemirror_mode": {
    "name": "ipython",
    "version": 3
   },
   "file_extension": ".py",
   "mimetype": "text/x-python",
   "name": "python",
   "nbconvert_exporter": "python",
   "pygments_lexer": "ipython3",
   "version": "3.7.0"
  }
 },
 "nbformat": 4,
 "nbformat_minor": 2
}
