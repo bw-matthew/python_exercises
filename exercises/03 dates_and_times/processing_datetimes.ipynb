{
 "cells": [
  {
   "cell_type": "markdown",
   "metadata": {},
   "source": [
    "# the `datetime` module"
   ]
  },
  {
   "cell_type": "markdown",
   "metadata": {},
   "source": [
    "*time is weird*. \n",
    "\n",
    "we frequently work with dates and timestamps, and it often gets tricky. there are countless issues that can crop up due to differing time formats, calendars, time zones. the every day definitions of the various time measures we use hide obscure complexity. thus, time intervals and date arithmetics are not trivial to compute from first principles. consider for instance:\n",
    "\n",
    "- years differ in length, a year is not even an integer number of days long. \n",
    "- a calendar year is not an even number of weeks.\n",
    "- the months, and the (financial) quarters in a year are not all equally long. and not an integer multiple of weeks.\n",
    "- fiscal years differ from calendar years (and are location specific!)\n",
    "- we might plausibly need to count events during a time period in number of working days (excluding weekends and holidays from the count). \n",
    "- given a datestamp, how you can find out what week number does that time stamp take place in? to calculate this from first principles we'd need to to know \n",
    "    + what weekday is the first day of the week? (convention varies by location and industry, typically either  sunday or monday)\n",
    "    + was it in a leap year? february's extra day shifts the \n",
    "    + what timezone was the timestamp recorded and in which timezone are we counting the weeks? (imagine we are aggregating by week as observed in UTC and the time stamp above was recorded in china standard time, many hours ahead. then the timestamp might actually belong to the \"next week\".)\n",
    "- what date is 01/02/03? or 08/09/06 (this is a maddeningly common date format.)\n",
    "- DO NOT get me started on daylight savings time... \n",
    "\n",
    "there are two aspects at play here. the first is date and time formating , and the second is date and time arithmetic. the latter is impossible without the former.\n",
    "\n",
    "luckily python has modules that help us deal with these formats and calculations. we just need to learn to use them. here we will demonstrate the use of the `datetime` module.\n",
    "\n",
    "### a suggestion:\n",
    "i suggest that whenever and whereever you need to display a date, no matter what the context is, use the [iso format designed to minimize misunderstanding and confusion](https://www.iso.org/iso-8601-date-and-time-format.html): *YYYY-MM-DD*. \n",
    "\n",
    "this is the internationally recognized standard date format (and therefore the best format, bar none) whose adoption will reduce confusion and errors. use it. design dates fields in forms this way. date your notes this way. set your computer's localisation format to this. expect dates in this format by default. python will assume dates are in this format by default.\n",
    "\n",
    "#### extra credit:\n",
    "shame those who won't use this format, for their only defense is bigotry which favours their own familiarity over universal clarity and which hides a callous indifference to the manifold unforeseeable errors caused by date confusion."
   ]
  },
  {
   "cell_type": "markdown",
   "metadata": {},
   "source": [
    "# this week's exercise:\n",
    "read in the new york rodent inspection data from last week. parse the date format of the two columns containing datetime information ('INSPECTION_DATE' and 'APPROVED_DATE'). hint: new york is in the united states. then, for each record (row), populate four new columns: \n",
    "- one containing the weekday name when the inspection took place (monday, tuesday, wednesday,...). \n",
    "- one containing the name of the month the inspection took place in.\n",
    "- one containing the [iso-week](https://en.wikipedia.org/wiki/ISO_week_date) in which the inspection took place. \n",
    "- one column containing how long did it take for an inspection to be approved (in appropriate time units).\n",
    "\n",
    "## heads up:\n",
    "next week, we will consider (and possibly answer!) questions such as: \n",
    "- which weekday has the longest average wait time for approval in the winter? (let's define the seasons as: (dec-feb is winter, mar-may is spring, jun-aug is summer, sep-nov is fall).\n",
    "- which weekday has the longest average wait time for approval in the summer?\n",
    "- which season has the greatest number of inspections? \n",
    "- which season has the greatest number of distinct dates ...\n",
    "    + a) in the data set\n",
    "    + b) in the calendar? \n",
    "- which borough has the greatest difference in the number of inspections in the spring vs in the fall?\n",
    "- count the number of inspections per [iso-week](https://en.wikipedia.org/wiki/ISO_week_date). find the week with the greatest number of inspections. for that week, and that week only, count the inspections by day-of-week."
   ]
  },
  {
   "cell_type": "code",
   "execution_count": 1,
   "metadata": {},
   "outputs": [],
   "source": [
    "import datetime"
   ]
  },
  {
   "cell_type": "code",
   "execution_count": 2,
   "metadata": {},
   "outputs": [
    {
     "name": "stdout",
     "output_type": "stream",
     "text": [
      "a date time: 2001-03-16 00:00:00\n",
      "or just a date: 2001-03-16\n"
     ]
    }
   ],
   "source": [
    "a_datetime = datetime.datetime(2001, 3, 16)\n",
    "print('a date time:', a_datetime)\n",
    "print('or just a date:', a_datetime.date())"
   ]
  },
  {
   "cell_type": "code",
   "execution_count": 3,
   "metadata": {},
   "outputs": [
    {
     "name": "stdout",
     "output_type": "stream",
     "text": [
      "<class 'datetime.datetime'>\n",
      "2018-10-03 18:19:17.164949\n"
     ]
    }
   ],
   "source": [
    "# let us start with taking the current moment as the first datetime object\n",
    "a_datetime = datetime.datetime.now()\n",
    "print(type(a_datetime))\n",
    "print(a_datetime)"
   ]
  },
  {
   "cell_type": "code",
   "execution_count": 4,
   "metadata": {},
   "outputs": [
    {
     "name": "stdout",
     "output_type": "stream",
     "text": [
      "the current year 2018\n",
      "the current month 10\n",
      "the current day 3\n",
      "the current hour 18\n",
      "the current minute 19\n",
      "the current second 17\n",
      "the current microsecond 170372\n",
      "the current weekday number 2\n"
     ]
    }
   ],
   "source": [
    "a_datetime = datetime.datetime.now()\n",
    "# we can access the individual elements of a datetime object:\n",
    "print('the current year',           a_datetime.year)\n",
    "print('the current month',          a_datetime.month)\n",
    "print('the current day',            a_datetime.day)\n",
    "print('the current hour',           a_datetime.hour)\n",
    "print('the current minute',         a_datetime.minute)\n",
    "print('the current second',         a_datetime.second)\n",
    "print('the current microsecond',    a_datetime.microsecond)\n",
    "print('the current weekday number', a_datetime.weekday())"
   ]
  },
  {
   "cell_type": "code",
   "execution_count": 57,
   "metadata": {},
   "outputs": [
    {
     "name": "stdout",
     "output_type": "stream",
     "text": [
      "the date is: 2018-10-03\n",
      "the year is: 2018\n",
      "the month is: 10\n",
      "the day-of-month is: 3\n",
      "the day-of-week is: 2\n",
      "the iso-weekday is: 3\n",
      "the iso year: 2018 , isoweek: 40 , and isoweekday: 3\n",
      "a \"date\" object has no \"hour\" attribute (nor \"minute\", \"second\")\n",
      "the components are: time.struct_time(tm_year=2018, tm_mon=10, tm_mday=3, tm_hour=0, tm_min=0, tm_sec=0, tm_wday=2, tm_yday=276, tm_isdst=-1)\n"
     ]
    }
   ],
   "source": [
    "# there is also a slightly simpler date object: \n",
    "today_date = datetime.date.today()\n",
    "print('the date is:',         today_date)\n",
    "print('the year is:',         today_date.year)\n",
    "print('the month is:',        today_date.month)\n",
    "print('the day-of-month is:', today_date.day)\n",
    "print('the day-of-week is:',  today_date.weekday())\n",
    "print('the iso-weekday is:',  today_date.isoweekday())\n",
    "(isoyear, isoweek, isoweekday) = today_date.isocalendar()\n",
    "print('the iso year:', isoyear, ', isoweek:', isoweek, ', and isoweekday:', isoweekday)\n",
    "try:\n",
    "    print('the year is:',     today_date.hour)\n",
    "except:\n",
    "    print('a \"date\" object has no \"hour\" attribute (nor \"minute\", \"second\")')\n",
    "print('the components are:', today_date.timetuple())"
   ]
  },
  {
   "cell_type": "markdown",
   "metadata": {},
   "source": [
    "# datetime format descriptors\n",
    "in order to convert between datetime objects and plain text string representations of them. the `strftime()` (string - format - time) function reformats time strings. it operates on a datetime object and takes as an argument a \"format descriptor\", which is itself a string that specifies the time unit. \n",
    "\n",
    "a format descriptor string includes any (or all) of these: `'%a', '%A', '%w', '%d', '%b', '%B', '%y', '%Y', '%y', '%H', '%I', '%M', '%S', '%f', '%z', '%Z', '%j', '%U', '%W', '%c', '%x', '%X'`. here is how each of these works ([source](https://docs.python.org/2/library/datetime.html#strftime-and-strptime-behavior)): "
   ]
  },
  {
   "cell_type": "code",
   "execution_count": 6,
   "metadata": {},
   "outputs": [
    {
     "name": "stdout",
     "output_type": "stream",
     "text": [
      "the day is 03 (day of month 01-31)\n",
      "the month is Oct (month name, short version)\n",
      "the month is October (month name, full version)\n",
      "the month number is 10 (month as a number 01-12)\n",
      "the year is 18 (year, without century)\n",
      "the year is 2018 (year, full version)\n"
     ]
    }
   ],
   "source": [
    "print('the day is',              a_datetime.strftime(\"%d\"), '(day of month 01-31)')\n",
    "print('the month is',            a_datetime.strftime(\"%b\"), '(month name, short version)')\n",
    "print('the month is',            a_datetime.strftime(\"%B\"), '(month name, full version)')\n",
    "print('the month number is',     a_datetime.strftime(\"%m\"), '(month as a number 01-12)')\n",
    "print('the year is',             a_datetime.strftime(\"%y\"), '(year, without century)')\n",
    "print('the year is',             a_datetime.strftime(\"%Y\"), '(year, full version)')"
   ]
  },
  {
   "cell_type": "code",
   "execution_count": 7,
   "metadata": {},
   "outputs": [
    {
     "name": "stdout",
     "output_type": "stream",
     "text": [
      "today is a Wed (weekday, short version)\n",
      "today is a Wednesday (weekday, full version)\n",
      "the weekday is 3 (weekday as a number 0-6, 0 is Sunday)\n",
      "the week number is 40 (week number of year, monday as the first day of week, 00-53)\n",
      "the week number is also 39 (week number of year, sunday as the first day of week, 00-53)\n"
     ]
    }
   ],
   "source": [
    "print('today is a',              a_datetime.strftime(\"%a\"), '(weekday, short version)')\n",
    "print('today is a',              a_datetime.strftime(\"%A\"), '(weekday, full version)')\n",
    "print('the weekday is',          a_datetime.strftime(\"%w\"), '(weekday as a number 0-6, 0 is Sunday)')\n",
    "print('the week number is',      a_datetime.strftime(\"%W\"), '(week number of year, monday as the first day of week, 00-53)')\n",
    "print('the week number is also', a_datetime.strftime(\"%U\"), '(week number of year, sunday as the first day of week, 00-53)')"
   ]
  },
  {
   "cell_type": "code",
   "execution_count": 8,
   "metadata": {},
   "outputs": [
    {
     "name": "stdout",
     "output_type": "stream",
     "text": [
      "the 24-hour is 18 (Hour 00-23)\n",
      "the 12-hour is 06 (Hour 00-12)\n",
      "the morning/evening is PM (AM/PM)\n",
      "the minute is 19 (Minute 00-59)\n",
      "the second is 17 (Second 00-59)\n",
      "the microsecond is 170372 (Microsecond 000000-999999)\n",
      "the timezone offset is  (UTC offset)\n",
      "the timeszone is set  (Timezone)\n",
      "the day number is 276 (Day number of year 001-366)\n"
     ]
    }
   ],
   "source": [
    "print('the 24-hour is',         a_datetime.strftime(\"%H\"), '(Hour 00-23)')\n",
    "print('the 12-hour is',         a_datetime.strftime(\"%I\"), '(Hour 00-12)')\n",
    "print('the morning/evening is', a_datetime.strftime(\"%p\"), '(AM/PM)')\n",
    "print('the minute is',          a_datetime.strftime(\"%M\"), '(Minute 00-59)')\n",
    "print('the second is',          a_datetime.strftime(\"%S\"), '(Second 00-59)')\n",
    "print('the microsecond is',     a_datetime.strftime(\"%f\"), '(Microsecond 000000-999999)')\n",
    "print('the timezone offset is', a_datetime.strftime(\"%z\"), '(UTC offset)')\n",
    "print('the timeszone is set',   a_datetime.strftime(\"%Z\"), '(Timezone)')\n",
    "print('the day number is',      a_datetime.strftime(\"%j\"), '(Day number of year 001-366)')"
   ]
  },
  {
   "cell_type": "code",
   "execution_count": 9,
   "metadata": {},
   "outputs": [
    {
     "name": "stdout",
     "output_type": "stream",
     "text": [
      "today is Wed Oct  3 18:19:17 2018 (Local version of date and time)\n",
      "today is 10/03/18 (Local version of date)\n",
      "today is 18:19:17 (Local version of time)\n"
     ]
    }
   ],
   "source": [
    "print('today is', a_datetime.strftime(\"%c\"), '(Local version of date and time)')\n",
    "print('today is', a_datetime.strftime(\"%x\"), '(Local version of date)')\n",
    "print('today is', a_datetime.strftime(\"%X\"), '(Local version of time)')"
   ]
  },
  {
   "cell_type": "code",
   "execution_count": 10,
   "metadata": {},
   "outputs": [
    {
     "name": "stdout",
     "output_type": "stream",
     "text": [
      "today is a Wed (Weekday, short version)'\n",
      "today is a Wednesday (Weekday, full version)'\n"
     ]
    }
   ],
   "source": [
    "# a very common, different, way to use strftime():\n",
    "print(a_datetime.strftime(\"today is a %a (Weekday, short version)'\"))\n",
    "print(a_datetime.strftime(\"today is a %A (Weekday, full version)'\"))"
   ]
  },
  {
   "cell_type": "markdown",
   "metadata": {},
   "source": [
    "# parsing examples\n",
    "we often need to read a time stamp from a string in some formats, e.g.:"
   ]
  },
  {
   "cell_type": "code",
   "execution_count": 11,
   "metadata": {},
   "outputs": [],
   "source": [
    "timestamp_str_1 = \"Jan 21\"\n",
    "timestamp_str_2 = \"23rd of January\"\n",
    "timestamp_str_3 = \"2018-03-16\"\n",
    "timestamp_str_4 = \"2018-01-21T13:27:10\"\n",
    "timestamp_str_5 = \"2018-01-21T15:49:23.3855\"\n",
    "timestamp_str_6 = \"2016/02/21 15:49:23\"\n",
    "timestamp_str_7 = \"At 15:49 on Thursday, 21 of January '18\"\n",
    "timestamp_str_8 = \"Sat 09/08/07 @15:49\"\n",
    "timestamp_str_9 = \"Fri 09/08/07 @10:01\""
   ]
  },
  {
   "cell_type": "markdown",
   "metadata": {},
   "source": [
    "how do we convert these strings to datetime objects that we can compute with? there is a function for that, called `strptime()` (string - parse - time). it takes two arguments, a string to convert and a format  it uses the same format descriptors as its sibling function `strftime()`."
   ]
  },
  {
   "cell_type": "code",
   "execution_count": 23,
   "metadata": {},
   "outputs": [
    {
     "name": "stdout",
     "output_type": "stream",
     "text": [
      "Jan 21  ->  1900-01-21 00:00:00\n",
      "23rd of January  ->  1900-01-23 00:00:00\n",
      "2018-03-16  ->  2018-03-16 00:00:00\n",
      "2018-01-21T13:27:10  ->  2018-01-21 13:27:10\n",
      "2018-01-21T15:49:23.3855  ->  2018-01-21 15:49:23.385500\n",
      "2016/02/21 15:49:23  ->  2016-02-21 15:49:23\n",
      "At 15:49 on Thursday, 21 of January '18  ->  2018-01-21 15:49:00\n",
      "Sat 09/08/07 @15:49  ->  2007-09-08 15:49:00\n",
      "Fri 09/08/07 @10:01  ->  2007-09-08 10:01:00\n"
     ]
    }
   ],
   "source": [
    "datetime_object_1  = datetime.datetime.strptime(timestamp_str_1, '%b %d')\n",
    "print(timestamp_str_1, ' -> ', datetime_object_1)\n",
    "datetime_object_2  = datetime.datetime.strptime(timestamp_str_2, '%drd of %B') # nb! what happens to \"21st of January\"!\n",
    "print(timestamp_str_2, ' -> ', datetime_object_2)\n",
    "datetime_object_3  = datetime.datetime.strptime(timestamp_str_3, '%Y-%m-%d')\n",
    "print(timestamp_str_3, ' -> ', datetime_object_3)\n",
    "datetime_object_4  = datetime.datetime.strptime(timestamp_str_4, '%Y-%m-%dT%H:%M:%S')\n",
    "print(timestamp_str_4, ' -> ', datetime_object_4)\n",
    "datetime_object_5  = datetime.datetime.strptime(timestamp_str_5, '%Y-%m-%dT%H:%M:%S.%f')\n",
    "print(timestamp_str_5, ' -> ', datetime_object_5)\n",
    "datetime_object_6  = datetime.datetime.strptime(timestamp_str_6, '%Y/%m/%d %H:%M:%S')\n",
    "print(timestamp_str_6, ' -> ', datetime_object_6)\n",
    "datetime_object_7  = datetime.datetime.strptime(timestamp_str_7, \"At %H:%M on %A, %d of %B '%y\")\n",
    "print(timestamp_str_7, ' -> ', datetime_object_7)\n",
    "datetime_object_8  = datetime.datetime.strptime(timestamp_str_8, \"%a %m/%d/%y @%H:%M\")\n",
    "print(timestamp_str_8, ' -> ', datetime_object_8) # does this date exist?\n",
    "datetime_object_9  = datetime.datetime.strptime(timestamp_str_9, \"%a %m/%d/%y @%H:%M\")\n",
    "print(timestamp_str_9, ' -> ', datetime_object_9) # does this date exist?"
   ]
  },
  {
   "cell_type": "markdown",
   "metadata": {},
   "source": [
    "# datetime arithmetic\n",
    "given two timestamps, we will often be interested in the interval between them, measured in some unit of timekeeping. python will understand us if we just use the `+` and `-` operators on datetime objects. the key function we will use is `datetime.timedelta()`.\n",
    "\n",
    "e.g. how many days are there till christmas? how old are you, if we counted our age in weeks? what date will it be when your 90-day warranty expires? for how many minutes did you sleep last night?"
   ]
  },
  {
   "cell_type": "code",
   "execution_count": 13,
   "metadata": {},
   "outputs": [
    {
     "name": "stdout",
     "output_type": "stream",
     "text": [
      "now it is 2018-10-03 but in 12 weeks and 5 days it will be 2018-12-31\n"
     ]
    }
   ],
   "source": [
    "numweeks = 12; numdays = 5\n",
    "# how to use the timedelta function: \n",
    "# timedelta(weeks=0, days=0, hours=0, minutes=0 , seconds=0, milliseconds=0, microseconds=0)\n",
    "# returns a time interval.  \n",
    "timeinterval_obj = datetime.timedelta(weeks=numweeks, days=numdays)\n",
    "now_datetime = datetime.datetime.now()\n",
    "# we can add interval to a timestamp\n",
    "later_datetime = now_datetime + timeinterval_obj\n",
    "print('now it is', now_datetime.date(), \n",
    "      'but in', numweeks,'weeks and', numdays, 'days it will be', \n",
    "      later_datetime.date())"
   ]
  },
  {
   "cell_type": "code",
   "execution_count": 14,
   "metadata": {},
   "outputs": [
    {
     "name": "stdout",
     "output_type": "stream",
     "text": [
      "now it is 2018-10-03 but 12 weeks and 5 days ago it was 2018-07-06 18:19:17.234996\n"
     ]
    }
   ],
   "source": [
    "# we can also subtract an interval from a timestamp:\n",
    "earlier_datetime = now_datetime - timeinterval_obj\n",
    "print('now it is', now_datetime.date(), \n",
    "      'but', numweeks,'weeks and', numdays, 'days ago it was', \n",
    "      earlier_datetime)"
   ]
  },
  {
   "cell_type": "code",
   "execution_count": 15,
   "metadata": {},
   "outputs": [
    {
     "name": "stdout",
     "output_type": "stream",
     "text": [
      "christmas is only 82 days, 13:41:42.829628 away\n"
     ]
    }
   ],
   "source": [
    "# if you subtract datetimes, you get a timedelta object for the interval between the dates\n",
    "christmas_start = datetime.datetime.strptime('2018-12-25T08:01', '%Y-%m-%dT%H:%M')\n",
    "time_diff = christmas_start - a_datetime \n",
    "print('christmas is only', time_diff, 'away')"
   ]
  },
  {
   "cell_type": "code",
   "execution_count": 16,
   "metadata": {},
   "outputs": [
    {
     "name": "stdout",
     "output_type": "stream",
     "text": [
      "christmas is only 7134102.829628 seconds away\n",
      "christmas is only 82 days and 49302.829628 seconds away\n"
     ]
    }
   ],
   "source": [
    "# we can break down intervals into different units:\n",
    "print('christmas is only', time_diff.total_seconds(), 'seconds away')\n",
    "print('christmas is only', time_diff.days, 'days and', time_diff.seconds + time_diff.microseconds/1e6, 'seconds away')"
   ]
  },
  {
   "cell_type": "markdown",
   "metadata": {},
   "source": [
    "note that there is no `time_diff.hours` or `time_diff.minutes` or `time_diff.milliseconds`. we can retrieve these with a simple calculation from the number of seconds. "
   ]
  },
  {
   "cell_type": "code",
   "execution_count": 17,
   "metadata": {},
   "outputs": [
    {
     "name": "stdout",
     "output_type": "stream",
     "text": [
      "christmas is only 82 days and 13 hours and 41 minutes and 42.829628 seconds away\n"
     ]
    }
   ],
   "source": [
    "print(\n",
    "    'christmas is only', \n",
    "    time_diff.days, 'days and',\n",
    "    int(time_diff.seconds/3600), 'hours and', \n",
    "    int((time_diff.seconds % 3600)/60), 'minutes and',\n",
    "    int((time_diff.seconds % 60)) + time_diff.microseconds/1e6, 'seconds away')"
   ]
  },
  {
   "cell_type": "code",
   "execution_count": 18,
   "metadata": {},
   "outputs": [
    {
     "name": "stdout",
     "output_type": "stream",
     "text": [
      "the time difference is 82 days, 13:41:42.829628\n"
     ]
    }
   ],
   "source": [
    "# if we just want to pretty print the interval, there is an easier way!\n",
    "print('the time difference is', str(time_diff))"
   ]
  },
  {
   "cell_type": "code",
   "execution_count": 19,
   "metadata": {},
   "outputs": [
    {
     "name": "stdout",
     "output_type": "stream",
     "text": [
      "christmas is only 83 days away\n"
     ]
    }
   ],
   "source": [
    "# it looks prettier to only count the days (note the rounding up!)\n",
    "date_diff = christmas_start.date() - a_datetime.date() # sets the clock time on both to 00:00:00.000000\n",
    "print('christmas is only', date_diff.days, 'days away')"
   ]
  },
  {
   "cell_type": "markdown",
   "metadata": {},
   "source": [
    "# conclusion\n",
    "now you should have all you need to work on the exercise. i expect you will find this one a bit quicker to solve than last week's problem which may have required a lot of experimenting with commands.\n",
    "\n",
    "in case you do get stuck on the exercise, here are some pointers on how to get started:"
   ]
  },
  {
   "cell_type": "markdown",
   "metadata": {},
   "source": [
    "# working with dates from a data file\n",
    "now let us read in a data file with a date field. we saw last week what the easiest (=best) way to do that is:"
   ]
  },
  {
   "cell_type": "code",
   "execution_count": 44,
   "metadata": {},
   "outputs": [
    {
     "data": {
      "text/html": [
       "<div>\n",
       "<style scoped>\n",
       "    .dataframe tbody tr th:only-of-type {\n",
       "        vertical-align: middle;\n",
       "    }\n",
       "\n",
       "    .dataframe tbody tr th {\n",
       "        vertical-align: top;\n",
       "    }\n",
       "\n",
       "    .dataframe thead th {\n",
       "        text-align: right;\n",
       "    }\n",
       "</style>\n",
       "<table border=\"1\" class=\"dataframe\">\n",
       "  <thead>\n",
       "    <tr style=\"text-align: right;\">\n",
       "      <th></th>\n",
       "      <th>INSPECTION_TYPE</th>\n",
       "      <th>JOB_TICKET_OR_WORK_ORDER_ID</th>\n",
       "      <th>JOB_ID</th>\n",
       "      <th>JOB_PROGRESS</th>\n",
       "      <th>BBL</th>\n",
       "      <th>BORO_CODE</th>\n",
       "      <th>BLOCK</th>\n",
       "      <th>LOT</th>\n",
       "      <th>HOUSE_NUMBER</th>\n",
       "      <th>STREET_NAME</th>\n",
       "      <th>ZIP_CODE</th>\n",
       "      <th>X_COORD</th>\n",
       "      <th>Y_COORD</th>\n",
       "      <th>LATITUDE</th>\n",
       "      <th>LONGITUDE</th>\n",
       "      <th>BOROUGH</th>\n",
       "      <th>INSPECTION_DATE</th>\n",
       "      <th>RESULT</th>\n",
       "      <th>APPROVED_DATE</th>\n",
       "      <th>LOCATION</th>\n",
       "    </tr>\n",
       "  </thead>\n",
       "  <tbody>\n",
       "    <tr>\n",
       "      <th>0</th>\n",
       "      <td>BAIT</td>\n",
       "      <td>1</td>\n",
       "      <td>PO12965</td>\n",
       "      <td>3</td>\n",
       "      <td>1011470035</td>\n",
       "      <td>1</td>\n",
       "      <td>1147</td>\n",
       "      <td>35</td>\n",
       "      <td>104</td>\n",
       "      <td>WEST 76 STREET</td>\n",
       "      <td>10023</td>\n",
       "      <td>990505</td>\n",
       "      <td>223527</td>\n",
       "      <td>40.780204</td>\n",
       "      <td>-73.977414</td>\n",
       "      <td>Manhattan</td>\n",
       "      <td>10/14/2009 12:00:27 PM</td>\n",
       "      <td>Bait applied</td>\n",
       "      <td>10/14/2009 03:01:46 PM</td>\n",
       "      <td>(40.7802039792471, -73.9774144709456)</td>\n",
       "    </tr>\n",
       "    <tr>\n",
       "      <th>1</th>\n",
       "      <td>BAIT</td>\n",
       "      <td>2</td>\n",
       "      <td>PO12966</td>\n",
       "      <td>3</td>\n",
       "      <td>1011470034</td>\n",
       "      <td>1</td>\n",
       "      <td>1147</td>\n",
       "      <td>34</td>\n",
       "      <td>102</td>\n",
       "      <td>WEST 76 STREET</td>\n",
       "      <td>10023</td>\n",
       "      <td>990516</td>\n",
       "      <td>223521</td>\n",
       "      <td>40.780188</td>\n",
       "      <td>-73.977375</td>\n",
       "      <td>Manhattan</td>\n",
       "      <td>10/14/2009 12:51:21 PM</td>\n",
       "      <td>Bait applied</td>\n",
       "      <td>10/14/2009 03:02:30 PM</td>\n",
       "      <td>(40.7801875030438, -73.977374757787)</td>\n",
       "    </tr>\n",
       "    <tr>\n",
       "      <th>2</th>\n",
       "      <td>BAIT</td>\n",
       "      <td>30</td>\n",
       "      <td>PO16966</td>\n",
       "      <td>3</td>\n",
       "      <td>2043370027</td>\n",
       "      <td>2</td>\n",
       "      <td>4337</td>\n",
       "      <td>27</td>\n",
       "      <td>620</td>\n",
       "      <td>THWAITES PLACE</td>\n",
       "      <td>10467</td>\n",
       "      <td>1020110</td>\n",
       "      <td>252216</td>\n",
       "      <td>40.858877</td>\n",
       "      <td>-73.870364</td>\n",
       "      <td>Bronx</td>\n",
       "      <td>11/09/2009 12:59:55 PM</td>\n",
       "      <td>Bait applied</td>\n",
       "      <td>11/10/2009 02:54:52 PM</td>\n",
       "      <td>(40.8588765781972, -73.8703636422023)</td>\n",
       "    </tr>\n",
       "    <tr>\n",
       "      <th>3</th>\n",
       "      <td>BAIT</td>\n",
       "      <td>31</td>\n",
       "      <td>PO13665</td>\n",
       "      <td>3</td>\n",
       "      <td>2037670077</td>\n",
       "      <td>2</td>\n",
       "      <td>3767</td>\n",
       "      <td>77</td>\n",
       "      <td>1227</td>\n",
       "      <td>WHITEPLAINS ROAD</td>\n",
       "      <td>10472</td>\n",
       "      <td>1022441</td>\n",
       "      <td>242180</td>\n",
       "      <td>40.831321</td>\n",
       "      <td>-73.861994</td>\n",
       "      <td>Bronx</td>\n",
       "      <td>11/09/2009 11:10:16 AM</td>\n",
       "      <td>Bait applied</td>\n",
       "      <td>11/10/2009 02:56:42 PM</td>\n",
       "      <td>(40.8313209626148, -73.861994089899)</td>\n",
       "    </tr>\n",
       "    <tr>\n",
       "      <th>4</th>\n",
       "      <td>BAIT</td>\n",
       "      <td>38</td>\n",
       "      <td>PO11291</td>\n",
       "      <td>3</td>\n",
       "      <td>1011690057</td>\n",
       "      <td>1</td>\n",
       "      <td>1169</td>\n",
       "      <td>57</td>\n",
       "      <td>2199</td>\n",
       "      <td>BROADWAY</td>\n",
       "      <td>10024</td>\n",
       "      <td>989641</td>\n",
       "      <td>224567</td>\n",
       "      <td>40.783059</td>\n",
       "      <td>-73.980533</td>\n",
       "      <td>Manhattan</td>\n",
       "      <td>11/10/2009 08:40:42 AM</td>\n",
       "      <td>Bait applied</td>\n",
       "      <td>11/17/2009 11:39:11 AM</td>\n",
       "      <td>(40.7830590725833, -73.9805333640688)</td>\n",
       "    </tr>\n",
       "  </tbody>\n",
       "</table>\n",
       "</div>"
      ],
      "text/plain": [
       "  INSPECTION_TYPE  JOB_TICKET_OR_WORK_ORDER_ID   JOB_ID  JOB_PROGRESS  \\\n",
       "0            BAIT                            1  PO12965             3   \n",
       "1            BAIT                            2  PO12966             3   \n",
       "2            BAIT                           30  PO16966             3   \n",
       "3            BAIT                           31  PO13665             3   \n",
       "4            BAIT                           38  PO11291             3   \n",
       "\n",
       "          BBL  BORO_CODE  BLOCK  LOT  HOUSE_NUMBER       STREET_NAME  \\\n",
       "0  1011470035          1   1147   35           104    WEST 76 STREET   \n",
       "1  1011470034          1   1147   34           102    WEST 76 STREET   \n",
       "2  2043370027          2   4337   27           620    THWAITES PLACE   \n",
       "3  2037670077          2   3767   77          1227  WHITEPLAINS ROAD   \n",
       "4  1011690057          1   1169   57          2199          BROADWAY   \n",
       "\n",
       "   ZIP_CODE  X_COORD  Y_COORD   LATITUDE  LONGITUDE    BOROUGH  \\\n",
       "0     10023   990505   223527  40.780204 -73.977414  Manhattan   \n",
       "1     10023   990516   223521  40.780188 -73.977375  Manhattan   \n",
       "2     10467  1020110   252216  40.858877 -73.870364      Bronx   \n",
       "3     10472  1022441   242180  40.831321 -73.861994      Bronx   \n",
       "4     10024   989641   224567  40.783059 -73.980533  Manhattan   \n",
       "\n",
       "          INSPECTION_DATE        RESULT           APPROVED_DATE  \\\n",
       "0  10/14/2009 12:00:27 PM  Bait applied  10/14/2009 03:01:46 PM   \n",
       "1  10/14/2009 12:51:21 PM  Bait applied  10/14/2009 03:02:30 PM   \n",
       "2  11/09/2009 12:59:55 PM  Bait applied  11/10/2009 02:54:52 PM   \n",
       "3  11/09/2009 11:10:16 AM  Bait applied  11/10/2009 02:56:42 PM   \n",
       "4  11/10/2009 08:40:42 AM  Bait applied  11/17/2009 11:39:11 AM   \n",
       "\n",
       "                                LOCATION  \n",
       "0  (40.7802039792471, -73.9774144709456)  \n",
       "1   (40.7801875030438, -73.977374757787)  \n",
       "2  (40.8588765781972, -73.8703636422023)  \n",
       "3   (40.8313209626148, -73.861994089899)  \n",
       "4  (40.7830590725833, -73.9805333640688)  "
      ]
     },
     "execution_count": 44,
     "metadata": {},
     "output_type": "execute_result"
    }
   ],
   "source": [
    "import pandas as pd\n",
    "filename_csv = 'NY_rodent_inspections_sample_small.csv'\n",
    "rodent_df = pd.read_csv(filename_csv) # yeah. that's it. neat, huh?\n",
    "# inspect the data frame\n",
    "rodent_df.head()"
   ]
  },
  {
   "cell_type": "code",
   "execution_count": 45,
   "metadata": {},
   "outputs": [
    {
     "name": "stdout",
     "output_type": "stream",
     "text": [
      "10/14/2009 12:00:27 PM --> 2009-10-14 12:00:27\n",
      "10/14/2009 12:51:21 PM --> 2009-10-14 12:51:21\n",
      "11/09/2009 12:59:55 PM --> 2009-11-09 12:59:55\n",
      "11/09/2009 11:10:16 AM --> 2009-11-09 11:10:16\n",
      "11/10/2009 08:40:42 AM --> 2009-11-10 08:40:42\n"
     ]
    }
   ],
   "source": [
    "# the columns of interest is the 'INSPECTION_DATE' and 'APPROVED_DATE'\n",
    "# inspection by eye gives us the datetime format descriptor\n",
    "format_descriptor = '%m/%d/%Y %H:%M:%S %p'\n",
    "for date_str in rodent_df['INSPECTION_DATE']:\n",
    "    inspection_datetime =datetime.datetime.strptime(date_str, format_descriptor)\n",
    "    print(date_str, '-->', inspection_datetime) # compare before and after"
   ]
  },
  {
   "cell_type": "markdown",
   "metadata": {},
   "source": [
    "# a warning!\n",
    "to illustrate a point with how tricky date time parsing and conversions can be, i made a mistake and decided to leave it in. \n",
    "\n",
    "there is a silly error in the above parsing code. can you find it?"
   ]
  },
  {
   "cell_type": "code",
   "execution_count": 46,
   "metadata": {},
   "outputs": [
    {
     "name": "stdout",
     "output_type": "stream",
     "text": [
      "transcoding the INSPECTION_DATE column\n",
      "10/14/2009 12:00:27 PM --> 2009-10-14 12:00:27\n",
      "10/14/2009 12:51:21 PM --> 2009-10-14 12:51:21\n",
      "11/09/2009 12:59:55 PM --> 2009-11-09 12:59:55\n",
      "11/09/2009 11:10:16 AM --> 2009-11-09 11:10:16\n",
      "11/10/2009 08:40:42 AM --> 2009-11-10 08:40:42\n",
      "transcoding the APPROVED_DATE column\n",
      "10/14/2009 03:01:46 PM --> 2009-10-14 15:01:46\n",
      "10/14/2009 03:02:30 PM --> 2009-10-14 15:02:30\n",
      "11/10/2009 02:54:52 PM --> 2009-11-10 14:54:52\n",
      "11/10/2009 02:56:42 PM --> 2009-11-10 14:56:42\n",
      "11/17/2009 11:39:11 AM --> 2009-11-17 11:39:11\n"
     ]
    }
   ],
   "source": [
    "# the columns of interest is the 'INSPECTION_DATE' and 'APPROVED_DATE'\n",
    "# inspection by eye gives us the datetime format descriptor\n",
    "format_descriptor = '%m/%d/%Y %I:%M:%S %p'\n",
    "columns = ['INSPECTION_DATE', 'APPROVED_DATE']\n",
    "\n",
    "for column in columns:\n",
    "    print('transcoding the', column, 'column')\n",
    "    for date_str in rodent_df[column]:\n",
    "        inspection_datetime = datetime.datetime.strptime(date_str, format_descriptor)\n",
    "        print(date_str, '-->', inspection_datetime) # compare before and after\n",
    "\n",
    "# rodent_df['inspection_datetime'] = datetime.datetime.strptime(date_str, format_descriptor)"
   ]
  },
  {
   "cell_type": "code",
   "execution_count": 70,
   "metadata": {},
   "outputs": [],
   "source": [
    "def format_iso_week(datetime_obj):\n",
    "    the_date = datetime_obj.date()\n",
    "    iso_year, iso_week, iso_weekday = the_date.isocalendar()\n",
    "    iso_week_str = str(iso_year) + '-W' + str(iso_week)\n",
    "    return iso_week_str"
   ]
  },
  {
   "cell_type": "code",
   "execution_count": 71,
   "metadata": {},
   "outputs": [
    {
     "data": {
      "text/plain": [
       "'2018-W40'"
      ]
     },
     "execution_count": 71,
     "metadata": {},
     "output_type": "execute_result"
    }
   ],
   "source": [
    "format_iso_week(a_datetime)"
   ]
  },
  {
   "cell_type": "code",
   "execution_count": 72,
   "metadata": {},
   "outputs": [],
   "source": [
    "rodent_df['inspection_datetime']   = rodent_df.apply(lambda row: datetime.datetime.strptime(row['INSPECTION_DATE'], format_descriptor), axis=1)\n",
    "rodent_df['approval_datetime']     = rodent_df.apply(lambda row: datetime.datetime.strptime(row['APPROVED_DATE'],   format_descriptor), axis=1)\n",
    "rodent_df['wait_time_to_approval'] = rodent_df.apply(lambda row: row['approval_datetime'] - row['inspection_datetime'],axis=1)\n",
    "rodent_df['inspection_month']      = rodent_df.apply(lambda row: row['inspection_datetime'].strftime(\"%B\"), axis=1)\n",
    "rodent_df['isoweek']               = rodent_df.apply(lambda row: format_iso_week(row['inspection_datetime']), axis=1)\n",
    "rodent_df['inspection_weekday']    = rodent_df.apply(lambda row: row['inspection_datetime'].strftime(\"%A\"), axis=1)\n",
    "rodent_df.head()"
   ]
  },
  {
   "cell_type": "markdown",
   "metadata": {},
   "source": [
    "# bonus:\n",
    "a standard timestamp is simply the fractional number of seconds since 1970-01-01 00:00:00.000000 UTC."
   ]
  },
  {
   "cell_type": "code",
   "execution_count": 58,
   "metadata": {},
   "outputs": [
    {
     "data": {
      "text/plain": [
       "1538605290.952012"
      ]
     },
     "execution_count": 58,
     "metadata": {},
     "output_type": "execute_result"
    }
   ],
   "source": [
    "import time\n",
    "# get current time stamp\n",
    "current_timestamp = time.time()\n"
   ]
  },
  {
   "cell_type": "code",
   "execution_count": 74,
   "metadata": {},
   "outputs": [
    {
     "data": {
      "text/plain": [
       "datetime.date(1970, 1, 1)"
      ]
     },
     "execution_count": 74,
     "metadata": {},
     "output_type": "execute_result"
    }
   ],
   "source": [
    "datetime.date.fromtimestamp(0)"
   ]
  },
  {
   "cell_type": "code",
   "execution_count": null,
   "metadata": {},
   "outputs": [],
   "source": []
  }
 ],
 "metadata": {
  "kernelspec": {
   "display_name": "Python 3",
   "language": "python",
   "name": "python3"
  },
  "language_info": {
   "codemirror_mode": {
    "name": "ipython",
    "version": 3
   },
   "file_extension": ".py",
   "mimetype": "text/x-python",
   "name": "python",
   "nbconvert_exporter": "python",
   "pygments_lexer": "ipython3",
   "version": "3.7.0"
  }
 },
 "nbformat": 4,
 "nbformat_minor": 2
}
