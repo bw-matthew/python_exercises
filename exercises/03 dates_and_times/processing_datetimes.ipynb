{
 "cells": [
  {
   "cell_type": "markdown",
   "metadata": {},
   "source": [
    "# the datetime module"
   ]
  },
  {
   "cell_type": "markdown",
   "metadata": {},
   "source": [
    "time is weird. \n",
    "\n",
    "working with dates and timestamps is frequently required, and often tricky. there are countless issues that can crop up due to differing time formats, calendars, time zones. in addition there are detailed obscure definitions of the various time measures we use. so time intervals and date arithmetics are not trivial to compute from first principles.\n",
    "\n",
    "- for instance, years differ in length, a year is not even an integer number of days long. \n",
    "- a calendar year is not an even number of weeks.\n",
    "- the months, and the (financial) quarters in a year are not all equally long. and not an integer multiple of weeks.\n",
    "- fiscal years differ from calendar years (and are location specific!).\n",
    "- we might need to count events during a time period in number of working days (excluding weekends and holidays from the count). \n",
    "- given a datestamp, consider how you can find out what week number does that time stamp take place in? to calculate this from first principles we'd need to to know \n",
    "    + what weekday is the first day of the week? (typically either on sunday or monday)\n",
    "    + was it in a leap year?\n",
    "    + what timezone was the timestamp recorded and in which timezone are we counting the weeks? (imagine we are aggregating by week as observed in UTC and the time stamp above was recorded in china standard time, many hours ahead. then the timestamp may actually belong to the \"next week\".)\n",
    "\n",
    "luckily python has modules that help with these formats and calculations. we just need to learn to use them. here we will demonstrate the use of the `datetime` module. there are two aspects at play here. the first is date and time formating, and the second is date and time arithmetic. the latter is impossible without the former. \n",
    "\n",
    "### a plea:\n",
    "please, please, please, from now on, whenever and whereever you need to display a date, no matter what the context is, use the [iso format designed to minimize misunderstanding and confusion](https://www.iso.org/iso-8601-date-and-time-format.html): *YYYY-MM-DD*. \n",
    "\n",
    "this is the internationally recognized date format and therefore the best format, bar none, whose adoption will reduce confusion and errors. use it. design dates fields in forms this way. date your notes this way. set your computer's localisation format to this. expect dates in this format by default. shame those who won't, for their only defense is bigotry favouring their own familiarity which hides a callous indifference to the unforeseeable errors caused by date confusion.\n",
    "\n",
    "like any globally conscious python uses that format."
   ]
  },
  {
   "cell_type": "markdown",
   "metadata": {},
   "source": [
    "# this weeks exercise:\n",
    "read in the rodent inspection data. \n",
    "\n",
    "count the number of inspections per [iso-week](https://en.wikipedia.org/wiki/ISO_week_date). find the week with the greatest number of inspections. for that week, and that week only, count the inspections by weekday.\n"
   ]
  },
  {
   "cell_type": "code",
   "execution_count": 1,
   "metadata": {},
   "outputs": [],
   "source": [
    "import datetime"
   ]
  },
  {
   "cell_type": "code",
   "execution_count": 2,
   "metadata": {},
   "outputs": [
    {
     "name": "stdout",
     "output_type": "stream",
     "text": [
      "a date time: 2001-03-16 00:00:00\n",
      "or just a date: 2001-03-16\n"
     ]
    }
   ],
   "source": [
    "a_datetime = datetime.datetime(2001, 3, 16)\n",
    "print('a date time:', a_datetime)\n",
    "print('or just a date:', a_datetime.date())"
   ]
  },
  {
   "cell_type": "code",
   "execution_count": 3,
   "metadata": {},
   "outputs": [
    {
     "name": "stdout",
     "output_type": "stream",
     "text": [
      "<class 'datetime.datetime'>\n",
      "2018-09-30 16:02:29.528105\n"
     ]
    }
   ],
   "source": [
    "# let us start with getting the current timestamp\n",
    "a_datetime = datetime.datetime.now()\n",
    "print(type(a_datetime))\n",
    "print(a_datetime)"
   ]
  },
  {
   "cell_type": "code",
   "execution_count": 4,
   "metadata": {},
   "outputs": [
    {
     "name": "stdout",
     "output_type": "stream",
     "text": [
      "the date is: 2018-09-30\n",
      "the current year 2018\n",
      "the current month 9\n",
      "the current day 30\n",
      "the current hour 16\n",
      "the current minute 2\n",
      "the current second 29\n",
      "the current microsecond 534185\n",
      "the current weekday number 6\n"
     ]
    }
   ],
   "source": [
    "a_datetime = datetime.datetime.now()\n",
    "# individual elements:\n",
    "print('the current year', a_datetime.year)\n",
    "print('the current month', a_datetime.month)\n",
    "print('the current day', a_datetime.day)\n",
    "print('the current hour', a_datetime.hour)\n",
    "print('the current minute', a_datetime.minute)\n",
    "print('the current second', a_datetime.second)\n",
    "print('the current microsecond', a_datetime.microsecond)\n",
    "print('the current weekday number', a_datetime.weekday())"
   ]
  },
  {
   "cell_type": "code",
   "execution_count": 17,
   "metadata": {},
   "outputs": [
    {
     "name": "stdout",
     "output_type": "stream",
     "text": [
      "the date is: 2018-09-30\n",
      "the year is: 2018\n",
      "the month is: 9\n",
      "the day-of-month is: 30\n",
      "the day-of-week is: 6\n",
      "the iso-weekday is: 7\n",
      "the components are: time.struct_time(tm_year=2018, tm_mon=9, tm_mday=30, tm_hour=0, tm_min=0, tm_sec=0, tm_wday=6, tm_yday=273, tm_isdst=-1)\n",
      "a \"date\" object has no \"hour\" attribute\n"
     ]
    },
    {
     "data": {
      "text/plain": [
       "['__add__',\n",
       " '__class__',\n",
       " '__delattr__',\n",
       " '__dir__',\n",
       " '__doc__',\n",
       " '__eq__',\n",
       " '__format__',\n",
       " '__ge__',\n",
       " '__getattribute__',\n",
       " '__gt__',\n",
       " '__hash__',\n",
       " '__init__',\n",
       " '__init_subclass__',\n",
       " '__le__',\n",
       " '__lt__',\n",
       " '__ne__',\n",
       " '__new__',\n",
       " '__radd__',\n",
       " '__reduce__',\n",
       " '__reduce_ex__',\n",
       " '__repr__',\n",
       " '__rsub__',\n",
       " '__setattr__',\n",
       " '__sizeof__',\n",
       " '__str__',\n",
       " '__sub__',\n",
       " '__subclasshook__',\n",
       " 'ctime',\n",
       " 'day',\n",
       " 'fromisoformat',\n",
       " 'fromordinal',\n",
       " 'fromtimestamp',\n",
       " 'isocalendar',\n",
       " 'isoformat',\n",
       " 'isoweekday',\n",
       " 'max',\n",
       " 'min',\n",
       " 'month',\n",
       " 'replace',\n",
       " 'resolution',\n",
       " 'strftime',\n",
       " 'timetuple',\n",
       " 'today',\n",
       " 'toordinal',\n",
       " 'weekday',\n",
       " 'year']"
      ]
     },
     "execution_count": 17,
     "metadata": {},
     "output_type": "execute_result"
    }
   ],
   "source": [
    "# there is also a date object: \n",
    "today_date = datetime.date.today()\n",
    "print('the date is:', today_date)\n",
    "print('the year is:', today_date.year)\n",
    "print('the month is:', today_date.month)\n",
    "print('the day-of-month is:', today_date.day)\n",
    "print('the day-of-week is:', today_date.weekday())\n",
    "print('the iso-weekday is:', today_date.isoweekday())\n",
    "print('the components are:', today_date.timetuple())\n",
    "try:\n",
    "    print('the year is:', today_date.hour)\n",
    "except:\n",
    "    print('a \"date\" object has no \"hour\" attribute (nor \"minute\", \"second\")'\n",
    "dir(today_date)"
   ]
  },
  {
   "cell_type": "markdown",
   "metadata": {},
   "source": [
    "to get a formated string with time and date descriptors. need a command that reformats time strings. the `strftime()` function does this (string - format - time)."
   ]
  },
  {
   "cell_type": "code",
   "execution_count": 5,
   "metadata": {},
   "outputs": [
    {
     "name": "stdout",
     "output_type": "stream",
     "text": [
      "today is Sun (Weekday, short version)\n",
      "today is Sunday (Weekday, full version)\n",
      "the weekday is 0 (Weekday as a number 0-6, 0 is Sunday)\n",
      "the day is 30 (Day of month 01-31)\n",
      "the month is Sep (Month name, short version)\n",
      "the month is September (Month name, full version)\n",
      "the month number is 09 (Month as a number 01-12)\n",
      "the year is 18 (Year, short version, without century)\n",
      "the year is 2018 (Year, full version)\n",
      "the 24-hour is 16 (Hour 00-23)\n",
      "the 12-hour is 04 (Hour 00-12)\n",
      "the morning/evening is PM (AM/PM)\n",
      "the minute is 02 (Minute 00-59)\n",
      "the second is 29 (Second 00-59)\n",
      "the microsecond is 534185 (Microsecond 000000-999999)\n",
      "the timezone offset is  (UTC offset)\n",
      "the timeszone is set  (Timezone)\n",
      "the day number is 273 (Day number of year 001-366)\n",
      "the week number is 39 (Week number of year, Sunday as the first day of week, 00-53)\n",
      "the week number is also 39 (Week number of year, Monday as the first day of week, 00-53)\n",
      "today is Sun Sep 30 16:02:29 2018 (Local version of date and time)\n",
      "today is 09/30/18 (Local version of date)\n",
      "today is 16:02:29 (Local version of time)\n"
     ]
    }
   ],
   "source": [
    "print('today is', a_datetime.strftime(\"%a\"), '(Weekday, short version)')\n",
    "print('today is', a_datetime.strftime(\"%A\"), '(Weekday, full version)')\n",
    "print('the weekday is', a_datetime.strftime(\"%w\"), '(Weekday as a number 0-6, 0 is Sunday)')\n",
    "print('the day is', a_datetime.strftime(\"%d\"), '(Day of month 01-31)')\n",
    "print('the month is', a_datetime.strftime(\"%b\"), '(Month name, short version)')\n",
    "print('the month is', a_datetime.strftime(\"%B\"), '(Month name, full version)')\n",
    "print('the month number is', a_datetime.strftime(\"%m\"), '(Month as a number 01-12)')\n",
    "print('the year is', a_datetime.strftime(\"%y\"), '(Year, short version, without century)')\n",
    "print('the year is', a_datetime.strftime(\"%Y\"), '(Year, full version)')\n",
    "print('the 24-hour is', a_datetime.strftime(\"%H\"), '(Hour 00-23)')\n",
    "print('the 12-hour is', a_datetime.strftime(\"%I\"), '(Hour 00-12)')\n",
    "print('the morning/evening is', a_datetime.strftime(\"%p\"), '(AM/PM)')\n",
    "print('the minute is', a_datetime.strftime(\"%M\"), '(Minute 00-59)')\n",
    "print('the second is', a_datetime.strftime(\"%S\"), '(Second 00-59)')\n",
    "print('the microsecond is', a_datetime.strftime(\"%f\"), '(Microsecond 000000-999999)')\n",
    "print('the timezone offset is', a_datetime.strftime(\"%z\"), '(UTC offset)')\n",
    "print('the timeszone is set', a_datetime.strftime(\"%Z\"), '(Timezone)')\n",
    "print('the day number is', a_datetime.strftime(\"%j\"), '(Day number of year 001-366)')\n",
    "print('the week number is', a_datetime.strftime(\"%U\"), '(Week number of year, Sunday as the first day of week, 00-53)')\n",
    "print('the week number is also', a_datetime.strftime(\"%W\"), '(Week number of year, Monday as the first day of week, 00-53)')\n",
    "print('today is', a_datetime.strftime(\"%c\"), '(Local version of date and time)')\n",
    "print('today is', a_datetime.strftime(\"%x\"), '(Local version of date)')\n",
    "print('today is', a_datetime.strftime(\"%X\"), '(Local version of time)')"
   ]
  },
  {
   "cell_type": "code",
   "execution_count": 6,
   "metadata": {},
   "outputs": [
    {
     "name": "stdout",
     "output_type": "stream",
     "text": [
      "today is a Sun (Weekday, short version)'\n",
      "today is a Sunday (Weekday, full version)'\n"
     ]
    }
   ],
   "source": [
    "# a very common, different, way to use strftime():\n",
    "print(a_datetime.strftime(\"today is a %a (Weekday, short version)'\"))\n",
    "print(a_datetime.strftime(\"today is a %A (Weekday, full version)'\"))"
   ]
  },
  {
   "cell_type": "code",
   "execution_count": 7,
   "metadata": {},
   "outputs": [],
   "source": [
    "# we often need to read a time stamp from a string in some formats, e.g.:\n",
    "timestamp_str_1 = '2018-01-21T15:49:23.3855Z'\n",
    "timestamp_str_2 = '2018/01/21 15:49:23'\n",
    "timestamp_str_3 = 'Thu 21/01/18 @ 15:49'\n",
    "timestamp_str_4 = 'At 15:49 on Thursday, 21/1/18'\n",
    "timestamp_str_4 = \"At 15:49 on Thursday, 21 of January '18\"\n",
    "timestamp_str_4 = \"21st of January\"\n",
    "timestamp_str_5 = \"Jan 21\"\n",
    "# how do we convert these strings to datetime objects?"
   ]
  },
  {
   "cell_type": "code",
   "execution_count": null,
   "metadata": {},
   "outputs": [],
   "source": []
  }
 ],
 "metadata": {
  "kernelspec": {
   "display_name": "Python 3",
   "language": "python",
   "name": "python3"
  },
  "language_info": {
   "codemirror_mode": {
    "name": "ipython",
    "version": 3
   },
   "file_extension": ".py",
   "mimetype": "text/x-python",
   "name": "python",
   "nbconvert_exporter": "python",
   "pygments_lexer": "ipython3",
   "version": "3.7.0"
  }
 },
 "nbformat": 4,
 "nbformat_minor": 2
}
