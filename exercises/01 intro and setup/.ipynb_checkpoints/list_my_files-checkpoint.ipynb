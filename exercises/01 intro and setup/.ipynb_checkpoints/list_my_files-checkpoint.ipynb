{
 "cells": [
  {
   "cell_type": "markdown",
   "metadata": {},
   "source": [
    "# 01 - interacting with the file system\n",
    " welcome to the first workshop, which trains use of the `os` module "
   ]
  },
  {
   "cell_type": "markdown",
   "metadata": {},
   "source": [
    "# problem statement\n",
    "we'll start by describing the problem we want to solve. if you already know all you need to solve it, you can skip the rest of this session! \n",
    "\n",
    "imagine you found a nice dataset you need to analyse, but instead of consisting of a single file or a set of conveniently named files sitting together in a directory the files are scattered about in folders, sub folders, and sub-sub folders. there are tens, or hundreds of them. also, not all of the files are data files, some of them are documentation files. \n",
    "\n",
    "you just want a list of the data files so you can iterate over it and process  them all in some way. so you now need to create a python function that takes a path to a root directory as its arguement, and then will traverse the  folder tree structure and collect all the files therein that have a given filename extension and returns a list of the files found (path + filename) \n",
    "\n",
    "## bonus: \n",
    "filter the data files (assumed to have `.dat` filename ending) and return the list, ordered by **decreasing file size**."
   ]
  },
  {
   "cell_type": "markdown",
   "metadata": {},
   "source": [
    "we will start easy. the `os` module allows our python session to interact with the wider world of the operating system outside of it, including the file system."
   ]
  },
  {
   "cell_type": "code",
   "execution_count": 1,
   "metadata": {},
   "outputs": [],
   "source": [
    "import os"
   ]
  },
  {
   "cell_type": "code",
   "execution_count": 2,
   "metadata": {},
   "outputs": [
    {
     "name": "stdout",
     "output_type": "stream",
     "text": [
      "/Users/oholm/work/python_exercises/exercises/01 intro and setup\n"
     ]
    }
   ],
   "source": [
    "# let's find out where the root folder of the python session is:\n",
    "print(os.getcwd()) # get-current-working-directory\n",
    "start_here = os.getcwd() # save it in a variable."
   ]
  },
  {
   "cell_type": "code",
   "execution_count": 3,
   "metadata": {},
   "outputs": [
    {
     "name": "stdout",
     "output_type": "stream",
     "text": [
      "['.DS_Store', 'first_exercise.md', 'list_my_files.ipynb', 'listmyfiles.py', 'exciting_data', '.ipynb_checkpoints']\n",
      "['.DS_Store', '06 numerical_computation', '04 brandwatch api', '07 read_pdf', 'jupyter_notebooks', '03 dates_and_times', '01 intro and setup', '08 machine learning ', '02 read_write_data', '05 graphing']\n",
      "['.DS_Store', 'solutions', 'code snippets', 'README.md', 'notes', '.gitignore', 'exercises', 'graphs', '.git', 'using_apis']\n"
     ]
    }
   ],
   "source": [
    "# this command returns a python list whose elements are the contents of the directory\n",
    "print(os.listdir('.'))      # current directory\n",
    "print(os.listdir('../'))    # up one level\n",
    "print(os.listdir('../../')) # up two levels, etc\n",
    "items = os.listdir('.') # store contents of current directory"
   ]
  },
  {
   "cell_type": "code",
   "execution_count": 4,
   "metadata": {},
   "outputs": [
    {
     "data": {
      "text/plain": [
       "['.DS_Store',\n",
       " 'first_exercise.md',\n",
       " 'list_my_files.ipynb',\n",
       " 'tempfolder',\n",
       " 'listmyfiles.py',\n",
       " 'exciting_data',\n",
       " '.ipynb_checkpoints']"
      ]
     },
     "execution_count": 4,
     "metadata": {},
     "output_type": "execute_result"
    }
   ],
   "source": [
    "# we can create a new folder within the python session\n",
    "os.mkdir('tempfolder')\n",
    "os.listdir('.')      # see it?"
   ]
  },
  {
   "cell_type": "code",
   "execution_count": 5,
   "metadata": {},
   "outputs": [
    {
     "name": "stdout",
     "output_type": "stream",
     "text": [
      "['sub']\n",
      "[]\n"
     ]
    }
   ],
   "source": [
    "# we can even create a subfolder\n",
    "os.mkdir('tempfolder/sub')\n",
    "print(os.listdir('tempfolder')) # now you see it?\n",
    "os.rmdir('tempfolder/sub/')\n",
    "print(os.listdir('tempfolder')) # now you don't!"
   ]
  },
  {
   "cell_type": "code",
   "execution_count": 6,
   "metadata": {},
   "outputs": [
    {
     "name": "stdout",
     "output_type": "stream",
     "text": [
      "['sub1']\n",
      "['sub2']\n",
      "[]\n"
     ]
    }
   ],
   "source": [
    "# to make a subfolder hierarchy in one go use \n",
    "os.makedirs('tempfolder/sub1/sub2') # (new in python3)\n",
    "print(os.listdir('tempfolder'))\n",
    "print(os.listdir('tempfolder/sub1'))\n",
    "print(os.listdir('tempfolder/sub1/sub2'))"
   ]
  },
  {
   "cell_type": "code",
   "execution_count": 7,
   "metadata": {},
   "outputs": [
    {
     "name": "stdout",
     "output_type": "stream",
     "text": [
      "['sub2']\n",
      "[]\n"
     ]
    }
   ],
   "source": [
    "# we can traverse the folder structure\n",
    "os.chdir('tempfolder/sub1/')\n",
    "print(os.listdir('.')) # sub2\n",
    "os.chdir('sub2/')\n",
    "print(os.listdir('.')) # nothing here yet.\n",
    "os.chdir(start_here)   # going back 'home'"
   ]
  },
  {
   "cell_type": "code",
   "execution_count": 8,
   "metadata": {},
   "outputs": [
    {
     "name": "stdout",
     "output_type": "stream",
     "text": [
      "deletion of the directory tempfolder failed\n"
     ]
    }
   ],
   "source": [
    "# can only remove empty folders.\n",
    "path='tempfolder'\n",
    "try:  \n",
    "    os.rmdir(path)\n",
    "except OSError:  \n",
    "    print (\"deletion of the directory %s failed\" % path)\n",
    "else:  \n",
    "    print (\"successfully deleted the directory %s\" % path)"
   ]
  },
  {
   "cell_type": "code",
   "execution_count": 9,
   "metadata": {},
   "outputs": [
    {
     "name": "stdout",
     "output_type": "stream",
     "text": [
      "['.DS_Store', 'first_exercise.md', 'list_my_files.ipynb', 'tempfolder', 'listmyfiles.py', 'exciting_data', '.ipynb_checkpoints']\n"
     ]
    }
   ],
   "source": [
    "print(os.listdir('.'))\n",
    "#print(os.listdir('tempfolder/sub1/sub2'))"
   ]
  },
  {
   "cell_type": "code",
   "execution_count": 10,
   "metadata": {},
   "outputs": [
    {
     "name": "stdout",
     "output_type": "stream",
     "text": [
      "['.DS_Store', 'first_exercise.md', 'list_my_files.ipynb', 'listmyfiles.py', 'exciting_data', '.ipynb_checkpoints']\n"
     ]
    }
   ],
   "source": [
    "os.rmdir('tempfolder/sub1/sub2')\n",
    "os.rmdir('tempfolder/sub1/')\n",
    "os.rmdir('tempfolder/')\n",
    "print(os.listdir('.'))"
   ]
  },
  {
   "cell_type": "code",
   "execution_count": 11,
   "metadata": {},
   "outputs": [
    {
     "name": "stdout",
     "output_type": "stream",
     "text": [
      "/Users/oholm/work/python_exercises/exercises/01 intro and setup\n",
      "/Users/oholm\n"
     ]
    }
   ],
   "source": [
    "# note the home directory component of the cwd:\n",
    "print(os.getcwd())\n",
    "# there is a function for expanding the user home directory\n",
    "print(os.path.expanduser('~'))\n",
    "USER_HOME = os.path.expanduser('~') # save that"
   ]
  },
  {
   "cell_type": "code",
   "execution_count": 12,
   "metadata": {},
   "outputs": [
    {
     "name": "stdout",
     "output_type": "stream",
     "text": [
      "/Users/oholm/Desktop\n"
     ]
    }
   ],
   "source": [
    "# we can join folder paths together using os.path.join\n",
    "example_dir = os.path.join(USER_HOME, 'Desktop')\n",
    "print(example_dir)"
   ]
  },
  {
   "cell_type": "code",
   "execution_count": 13,
   "metadata": {},
   "outputs": [
    {
     "name": "stdout",
     "output_type": "stream",
     "text": [
      "/Users/oholm/.bash_profile\n",
      "True\n",
      "True\n",
      "True\n"
     ]
    }
   ],
   "source": [
    "# we probably all have this file on our systems\n",
    "example_file = os.path.join(USER_HOME, '.bash_profile')\n",
    "print(example_file)\n",
    "print(os.path.exists(example_file)) # should be true?\n",
    "print(os.path.isfile(example_file)) # should be true?\n",
    "example_dir = os.path.join(USER_HOME, 'Desktop')\n",
    "print(os.path.isdir(example_dir)) # should be true?"
   ]
  },
  {
   "cell_type": "code",
   "execution_count": 14,
   "metadata": {},
   "outputs": [
    {
     "name": "stdout",
     "output_type": "stream",
     "text": [
      ".DS_Store is a file\n",
      "first_exercise.md is a file\n",
      "list_my_files.ipynb is a file\n",
      "listmyfiles.py is a file\n",
      "exciting_data is a directory\n",
      ".ipynb_checkpoints is a directory\n"
     ]
    }
   ],
   "source": [
    "all_items = os.listdir('.') # save the list\n",
    "for item in all_items:\n",
    "    if os.path.isfile(item):\n",
    "        print(item, 'is a file')\n",
    "    elif os.path.isdir(item):\n",
    "        print(item, 'is a directory')\n",
    "    else:\n",
    "        print('what is', item, '??')"
   ]
  },
  {
   "cell_type": "markdown",
   "metadata": {},
   "source": [
    "# back to the problem at hand\n",
    "how do we solve the issue mentioned earlier about data files in subdirectories? we could use the commands above, a recursive function, that took a directory, scanned a directory, collected any files found and entered any directory found and scanned that, etc...\n",
    "\n",
    "but someone has already done that for us. there is a function for that! `os.walk(somepath)`. try it:"
   ]
  },
  {
   "cell_type": "code",
   "execution_count": 15,
   "metadata": {},
   "outputs": [
    {
     "data": {
      "text/plain": [
       "<generator object walk at 0x10ec7ddb0>"
      ]
     },
     "execution_count": 15,
     "metadata": {},
     "output_type": "execute_result"
    }
   ],
   "source": [
    "os.walk('.')"
   ]
  },
  {
   "cell_type": "markdown",
   "metadata": {},
   "source": [
    "`os.walk` returns an generator that recursively yields three-tuples of: \n",
    "   1) the current directory path\n",
    "   2) directories in the current path\n",
    "   3) files in the current path\n",
    "then it traverses into the directories in turn and repeats for that path.\n",
    "\n",
    "consider this output:"
   ]
  },
  {
   "cell_type": "code",
   "execution_count": 17,
   "metadata": {},
   "outputs": [
    {
     "name": "stdout",
     "output_type": "stream",
     "text": [
      "root: exciting_data\n",
      "dirs: ['sub_1', 'sub_3', 'sub_2']\n",
      "files ['file2.dat', 'file1.dat']\n",
      "-------------\n",
      "root: exciting_data/sub_1\n",
      "dirs: []\n",
      "files ['file3.dat']\n",
      "-------------\n",
      "root: exciting_data/sub_3\n",
      "dirs: []\n",
      "files ['file5.dat']\n",
      "-------------\n",
      "root: exciting_data/sub_2\n",
      "dirs: ['subsub_2', 'subsub_3', 'subsub_1']\n",
      "files ['file4.dat']\n",
      "-------------\n",
      "root: exciting_data/sub_2/subsub_2\n",
      "dirs: []\n",
      "files []\n",
      "-------------\n",
      "root: exciting_data/sub_2/subsub_3\n",
      "dirs: ['thisisenough']\n",
      "files []\n",
      "-------------\n",
      "root: exciting_data/sub_2/subsub_3/thisisenough\n",
      "dirs: []\n",
      "files ['file7.dat', 'file8.doc', 'file9.cat']\n",
      "-------------\n",
      "root: exciting_data/sub_2/subsub_1\n",
      "dirs: []\n",
      "files ['file6.dat', 'evil_file.dat.doc']\n",
      "-------------\n"
     ]
    }
   ],
   "source": [
    "for current_dir, directories, files in os.walk(\"exciting_data\"):\n",
    "    print('root:', current_dir)\n",
    "    print('dirs:', directories)\n",
    "    print('files', files)\n",
    "    print('-------------')"
   ]
  }
 ],
 "metadata": {
  "kernelspec": {
   "display_name": "Python 3",
   "language": "python",
   "name": "python3"
  },
  "language_info": {
   "codemirror_mode": {
    "name": "ipython",
    "version": 3
   },
   "file_extension": ".py",
   "mimetype": "text/x-python",
   "name": "python",
   "nbconvert_exporter": "python",
   "pygments_lexer": "ipython3",
   "version": "3.6.5"
  }
 },
 "nbformat": 4,
 "nbformat_minor": 2
}
