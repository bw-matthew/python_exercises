{
 "cells": [
  {
   "cell_type": "markdown",
   "metadata": {},
   "source": [
    "# Drawing simple graphs with 'plotly' library\n",
    "\n",
    "This notebook shows you, by example, how to use the plotly library for making pretty, zoomable graphs inside a notebook.\n",
    "\n",
    "The first thing you need to do is import the 'plotly' library and initialise it for \"notebook mode\".\n"
   ]
  },
  {
   "cell_type": "code",
   "execution_count": 1,
   "metadata": {
    "scrolled": true
   },
   "outputs": [
    {
     "name": "stdout",
     "output_type": "stream",
     "text": [
      "Plotly version: 3.4.1\n"
     ]
    },
    {
     "data": {
      "text/html": [
       "<script type=\"text/javascript\">window.PlotlyConfig = {MathJaxConfig: 'local'};</script><script type=\"text/javascript\">if (window.MathJax) {MathJax.Hub.Config({SVG: {font: \"STIX-Web\"}});}</script><script>requirejs.config({paths: { 'plotly': ['https://cdn.plot.ly/plotly-latest.min']},});if(!window._Plotly) {require(['plotly'],function(plotly) {window._Plotly=plotly;});}</script>"
      ],
      "text/vnd.plotly.v1+html": [
       "<script type=\"text/javascript\">window.PlotlyConfig = {MathJaxConfig: 'local'};</script><script type=\"text/javascript\">if (window.MathJax) {MathJax.Hub.Config({SVG: {font: \"STIX-Web\"}});}</script><script>requirejs.config({paths: { 'plotly': ['https://cdn.plot.ly/plotly-latest.min']},});if(!window._Plotly) {require(['plotly'],function(plotly) {window._Plotly=plotly;});}</script>"
      ]
     },
     "metadata": {},
     "output_type": "display_data"
    }
   ],
   "source": [
    "from plotly import __version__ as plotly_version\n",
    "from plotly.offline import init_notebook_mode, iplot\n",
    "\n",
    "print(\"Plotly version: \" + plotly_version)\n",
    "\n",
    "init_notebook_mode(connected=True)         # initiate notebook for offline plot\n"
   ]
  },
  {
   "cell_type": "code",
   "execution_count": null,
   "metadata": {},
   "outputs": [],
   "source": []
  },
  {
   "cell_type": "markdown",
   "metadata": {},
   "source": [
    "## Making a basic line chart:\n",
    "\n",
    "To get a plot, we assemble the data into a specially crafted dictionary, and pass it to the `iplot` function. \n",
    "\n",
    "By default we'll get a line chart.\n",
    "\n",
    "Note that your plot should be interactive: you should have some zooming and panning buttons at the top right, and if you hover over a point you should see a tooltip showing the value (we'll customise what the tooltip shows in a bit)."
   ]
  },
  {
   "cell_type": "code",
   "execution_count": 2,
   "metadata": {},
   "outputs": [
    {
     "data": {
      "application/vnd.plotly.v1+json": {
       "data": [
        {
         "type": "scatter",
         "uid": "829d02d8-c8b4-48ee-a5f9-200563cb3368",
         "x": [
          1,
          2.5,
          3
         ],
         "y": [
          4,
          5,
          6
         ]
        }
       ],
       "layout": {}
      },
      "text/html": [
       "<div id=\"8941baf1-d838-473a-a12f-69fa8873c09f\" style=\"height: 525px; width: 100%;\" class=\"plotly-graph-div\"></div><script type=\"text/javascript\">require([\"plotly\"], function(Plotly) { window.PLOTLYENV=window.PLOTLYENV || {};window.PLOTLYENV.BASE_URL=\"https://plot.ly\";Plotly.newPlot(\"8941baf1-d838-473a-a12f-69fa8873c09f\", [{\"x\": [1, 2.5, 3], \"y\": [4, 5, 6], \"type\": \"scatter\", \"uid\": \"0deb9b0b-1aef-4276-8c22-cb04ff07bc8a\"}], {}, {\"showLink\": true, \"linkText\": \"Export to plot.ly\"})});</script><script type=\"text/javascript\">window.addEventListener(\"resize\", function(){window._Plotly.Plots.resize(document.getElementById(\"8941baf1-d838-473a-a12f-69fa8873c09f\"));});</script>"
      ],
      "text/vnd.plotly.v1+html": [
       "<div id=\"8941baf1-d838-473a-a12f-69fa8873c09f\" style=\"height: 525px; width: 100%;\" class=\"plotly-graph-div\"></div><script type=\"text/javascript\">require([\"plotly\"], function(Plotly) { window.PLOTLYENV=window.PLOTLYENV || {};window.PLOTLYENV.BASE_URL=\"https://plot.ly\";Plotly.newPlot(\"8941baf1-d838-473a-a12f-69fa8873c09f\", [{\"x\": [1, 2.5, 3], \"y\": [4, 5, 6], \"type\": \"scatter\", \"uid\": \"0deb9b0b-1aef-4276-8c22-cb04ff07bc8a\"}], {}, {\"showLink\": true, \"linkText\": \"Export to plot.ly\"})});</script><script type=\"text/javascript\">window.addEventListener(\"resize\", function(){window._Plotly.Plots.resize(document.getElementById(\"8941baf1-d838-473a-a12f-69fa8873c09f\"));});</script>"
      ]
     },
     "metadata": {},
     "output_type": "display_data"
    }
   ],
   "source": [
    "figure = {\n",
    "    'data': [\n",
    "        {\n",
    "           'x': [1, 2.5, 3],\n",
    "           'y': [4, 5, 6]\n",
    "        }]\n",
    "}\n",
    "\n",
    "iplot(figure)"
   ]
  },
  {
   "cell_type": "markdown",
   "metadata": {},
   "source": [
    "## Adding multiple lines:\n",
    "\n",
    "this `dict` has, at minimum, a key labelled `data` whose value a list of dictionaries, each of which specifies values on the `x` and `y` axes. we can plot multiple lines, by adding to like this:"
   ]
  },
  {
   "cell_type": "code",
   "execution_count": 3,
   "metadata": {},
   "outputs": [
    {
     "data": {
      "application/vnd.plotly.v1+json": {
       "data": [
        {
         "type": "scatter",
         "uid": "74b255f2-e3fd-4bde-8a27-432f68bc8686",
         "x": [
          1,
          2.5,
          3
         ],
         "y": [
          4,
          5,
          6
         ]
        },
        {
         "type": "scatter",
         "uid": "0ee99950-61fe-4b0e-99a1-d6beb397e716",
         "x": [
          2.2,
          2.5,
          3
         ],
         "y": [
          4.1,
          7,
          8.8
         ]
        }
       ],
       "layout": {}
      },
      "text/html": [
       "<div id=\"1a895135-e9eb-49c9-8710-eaa229641848\" style=\"height: 525px; width: 100%;\" class=\"plotly-graph-div\"></div><script type=\"text/javascript\">require([\"plotly\"], function(Plotly) { window.PLOTLYENV=window.PLOTLYENV || {};window.PLOTLYENV.BASE_URL=\"https://plot.ly\";Plotly.newPlot(\"1a895135-e9eb-49c9-8710-eaa229641848\", [{\"x\": [1, 2.5, 3], \"y\": [4, 5, 6], \"type\": \"scatter\", \"uid\": \"5cd165f6-a82a-4166-868a-fdca687dba35\"}, {\"x\": [2.2, 2.5, 3], \"y\": [4.1, 7, 8.8], \"type\": \"scatter\", \"uid\": \"ee1c7ff8-63c3-464b-aeed-5eaab31bc63b\"}], {}, {\"showLink\": true, \"linkText\": \"Export to plot.ly\"})});</script><script type=\"text/javascript\">window.addEventListener(\"resize\", function(){window._Plotly.Plots.resize(document.getElementById(\"1a895135-e9eb-49c9-8710-eaa229641848\"));});</script>"
      ],
      "text/vnd.plotly.v1+html": [
       "<div id=\"1a895135-e9eb-49c9-8710-eaa229641848\" style=\"height: 525px; width: 100%;\" class=\"plotly-graph-div\"></div><script type=\"text/javascript\">require([\"plotly\"], function(Plotly) { window.PLOTLYENV=window.PLOTLYENV || {};window.PLOTLYENV.BASE_URL=\"https://plot.ly\";Plotly.newPlot(\"1a895135-e9eb-49c9-8710-eaa229641848\", [{\"x\": [1, 2.5, 3], \"y\": [4, 5, 6], \"type\": \"scatter\", \"uid\": \"5cd165f6-a82a-4166-868a-fdca687dba35\"}, {\"x\": [2.2, 2.5, 3], \"y\": [4.1, 7, 8.8], \"type\": \"scatter\", \"uid\": \"ee1c7ff8-63c3-464b-aeed-5eaab31bc63b\"}], {}, {\"showLink\": true, \"linkText\": \"Export to plot.ly\"})});</script><script type=\"text/javascript\">window.addEventListener(\"resize\", function(){window._Plotly.Plots.resize(document.getElementById(\"1a895135-e9eb-49c9-8710-eaa229641848\"));});</script>"
      ]
     },
     "metadata": {},
     "output_type": "display_data"
    }
   ],
   "source": [
    "figure = {\n",
    "    'data': [\n",
    "        {\n",
    "           'x': [1, 2.5, 3],\n",
    "           'y': [4, 5, 6]\n",
    "        },\n",
    "        {\n",
    "           'x': [2.2, 2.5, 3],\n",
    "           'y': [4.1, 7, 8.8]            \n",
    "        }]\n",
    "}\n",
    "\n",
    "iplot(figure)"
   ]
  },
  {
   "cell_type": "markdown",
   "metadata": {},
   "source": [
    "## Styling it up: \n",
    "\n",
    "To improve the appearance of our chart, we can add an extra 'layout' element to the dictionary, and also add a name to each line."
   ]
  },
  {
   "cell_type": "code",
   "execution_count": 4,
   "metadata": {
    "scrolled": false
   },
   "outputs": [
    {
     "data": {
      "application/vnd.plotly.v1+json": {
       "data": [
        {
         "name": "First lovely line",
         "type": "scatter",
         "uid": "dac390fb-2c04-40d7-b897-1bb294bdbb5f",
         "x": [
          1,
          2.5,
          3
         ],
         "y": [
          4,
          5,
          6
         ]
        },
        {
         "name": "Second lovely line",
         "type": "scatter",
         "uid": "3fb799ae-a02c-4f29-8090-baaf5fe894c9",
         "x": [
          2.2,
          2.5,
          3
         ],
         "y": [
          4.1,
          7,
          8.8
         ]
        }
       ],
       "layout": {
        "legend": {
         "orientation": "h",
         "x": 0.5,
         "xanchor": "center",
         "y": -0.3,
         "yanchor": "bottom"
        },
        "title": "This is the plot title",
        "xaxis": {
         "range": [
          -0.5,
          3.5
         ],
         "title": "This is the horizontal axis title"
        },
        "yaxis": {
         "range": [
          -1,
          10
         ],
         "title": "This is the vertical axis title"
        }
       }
      },
      "text/html": [
       "<div id=\"ea276993-f7bb-4543-b7dd-d033e3d7aa8a\" style=\"height: 525px; width: 100%;\" class=\"plotly-graph-div\"></div><script type=\"text/javascript\">require([\"plotly\"], function(Plotly) { window.PLOTLYENV=window.PLOTLYENV || {};window.PLOTLYENV.BASE_URL=\"https://plot.ly\";Plotly.newPlot(\"ea276993-f7bb-4543-b7dd-d033e3d7aa8a\", [{\"name\": \"First lovely line\", \"x\": [1, 2.5, 3], \"y\": [4, 5, 6], \"type\": \"scatter\", \"uid\": \"edf1bcb1-478a-45c8-adfc-11cdc4826dd6\"}, {\"name\": \"Second lovely line\", \"x\": [2.2, 2.5, 3], \"y\": [4.1, 7, 8.8], \"type\": \"scatter\", \"uid\": \"7d9187c7-d915-431d-a244-d83afb7f2ed7\"}], {\"legend\": {\"orientation\": \"h\", \"x\": 0.5, \"xanchor\": \"center\", \"y\": -0.3, \"yanchor\": \"bottom\"}, \"title\": \"This is the plot title\", \"xaxis\": {\"range\": [-0.5, 3.5], \"title\": \"This is the horizontal axis title\"}, \"yaxis\": {\"range\": [-1, 10], \"title\": \"This is the vertical axis title\"}}, {\"showLink\": true, \"linkText\": \"Export to plot.ly\"})});</script><script type=\"text/javascript\">window.addEventListener(\"resize\", function(){window._Plotly.Plots.resize(document.getElementById(\"ea276993-f7bb-4543-b7dd-d033e3d7aa8a\"));});</script>"
      ],
      "text/vnd.plotly.v1+html": [
       "<div id=\"ea276993-f7bb-4543-b7dd-d033e3d7aa8a\" style=\"height: 525px; width: 100%;\" class=\"plotly-graph-div\"></div><script type=\"text/javascript\">require([\"plotly\"], function(Plotly) { window.PLOTLYENV=window.PLOTLYENV || {};window.PLOTLYENV.BASE_URL=\"https://plot.ly\";Plotly.newPlot(\"ea276993-f7bb-4543-b7dd-d033e3d7aa8a\", [{\"name\": \"First lovely line\", \"x\": [1, 2.5, 3], \"y\": [4, 5, 6], \"type\": \"scatter\", \"uid\": \"edf1bcb1-478a-45c8-adfc-11cdc4826dd6\"}, {\"name\": \"Second lovely line\", \"x\": [2.2, 2.5, 3], \"y\": [4.1, 7, 8.8], \"type\": \"scatter\", \"uid\": \"7d9187c7-d915-431d-a244-d83afb7f2ed7\"}], {\"legend\": {\"orientation\": \"h\", \"x\": 0.5, \"xanchor\": \"center\", \"y\": -0.3, \"yanchor\": \"bottom\"}, \"title\": \"This is the plot title\", \"xaxis\": {\"range\": [-0.5, 3.5], \"title\": \"This is the horizontal axis title\"}, \"yaxis\": {\"range\": [-1, 10], \"title\": \"This is the vertical axis title\"}}, {\"showLink\": true, \"linkText\": \"Export to plot.ly\"})});</script><script type=\"text/javascript\">window.addEventListener(\"resize\", function(){window._Plotly.Plots.resize(document.getElementById(\"ea276993-f7bb-4543-b7dd-d033e3d7aa8a\"));});</script>"
      ]
     },
     "metadata": {},
     "output_type": "display_data"
    }
   ],
   "source": [
    "layout = {\n",
    "    'title': 'This is the plot title',\n",
    "    'xaxis': {\n",
    "        'title': 'This is the horizontal axis title',\n",
    "        'range': [-0.5, 3.5]\n",
    "        },\n",
    "    'yaxis': {\n",
    "        'title': 'This is the vertical axis title',\n",
    "        'range': [-1, 10]\n",
    "        },\n",
    "    'legend':{\n",
    "        'orientation': 'h',\n",
    "        'xanchor':\"center\",\n",
    "        'yanchor':\"bottom\",\n",
    "        'y':-0.3,\n",
    "        'x':0.5\n",
    "    }\n",
    "}\n",
    "\n",
    "figure = {\n",
    "    'data': [\n",
    "        {\n",
    "            'x': [1, 2.5, 3],\n",
    "            'y': [4, 5, 6],\n",
    "            'name': \"First lovely line\"\n",
    "        },\n",
    "        {\n",
    "            'x': [2.2, 2.5, 3],\n",
    "            'y': [4.1, 7, 8.8],\n",
    "            'name': \"Second lovely line\"\n",
    "        }],\n",
    "    'layout': layout\n",
    "}\n",
    "\n",
    "iplot(figure)"
   ]
  },
  {
   "cell_type": "markdown",
   "metadata": {},
   "source": [
    "## How to know what you're allowed to put into the dictionary:\n",
    "\n",
    "At this point you might wonder, \"How on earth do I know what I'm allowed to put in the dictionary that defines the figure?\" There is a reference for the different things you can put into the 'figure' dictionary [here on the web](https://plot.ly/python/reference/).\n"
   ]
  },
  {
   "cell_type": "markdown",
   "metadata": {},
   "source": [
    "## More styling:\n",
    "\n",
    "If you want to see just the points (with no lines), or just the lines (with no points) you can do that easily enough. You can also make a dashed line, for example, or change the size or colour of the markers. You can also add customised hover text for each point.\n",
    "\n",
    "Although we won't go into it here, you can also apply styling such as colour and marker size to each point individually (so you could use a colour gradient to add a third variable, for instance)."
   ]
  },
  {
   "cell_type": "code",
   "execution_count": 5,
   "metadata": {},
   "outputs": [
    {
     "data": {
      "application/vnd.plotly.v1+json": {
       "data": [
        {
         "marker": {
          "color": "rgb(128, 0, 128)",
          "size": 15
         },
         "mode": "markers",
         "text": [
          "Julian",
          "Dick",
          "Anne",
          "George",
          "Timmy"
         ],
         "type": "scatter",
         "uid": "d4c5f5f4-8437-4a49-95cc-0a5210fdc03c",
         "x": [
          1,
          2.5,
          3,
          5,
          5.1
         ],
         "y": [
          4,
          5,
          6,
          6.2,
          7
         ]
        },
        {
         "line": {
          "color": "rgb(64, 64, 196)",
          "dash": "dashdot",
          "width": 4
         },
         "mode": "lines",
         "type": "scatter",
         "uid": "bcd024f4-27dc-4af5-b076-15892d9d4f4d",
         "x": [
          2.2,
          2.5,
          3,
          4,
          6,
          6.7
         ],
         "y": [
          4.1,
          7,
          8.8,
          9.1,
          10,
          12
         ]
        }
       ],
       "layout": {}
      },
      "text/html": [
       "<div id=\"059cb46e-cd00-4703-b35d-d241ab1aeed5\" style=\"height: 525px; width: 100%;\" class=\"plotly-graph-div\"></div><script type=\"text/javascript\">require([\"plotly\"], function(Plotly) { window.PLOTLYENV=window.PLOTLYENV || {};window.PLOTLYENV.BASE_URL=\"https://plot.ly\";Plotly.newPlot(\"059cb46e-cd00-4703-b35d-d241ab1aeed5\", [{\"marker\": {\"color\": \"rgb(128, 0, 128)\", \"size\": 15}, \"mode\": \"markers\", \"text\": [\"Julian\", \"Dick\", \"Anne\", \"George\", \"Timmy\"], \"x\": [1, 2.5, 3, 5, 5.1], \"y\": [4, 5, 6, 6.2, 7], \"type\": \"scatter\", \"uid\": \"f42ad1cd-d314-442c-a533-b4453fff7197\"}, {\"line\": {\"color\": \"rgb(64, 64, 196)\", \"dash\": \"dashdot\", \"width\": 4}, \"mode\": \"lines\", \"x\": [2.2, 2.5, 3, 4, 6, 6.7], \"y\": [4.1, 7, 8.8, 9.1, 10, 12], \"type\": \"scatter\", \"uid\": \"0dd0bc7e-5809-4d30-adea-c8fe663f6afb\"}], {}, {\"showLink\": true, \"linkText\": \"Export to plot.ly\"})});</script><script type=\"text/javascript\">window.addEventListener(\"resize\", function(){window._Plotly.Plots.resize(document.getElementById(\"059cb46e-cd00-4703-b35d-d241ab1aeed5\"));});</script>"
      ],
      "text/vnd.plotly.v1+html": [
       "<div id=\"059cb46e-cd00-4703-b35d-d241ab1aeed5\" style=\"height: 525px; width: 100%;\" class=\"plotly-graph-div\"></div><script type=\"text/javascript\">require([\"plotly\"], function(Plotly) { window.PLOTLYENV=window.PLOTLYENV || {};window.PLOTLYENV.BASE_URL=\"https://plot.ly\";Plotly.newPlot(\"059cb46e-cd00-4703-b35d-d241ab1aeed5\", [{\"marker\": {\"color\": \"rgb(128, 0, 128)\", \"size\": 15}, \"mode\": \"markers\", \"text\": [\"Julian\", \"Dick\", \"Anne\", \"George\", \"Timmy\"], \"x\": [1, 2.5, 3, 5, 5.1], \"y\": [4, 5, 6, 6.2, 7], \"type\": \"scatter\", \"uid\": \"f42ad1cd-d314-442c-a533-b4453fff7197\"}, {\"line\": {\"color\": \"rgb(64, 64, 196)\", \"dash\": \"dashdot\", \"width\": 4}, \"mode\": \"lines\", \"x\": [2.2, 2.5, 3, 4, 6, 6.7], \"y\": [4.1, 7, 8.8, 9.1, 10, 12], \"type\": \"scatter\", \"uid\": \"0dd0bc7e-5809-4d30-adea-c8fe663f6afb\"}], {}, {\"showLink\": true, \"linkText\": \"Export to plot.ly\"})});</script><script type=\"text/javascript\">window.addEventListener(\"resize\", function(){window._Plotly.Plots.resize(document.getElementById(\"059cb46e-cd00-4703-b35d-d241ab1aeed5\"));});</script>"
      ]
     },
     "metadata": {},
     "output_type": "display_data"
    }
   ],
   "source": [
    "figure = {\n",
    "    'data': [\n",
    "        {\n",
    "            'x': [1, 2.5, 3, 5, 5.1],\n",
    "            'y': [4, 5, 6, 6.2, 7],\n",
    "            'mode': 'markers',\n",
    "            'marker': {\n",
    "                'color': 'rgb(128, 0, 128)',\n",
    "                'size': 15\n",
    "            },\n",
    "            'text': [\"Julian\", \"Dick\", \"Anne\", \"George\", \"Timmy\"]\n",
    "        },\n",
    "        {\n",
    "            'x': [2.2, 2.5, 3, 4, 6, 6.7],\n",
    "            'y': [4.1, 7, 8.8, 9.1, 10, 12],\n",
    "            'mode': 'lines',\n",
    "            'line': {\n",
    "                'dash': 'dashdot',\n",
    "                'width': 4,\n",
    "                'color': 'rgb(64, 64, 196)'\n",
    "            }\n",
    "        }]\n",
    "}\n",
    "\n",
    "iplot(figure)"
   ]
  },
  {
   "cell_type": "markdown",
   "metadata": {},
   "source": [
    "There are lots of great example graphs *with code* on the plotly website, for example [these line charts](https://plot.ly/python/line-charts/).\n",
    "\n",
    "## Making a nice bar chart:\n",
    "You can do other types of plot in a similar way, for example bar charts:"
   ]
  },
  {
   "cell_type": "code",
   "execution_count": 6,
   "metadata": {},
   "outputs": [
    {
     "data": {
      "application/vnd.plotly.v1+json": {
       "data": [
        {
         "name": "Volume",
         "type": "bar",
         "uid": "0f4fc294-a956-4452-b1a4-9b6fd66135f6",
         "x": [
          "one thing",
          "another thing",
          "yet another thing",
          "a supernumerary thing"
         ],
         "y": [
          10,
          12,
          7,
          9
         ]
        }
       ],
       "layout": {
        "title": "Some kind of daily volume bar chart"
       }
      },
      "text/html": [
       "<div id=\"25c28ad6-d164-4b7b-964a-72bb1edea740\" style=\"height: 525px; width: 100%;\" class=\"plotly-graph-div\"></div><script type=\"text/javascript\">require([\"plotly\"], function(Plotly) { window.PLOTLYENV=window.PLOTLYENV || {};window.PLOTLYENV.BASE_URL=\"https://plot.ly\";Plotly.newPlot(\"25c28ad6-d164-4b7b-964a-72bb1edea740\", [{\"name\": \"Volume\", \"x\": [\"one thing\", \"another thing\", \"yet another thing\", \"a supernumerary thing\"], \"y\": [10, 12, 7, 9], \"type\": \"bar\", \"uid\": \"53593a84-572c-4d31-849e-20aebfd5939e\"}], {\"title\": \"Some kind of daily volume bar chart\"}, {\"showLink\": true, \"linkText\": \"Export to plot.ly\"})});</script><script type=\"text/javascript\">window.addEventListener(\"resize\", function(){window._Plotly.Plots.resize(document.getElementById(\"25c28ad6-d164-4b7b-964a-72bb1edea740\"));});</script>"
      ],
      "text/vnd.plotly.v1+html": [
       "<div id=\"25c28ad6-d164-4b7b-964a-72bb1edea740\" style=\"height: 525px; width: 100%;\" class=\"plotly-graph-div\"></div><script type=\"text/javascript\">require([\"plotly\"], function(Plotly) { window.PLOTLYENV=window.PLOTLYENV || {};window.PLOTLYENV.BASE_URL=\"https://plot.ly\";Plotly.newPlot(\"25c28ad6-d164-4b7b-964a-72bb1edea740\", [{\"name\": \"Volume\", \"x\": [\"one thing\", \"another thing\", \"yet another thing\", \"a supernumerary thing\"], \"y\": [10, 12, 7, 9], \"type\": \"bar\", \"uid\": \"53593a84-572c-4d31-849e-20aebfd5939e\"}], {\"title\": \"Some kind of daily volume bar chart\"}, {\"showLink\": true, \"linkText\": \"Export to plot.ly\"})});</script><script type=\"text/javascript\">window.addEventListener(\"resize\", function(){window._Plotly.Plots.resize(document.getElementById(\"25c28ad6-d164-4b7b-964a-72bb1edea740\"));});</script>"
      ]
     },
     "metadata": {},
     "output_type": "display_data"
    }
   ],
   "source": [
    "figure = {\n",
    "    'data': [\n",
    "            {'x': ['one thing', 'another thing', 'yet another thing', 'a supernumerary thing'],\n",
    "             'y': [10, 12, 7, 9],\n",
    "             'type': 'bar',\n",
    "             'name': 'Volume'\n",
    "            }\n",
    "        ],\n",
    "    'layout': {'title': 'Some kind of daily volume bar chart'}\n",
    "}\n",
    "\n",
    "iplot(figure)"
   ]
  },
  {
   "cell_type": "markdown",
   "metadata": {},
   "source": [
    "## Making a pie chart:"
   ]
  },
  {
   "cell_type": "code",
   "execution_count": 18,
   "metadata": {},
   "outputs": [
    {
     "data": {
      "application/vnd.plotly.v1+json": {
       "data": [
        {
         "direction": "counterclockwise",
         "labels": [
          "one thing",
          "another thing",
          "yet another thing",
          "a supernumerary thing"
         ],
         "name": "Volume",
         "pull": [
          0,
          0.2,
          0,
          0,
          0
         ],
         "rotation": 0,
         "type": "pie",
         "uid": "120a22ba-f2ec-4655-b112-ebcf23ed544d",
         "values": [
          12,
          10,
          9,
          7
         ]
        }
       ],
       "layout": {
        "title": "A pie chart"
       }
      },
      "text/html": [
       "<div id=\"62bc02ae-ee2a-4ad7-9bf3-1cdddf84ac86\" style=\"height: 525px; width: 100%;\" class=\"plotly-graph-div\"></div><script type=\"text/javascript\">require([\"plotly\"], function(Plotly) { window.PLOTLYENV=window.PLOTLYENV || {};window.PLOTLYENV.BASE_URL=\"https://plot.ly\";Plotly.newPlot(\"62bc02ae-ee2a-4ad7-9bf3-1cdddf84ac86\", [{\"direction\": \"counterclockwise\", \"labels\": [\"one thing\", \"another thing\", \"yet another thing\", \"a supernumerary thing\"], \"name\": \"Volume\", \"pull\": [0, 0.2, 0, 0, 0], \"rotation\": 0, \"values\": [12, 10, 9, 7], \"type\": \"pie\", \"uid\": \"11a13310-d7fb-41c1-aa27-5683420317c8\"}], {\"title\": \"A pie chart\"}, {\"showLink\": true, \"linkText\": \"Export to plot.ly\"})});</script><script type=\"text/javascript\">window.addEventListener(\"resize\", function(){window._Plotly.Plots.resize(document.getElementById(\"62bc02ae-ee2a-4ad7-9bf3-1cdddf84ac86\"));});</script>"
      ],
      "text/vnd.plotly.v1+html": [
       "<div id=\"62bc02ae-ee2a-4ad7-9bf3-1cdddf84ac86\" style=\"height: 525px; width: 100%;\" class=\"plotly-graph-div\"></div><script type=\"text/javascript\">require([\"plotly\"], function(Plotly) { window.PLOTLYENV=window.PLOTLYENV || {};window.PLOTLYENV.BASE_URL=\"https://plot.ly\";Plotly.newPlot(\"62bc02ae-ee2a-4ad7-9bf3-1cdddf84ac86\", [{\"direction\": \"counterclockwise\", \"labels\": [\"one thing\", \"another thing\", \"yet another thing\", \"a supernumerary thing\"], \"name\": \"Volume\", \"pull\": [0, 0.2, 0, 0, 0], \"rotation\": 0, \"values\": [12, 10, 9, 7], \"type\": \"pie\", \"uid\": \"11a13310-d7fb-41c1-aa27-5683420317c8\"}], {\"title\": \"A pie chart\"}, {\"showLink\": true, \"linkText\": \"Export to plot.ly\"})});</script><script type=\"text/javascript\">window.addEventListener(\"resize\", function(){window._Plotly.Plots.resize(document.getElementById(\"62bc02ae-ee2a-4ad7-9bf3-1cdddf84ac86\"));});</script>"
      ]
     },
     "metadata": {},
     "output_type": "display_data"
    }
   ],
   "source": [
    "figure = {\n",
    "    'data': [\n",
    "            {'labels': ['one thing', 'another thing', 'yet another thing', 'a supernumerary thing'],\n",
    "             'values': [12, 10, 9, 7],\n",
    "             'type': 'pie',\n",
    "             'name': 'Volume',\n",
    "             'rotation': 0,\n",
    "#             'direction': 'clockwise',\n",
    "             'direction': 'counterclockwise',\n",
    "             'pull': [0,0.2,0,0,0],\n",
    "            }\n",
    "        ],\n",
    "    'layout': {'title': 'A pie chart'}\n",
    "}\n",
    "\n",
    "iplot(figure)"
   ]
  },
  {
   "cell_type": "code",
   "execution_count": null,
   "metadata": {},
   "outputs": [],
   "source": []
  }
 ],
 "metadata": {
  "kernelspec": {
   "display_name": "Python 3",
   "language": "python",
   "name": "python3"
  },
  "language_info": {
   "codemirror_mode": {
    "name": "ipython",
    "version": 3
   },
   "file_extension": ".py",
   "mimetype": "text/x-python",
   "name": "python",
   "nbconvert_exporter": "python",
   "pygments_lexer": "ipython3",
   "version": "3.7.0"
  }
 },
 "nbformat": 4,
 "nbformat_minor": 2
}
