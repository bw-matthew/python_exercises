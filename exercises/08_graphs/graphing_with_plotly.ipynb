{
 "cells": [
  {
   "cell_type": "markdown",
   "metadata": {},
   "source": [
    "# Drawing simple graphs with `plotly` library\n",
    "\n",
    "This notebook shows you, by example, how to use the plotly library for making pretty, zoomable graphs inside a notebook.\n",
    "\n",
    "The first thing you need to do is import the offline functionality of the `plotly` module and initialise it for notebook mode."
   ]
  },
  {
   "cell_type": "code",
   "execution_count": 1,
   "metadata": {
    "scrolled": true
   },
   "outputs": [
    {
     "name": "stdout",
     "output_type": "stream",
     "text": [
      "Plotly version: 3.4.1\n"
     ]
    },
    {
     "data": {
      "text/html": [
       "<script type=\"text/javascript\">window.PlotlyConfig = {MathJaxConfig: 'local'};</script><script type=\"text/javascript\">if (window.MathJax) {MathJax.Hub.Config({SVG: {font: \"STIX-Web\"}});}</script><script>requirejs.config({paths: { 'plotly': ['https://cdn.plot.ly/plotly-latest.min']},});if(!window._Plotly) {require(['plotly'],function(plotly) {window._Plotly=plotly;});}</script>"
      ],
      "text/vnd.plotly.v1+html": [
       "<script type=\"text/javascript\">window.PlotlyConfig = {MathJaxConfig: 'local'};</script><script type=\"text/javascript\">if (window.MathJax) {MathJax.Hub.Config({SVG: {font: \"STIX-Web\"}});}</script><script>requirejs.config({paths: { 'plotly': ['https://cdn.plot.ly/plotly-latest.min']},});if(!window._Plotly) {require(['plotly'],function(plotly) {window._Plotly=plotly;});}</script>"
      ]
     },
     "metadata": {},
     "output_type": "display_data"
    }
   ],
   "source": [
    "from plotly import __version__ as plotly_version\n",
    "from plotly.offline import init_notebook_mode, iplot\n",
    "\n",
    "print(\"Plotly version: \" + plotly_version)\n",
    "\n",
    "init_notebook_mode(connected=True)         # initiate notebook for offline plot"
   ]
  },
  {
   "cell_type": "markdown",
   "metadata": {},
   "source": [
    "## Making a basic line chart:\n",
    "\n",
    "To get a plot, we assemble the data into a specially crafted dictionary, and pass it to the `iplot` function. \n",
    "\n",
    "By default we'll get a line chart.\n",
    "\n",
    "Note that your plot should be interactive: you should have some zooming and panning buttons at the top right, and if you hover over a point you should see a tooltip showing the value (we'll customise what the tooltip shows in a bit)."
   ]
  },
  {
   "cell_type": "code",
   "execution_count": 2,
   "metadata": {},
   "outputs": [
    {
     "data": {
      "application/vnd.plotly.v1+json": {
       "data": [
        {
         "type": "scatter",
<<<<<<< HEAD
         "uid": "b6ce8cf1-79bf-4c9a-b5c0-a2350f133cf5",
=======
         "uid": "54eec186-8ab5-4101-b104-2889031ab7ce",
>>>>>>> 4b34efb9b82c4900b65bf67cabee9f89aaddae0c
         "x": [
          1,
          2.5,
          3
         ],
         "y": [
          4,
          5,
          6
         ]
        }
       ],
       "layout": {}
      },
      "text/html": [
<<<<<<< HEAD
       "<div id=\"313b69e0-0e9b-4f50-9762-2ec36b0517ec\" style=\"height: 525px; width: 100%;\" class=\"plotly-graph-div\"></div><script type=\"text/javascript\">require([\"plotly\"], function(Plotly) { window.PLOTLYENV=window.PLOTLYENV || {};window.PLOTLYENV.BASE_URL=\"https://plot.ly\";Plotly.newPlot(\"313b69e0-0e9b-4f50-9762-2ec36b0517ec\", [{\"x\": [1, 2.5, 3], \"y\": [4, 5, 6], \"type\": \"scatter\", \"uid\": \"7a51fc3a-c1f2-43d3-bff7-a62f3288f19f\"}], {}, {\"showLink\": true, \"linkText\": \"Export to plot.ly\"})});</script><script type=\"text/javascript\">window.addEventListener(\"resize\", function(){window._Plotly.Plots.resize(document.getElementById(\"313b69e0-0e9b-4f50-9762-2ec36b0517ec\"));});</script>"
      ],
      "text/vnd.plotly.v1+html": [
       "<div id=\"313b69e0-0e9b-4f50-9762-2ec36b0517ec\" style=\"height: 525px; width: 100%;\" class=\"plotly-graph-div\"></div><script type=\"text/javascript\">require([\"plotly\"], function(Plotly) { window.PLOTLYENV=window.PLOTLYENV || {};window.PLOTLYENV.BASE_URL=\"https://plot.ly\";Plotly.newPlot(\"313b69e0-0e9b-4f50-9762-2ec36b0517ec\", [{\"x\": [1, 2.5, 3], \"y\": [4, 5, 6], \"type\": \"scatter\", \"uid\": \"7a51fc3a-c1f2-43d3-bff7-a62f3288f19f\"}], {}, {\"showLink\": true, \"linkText\": \"Export to plot.ly\"})});</script><script type=\"text/javascript\">window.addEventListener(\"resize\", function(){window._Plotly.Plots.resize(document.getElementById(\"313b69e0-0e9b-4f50-9762-2ec36b0517ec\"));});</script>"
=======
       "<div id=\"00f39e45-3e94-492a-801c-bd8b81f37f37\" style=\"height: 525px; width: 100%;\" class=\"plotly-graph-div\"></div><script type=\"text/javascript\">require([\"plotly\"], function(Plotly) { window.PLOTLYENV=window.PLOTLYENV || {};window.PLOTLYENV.BASE_URL=\"https://plot.ly\";Plotly.newPlot(\"00f39e45-3e94-492a-801c-bd8b81f37f37\", [{\"x\": [1, 2.5, 3], \"y\": [4, 5, 6], \"type\": \"scatter\", \"uid\": \"4248dc91-7c6a-4f83-b3f2-4bee990f41a9\"}], {}, {\"showLink\": true, \"linkText\": \"Export to plot.ly\"})});</script><script type=\"text/javascript\">window.addEventListener(\"resize\", function(){window._Plotly.Plots.resize(document.getElementById(\"00f39e45-3e94-492a-801c-bd8b81f37f37\"));});</script>"
      ],
      "text/vnd.plotly.v1+html": [
       "<div id=\"00f39e45-3e94-492a-801c-bd8b81f37f37\" style=\"height: 525px; width: 100%;\" class=\"plotly-graph-div\"></div><script type=\"text/javascript\">require([\"plotly\"], function(Plotly) { window.PLOTLYENV=window.PLOTLYENV || {};window.PLOTLYENV.BASE_URL=\"https://plot.ly\";Plotly.newPlot(\"00f39e45-3e94-492a-801c-bd8b81f37f37\", [{\"x\": [1, 2.5, 3], \"y\": [4, 5, 6], \"type\": \"scatter\", \"uid\": \"4248dc91-7c6a-4f83-b3f2-4bee990f41a9\"}], {}, {\"showLink\": true, \"linkText\": \"Export to plot.ly\"})});</script><script type=\"text/javascript\">window.addEventListener(\"resize\", function(){window._Plotly.Plots.resize(document.getElementById(\"00f39e45-3e94-492a-801c-bd8b81f37f37\"));});</script>"
>>>>>>> 4b34efb9b82c4900b65bf67cabee9f89aaddae0c
      ]
     },
     "metadata": {},
     "output_type": "display_data"
    }
   ],
   "source": [
    "figure = {\n",
    "    'data': [\n",
    "        {\n",
    "           'x': [1, 2.5, 3],\n",
    "           'y': [4, 5, 6]\n",
    "        }]\n",
    "}\n",
    "\n",
    "iplot(figure)"
   ]
  },
  {
   "cell_type": "markdown",
   "metadata": {},
   "source": [
    "## Adding multiple lines:\n",
    "\n",
    "this `dict` has, at minimum, a key labelled `data` whose value a list of dictionaries, each of which specifies values on the `x` and `y` axes. we can plot multiple lines, by adding to like this:"
   ]
  },
  {
   "cell_type": "code",
   "execution_count": 3,
   "metadata": {},
   "outputs": [
    {
     "data": {
      "application/vnd.plotly.v1+json": {
       "data": [
        {
         "type": "scatter",
<<<<<<< HEAD
         "uid": "d2bbab18-d6ae-4e91-8546-edbecb408360",
=======
         "uid": "3734a18a-da9d-49d3-93b3-e53cee582429",
>>>>>>> 4b34efb9b82c4900b65bf67cabee9f89aaddae0c
         "x": [
          1,
          2.5,
          3
         ],
         "y": [
          4,
          5,
          6
         ]
        },
        {
         "type": "scatter",
<<<<<<< HEAD
         "uid": "a07c1901-d356-4661-b056-0d1fe512ba6e",
=======
         "uid": "0f10af35-7a72-459a-8d2e-f7cc1aa66fb4",
>>>>>>> 4b34efb9b82c4900b65bf67cabee9f89aaddae0c
         "x": [
          2.2,
          2.5,
          3
         ],
         "y": [
          4.1,
          7,
          8.8
         ]
        }
       ],
       "layout": {}
      },
      "text/html": [
<<<<<<< HEAD
       "<div id=\"59150d1b-f9f5-4ab9-8b9a-0668ee3bf1c1\" style=\"height: 525px; width: 100%;\" class=\"plotly-graph-div\"></div><script type=\"text/javascript\">require([\"plotly\"], function(Plotly) { window.PLOTLYENV=window.PLOTLYENV || {};window.PLOTLYENV.BASE_URL=\"https://plot.ly\";Plotly.newPlot(\"59150d1b-f9f5-4ab9-8b9a-0668ee3bf1c1\", [{\"x\": [1, 2.5, 3], \"y\": [4, 5, 6], \"type\": \"scatter\", \"uid\": \"bedb1da6-f040-4e75-b370-1b8458d4edee\"}, {\"x\": [2.2, 2.5, 3], \"y\": [4.1, 7, 8.8], \"type\": \"scatter\", \"uid\": \"bd00202f-8306-4ff2-95f9-93a568bc0f52\"}], {}, {\"showLink\": true, \"linkText\": \"Export to plot.ly\"})});</script><script type=\"text/javascript\">window.addEventListener(\"resize\", function(){window._Plotly.Plots.resize(document.getElementById(\"59150d1b-f9f5-4ab9-8b9a-0668ee3bf1c1\"));});</script>"
      ],
      "text/vnd.plotly.v1+html": [
       "<div id=\"59150d1b-f9f5-4ab9-8b9a-0668ee3bf1c1\" style=\"height: 525px; width: 100%;\" class=\"plotly-graph-div\"></div><script type=\"text/javascript\">require([\"plotly\"], function(Plotly) { window.PLOTLYENV=window.PLOTLYENV || {};window.PLOTLYENV.BASE_URL=\"https://plot.ly\";Plotly.newPlot(\"59150d1b-f9f5-4ab9-8b9a-0668ee3bf1c1\", [{\"x\": [1, 2.5, 3], \"y\": [4, 5, 6], \"type\": \"scatter\", \"uid\": \"bedb1da6-f040-4e75-b370-1b8458d4edee\"}, {\"x\": [2.2, 2.5, 3], \"y\": [4.1, 7, 8.8], \"type\": \"scatter\", \"uid\": \"bd00202f-8306-4ff2-95f9-93a568bc0f52\"}], {}, {\"showLink\": true, \"linkText\": \"Export to plot.ly\"})});</script><script type=\"text/javascript\">window.addEventListener(\"resize\", function(){window._Plotly.Plots.resize(document.getElementById(\"59150d1b-f9f5-4ab9-8b9a-0668ee3bf1c1\"));});</script>"
=======
       "<div id=\"a45a200e-1ad9-41b8-b930-a9b17d3c0cb5\" style=\"height: 525px; width: 100%;\" class=\"plotly-graph-div\"></div><script type=\"text/javascript\">require([\"plotly\"], function(Plotly) { window.PLOTLYENV=window.PLOTLYENV || {};window.PLOTLYENV.BASE_URL=\"https://plot.ly\";Plotly.newPlot(\"a45a200e-1ad9-41b8-b930-a9b17d3c0cb5\", [{\"x\": [1, 2.5, 3], \"y\": [4, 5, 6], \"type\": \"scatter\", \"uid\": \"275af7ac-97d3-4de7-b9d9-ac9a6e9a7004\"}, {\"x\": [2.2, 2.5, 3], \"y\": [4.1, 7, 8.8], \"type\": \"scatter\", \"uid\": \"73259d8f-b077-44c9-b3b8-88124fa2208e\"}], {}, {\"showLink\": true, \"linkText\": \"Export to plot.ly\"})});</script><script type=\"text/javascript\">window.addEventListener(\"resize\", function(){window._Plotly.Plots.resize(document.getElementById(\"a45a200e-1ad9-41b8-b930-a9b17d3c0cb5\"));});</script>"
      ],
      "text/vnd.plotly.v1+html": [
       "<div id=\"a45a200e-1ad9-41b8-b930-a9b17d3c0cb5\" style=\"height: 525px; width: 100%;\" class=\"plotly-graph-div\"></div><script type=\"text/javascript\">require([\"plotly\"], function(Plotly) { window.PLOTLYENV=window.PLOTLYENV || {};window.PLOTLYENV.BASE_URL=\"https://plot.ly\";Plotly.newPlot(\"a45a200e-1ad9-41b8-b930-a9b17d3c0cb5\", [{\"x\": [1, 2.5, 3], \"y\": [4, 5, 6], \"type\": \"scatter\", \"uid\": \"275af7ac-97d3-4de7-b9d9-ac9a6e9a7004\"}, {\"x\": [2.2, 2.5, 3], \"y\": [4.1, 7, 8.8], \"type\": \"scatter\", \"uid\": \"73259d8f-b077-44c9-b3b8-88124fa2208e\"}], {}, {\"showLink\": true, \"linkText\": \"Export to plot.ly\"})});</script><script type=\"text/javascript\">window.addEventListener(\"resize\", function(){window._Plotly.Plots.resize(document.getElementById(\"a45a200e-1ad9-41b8-b930-a9b17d3c0cb5\"));});</script>"
>>>>>>> 4b34efb9b82c4900b65bf67cabee9f89aaddae0c
      ]
     },
     "metadata": {},
     "output_type": "display_data"
    }
   ],
   "source": [
    "figure = {\n",
    "    'data': [\n",
    "        {\n",
    "           'x': [1, 2.5, 3],\n",
    "           'y': [4, 5, 6]\n",
    "        },\n",
    "        {\n",
    "           'x': [2.2, 2.5, 3],\n",
    "           'y': [4.1, 7, 8.8]            \n",
    "        }]\n",
    "}\n",
    "\n",
    "iplot(figure)"
   ]
  },
  {
   "cell_type": "markdown",
   "metadata": {},
   "source": [
    "## Styling it up: \n",
    "\n",
    "To improve the appearance of our chart, we can add an extra 'layout' element to the dictionary, and also add a name to each line."
   ]
  },
  {
   "cell_type": "code",
   "execution_count": 4,
   "metadata": {
    "scrolled": false
   },
   "outputs": [
    {
     "data": {
      "application/vnd.plotly.v1+json": {
       "data": [
        {
         "name": "First lovely line",
         "type": "scatter",
<<<<<<< HEAD
         "uid": "04403723-d708-46d5-b01b-450b590145b5",
=======
         "uid": "a9ed294e-4d60-451c-9ed8-86ca4bc9c737",
>>>>>>> 4b34efb9b82c4900b65bf67cabee9f89aaddae0c
         "x": [
          1,
          2.5,
          3
         ],
         "y": [
          4,
          5,
          6
         ]
        },
        {
         "name": "Second lovely line",
         "type": "scatter",
<<<<<<< HEAD
         "uid": "2f5ecd55-ba53-4642-9775-9c3ce2cd1e10",
=======
         "uid": "4d41beef-afdf-472f-8a70-47462d5781a1",
>>>>>>> 4b34efb9b82c4900b65bf67cabee9f89aaddae0c
         "x": [
          2.2,
          2.5,
          3
         ],
         "y": [
          4.1,
          7,
          8.8
         ]
        }
       ],
       "layout": {
        "legend": {
         "orientation": "h",
         "x": 0.5,
         "xanchor": "center",
         "y": -0.3,
         "yanchor": "bottom"
        },
        "title": "This is the plot title",
        "xaxis": {
         "range": [
          -0.5,
          3.5
         ],
         "title": "This is the horizontal axis title"
        },
        "yaxis": {
         "range": [
          -1,
          10
         ],
         "title": "This is the vertical axis title"
        }
       }
      },
      "text/html": [
<<<<<<< HEAD
       "<div id=\"7b565823-93f9-4d38-9595-6c2160b127e9\" style=\"height: 525px; width: 100%;\" class=\"plotly-graph-div\"></div><script type=\"text/javascript\">require([\"plotly\"], function(Plotly) { window.PLOTLYENV=window.PLOTLYENV || {};window.PLOTLYENV.BASE_URL=\"https://plot.ly\";Plotly.newPlot(\"7b565823-93f9-4d38-9595-6c2160b127e9\", [{\"name\": \"First lovely line\", \"x\": [1, 2.5, 3], \"y\": [4, 5, 6], \"type\": \"scatter\", \"uid\": \"53f31d36-5494-45d8-a123-07857a117621\"}, {\"name\": \"Second lovely line\", \"x\": [2.2, 2.5, 3], \"y\": [4.1, 7, 8.8], \"type\": \"scatter\", \"uid\": \"46a12c63-85c7-4414-b2db-d1b369365058\"}], {\"legend\": {\"orientation\": \"h\", \"x\": 0.5, \"xanchor\": \"center\", \"y\": -0.3, \"yanchor\": \"bottom\"}, \"title\": \"This is the plot title\", \"xaxis\": {\"range\": [-0.5, 3.5], \"title\": \"This is the horizontal axis title\"}, \"yaxis\": {\"range\": [-1, 10], \"title\": \"This is the vertical axis title\"}}, {\"showLink\": true, \"linkText\": \"Export to plot.ly\"})});</script><script type=\"text/javascript\">window.addEventListener(\"resize\", function(){window._Plotly.Plots.resize(document.getElementById(\"7b565823-93f9-4d38-9595-6c2160b127e9\"));});</script>"
      ],
      "text/vnd.plotly.v1+html": [
       "<div id=\"7b565823-93f9-4d38-9595-6c2160b127e9\" style=\"height: 525px; width: 100%;\" class=\"plotly-graph-div\"></div><script type=\"text/javascript\">require([\"plotly\"], function(Plotly) { window.PLOTLYENV=window.PLOTLYENV || {};window.PLOTLYENV.BASE_URL=\"https://plot.ly\";Plotly.newPlot(\"7b565823-93f9-4d38-9595-6c2160b127e9\", [{\"name\": \"First lovely line\", \"x\": [1, 2.5, 3], \"y\": [4, 5, 6], \"type\": \"scatter\", \"uid\": \"53f31d36-5494-45d8-a123-07857a117621\"}, {\"name\": \"Second lovely line\", \"x\": [2.2, 2.5, 3], \"y\": [4.1, 7, 8.8], \"type\": \"scatter\", \"uid\": \"46a12c63-85c7-4414-b2db-d1b369365058\"}], {\"legend\": {\"orientation\": \"h\", \"x\": 0.5, \"xanchor\": \"center\", \"y\": -0.3, \"yanchor\": \"bottom\"}, \"title\": \"This is the plot title\", \"xaxis\": {\"range\": [-0.5, 3.5], \"title\": \"This is the horizontal axis title\"}, \"yaxis\": {\"range\": [-1, 10], \"title\": \"This is the vertical axis title\"}}, {\"showLink\": true, \"linkText\": \"Export to plot.ly\"})});</script><script type=\"text/javascript\">window.addEventListener(\"resize\", function(){window._Plotly.Plots.resize(document.getElementById(\"7b565823-93f9-4d38-9595-6c2160b127e9\"));});</script>"
=======
       "<div id=\"50d6c256-251d-465b-bd01-e1fec54163c3\" style=\"height: 525px; width: 100%;\" class=\"plotly-graph-div\"></div><script type=\"text/javascript\">require([\"plotly\"], function(Plotly) { window.PLOTLYENV=window.PLOTLYENV || {};window.PLOTLYENV.BASE_URL=\"https://plot.ly\";Plotly.newPlot(\"50d6c256-251d-465b-bd01-e1fec54163c3\", [{\"name\": \"First lovely line\", \"x\": [1, 2.5, 3], \"y\": [4, 5, 6], \"type\": \"scatter\", \"uid\": \"a3262035-1031-4a39-aa1f-72e0f28ba56f\"}, {\"name\": \"Second lovely line\", \"x\": [2.2, 2.5, 3], \"y\": [4.1, 7, 8.8], \"type\": \"scatter\", \"uid\": \"a0825795-33da-4366-984a-a8be0298d545\"}], {\"legend\": {\"orientation\": \"h\", \"x\": 0.5, \"xanchor\": \"center\", \"y\": -0.3, \"yanchor\": \"bottom\"}, \"title\": \"This is the plot title\", \"xaxis\": {\"range\": [-0.5, 3.5], \"title\": \"This is the horizontal axis title\"}, \"yaxis\": {\"range\": [-1, 10], \"title\": \"This is the vertical axis title\"}}, {\"showLink\": true, \"linkText\": \"Export to plot.ly\"})});</script><script type=\"text/javascript\">window.addEventListener(\"resize\", function(){window._Plotly.Plots.resize(document.getElementById(\"50d6c256-251d-465b-bd01-e1fec54163c3\"));});</script>"
      ],
      "text/vnd.plotly.v1+html": [
       "<div id=\"50d6c256-251d-465b-bd01-e1fec54163c3\" style=\"height: 525px; width: 100%;\" class=\"plotly-graph-div\"></div><script type=\"text/javascript\">require([\"plotly\"], function(Plotly) { window.PLOTLYENV=window.PLOTLYENV || {};window.PLOTLYENV.BASE_URL=\"https://plot.ly\";Plotly.newPlot(\"50d6c256-251d-465b-bd01-e1fec54163c3\", [{\"name\": \"First lovely line\", \"x\": [1, 2.5, 3], \"y\": [4, 5, 6], \"type\": \"scatter\", \"uid\": \"a3262035-1031-4a39-aa1f-72e0f28ba56f\"}, {\"name\": \"Second lovely line\", \"x\": [2.2, 2.5, 3], \"y\": [4.1, 7, 8.8], \"type\": \"scatter\", \"uid\": \"a0825795-33da-4366-984a-a8be0298d545\"}], {\"legend\": {\"orientation\": \"h\", \"x\": 0.5, \"xanchor\": \"center\", \"y\": -0.3, \"yanchor\": \"bottom\"}, \"title\": \"This is the plot title\", \"xaxis\": {\"range\": [-0.5, 3.5], \"title\": \"This is the horizontal axis title\"}, \"yaxis\": {\"range\": [-1, 10], \"title\": \"This is the vertical axis title\"}}, {\"showLink\": true, \"linkText\": \"Export to plot.ly\"})});</script><script type=\"text/javascript\">window.addEventListener(\"resize\", function(){window._Plotly.Plots.resize(document.getElementById(\"50d6c256-251d-465b-bd01-e1fec54163c3\"));});</script>"
>>>>>>> 4b34efb9b82c4900b65bf67cabee9f89aaddae0c
      ]
     },
     "metadata": {},
     "output_type": "display_data"
    }
   ],
   "source": [
    "layout = {\n",
    "    'title': 'This is the plot title',\n",
    "    'xaxis': {\n",
    "        'title': 'This is the horizontal axis title',\n",
    "        'range': [-0.5, 3.5]\n",
    "        },\n",
    "    'yaxis': {\n",
    "        'title': 'This is the vertical axis title',\n",
    "        'range': [-1, 10]\n",
    "        },\n",
    "    'legend':{\n",
    "        'orientation': 'h',\n",
    "        'xanchor':\"center\",\n",
    "        'yanchor':\"bottom\",\n",
    "        'y':-0.3,\n",
    "        'x':0.5\n",
    "    }\n",
    "}\n",
    "\n",
    "figure = {\n",
    "    'data': [\n",
    "        {\n",
    "            'x': [1, 2.5, 3],\n",
    "            'y': [4, 5, 6],\n",
    "            'name': \"First lovely line\"\n",
    "        },\n",
    "        {\n",
    "            'x': [2.2, 2.5, 3],\n",
    "            'y': [4.1, 7, 8.8],\n",
    "            'name': \"Second lovely line\"\n",
    "        }],\n",
    "    'layout': layout\n",
    "}\n",
    "\n",
    "iplot(figure)"
   ]
  },
  {
   "cell_type": "markdown",
   "metadata": {},
   "source": [
    "## How to know what you're allowed to put into the dictionary:\n",
    "\n",
    "At this point you might wonder, \"How on earth do I know what I'm allowed to put in the dictionary that defines the figure?\" There is a reference for the different things you can put into the 'figure' dictionary [here on the web](https://plot.ly/python/reference/).\n"
   ]
  },
  {
   "cell_type": "markdown",
   "metadata": {},
   "source": [
    "## More styling:\n",
    "\n",
    "If you want to see just the points (with no lines), or just the lines (with no points) you can do that easily enough. You can also make a dashed line, for example, or change the size or colour of the markers. You can also add customised hover text for each point.\n",
    "\n",
    "Although we won't go into it here, you can also apply styling such as colour and marker size to each point individually (so you could use a colour gradient to add a third variable, for instance)."
   ]
  },
  {
   "cell_type": "code",
   "execution_count": 5,
   "metadata": {},
   "outputs": [
    {
     "data": {
      "application/vnd.plotly.v1+json": {
       "data": [
        {
         "marker": {
          "color": "rgb(128, 0, 128)",
          "size": 15
         },
         "mode": "markers",
         "text": [
          "Julian",
          "Dick",
          "Anne",
          "George",
          "Timmy"
         ],
         "type": "scatter",
<<<<<<< HEAD
         "uid": "89e59c94-0b3f-4214-8586-3dc65ab53498",
=======
         "uid": "a3168cc0-6c7a-4ac1-81c4-4c308231c538",
>>>>>>> 4b34efb9b82c4900b65bf67cabee9f89aaddae0c
         "x": [
          1,
          2.5,
          3,
          5,
          5.1
         ],
         "y": [
          4,
          5,
          6,
          6.2,
          7
         ]
        },
        {
         "line": {
          "color": "rgb(64, 64, 196)",
          "dash": "dashdot",
          "width": 4
         },
         "mode": "lines",
         "type": "scatter",
<<<<<<< HEAD
         "uid": "5e4c9566-e208-4fc6-b61c-7b869921fcde",
=======
         "uid": "baafd527-05a2-4eac-a642-b5295ca2ff01",
>>>>>>> 4b34efb9b82c4900b65bf67cabee9f89aaddae0c
         "x": [
          2.2,
          2.5,
          3,
          4,
          6,
          6.7
         ],
         "y": [
          4.1,
          7,
          8.8,
          9.1,
          10,
          12
         ]
        }
       ],
       "layout": {}
      },
      "text/html": [
<<<<<<< HEAD
       "<div id=\"21ae99f5-6d7d-4a99-8ef4-96d891399ee9\" style=\"height: 525px; width: 100%;\" class=\"plotly-graph-div\"></div><script type=\"text/javascript\">require([\"plotly\"], function(Plotly) { window.PLOTLYENV=window.PLOTLYENV || {};window.PLOTLYENV.BASE_URL=\"https://plot.ly\";Plotly.newPlot(\"21ae99f5-6d7d-4a99-8ef4-96d891399ee9\", [{\"marker\": {\"color\": \"rgb(128, 0, 128)\", \"size\": 15}, \"mode\": \"markers\", \"text\": [\"Julian\", \"Dick\", \"Anne\", \"George\", \"Timmy\"], \"x\": [1, 2.5, 3, 5, 5.1], \"y\": [4, 5, 6, 6.2, 7], \"type\": \"scatter\", \"uid\": \"a9a043e5-d550-4793-832d-5f41af212195\"}, {\"line\": {\"color\": \"rgb(64, 64, 196)\", \"dash\": \"dashdot\", \"width\": 4}, \"mode\": \"lines\", \"x\": [2.2, 2.5, 3, 4, 6, 6.7], \"y\": [4.1, 7, 8.8, 9.1, 10, 12], \"type\": \"scatter\", \"uid\": \"a96b14b4-84b9-4756-8e77-4f6d772d6bfd\"}], {}, {\"showLink\": true, \"linkText\": \"Export to plot.ly\"})});</script><script type=\"text/javascript\">window.addEventListener(\"resize\", function(){window._Plotly.Plots.resize(document.getElementById(\"21ae99f5-6d7d-4a99-8ef4-96d891399ee9\"));});</script>"
      ],
      "text/vnd.plotly.v1+html": [
       "<div id=\"21ae99f5-6d7d-4a99-8ef4-96d891399ee9\" style=\"height: 525px; width: 100%;\" class=\"plotly-graph-div\"></div><script type=\"text/javascript\">require([\"plotly\"], function(Plotly) { window.PLOTLYENV=window.PLOTLYENV || {};window.PLOTLYENV.BASE_URL=\"https://plot.ly\";Plotly.newPlot(\"21ae99f5-6d7d-4a99-8ef4-96d891399ee9\", [{\"marker\": {\"color\": \"rgb(128, 0, 128)\", \"size\": 15}, \"mode\": \"markers\", \"text\": [\"Julian\", \"Dick\", \"Anne\", \"George\", \"Timmy\"], \"x\": [1, 2.5, 3, 5, 5.1], \"y\": [4, 5, 6, 6.2, 7], \"type\": \"scatter\", \"uid\": \"a9a043e5-d550-4793-832d-5f41af212195\"}, {\"line\": {\"color\": \"rgb(64, 64, 196)\", \"dash\": \"dashdot\", \"width\": 4}, \"mode\": \"lines\", \"x\": [2.2, 2.5, 3, 4, 6, 6.7], \"y\": [4.1, 7, 8.8, 9.1, 10, 12], \"type\": \"scatter\", \"uid\": \"a96b14b4-84b9-4756-8e77-4f6d772d6bfd\"}], {}, {\"showLink\": true, \"linkText\": \"Export to plot.ly\"})});</script><script type=\"text/javascript\">window.addEventListener(\"resize\", function(){window._Plotly.Plots.resize(document.getElementById(\"21ae99f5-6d7d-4a99-8ef4-96d891399ee9\"));});</script>"
=======
       "<div id=\"3f04ae26-1947-4c81-a85c-48a8594506c7\" style=\"height: 525px; width: 100%;\" class=\"plotly-graph-div\"></div><script type=\"text/javascript\">require([\"plotly\"], function(Plotly) { window.PLOTLYENV=window.PLOTLYENV || {};window.PLOTLYENV.BASE_URL=\"https://plot.ly\";Plotly.newPlot(\"3f04ae26-1947-4c81-a85c-48a8594506c7\", [{\"marker\": {\"color\": \"rgb(128, 0, 128)\", \"size\": 15}, \"mode\": \"markers\", \"text\": [\"Julian\", \"Dick\", \"Anne\", \"George\", \"Timmy\"], \"x\": [1, 2.5, 3, 5, 5.1], \"y\": [4, 5, 6, 6.2, 7], \"type\": \"scatter\", \"uid\": \"4b6ac2bc-75e6-46f7-af0e-ee662a2e9409\"}, {\"line\": {\"color\": \"rgb(64, 64, 196)\", \"dash\": \"dashdot\", \"width\": 4}, \"mode\": \"lines\", \"x\": [2.2, 2.5, 3, 4, 6, 6.7], \"y\": [4.1, 7, 8.8, 9.1, 10, 12], \"type\": \"scatter\", \"uid\": \"8971243b-7d02-4c35-a8ea-b052e8fff883\"}], {}, {\"showLink\": true, \"linkText\": \"Export to plot.ly\"})});</script><script type=\"text/javascript\">window.addEventListener(\"resize\", function(){window._Plotly.Plots.resize(document.getElementById(\"3f04ae26-1947-4c81-a85c-48a8594506c7\"));});</script>"
      ],
      "text/vnd.plotly.v1+html": [
       "<div id=\"3f04ae26-1947-4c81-a85c-48a8594506c7\" style=\"height: 525px; width: 100%;\" class=\"plotly-graph-div\"></div><script type=\"text/javascript\">require([\"plotly\"], function(Plotly) { window.PLOTLYENV=window.PLOTLYENV || {};window.PLOTLYENV.BASE_URL=\"https://plot.ly\";Plotly.newPlot(\"3f04ae26-1947-4c81-a85c-48a8594506c7\", [{\"marker\": {\"color\": \"rgb(128, 0, 128)\", \"size\": 15}, \"mode\": \"markers\", \"text\": [\"Julian\", \"Dick\", \"Anne\", \"George\", \"Timmy\"], \"x\": [1, 2.5, 3, 5, 5.1], \"y\": [4, 5, 6, 6.2, 7], \"type\": \"scatter\", \"uid\": \"4b6ac2bc-75e6-46f7-af0e-ee662a2e9409\"}, {\"line\": {\"color\": \"rgb(64, 64, 196)\", \"dash\": \"dashdot\", \"width\": 4}, \"mode\": \"lines\", \"x\": [2.2, 2.5, 3, 4, 6, 6.7], \"y\": [4.1, 7, 8.8, 9.1, 10, 12], \"type\": \"scatter\", \"uid\": \"8971243b-7d02-4c35-a8ea-b052e8fff883\"}], {}, {\"showLink\": true, \"linkText\": \"Export to plot.ly\"})});</script><script type=\"text/javascript\">window.addEventListener(\"resize\", function(){window._Plotly.Plots.resize(document.getElementById(\"3f04ae26-1947-4c81-a85c-48a8594506c7\"));});</script>"
>>>>>>> 4b34efb9b82c4900b65bf67cabee9f89aaddae0c
      ]
     },
     "metadata": {},
     "output_type": "display_data"
    }
   ],
   "source": [
    "figure = {\n",
    "    'data': [\n",
    "        {\n",
    "            'x': [1, 2.5, 3, 5, 5.1],\n",
    "            'y': [4, 5, 6, 6.2, 7],\n",
    "            'mode': 'markers',\n",
    "            'marker': {\n",
    "                'color': 'rgb(128, 0, 128)',\n",
    "                'size': 15\n",
    "            },\n",
    "            'text': [\"Julian\", \"Dick\", \"Anne\", \"George\", \"Timmy\"]\n",
    "        },\n",
    "        {\n",
    "            'x': [2.2, 2.5, 3, 4, 6, 6.7],\n",
    "            'y': [4.1, 7, 8.8, 9.1, 10, 12],\n",
    "            'mode': 'lines',\n",
    "            'line': {\n",
    "                'dash': 'dashdot',\n",
    "                'width': 4,\n",
    "                'color': 'rgb(64, 64, 196)'\n",
    "            }\n",
    "        }]\n",
    "}\n",
    "\n",
    "iplot(figure)"
   ]
  },
  {
   "cell_type": "markdown",
   "metadata": {},
   "source": [
    "There are lots of great example graphs *with code* on the plotly website, for example [these line charts](https://plot.ly/python/line-charts/).\n",
    "\n",
    "## Making a nice bar chart:\n",
    "You can do other types of plot in a similar way, for example bar charts:"
   ]
  },
  {
   "cell_type": "code",
   "execution_count": 6,
   "metadata": {},
   "outputs": [
    {
     "data": {
      "application/vnd.plotly.v1+json": {
       "data": [
        {
         "name": "Volume",
         "type": "bar",
<<<<<<< HEAD
         "uid": "d11de4ea-229f-4fc1-950d-d7518ee1a165",
=======
         "uid": "e3ca96f9-7bb8-4200-8e4c-8f86fd539e60",
>>>>>>> 4b34efb9b82c4900b65bf67cabee9f89aaddae0c
         "x": [
          "one thing",
          "another thing",
          "yet another thing",
          "a supernumerary thing"
         ],
         "y": [
          10,
          12,
          7,
          9
         ]
        }
       ],
       "layout": {
        "title": "Some kind of daily volume bar chart"
       }
      },
      "text/html": [
<<<<<<< HEAD
       "<div id=\"f0e46c9a-b078-45a3-8af5-d8600b899824\" style=\"height: 525px; width: 100%;\" class=\"plotly-graph-div\"></div><script type=\"text/javascript\">require([\"plotly\"], function(Plotly) { window.PLOTLYENV=window.PLOTLYENV || {};window.PLOTLYENV.BASE_URL=\"https://plot.ly\";Plotly.newPlot(\"f0e46c9a-b078-45a3-8af5-d8600b899824\", [{\"name\": \"Volume\", \"x\": [\"one thing\", \"another thing\", \"yet another thing\", \"a supernumerary thing\"], \"y\": [10, 12, 7, 9], \"type\": \"bar\", \"uid\": \"a0677c27-93dc-4040-a6ce-d3049b5ff802\"}], {\"title\": \"Some kind of daily volume bar chart\"}, {\"showLink\": true, \"linkText\": \"Export to plot.ly\"})});</script><script type=\"text/javascript\">window.addEventListener(\"resize\", function(){window._Plotly.Plots.resize(document.getElementById(\"f0e46c9a-b078-45a3-8af5-d8600b899824\"));});</script>"
      ],
      "text/vnd.plotly.v1+html": [
       "<div id=\"f0e46c9a-b078-45a3-8af5-d8600b899824\" style=\"height: 525px; width: 100%;\" class=\"plotly-graph-div\"></div><script type=\"text/javascript\">require([\"plotly\"], function(Plotly) { window.PLOTLYENV=window.PLOTLYENV || {};window.PLOTLYENV.BASE_URL=\"https://plot.ly\";Plotly.newPlot(\"f0e46c9a-b078-45a3-8af5-d8600b899824\", [{\"name\": \"Volume\", \"x\": [\"one thing\", \"another thing\", \"yet another thing\", \"a supernumerary thing\"], \"y\": [10, 12, 7, 9], \"type\": \"bar\", \"uid\": \"a0677c27-93dc-4040-a6ce-d3049b5ff802\"}], {\"title\": \"Some kind of daily volume bar chart\"}, {\"showLink\": true, \"linkText\": \"Export to plot.ly\"})});</script><script type=\"text/javascript\">window.addEventListener(\"resize\", function(){window._Plotly.Plots.resize(document.getElementById(\"f0e46c9a-b078-45a3-8af5-d8600b899824\"));});</script>"
=======
       "<div id=\"2a31e081-4a22-42ca-b344-4a23345563ab\" style=\"height: 525px; width: 100%;\" class=\"plotly-graph-div\"></div><script type=\"text/javascript\">require([\"plotly\"], function(Plotly) { window.PLOTLYENV=window.PLOTLYENV || {};window.PLOTLYENV.BASE_URL=\"https://plot.ly\";Plotly.newPlot(\"2a31e081-4a22-42ca-b344-4a23345563ab\", [{\"name\": \"Volume\", \"x\": [\"one thing\", \"another thing\", \"yet another thing\", \"a supernumerary thing\"], \"y\": [10, 12, 7, 9], \"type\": \"bar\", \"uid\": \"04766046-d3a4-4a10-90d6-f9939f66a637\"}], {\"title\": \"Some kind of daily volume bar chart\"}, {\"showLink\": true, \"linkText\": \"Export to plot.ly\"})});</script><script type=\"text/javascript\">window.addEventListener(\"resize\", function(){window._Plotly.Plots.resize(document.getElementById(\"2a31e081-4a22-42ca-b344-4a23345563ab\"));});</script>"
      ],
      "text/vnd.plotly.v1+html": [
       "<div id=\"2a31e081-4a22-42ca-b344-4a23345563ab\" style=\"height: 525px; width: 100%;\" class=\"plotly-graph-div\"></div><script type=\"text/javascript\">require([\"plotly\"], function(Plotly) { window.PLOTLYENV=window.PLOTLYENV || {};window.PLOTLYENV.BASE_URL=\"https://plot.ly\";Plotly.newPlot(\"2a31e081-4a22-42ca-b344-4a23345563ab\", [{\"name\": \"Volume\", \"x\": [\"one thing\", \"another thing\", \"yet another thing\", \"a supernumerary thing\"], \"y\": [10, 12, 7, 9], \"type\": \"bar\", \"uid\": \"04766046-d3a4-4a10-90d6-f9939f66a637\"}], {\"title\": \"Some kind of daily volume bar chart\"}, {\"showLink\": true, \"linkText\": \"Export to plot.ly\"})});</script><script type=\"text/javascript\">window.addEventListener(\"resize\", function(){window._Plotly.Plots.resize(document.getElementById(\"2a31e081-4a22-42ca-b344-4a23345563ab\"));});</script>"
>>>>>>> 4b34efb9b82c4900b65bf67cabee9f89aaddae0c
      ]
     },
     "metadata": {},
     "output_type": "display_data"
    }
   ],
   "source": [
    "figure = {\n",
    "    'data': [\n",
    "            {'x': ['one thing', 'another thing', 'yet another thing', 'a supernumerary thing'],\n",
    "             'y': [10, 12, 7, 9],\n",
    "             'type': 'bar',\n",
    "             'name': 'Volume'\n",
    "            }\n",
    "        ],\n",
    "    'layout': {'title': 'Some kind of daily volume bar chart'}\n",
    "}\n",
    "\n",
    "iplot(figure)"
   ]
  },
  {
   "cell_type": "markdown",
   "metadata": {},
   "source": [
    "## Making a pie chart:"
   ]
  },
  {
   "cell_type": "code",
<<<<<<< HEAD
   "execution_count": 7,
=======
   "execution_count": 12,
>>>>>>> 4b34efb9b82c4900b65bf67cabee9f89aaddae0c
   "metadata": {},
   "outputs": [
    {
     "data": {
      "application/vnd.plotly.v1+json": {
       "data": [
        {
         "direction": "clockwise",
         "labels": [
          "one thing",
          "another thing",
          "yet another thing",
          "a supernumerary thing"
         ],
         "name": "Volume",
         "rotation": 0,
         "type": "pie",
<<<<<<< HEAD
         "uid": "3eeaa8ae-d8e2-4efc-8b27-22d8b45d096c",
=======
         "uid": "bad1e6bc-6253-4635-91b3-d55b47b77832",
>>>>>>> 4b34efb9b82c4900b65bf67cabee9f89aaddae0c
         "values": [
          12,
          10,
          9,
          7
         ]
        }
       ],
       "layout": {
        "title": "A pie chart"
       }
      },
      "text/html": [
<<<<<<< HEAD
       "<div id=\"4ef64e56-c234-42cb-9c5a-00df65f9fec5\" style=\"height: 525px; width: 100%;\" class=\"plotly-graph-div\"></div><script type=\"text/javascript\">require([\"plotly\"], function(Plotly) { window.PLOTLYENV=window.PLOTLYENV || {};window.PLOTLYENV.BASE_URL=\"https://plot.ly\";Plotly.newPlot(\"4ef64e56-c234-42cb-9c5a-00df65f9fec5\", [{\"direction\": \"clockwise\", \"labels\": [\"one thing\", \"another thing\", \"yet another thing\", \"a supernumerary thing\"], \"name\": \"Volume\", \"pull\": [0, 0.2, 0, 0, 0], \"rotation\": 0, \"values\": [12, 10, 9, 7], \"type\": \"pie\", \"uid\": \"25ce2c69-ca66-47ab-bd90-f178df9b2e7d\"}], {\"title\": \"A pie chart\"}, {\"showLink\": true, \"linkText\": \"Export to plot.ly\"})});</script><script type=\"text/javascript\">window.addEventListener(\"resize\", function(){window._Plotly.Plots.resize(document.getElementById(\"4ef64e56-c234-42cb-9c5a-00df65f9fec5\"));});</script>"
      ],
      "text/vnd.plotly.v1+html": [
       "<div id=\"4ef64e56-c234-42cb-9c5a-00df65f9fec5\" style=\"height: 525px; width: 100%;\" class=\"plotly-graph-div\"></div><script type=\"text/javascript\">require([\"plotly\"], function(Plotly) { window.PLOTLYENV=window.PLOTLYENV || {};window.PLOTLYENV.BASE_URL=\"https://plot.ly\";Plotly.newPlot(\"4ef64e56-c234-42cb-9c5a-00df65f9fec5\", [{\"direction\": \"clockwise\", \"labels\": [\"one thing\", \"another thing\", \"yet another thing\", \"a supernumerary thing\"], \"name\": \"Volume\", \"pull\": [0, 0.2, 0, 0, 0], \"rotation\": 0, \"values\": [12, 10, 9, 7], \"type\": \"pie\", \"uid\": \"25ce2c69-ca66-47ab-bd90-f178df9b2e7d\"}], {\"title\": \"A pie chart\"}, {\"showLink\": true, \"linkText\": \"Export to plot.ly\"})});</script><script type=\"text/javascript\">window.addEventListener(\"resize\", function(){window._Plotly.Plots.resize(document.getElementById(\"4ef64e56-c234-42cb-9c5a-00df65f9fec5\"));});</script>"
=======
       "<div id=\"f8f3fe23-06c5-4463-bf85-409ebbc08542\" style=\"height: 525px; width: 100%;\" class=\"plotly-graph-div\"></div><script type=\"text/javascript\">require([\"plotly\"], function(Plotly) { window.PLOTLYENV=window.PLOTLYENV || {};window.PLOTLYENV.BASE_URL=\"https://plot.ly\";Plotly.newPlot(\"f8f3fe23-06c5-4463-bf85-409ebbc08542\", [{\"direction\": \"clockwise\", \"labels\": [\"one thing\", \"another thing\", \"yet another thing\", \"a supernumerary thing\"], \"name\": \"Volume\", \"rotation\": 0, \"values\": [12, 10, 9, 7], \"type\": \"pie\", \"uid\": \"2b493910-0011-40a2-b09b-d67a0dd889ce\"}], {\"title\": \"A pie chart\"}, {\"showLink\": true, \"linkText\": \"Export to plot.ly\"})});</script><script type=\"text/javascript\">window.addEventListener(\"resize\", function(){window._Plotly.Plots.resize(document.getElementById(\"f8f3fe23-06c5-4463-bf85-409ebbc08542\"));});</script>"
      ],
      "text/vnd.plotly.v1+html": [
       "<div id=\"f8f3fe23-06c5-4463-bf85-409ebbc08542\" style=\"height: 525px; width: 100%;\" class=\"plotly-graph-div\"></div><script type=\"text/javascript\">require([\"plotly\"], function(Plotly) { window.PLOTLYENV=window.PLOTLYENV || {};window.PLOTLYENV.BASE_URL=\"https://plot.ly\";Plotly.newPlot(\"f8f3fe23-06c5-4463-bf85-409ebbc08542\", [{\"direction\": \"clockwise\", \"labels\": [\"one thing\", \"another thing\", \"yet another thing\", \"a supernumerary thing\"], \"name\": \"Volume\", \"rotation\": 0, \"values\": [12, 10, 9, 7], \"type\": \"pie\", \"uid\": \"2b493910-0011-40a2-b09b-d67a0dd889ce\"}], {\"title\": \"A pie chart\"}, {\"showLink\": true, \"linkText\": \"Export to plot.ly\"})});</script><script type=\"text/javascript\">window.addEventListener(\"resize\", function(){window._Plotly.Plots.resize(document.getElementById(\"f8f3fe23-06c5-4463-bf85-409ebbc08542\"));});</script>"
>>>>>>> 4b34efb9b82c4900b65bf67cabee9f89aaddae0c
      ]
     },
     "metadata": {},
     "output_type": "display_data"
    }
   ],
   "source": [
    "figure = {\n",
    "    'data': [\n",
    "            {'labels': ['one thing', 'another thing', 'yet another thing', 'a supernumerary thing'],\n",
    "             'values': [12, 10, 9, 7],\n",
    "             'type': 'pie',\n",
    "             'name': 'Volume',\n",
    "             'rotation': 0,\n",
    "             'direction': 'clockwise',\n",
    "#             'direction': 'counterclockwise',\n",
    "#             'pull': [0,0.2,0,0,0],\n",
    "            }\n",
    "        ],\n",
    "    'layout': {'title': 'A pie chart'}\n",
    "}\n",
    "\n",
    "iplot(figure)"
   ]
  },
  {
   "cell_type": "code",
   "execution_count": null,
   "metadata": {},
   "outputs": [],
   "source": []
  }
 ],
 "metadata": {
  "kernelspec": {
   "display_name": "Python 3",
   "language": "python",
   "name": "python3"
  },
  "language_info": {
   "codemirror_mode": {
    "name": "ipython",
    "version": 3
   },
   "file_extension": ".py",
   "mimetype": "text/x-python",
   "name": "python",
   "nbconvert_exporter": "python",
   "pygments_lexer": "ipython3",
   "version": "3.7.0"
  }
 },
 "nbformat": 4,
 "nbformat_minor": 2
}
