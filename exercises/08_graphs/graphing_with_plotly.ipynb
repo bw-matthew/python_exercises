{
 "cells": [
  {
   "cell_type": "markdown",
   "metadata": {},
   "source": [
    "# Drawing simple graphs with `plotly` library\n",
    "\n",
    "This notebook shows you, by example, how to use the plotly library for making pretty, zoomable graphs inside a notebook.\n",
    "\n",
    "The first thing you need to do is import the offline functionality of the `plotly` module and initialise it for notebook mode."
   ]
  },
  {
   "cell_type": "code",
   "execution_count": 1,
   "metadata": {
    "scrolled": true
   },
   "outputs": [
    {
     "name": "stdout",
     "output_type": "stream",
     "text": [
      "Plotly version: 3.4.1\n"
     ]
    },
    {
     "data": {
      "text/html": [
       "<script type=\"text/javascript\">window.PlotlyConfig = {MathJaxConfig: 'local'};</script><script type=\"text/javascript\">if (window.MathJax) {MathJax.Hub.Config({SVG: {font: \"STIX-Web\"}});}</script><script>requirejs.config({paths: { 'plotly': ['https://cdn.plot.ly/plotly-latest.min']},});if(!window._Plotly) {require(['plotly'],function(plotly) {window._Plotly=plotly;});}</script>"
      ],
      "text/vnd.plotly.v1+html": [
       "<script type=\"text/javascript\">window.PlotlyConfig = {MathJaxConfig: 'local'};</script><script type=\"text/javascript\">if (window.MathJax) {MathJax.Hub.Config({SVG: {font: \"STIX-Web\"}});}</script><script>requirejs.config({paths: { 'plotly': ['https://cdn.plot.ly/plotly-latest.min']},});if(!window._Plotly) {require(['plotly'],function(plotly) {window._Plotly=plotly;});}</script>"
      ]
     },
     "metadata": {},
     "output_type": "display_data"
    }
   ],
   "source": [
    "from plotly import __version__ as plotly_version\n",
    "from plotly.offline import init_notebook_mode, iplot\n",
    "\n",
    "print(\"Plotly version: \" + plotly_version)\n",
    "\n",
    "init_notebook_mode(connected=True)         # initiate notebook for offline plot"
   ]
  },
  {
   "cell_type": "markdown",
   "metadata": {},
   "source": [
    "## Making a basic line chart:\n",
    "\n",
    "To get a plot, we assemble the data into a specially crafted dictionary, and pass it to the `iplot` function. \n",
    "\n",
    "By default we'll get a line chart.\n",
    "\n",
    "Note that your plot should be interactive: you should have some zooming and panning buttons at the top right, and if you hover over a point you should see a tooltip showing the value (we'll customise what the tooltip shows in a bit)."
   ]
  },
  {
   "cell_type": "code",
   "execution_count": 2,
   "metadata": {},
   "outputs": [
   ],
   "source": [
    "figure = {\n",
    "    'data': [\n",
    "        {\n",
    "           'x': [1, 2.5, 3],\n",
    "           'y': [4, 5, 6]\n",
    "        }]\n",
    "}\n",
    "\n",
    "iplot(figure)"
   ]
  },
  {
   "cell_type": "markdown",
   "metadata": {},
   "source": [
    "## Adding multiple lines:\n",
    "\n",
    "this `dict` has, at minimum, a key labelled `data` whose value a list of dictionaries, each of which specifies values on the `x` and `y` axes. we can plot multiple lines, by adding to like this:"
   ]
  },
  {
   "cell_type": "code",
   "execution_count": 3,
   "metadata": {},
   "outputs": [
   ],
   "source": [
    "figure = {\n",
    "    'data': [\n",
    "        {\n",
    "           'x': [1, 2.5, 3],\n",
    "           'y': [4, 5, 6]\n",
    "        },\n",
    "        {\n",
    "           'x': [2.2, 2.5, 3],\n",
    "           'y': [4.1, 7, 8.8]            \n",
    "        }]\n",
    "}\n",
    "\n",
    "iplot(figure)"
   ]
  },
  {
   "cell_type": "markdown",
   "metadata": {},
   "source": [
    "## Styling it up: \n",
    "\n",
    "To improve the appearance of our chart, we can add an extra 'layout' element to the dictionary, and also add a name to each line."
   ]
  },
  {
   "cell_type": "code",
   "execution_count": 4,
   "metadata": {
    "scrolled": false
   },
   "outputs": [
   ],
   "source": [
    "layout = {\n",
    "    'title': 'This is the plot title',\n",
    "    'xaxis': {\n",
    "        'title': 'This is the horizontal axis title',\n",
    "        'range': [-0.5, 3.5]\n",
    "        },\n",
    "    'yaxis': {\n",
    "        'title': 'This is the vertical axis title',\n",
    "        'range': [-1, 10]\n",
    "        },\n",
    "    'legend':{\n",
    "        'orientation': 'h',\n",
    "        'xanchor':\"center\",\n",
    "        'yanchor':\"bottom\",\n",
    "        'y':-0.3,\n",
    "        'x':0.5\n",
    "    }\n",
    "}\n",
    "\n",
    "figure = {\n",
    "    'data': [\n",
    "        {\n",
    "            'x': [1, 2.5, 3],\n",
    "            'y': [4, 5, 6],\n",
    "            'name': \"First lovely line\"\n",
    "        },\n",
    "        {\n",
    "            'x': [2.2, 2.5, 3],\n",
    "            'y': [4.1, 7, 8.8],\n",
    "            'name': \"Second lovely line\"\n",
    "        }],\n",
    "    'layout': layout\n",
    "}\n",
    "\n",
    "iplot(figure)"
   ]
  },
  {
   "cell_type": "markdown",
   "metadata": {},
   "source": [
    "## How to know what you're allowed to put into the dictionary:\n",
    "\n",
    "At this point you might wonder, \"How on earth do I know what I'm allowed to put in the dictionary that defines the figure?\" There is a reference for the different things you can put into the 'figure' dictionary [here on the web](https://plot.ly/python/reference/).\n"
   ]
  },
  {
   "cell_type": "markdown",
   "metadata": {},
   "source": [
    "## More styling:\n",
    "\n",
    "If you want to see just the points (with no lines), or just the lines (with no points) you can do that easily enough. You can also make a dashed line, for example, or change the size or colour of the markers. You can also add customised hover text for each point.\n",
    "\n",
    "Although we won't go into it here, you can also apply styling such as colour and marker size to each point individually (so you could use a colour gradient to add a third variable, for instance)."
   ]
  },
  {
   "cell_type": "code",
   "execution_count": 5,
   "metadata": {},
   "outputs": [
   ],
   "source": [
    "figure = {\n",
    "    'data': [\n",
    "        {\n",
    "            'x': [1, 2.5, 3, 5, 5.1],\n",
    "            'y': [4, 5, 6, 6.2, 7],\n",
    "            'mode': 'markers',\n",
    "            'marker': {\n",
    "                'color': 'rgb(128, 0, 128)',\n",
    "                'size': 15\n",
    "            },\n",
    "            'text': [\"Julian\", \"Dick\", \"Anne\", \"George\", \"Timmy\"]\n",
    "        },\n",
    "        {\n",
    "            'x': [2.2, 2.5, 3, 4, 6, 6.7],\n",
    "            'y': [4.1, 7, 8.8, 9.1, 10, 12],\n",
    "            'mode': 'lines',\n",
    "            'line': {\n",
    "                'dash': 'dashdot',\n",
    "                'width': 4,\n",
    "                'color': 'rgb(64, 64, 196)'\n",
    "            }\n",
    "        }]\n",
    "}\n",
    "\n",
    "iplot(figure)"
   ]
  },
  {
   "cell_type": "markdown",
   "metadata": {},
   "source": [
    "There are lots of great example graphs *with code* on the plotly website, for example [these line charts](https://plot.ly/python/line-charts/).\n",
    "\n",
    "## Making a nice bar chart:\n",
    "You can do other types of plot in a similar way, for example bar charts:"
   ]
  },
  {
   "cell_type": "code",
   "execution_count": 6,
   "metadata": {},
   "outputs": [
   ],
   "source": [
    "figure = {\n",
    "    'data': [\n",
    "            {'x': ['one thing', 'another thing', 'yet another thing', 'a supernumerary thing'],\n",
    "             'y': [10, 12, 7, 9],\n",
    "             'type': 'bar',\n",
    "             'name': 'Volume'\n",
    "            }\n",
    "        ],\n",
    "    'layout': {'title': 'Some kind of daily volume bar chart'}\n",
    "}\n",
    "\n",
    "iplot(figure)"
   ]
  },
  {
   "cell_type": "markdown",
   "metadata": {},
   "source": [
    "## Making a pie chart:"
   ]
  },
  {
   "cell_type": "code",
   "execution_count": 12,
   "metadata": {},
   "outputs": [
   ],
   "source": [
    "figure = {\n",
    "    'data': [\n",
    "            {'labels': ['one thing', 'another thing', 'yet another thing', 'a supernumerary thing'],\n",
    "             'values': [12, 10, 9, 7],\n",
    "             'type': 'pie',\n",
    "             'name': 'Volume',\n",
    "             'rotation': 0,\n",
    "             'direction': 'clockwise',\n",
    "#             'direction': 'counterclockwise',\n",
    "#             'pull': [0,0.2,0,0,0],\n",
    "            }\n",
    "        ],\n",
    "    'layout': {'title': 'A pie chart'}\n",
    "}\n",
    "\n",
    "iplot(figure)"
   ]
  },
  {
   "cell_type": "code",
   "execution_count": null,
   "metadata": {},
   "outputs": [],
   "source": []
  }
 ],
 "metadata": {
  "kernelspec": {
   "display_name": "Python 3",
   "language": "python",
   "name": "python3"
  },
  "language_info": {
   "codemirror_mode": {
    "name": "ipython",
    "version": 3
   },
   "file_extension": ".py",
   "mimetype": "text/x-python",
   "name": "python",
   "nbconvert_exporter": "python",
   "pygments_lexer": "ipython3",
   "version": "3.7.0"
  }
 },
 "nbformat": 4,
 "nbformat_minor": 2
}
