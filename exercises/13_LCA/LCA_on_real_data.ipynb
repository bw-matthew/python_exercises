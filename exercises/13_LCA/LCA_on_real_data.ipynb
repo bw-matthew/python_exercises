{
 "cells": [
  {
   "cell_type": "markdown",
   "metadata": {},
   "source": [
    "# Using Latent Class Analysis to explore (real) data"
   ]
  },
  {
   "cell_type": "markdown",
   "metadata": {},
   "source": [
    "Now let's do the same stuff on real data."
   ]
  },
  {
   "cell_type": "code",
   "execution_count": null,
   "metadata": {},
   "outputs": [],
   "source": [
    "from lca import LCA\n",
    "import pandas as pd"
   ]
  },
  {
   "cell_type": "code",
   "execution_count": null,
   "metadata": {},
   "outputs": [],
   "source": [
    "from plotly import __version__ as plotly_version\n",
    "from plotly.offline import init_notebook_mode, iplot\n",
    "\n",
    "print(\"Plotly version: \" + plotly_version)\n",
    "\n",
    "init_notebook_mode(connected=True)         # initiate notebook for offline plot"
   ]
  },
  {
   "cell_type": "markdown",
   "metadata": {},
   "source": [
    "# Introducing the data\n",
    "\n",
    "We work with some data about which hobbies people have, from the \"2003 INSEE survey on identity construction\". The data concerns 8,403 individuals and includes Yes/No answers to \"Which of the following leisure activities do you practice regularly\" for 17 hobbies.\n",
    "\n",
    "There are also some extra data: number of hours of TV per day on average, gender, age band, profession and marital status.\n",
    "\n",
    "We also have a convenience column saying how many activities they answered yes to."
   ]
  },
  {
   "cell_type": "code",
   "execution_count": null,
   "metadata": {},
   "outputs": [],
   "source": [
    "hobby_cols = [\n",
    "    'Reading',\n",
    "    'ListeningToMusic',\n",
    "    'Cinema',\n",
    "    'Show',\n",
    "    'Exhibition',\n",
    "    'Computer',\n",
    "    'Sport',\n",
    "    'Walking',\n",
    "    'Travelling',\n",
    "    'PlayingMusic',\n",
    "    'Collecting',\n",
    "    'Volunteering',\n",
    "    'Mechanic',\n",
    "    'Gardening',\n",
    "    'Knitting',\n",
    "    'Cooking',\n",
    "    'Fishing']\n",
    "\n",
    "data_df = pd.read_csv(\"hobbies.csv\", sep=\";\")\n",
    "\n",
    "for col in hobby_cols:\n",
    "    data_df[col] = data_df[col].apply(lambda x: 1 if x == 'y' else 0)\n",
    "print('there are', len(data_df), 'rows')    \n",
    "data_df.head(10)"
   ]
  },
  {
   "cell_type": "markdown",
   "metadata": {},
   "source": [
    "I'm going to obtain rough age estimates by mapping each age band value to the central value:"
   ]
  },
  {
   "cell_type": "code",
   "execution_count": null,
   "metadata": {},
   "outputs": [],
   "source": [
    "age_ests = {\n",
    "    \"[15,25]\": 20,\n",
    "    \"(25,35]\": 30,\n",
    "    \"(35,45]\": 40,\n",
    "    \"(45,55]\": 50,\n",
    "    \"(55,65]\": 60,\n",
    "    \"(65,75]\": 70,\n",
    "    \"(75,85]\": 80,\n",
    "    \"(85,100]\": 92.5\n",
    "}\n",
    "\n",
    "data_df['Age'] = data_df['AgeBand'].map(age_ests)\n",
    "\n",
    "data_df.head(10)"
   ]
  },
  {
   "cell_type": "code",
   "execution_count": null,
   "metadata": {},
   "outputs": [],
   "source": [
    "data_df.Profession.hist()"
   ]
  },
  {
   "cell_type": "markdown",
   "metadata": {},
   "source": [
    "# What kinds of people are there?\n",
    "\n",
    "\n",
    "Our question is: **What different kinds of people are there (as far as hobbies are concerned)?**\n",
    "**Can we divide people into groups based on their hobbies?** This is an example of **unsupervised learning**.\n",
    "\n",
    "The idea is that the population is composed of a number of different classes of people, and people from different classes tend to prefer different hobbies.\n",
    "\n",
    "But we can't observe the classes of people directly (they are \"Latent\"); we can only infer their existence from the hobbies data."
   ]
  },
  {
   "cell_type": "markdown",
   "metadata": {},
   "source": [
    "Here I cut down to just people who answered with at least 7 and not more than 11 hobbies. This is a bit of ad-hocery motivated by:\n",
    "\n",
    " - People who tick nearly all the hobbies don't tell us much about how the hobbies are related, and nor do people with very few hobbies\n",
    " - I don't want the resulting classes to be \"people who do lots of things\" vs \"people who don't do any things\""
   ]
  },
  {
   "cell_type": "code",
   "execution_count": null,
   "metadata": {},
   "outputs": [],
   "source": [
    "#%matplotlib inline\n",
    "#data_df.NumActivities.hist()"
   ]
  },
  {
   "cell_type": "code",
   "execution_count": null,
   "metadata": {},
   "outputs": [],
   "source": [
    "print(\"originally there are\", len(data_df), 'rows in the data frame')\n",
    "data_df = data_df.loc[data_df['NumActivities'].isin([7, 8, 9, 10, 11])]\n",
    "print(\"Cut down to data for %d people.\" % data_df.shape[0])"
   ]
  },
  {
   "cell_type": "markdown",
   "metadata": {},
   "source": [
    "Let's get a matrix of just the hobbies responses."
   ]
  },
  {
   "cell_type": "code",
   "execution_count": null,
   "metadata": {},
   "outputs": [],
   "source": [
    "matrix = data_df[hobby_cols].values.copy()\n",
    "matrix"
   ]
  },
  {
   "cell_type": "markdown",
   "metadata": {},
   "source": [
    "The LCA routine will find the latent classes for us, but we need to (or, we get to) say how many we want."
   ]
  },
  {
   "cell_type": "code",
   "execution_count": null,
   "metadata": {},
   "outputs": [],
   "source": [
    "num_classes = 2"
   ]
  },
  {
   "cell_type": "markdown",
   "metadata": {},
   "source": [
    "Let's do the business:"
   ]
  },
  {
   "cell_type": "code",
   "execution_count": null,
   "metadata": {},
   "outputs": [],
   "source": [
    "lca = LCA(n_components=num_classes)\n",
    "lca.fit(matrix)\n",
    "\n",
    "print(\"Finished finding latent classes.\")"
   ]
  },
  {
   "cell_type": "markdown",
   "metadata": {},
   "source": [
    "Let's have a look at the resulting classes:"
   ]
  },
  {
   "cell_type": "code",
   "execution_count": null,
   "metadata": {
    "scrolled": false
   },
   "outputs": [],
   "source": [
    "chart_data = []\n",
    "\n",
    "for i in range(num_classes):\n",
    "    chart_data.append({\n",
    "        'x': hobby_cols,\n",
    "        'y': lca.theta[i, :],\n",
    "        'type': 'bar',\n",
    "        'name': \"Class %d (%.1f%% of data)\" % (i, lca.weight[i] * 100)\n",
    "    })\n",
    "\n",
    "figure = {\n",
    "    'data': chart_data,\n",
    "    'layout': {'yaxis': {'title': 'Probability of hobby'}}\n",
    "}\n",
    "\n",
    "iplot(figure)"
   ]
  },
  {
   "cell_type": "markdown",
   "metadata": {},
   "source": [
    "A better way to visualise this is to order the columns by the ratio of the probabilities:"
   ]
  },
  {
   "cell_type": "code",
   "execution_count": null,
   "metadata": {},
   "outputs": [],
   "source": [
    "probs_df = pd.DataFrame(hobby_cols, columns=['Hobby'])\n",
    "\n",
    "for i in range(num_classes):\n",
    "    probs_df['Class%dProb' % i] = lca.theta[i, :]\n",
    "\n",
    "probs_df['Ratio'] = probs_df['Class0Prob'] / probs_df['Class1Prob']\n",
    "probs_df = probs_df.sort_values('Ratio', ascending=False)\n",
    "    \n",
    "probs_df.head(10)\n",
    "probs_df"
   ]
  },
  {
   "cell_type": "code",
   "execution_count": null,
   "metadata": {},
   "outputs": [],
   "source": [
    "chart_data = []\n",
    "\n",
    "for i in range(num_classes):\n",
    "    chart_data.append({\n",
    "        'x': probs_df['Hobby'],\n",
    "        'y': probs_df['Class%dProb' % i],\n",
    "        'type': 'bar',\n",
    "        'name': \"Class %d (%.1f%% of data)\" % (i, lca.weight[i] * 100)\n",
    "    })\n",
    "\n",
    "figure = {\n",
    "    'data': chart_data,\n",
    "    'layout': {'yaxis': {'title': 'Probability of hobby'}}\n",
    "}\n",
    "\n",
    "iplot(figure)"
   ]
  },
  {
   "cell_type": "markdown",
   "metadata": {},
   "source": [
    "**My interpretation:** one of our classes contains people who like \"homely\" activities like fishing, gardening, knitting, cooking, mechanic (working on their car, I guess). The other contains people who like more dynamic pursuits like going out to the cinema and shows, playing sport, going to exhibitions and travelling.\n",
    "\n",
    "**Special note:** What I _particularly like_ about this approach is that the algorithm works out which hobbies are important indicators and which aren't. For hobbies where the two bars are nearly equal (e.g. ListeningToMusic or Reading) the algorithm has found that these hobbies aren't very informative about what other hobbies you have. But where there is a big difference in the bars, that hobby is informative. For example if you do Fishing, you are much more likely to do Gardening and much less likely to do Cinema. If you do Computer, you are much more likely to do Sport but much less likely to do Mechanic."
   ]
  },
  {
   "cell_type": "markdown",
   "metadata": {},
   "source": [
    "The next thing we get from the output of LCA is a prediction of which group each individual belows to. We can get both a \"hard assignment\" (each person placed crisply into a predicted class) or a \"soft assignment\" (where we get a predicted probability that the person is in each of the classes). We can add these back to the original data."
   ]
  },
  {
   "cell_type": "code",
   "execution_count": null,
   "metadata": {},
   "outputs": [],
   "source": [
    "data_df['PredictedClass'] = lca.predict(matrix)  # Hard assignment\n",
    "\n",
    "soft_assignment = lca.predict_proba(matrix)\n",
    "\n",
    "for i in range(num_classes):\n",
    "    data_df['Class%dProb' % i] = soft_assignment[:,i]\n",
    "\n",
    "data_df.head(10)"
   ]
  },
  {
   "cell_type": "markdown",
   "metadata": {},
   "source": [
    "Because we have some additional data, we can cross-reference that against our clusters. Let's look at age for example."
   ]
  },
  {
   "cell_type": "code",
   "execution_count": null,
   "metadata": {},
   "outputs": [],
   "source": [
    "print(\"Mean age in class 0: %.1f\" % data_df.loc[data_df['PredictedClass'] == 0]['Age'].mean())\n",
    "print(\"Mean age in class 1: %.1f\" % data_df.loc[data_df['PredictedClass'] == 1]['Age'].mean())"
   ]
  },
  {
   "cell_type": "markdown",
   "metadata": {},
   "source": [
    "We can also look for differences in marital status:"
   ]
  },
  {
   "cell_type": "code",
   "execution_count": null,
   "metadata": {},
   "outputs": [],
   "source": [
    "data_df.loc[data_df['PredictedClass'] == 0]['MaritalStatus'].value_counts(dropna=False, normalize=True)"
   ]
  },
  {
   "cell_type": "code",
   "execution_count": null,
   "metadata": {},
   "outputs": [],
   "source": [
    "data_df.loc[data_df['PredictedClass'] == 1]['MaritalStatus'].value_counts(dropna=False, normalize=True)"
   ]
  },
  {
   "cell_type": "markdown",
   "metadata": {},
   "source": [
    "In general we might need to do LCA in cases where we don't have any extra data, but in this case it helps us understand what the hobby-based clusters mean."
   ]
  },
  {
   "cell_type": "markdown",
   "metadata": {},
   "source": [
    "## Now let's go to more clusters! :)\n",
    "\n",
    "This bit might take a few seconds to run:"
   ]
  },
  {
   "cell_type": "code",
   "execution_count": null,
   "metadata": {},
   "outputs": [],
   "source": [
    "num_classes = 3\n",
    "\n",
    "lca = LCA(n_components=num_classes)\n",
    "lca.fit(matrix)\n",
    "\n",
    "print(\"Finished finding latent classes.\")"
   ]
  },
  {
   "cell_type": "code",
   "execution_count": null,
   "metadata": {},
   "outputs": [],
   "source": [
    "data_df['PredictedClass'] = lca.predict(matrix)  # Hard assignment\n",
    "\n",
    "soft_assignment = lca.predict_proba(matrix)\n",
    "\n",
    "for i in range(num_classes):\n",
    "    data_df['Class%dProb' % i] = soft_assignment[:,i]\n",
    "\n",
    "data_df.head(10)"
   ]
  },
  {
   "cell_type": "markdown",
   "metadata": {},
   "source": [
    "When graphing the columns we can't simply order by the ratio anymore, but we can approximately find the characteristic hobbies (or lack of hobbies) for each class by taking the ratio of the probability for the class with the average of the other two."
   ]
  },
  {
   "cell_type": "code",
   "execution_count": null,
   "metadata": {},
   "outputs": [],
   "source": [
    "def nice_prob_df_for_class(num_classes, lca, chosen_class):\n",
    "    \n",
    "    probs_df = pd.DataFrame(hobby_cols, columns=['Hobby'])\n",
    "\n",
    "    for i in range(num_classes):\n",
    "        probs_df['Class%dProb' % i] = lca.theta[i, :]\n",
    "\n",
    "        \n",
    "    # Find the average probability for all classes except the chosen class:\n",
    "    \n",
    "    other_class_probs = [probs_df['Class%dProb' % i] for i in range(num_classes) if i != chosen_class]\n",
    "\n",
    "    total_prob_other_classes = other_class_probs[0]\n",
    "\n",
    "    for col in other_class_probs[1:]:\n",
    "        total_prob_other_classes = total_prob_other_classes + col  # Here we exploit the fact that you can add two Pandas series.\n",
    "    \n",
    "    probs_df['AvgOtherProb'] = total_prob_other_classes / (num_classes - 1)\n",
    "    \n",
    "    \n",
    "    probs_df['Ratio'] = probs_df['Class%dProb' % chosen_class] / probs_df['AvgOtherProb']\n",
    "    probs_df = probs_df.sort_values('Ratio', ascending=False)\n",
    "    \n",
    "    return probs_df"
   ]
  },
  {
   "cell_type": "code",
   "execution_count": null,
   "metadata": {
    "scrolled": false
   },
   "outputs": [],
   "source": [
    "\n",
    "for i in range(num_classes):\n",
    "    probs_df = nice_prob_df_for_class(num_classes, lca, i)\n",
    "    chart_data = []\n",
    "\n",
    "    for i in range(num_classes):\n",
    "        chart_data.append({\n",
    "            'x': probs_df['Hobby'],\n",
    "            'y': probs_df['Class%dProb' % i],\n",
    "            'type': 'bar',\n",
    "            'name': \"Class %d (%.1f%%)\" % (i, lca.weight[i] * 100)\n",
    "        })\n",
    "\n",
    "    figure = {\n",
    "        'data': chart_data,\n",
    "        'layout': {'yaxis': {'title': 'Probability of hobby'}}\n",
    "    }\n",
    "\n",
    "    iplot(figure)"
   ]
  },
  {
   "cell_type": "markdown",
   "metadata": {},
   "source": [
    "**My interpretation:**\n",
    "\n",
    "For three classes we have:\n",
    "\n",
    " - People who like Fishing, Mechanic and Gardening, do quite a lot of Sport and some Computer. They don't do Knitting, Show or Exhibition or Cinema. (One might guess that these are going to be older males.)\n",
    " - People who like Knitting, Cooking and Gardening, but don't do Fishing, Sport or Computer. (One might guess that these are older females.)\n",
    " - People who like Cinema, Show, Computer and Sport, but don't do Fishing, Knitting, Gardening, Mechanic or Cooking. (One might guess that these are younger people.)"
   ]
  },
  {
   "cell_type": "markdown",
   "metadata": {},
   "source": [
    "**Let's have a look and see if I guessed right:**"
   ]
  },
  {
   "cell_type": "code",
   "execution_count": null,
   "metadata": {},
   "outputs": [],
   "source": [
    "for i in range(num_classes):\n",
    "    print(\"Mean age in class %d: %.1f\" % (i, data_df.loc[data_df['PredictedClass'] == i]['Age'].mean()))"
   ]
  },
  {
   "cell_type": "code",
   "execution_count": null,
   "metadata": {},
   "outputs": [],
   "source": [
    "print(pd.crosstab(data_df['PredictedClass'], data_df['Sex']))"
   ]
  },
  {
   "cell_type": "code",
   "execution_count": null,
   "metadata": {},
   "outputs": [],
   "source": [
    "print(pd.crosstab(data_df['PredictedClass'], data_df['MaritalStatus']))"
   ]
  },
  {
   "cell_type": "markdown",
   "metadata": {},
   "source": [
    "## Footnote\n",
    "\n",
    "If we want to check convergence of the algorithm (that we ran it for enough iterations) we can do that as follows.\n",
    "If the line has not flattened out, then you can add more iterations using the `max_iter` argument to `LCA`."
   ]
  },
  {
   "cell_type": "code",
   "execution_count": null,
   "metadata": {},
   "outputs": [],
   "source": [
    "figure = {\n",
    "    'data': [\n",
    "        {\n",
    "           'x': list(range(1, len(lca.ll_))),\n",
    "           'y': lca.ll_[1:]\n",
    "        }],\n",
    "    \n",
    "    'layout': {\n",
    "        'xaxis': { 'title': 'Iteration number' },\n",
    "        'yaxis': { 'title': 'Log likelihood' }\n",
    "        }\n",
    "}\n",
    "\n",
    "iplot(figure)"
   ]
  },
  {
   "cell_type": "markdown",
   "metadata": {},
   "source": [
    "## Exercise 1\n",
    "\n",
    "Apply the above approach to 4 clusters. For the clusters you get, try to arrive at a rough caricature of what somebody in that cluster looks like, based on the hobbies that people in that cluster typically do (and don't do), and what the data in the extra columns (hours of TV viewing, gender, age band, profession and marital status) looks like.\n"
   ]
  },
  {
   "cell_type": "markdown",
   "metadata": {},
   "source": [
    "## Bonus Exercise (potentially time-consuming)\n",
    "\n",
    "Run LCA on some different data. You could try for example:\n",
    " - Take the above data, and derive some extra attributes from the columns we didn't use (number of hours of TV per day, gender, age band, profession and marital status); see how putting these into the model rather than just analysing them afterwards changes the results.\n",
    " - Take a set of mention snippets (or news headlines) from a query and form Boolean attributes from the presence/absence of particular words.\n",
    " - Take some audiences data and use the interests or conversation topics as your attributes.\n",
    " - Take some data from a forum like MumsNet or Reddit and use the subforums as your attributes (with value 1 if a person posted on that subforum, and value 0 if they didn't)."
   ]
  },
  {
   "cell_type": "code",
   "execution_count": null,
   "metadata": {},
   "outputs": [],
   "source": []
  }
 ],
 "metadata": {
  "kernelspec": {
   "display_name": "Python 3",
   "language": "python",
   "name": "python3"
  },
  "language_info": {
   "codemirror_mode": {
    "name": "ipython",
    "version": 3
   },
   "file_extension": ".py",
   "mimetype": "text/x-python",
   "name": "python",
   "nbconvert_exporter": "python",
   "pygments_lexer": "ipython3",
   "version": "3.7.0"
  }
 },
 "nbformat": 4,
 "nbformat_minor": 2
}
