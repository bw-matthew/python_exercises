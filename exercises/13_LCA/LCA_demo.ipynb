{
 "cells": [
  {
   "cell_type": "markdown",
   "metadata": {},
   "source": [
    "# Using Latent Class Analysis to explore (synthetic) data"
   ]
  },
  {
   "cell_type": "markdown",
   "metadata": {},
   "source": [
    "This notebook is about **Latent Class Analysis (LCA)**, which is a way to explore how Boolean attributes co-occur in a population. LCA is a classic technique that has been around since at least the 1980s.\n",
    "\n",
    "I wanted to introduce LCA because:\n",
    "\n",
    " - I've found it useful in my work before\n",
    " - Understanding it is a stepping-stone to understanding more complicated models like Latent Dirichlet Allocation, which is a widely used technique for topic modelling (used e.g. by Converseon).\n",
    " \n",
    "\n",
    "Here we will use an implementation of Latent Class Analysis from [here](https://github.com/dasirra/latent-class-analysis). The algorithm is about 2 or 3 screens of Python code, so it's not _rocket science_ ;-). LCA is part of a general class of algorithms called _Expectation Maximisation_ (EM) algorithms. You can think of it as a little bit like k-means if that helps."
   ]
  },
  {
   "cell_type": "code",
   "execution_count": 1,
   "metadata": {},
   "outputs": [],
   "source": [
    "from lca import LCA\n",
    "import pandas as pd\n",
    "from more_itertools import one"
   ]
  },
  {
   "cell_type": "markdown",
   "metadata": {},
   "source": [
    "The imported function `one` is just a convenience for neatly getting one item out of a singleton list or iterator, \n",
    "and simultaneously asserting (checking) that the list has exactly one item in it."
   ]
  },
  {
   "cell_type": "code",
   "execution_count": 2,
   "metadata": {},
   "outputs": [
    {
     "data": {
      "text/plain": [
       "31337"
      ]
     },
     "execution_count": 2,
     "metadata": {},
     "output_type": "execute_result"
    }
   ],
   "source": [
    "one([31337])\n",
    "#one([]) # errors\n",
    "#one([1,2,3])"
   ]
  },
  {
   "cell_type": "markdown",
   "metadata": {},
   "source": [
    "We'll also want plotly."
   ]
  },
  {
   "cell_type": "code",
   "execution_count": 5,
   "metadata": {},
   "outputs": [
    {
     "name": "stdout",
     "output_type": "stream",
     "text": [
      "Plotly version: 3.5.0\n"
     ]
    },
    {
     "data": {
      "text/html": [
       "<script type=\"text/javascript\">window.PlotlyConfig = {MathJaxConfig: 'local'};</script><script type=\"text/javascript\">if (window.MathJax) {MathJax.Hub.Config({SVG: {font: \"STIX-Web\"}});}</script><script>requirejs.config({paths: { 'plotly': ['https://cdn.plot.ly/plotly-latest.min']},});if(!window._Plotly) {require(['plotly'],function(plotly) {window._Plotly=plotly;});}</script>"
      ],
      "text/vnd.plotly.v1+html": [
       "<script type=\"text/javascript\">window.PlotlyConfig = {MathJaxConfig: 'local'};</script><script type=\"text/javascript\">if (window.MathJax) {MathJax.Hub.Config({SVG: {font: \"STIX-Web\"}});}</script><script>requirejs.config({paths: { 'plotly': ['https://cdn.plot.ly/plotly-latest.min']},});if(!window._Plotly) {require(['plotly'],function(plotly) {window._Plotly=plotly;});}</script>"
      ]
     },
     "metadata": {},
     "output_type": "display_data"
    }
   ],
   "source": [
    "from plotly import __version__ as plotly_version\n",
    "from plotly.offline import init_notebook_mode, iplot\n",
    "\n",
    "print(\"Plotly version: \" + plotly_version)\n",
    "\n",
    "init_notebook_mode(connected=True)         # initiate notebook for offline plot"
   ]
  },
  {
   "cell_type": "markdown",
   "metadata": {},
   "source": [
    "## Two types of people, in a synthetic data set\n",
    "\n",
    "I've generated a synthetic dataset of 1000 rows. Let's imagine each row is a person (as it will be when we look at some real data later). We have four binary attributes: A, B, C and D."
   ]
  },
  {
   "cell_type": "code",
   "execution_count": 6,
   "metadata": {},
   "outputs": [
    {
     "data": {
      "text/html": [
       "<div>\n",
       "<style scoped>\n",
       "    .dataframe tbody tr th:only-of-type {\n",
       "        vertical-align: middle;\n",
       "    }\n",
       "\n",
       "    .dataframe tbody tr th {\n",
       "        vertical-align: top;\n",
       "    }\n",
       "\n",
       "    .dataframe thead th {\n",
       "        text-align: right;\n",
       "    }\n",
       "</style>\n",
       "<table border=\"1\" class=\"dataframe\">\n",
       "  <thead>\n",
       "    <tr style=\"text-align: right;\">\n",
       "      <th></th>\n",
       "      <th>A</th>\n",
       "      <th>B</th>\n",
       "      <th>C</th>\n",
       "      <th>D</th>\n",
       "    </tr>\n",
       "  </thead>\n",
       "  <tbody>\n",
       "    <tr>\n",
       "      <th>0</th>\n",
       "      <td>0</td>\n",
       "      <td>0</td>\n",
       "      <td>1</td>\n",
       "      <td>0</td>\n",
       "    </tr>\n",
       "    <tr>\n",
       "      <th>1</th>\n",
       "      <td>1</td>\n",
       "      <td>0</td>\n",
       "      <td>0</td>\n",
       "      <td>1</td>\n",
       "    </tr>\n",
       "    <tr>\n",
       "      <th>2</th>\n",
       "      <td>1</td>\n",
       "      <td>1</td>\n",
       "      <td>0</td>\n",
       "      <td>0</td>\n",
       "    </tr>\n",
       "    <tr>\n",
       "      <th>3</th>\n",
       "      <td>0</td>\n",
       "      <td>0</td>\n",
       "      <td>1</td>\n",
       "      <td>1</td>\n",
       "    </tr>\n",
       "    <tr>\n",
       "      <th>4</th>\n",
       "      <td>1</td>\n",
       "      <td>0</td>\n",
       "      <td>0</td>\n",
       "      <td>0</td>\n",
       "    </tr>\n",
       "    <tr>\n",
       "      <th>5</th>\n",
       "      <td>1</td>\n",
       "      <td>1</td>\n",
       "      <td>0</td>\n",
       "      <td>0</td>\n",
       "    </tr>\n",
       "    <tr>\n",
       "      <th>6</th>\n",
       "      <td>1</td>\n",
       "      <td>1</td>\n",
       "      <td>0</td>\n",
       "      <td>1</td>\n",
       "    </tr>\n",
       "    <tr>\n",
       "      <th>7</th>\n",
       "      <td>0</td>\n",
       "      <td>0</td>\n",
       "      <td>1</td>\n",
       "      <td>0</td>\n",
       "    </tr>\n",
       "    <tr>\n",
       "      <th>8</th>\n",
       "      <td>1</td>\n",
       "      <td>1</td>\n",
       "      <td>0</td>\n",
       "      <td>1</td>\n",
       "    </tr>\n",
       "    <tr>\n",
       "      <th>9</th>\n",
       "      <td>0</td>\n",
       "      <td>0</td>\n",
       "      <td>1</td>\n",
       "      <td>0</td>\n",
       "    </tr>\n",
       "  </tbody>\n",
       "</table>\n",
       "</div>"
      ],
      "text/plain": [
       "   A  B  C  D\n",
       "0  0  0  1  0\n",
       "1  1  0  0  1\n",
       "2  1  1  0  0\n",
       "3  0  0  1  1\n",
       "4  1  0  0  0\n",
       "5  1  1  0  0\n",
       "6  1  1  0  1\n",
       "7  0  0  1  0\n",
       "8  1  1  0  1\n",
       "9  0  0  1  0"
      ]
     },
     "execution_count": 6,
     "metadata": {},
     "output_type": "execute_result"
    }
   ],
   "source": [
    "data_df = pd.read_csv(\"synth_data.csv\")\n",
    "data_df.head(10)"
   ]
  },
  {
   "cell_type": "markdown",
   "metadata": {},
   "source": [
    "We would like to know what types of people we generally have in the data, with respect to attributes A, B, C and D. Because there are only 4 attributes, we can count all the combinations:"
   ]
  },
  {
   "cell_type": "code",
   "execution_count": 7,
   "metadata": {},
   "outputs": [
    {
     "data": {
      "text/html": [
       "<div>\n",
       "<style scoped>\n",
       "    .dataframe tbody tr th:only-of-type {\n",
       "        vertical-align: middle;\n",
       "    }\n",
       "\n",
       "    .dataframe tbody tr th {\n",
       "        vertical-align: top;\n",
       "    }\n",
       "\n",
       "    .dataframe thead th {\n",
       "        text-align: right;\n",
       "    }\n",
       "</style>\n",
       "<table border=\"1\" class=\"dataframe\">\n",
       "  <thead>\n",
       "    <tr style=\"text-align: right;\">\n",
       "      <th></th>\n",
       "      <th>A</th>\n",
       "      <th>B</th>\n",
       "      <th>C</th>\n",
       "      <th>D</th>\n",
       "      <th>Count</th>\n",
       "    </tr>\n",
       "  </thead>\n",
       "  <tbody>\n",
       "    <tr>\n",
       "      <th>12</th>\n",
       "      <td>1</td>\n",
       "      <td>1</td>\n",
       "      <td>0</td>\n",
       "      <td>0</td>\n",
       "      <td>200</td>\n",
       "    </tr>\n",
       "    <tr>\n",
       "      <th>3</th>\n",
       "      <td>0</td>\n",
       "      <td>0</td>\n",
       "      <td>1</td>\n",
       "      <td>1</td>\n",
       "      <td>195</td>\n",
       "    </tr>\n",
       "    <tr>\n",
       "      <th>13</th>\n",
       "      <td>1</td>\n",
       "      <td>1</td>\n",
       "      <td>0</td>\n",
       "      <td>1</td>\n",
       "      <td>183</td>\n",
       "    </tr>\n",
       "    <tr>\n",
       "      <th>2</th>\n",
       "      <td>0</td>\n",
       "      <td>0</td>\n",
       "      <td>1</td>\n",
       "      <td>0</td>\n",
       "      <td>182</td>\n",
       "    </tr>\n",
       "    <tr>\n",
       "      <th>10</th>\n",
       "      <td>1</td>\n",
       "      <td>0</td>\n",
       "      <td>1</td>\n",
       "      <td>0</td>\n",
       "      <td>34</td>\n",
       "    </tr>\n",
       "    <tr>\n",
       "      <th>8</th>\n",
       "      <td>1</td>\n",
       "      <td>0</td>\n",
       "      <td>0</td>\n",
       "      <td>0</td>\n",
       "      <td>29</td>\n",
       "    </tr>\n",
       "    <tr>\n",
       "      <th>5</th>\n",
       "      <td>0</td>\n",
       "      <td>1</td>\n",
       "      <td>0</td>\n",
       "      <td>1</td>\n",
       "      <td>28</td>\n",
       "    </tr>\n",
       "    <tr>\n",
       "      <th>4</th>\n",
       "      <td>0</td>\n",
       "      <td>1</td>\n",
       "      <td>0</td>\n",
       "      <td>0</td>\n",
       "      <td>23</td>\n",
       "    </tr>\n",
       "    <tr>\n",
       "      <th>11</th>\n",
       "      <td>1</td>\n",
       "      <td>0</td>\n",
       "      <td>1</td>\n",
       "      <td>1</td>\n",
       "      <td>21</td>\n",
       "    </tr>\n",
       "    <tr>\n",
       "      <th>1</th>\n",
       "      <td>0</td>\n",
       "      <td>0</td>\n",
       "      <td>0</td>\n",
       "      <td>1</td>\n",
       "      <td>20</td>\n",
       "    </tr>\n",
       "    <tr>\n",
       "      <th>9</th>\n",
       "      <td>1</td>\n",
       "      <td>0</td>\n",
       "      <td>0</td>\n",
       "      <td>1</td>\n",
       "      <td>19</td>\n",
       "    </tr>\n",
       "    <tr>\n",
       "      <th>7</th>\n",
       "      <td>0</td>\n",
       "      <td>1</td>\n",
       "      <td>1</td>\n",
       "      <td>1</td>\n",
       "      <td>16</td>\n",
       "    </tr>\n",
       "    <tr>\n",
       "      <th>0</th>\n",
       "      <td>0</td>\n",
       "      <td>0</td>\n",
       "      <td>0</td>\n",
       "      <td>0</td>\n",
       "      <td>15</td>\n",
       "    </tr>\n",
       "    <tr>\n",
       "      <th>14</th>\n",
       "      <td>1</td>\n",
       "      <td>1</td>\n",
       "      <td>1</td>\n",
       "      <td>0</td>\n",
       "      <td>12</td>\n",
       "    </tr>\n",
       "    <tr>\n",
       "      <th>15</th>\n",
       "      <td>1</td>\n",
       "      <td>1</td>\n",
       "      <td>1</td>\n",
       "      <td>1</td>\n",
       "      <td>12</td>\n",
       "    </tr>\n",
       "    <tr>\n",
       "      <th>6</th>\n",
       "      <td>0</td>\n",
       "      <td>1</td>\n",
       "      <td>1</td>\n",
       "      <td>0</td>\n",
       "      <td>11</td>\n",
       "    </tr>\n",
       "  </tbody>\n",
       "</table>\n",
       "</div>"
      ],
      "text/plain": [
       "    A  B  C  D  Count\n",
       "12  1  1  0  0    200\n",
       "3   0  0  1  1    195\n",
       "13  1  1  0  1    183\n",
       "2   0  0  1  0    182\n",
       "10  1  0  1  0     34\n",
       "8   1  0  0  0     29\n",
       "5   0  1  0  1     28\n",
       "4   0  1  0  0     23\n",
       "11  1  0  1  1     21\n",
       "1   0  0  0  1     20\n",
       "9   1  0  0  1     19\n",
       "7   0  1  1  1     16\n",
       "0   0  0  0  0     15\n",
       "14  1  1  1  0     12\n",
       "15  1  1  1  1     12\n",
       "6   0  1  1  0     11"
      ]
     },
     "execution_count": 7,
     "metadata": {},
     "output_type": "execute_result"
    }
   ],
   "source": [
    "data_df.groupby(['A', 'B', 'C', 'D']).size().to_frame('Count').reset_index().sort_values('Count', ascending=False)"
   ]
  },
  {
   "cell_type": "markdown",
   "metadata": {},
   "source": [
    "We can see that we tend to have one of the following:\n",
    " - A and B, but not C\n",
    " - Neither A nor B, but C\n",
    "\n",
    "The D attribute just does it's own merry thing."
   ]
  },
  {
   "cell_type": "markdown",
   "metadata": {},
   "source": [
    "## Running LCA on the synthetic data\n",
    "\n",
    "We can throw this data to LCA and ask it to find two classes i.e. two types of people, in a way that _best explains the actual data observed_.\n",
    "\n",
    "The idea is that the population is composed of a number of different classes of people, and people from different classes tend to have different attribute values. But we can't observe the classes of people directly (they are \"Latent\"); we can only infer their existence from the patterns of the attributes.\n",
    "\n",
    "We need to pass the data in as a numpy matrix."
   ]
  },
  {
   "cell_type": "code",
   "execution_count": 8,
   "metadata": {},
   "outputs": [
    {
     "name": "stdout",
     "output_type": "stream",
     "text": [
      "Finished finding latent classes.\n"
     ]
    }
   ],
   "source": [
    "matrix = data_df.values\n",
    "\n",
    "lca = LCA(n_components=2)\n",
    "lca.fit(matrix)\n",
    "\n",
    "print(\"Finished finding latent classes.\")"
   ]
  },
  {
   "cell_type": "markdown",
   "metadata": {},
   "source": [
    "The first things we get as output from LCA are the probabilities of someone in each group having each of the attributes; we get these from the `theta` attribute of the LCA object, which is an array with 4 columns (for the 4 attributes) and a row for each latent class."
   ]
  },
  {
   "cell_type": "code",
   "execution_count": 9,
   "metadata": {
    "scrolled": false
   },
   "outputs": [
    {
     "data": {
      "application/vnd.plotly.v1+json": {
       "config": {
        "linkText": "Export to plot.ly",
        "plotlyServerURL": "https://plot.ly",
        "showLink": false
       },
       "data": [
        {
         "name": "Class 0",
         "type": "bar",
         "uid": "e813ccfc-cd43-4e66-9b9b-14dcfb9b6607",
         "x": [
          "A",
          "B",
          "C",
          "D"
         ],
         "y": [
          0.8865680698622533,
          0.8970956672653779,
          0.05099642003346557,
          0.47857262637706705
         ]
        },
        {
         "name": "Class 1",
         "type": "bar",
         "uid": "f5f159d8-883b-490c-b898-6acea3f8fe69",
         "x": [
          "A",
          "B",
          "C",
          "D"
         ],
         "y": [
          0.12249488541532977,
          0.060935424312715133,
          0.9275506938948791,
          0.5098754463321383
         ]
        }
       ],
       "layout": {
        "yaxis": {
         "title": {
          "text": "Probability of attribute"
         }
        }
       }
      },
      "text/html": [
       "<div id=\"cf90e6ab-b274-45aa-9800-c8b960393258\" style=\"height: 525px; width: 100%;\" class=\"plotly-graph-div\"></div><script type=\"text/javascript\">require([\"plotly\"], function(Plotly) { window.PLOTLYENV=window.PLOTLYENV || {};window.PLOTLYENV.BASE_URL=\"https://plot.ly\";Plotly.newPlot(\"cf90e6ab-b274-45aa-9800-c8b960393258\", [{\"name\": \"Class 0\", \"x\": [\"A\", \"B\", \"C\", \"D\"], \"y\": [0.8865680698622533, 0.8970956672653779, 0.05099642003346557, 0.47857262637706705], \"type\": \"bar\", \"uid\": \"7222cd2e-1701-4a0e-aaeb-2d1c7ab0d769\"}, {\"name\": \"Class 1\", \"x\": [\"A\", \"B\", \"C\", \"D\"], \"y\": [0.12249488541532977, 0.060935424312715133, 0.9275506938948791, 0.5098754463321383], \"type\": \"bar\", \"uid\": \"3d5e688d-7278-4862-8c94-eb6bcee5769c\"}], {\"yaxis\": {\"title\": {\"text\": \"Probability of attribute\"}}}, {\"showLink\": false, \"linkText\": \"Export to plot.ly\", \"plotlyServerURL\": \"https://plot.ly\"})});</script><script type=\"text/javascript\">window.addEventListener(\"resize\", function(){window._Plotly.Plots.resize(document.getElementById(\"cf90e6ab-b274-45aa-9800-c8b960393258\"));});</script>"
      ],
      "text/vnd.plotly.v1+html": [
       "<div id=\"cf90e6ab-b274-45aa-9800-c8b960393258\" style=\"height: 525px; width: 100%;\" class=\"plotly-graph-div\"></div><script type=\"text/javascript\">require([\"plotly\"], function(Plotly) { window.PLOTLYENV=window.PLOTLYENV || {};window.PLOTLYENV.BASE_URL=\"https://plot.ly\";Plotly.newPlot(\"cf90e6ab-b274-45aa-9800-c8b960393258\", [{\"name\": \"Class 0\", \"x\": [\"A\", \"B\", \"C\", \"D\"], \"y\": [0.8865680698622533, 0.8970956672653779, 0.05099642003346557, 0.47857262637706705], \"type\": \"bar\", \"uid\": \"7222cd2e-1701-4a0e-aaeb-2d1c7ab0d769\"}, {\"name\": \"Class 1\", \"x\": [\"A\", \"B\", \"C\", \"D\"], \"y\": [0.12249488541532977, 0.060935424312715133, 0.9275506938948791, 0.5098754463321383], \"type\": \"bar\", \"uid\": \"3d5e688d-7278-4862-8c94-eb6bcee5769c\"}], {\"yaxis\": {\"title\": {\"text\": \"Probability of attribute\"}}}, {\"showLink\": false, \"linkText\": \"Export to plot.ly\", \"plotlyServerURL\": \"https://plot.ly\"})});</script><script type=\"text/javascript\">window.addEventListener(\"resize\", function(){window._Plotly.Plots.resize(document.getElementById(\"cf90e6ab-b274-45aa-9800-c8b960393258\"));});</script>"
      ]
     },
     "metadata": {},
     "output_type": "display_data"
    }
   ],
   "source": [
    "chart_data = []\n",
    "\n",
    "for i in range(2):\n",
    "    chart_data.append({\n",
    "        'x': ['A', 'B', 'C', 'D'],\n",
    "        'y': lca.theta[i, :],\n",
    "        'type': 'bar',\n",
    "        'name': \"Class %d\" % i\n",
    "    })\n",
    "\n",
    "figure = {\n",
    "    'data': chart_data,\n",
    "    'layout': {'yaxis': {'title': 'Probability of attribute'}}\n",
    "}\n",
    "\n",
    "iplot(figure)"
   ]
  },
  {
   "cell_type": "markdown",
   "metadata": {},
   "source": [
    "This is **great**: LCA has told us there's:\n",
    " - One group of people who are very likely to have A, very likely to have B, very unlikely to have C and about even chance of having D\n",
    " - Another group of people who are very unlikely to have A, very unlikely to have B, but very likely to have C and about even chance of having D\n",
    " \n",
    "LCA will also give us an estimate of the prevalence of each class in the data (in this case roughly half and half):"
   ]
  },
  {
   "cell_type": "code",
   "execution_count": 10,
   "metadata": {},
   "outputs": [
    {
     "data": {
      "text/plain": [
       "array([0.50715707, 0.49284293])"
      ]
     },
     "execution_count": 10,
     "metadata": {},
     "output_type": "execute_result"
    }
   ],
   "source": [
    "lca.weight"
   ]
  },
  {
   "cell_type": "markdown",
   "metadata": {},
   "source": [
    "The next thing we can do is get the LCA model to tell us which class a particular person is likely to belong to. We can get a \"hard assignment\" (just one predicted class) or a \"soft assignment\" (a probability of belonging to each class)."
   ]
  },
  {
   "cell_type": "code",
   "execution_count": 11,
   "metadata": {},
   "outputs": [
    {
     "name": "stdout",
     "output_type": "stream",
     "text": [
      "A    1\n",
      "B    1\n",
      "C    0\n",
      "D    0\n",
      "Name: 2, dtype: int64\n",
      "Hard assignment:\n",
      "[0]\n",
      "Soft assignment:\n",
      "Probability for class 0: 0.999\n",
      "Probability for class 1: 0.001\n"
     ]
    }
   ],
   "source": [
    "person = data_df.loc[2]\n",
    "\n",
    "print(person)\n",
    "\n",
    "print(\"Hard assignment:\")\n",
    "print(lca.predict([person.values]))\n",
    "\n",
    "print(\"Soft assignment:\")\n",
    "for i, prob in enumerate(one(lca.predict_proba([person.values]))):\n",
    "    print(\"Probability for class %d: %0.3f\" % (i, prob))"
   ]
  },
  {
   "cell_type": "code",
   "execution_count": 12,
   "metadata": {},
   "outputs": [
    {
     "name": "stdout",
     "output_type": "stream",
     "text": [
      "A    0\n",
      "B    0\n",
      "C    1\n",
      "D    1\n",
      "Name: 3, dtype: int64\n",
      "Hard assignment:\n",
      "[1]\n",
      "Soft assignment:\n",
      "Probability for class 0: 0.001\n",
      "Probability for class 1: 0.999\n"
     ]
    }
   ],
   "source": [
    "person = data_df.loc[3]\n",
    "\n",
    "print(person)\n",
    "\n",
    "print(\"Hard assignment:\")\n",
    "print(lca.predict([person.values]))\n",
    "\n",
    "print(\"Soft assignment:\")\n",
    "for i, prob in enumerate(one(lca.predict_proba([person.values]))):\n",
    "    print(\"Probability for class %d: %0.3f\" % (i, prob))"
   ]
  },
  {
   "cell_type": "code",
   "execution_count": 13,
   "metadata": {},
   "outputs": [
    {
     "name": "stdout",
     "output_type": "stream",
     "text": [
      "A    1\n",
      "B    0\n",
      "C    0\n",
      "D    0\n",
      "Name: 4, dtype: int64\n",
      "Hard assignment:\n",
      "[0]\n",
      "Soft assignment:\n",
      "Probability for class 0: 0.919\n",
      "Probability for class 1: 0.081\n"
     ]
    }
   ],
   "source": [
    "person = data_df.loc[4]\n",
    "\n",
    "print(person)\n",
    "\n",
    "print(\"Hard assignment:\")\n",
    "print(lca.predict([person.values]))\n",
    "\n",
    "print(\"Soft assignment:\")\n",
    "for i, prob in enumerate(one(lca.predict_proba([person.values]))):\n",
    "    print(\"Probability for class %d: %0.3f\" % (i, prob))"
   ]
  },
  {
   "cell_type": "code",
   "execution_count": null,
   "metadata": {},
   "outputs": [],
   "source": []
  }
 ],
 "metadata": {
  "kernelspec": {
   "display_name": "Python 3",
   "language": "python",
   "name": "python3"
  },
  "language_info": {
   "codemirror_mode": {
    "name": "ipython",
    "version": 3
   },
   "file_extension": ".py",
   "mimetype": "text/x-python",
   "name": "python",
   "nbconvert_exporter": "python",
   "pygments_lexer": "ipython3",
   "version": "3.7.0"
  }
 },
 "nbformat": 4,
 "nbformat_minor": 2
}
