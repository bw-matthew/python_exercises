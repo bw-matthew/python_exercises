{
 "cells": [
  {
   "cell_type": "markdown",
   "metadata": {},
   "source": [
    "# using the `audiences` api\n",
    "\n",
    "having used python to create queries in the `analytics` application, we turn our attention to the `audiences` app. we would like to be able to use python to automate the creation of a search query in that application as well.\n",
    "\n",
    "(*my thanks to peter fairfax for suggesting this workshop, and for providing code samples upon which it is built.*) \n",
    "\n",
    "## this week's exercise:\n",
    "\n",
    "using only python code, generate the following three new audiences in the `audiences` application (feel free to change the search criteria to something more relevant to your own interests if you'd like, but make sure you can generate queries of at least the same complexity):\n",
    "\n",
    "- one audience search for twitter users whose `BIO` contains **any** of these terms: `['dog', 'cat', 'puppy', 'kitten']`\n",
    "- one audience search for twitter users whose `BIO` contains **all** of these terms: `['dog', 'cat', 'love']`\n",
    "- one audience search for twitter users whose bio contains **any** of these terms: `['dog', 'cat', 'puppy', 'kitten', 'kitty']` **and** whose `INTERESTS` includes  `Animals & Pets` (see image below) \n",
    "\n",
    "![combined search criteria](query_criteria.png)\n",
    "\n",
    "### bonus challenge (a bit more work):\n",
    "generate a query for one audience search for twitter users whose `BIO` **or** `TWEETS` contain **any** these terms `['cat','kitten']` **and** whose `INTERESTS` includes  `Animals & Pets` (see image below) \n",
    "\n",
    "![bonus challenge query](bonus_challenge.png)\n",
    "\n",
    "\n",
    "## overview of today's session\n",
    "compared to how we access the `analytics` app, for which there exists a python SDK (software development kit, i.e. the module `bwapi`), there is a big difference in how we will approach the `audiences` app, which offers no such SDK). however, both applications are built with a API (application programming interface) which we utilise. the difference here is that we will have to write raw `request` calls to the API directly as opposed to via a nice wrapper script. \n",
    "\n",
    "this will be a bit messier, and the authentication is annoyingly fickle, but for the simple task above we can live with that - until `audiences` gets its own SDK. \n",
    "\n",
    "- first, we will take a look at the audiences application for a short orientation.\n",
    "- second, we will see how to intercept and monitor the communication between the browser and the `audiences` application backend, so we can learn its structure and mimic it. (here, we will need to pay special attention to the authentication).\n",
    "- third, we will need to write code to construct a request to the backend a. here, we benefit from peter's efforts last week.\n",
    "- fourth we will test our code to construct a query."
   ]
  },
  {
   "cell_type": "markdown",
   "metadata": {},
   "source": [
    "## an overview of `audiences`:\n",
    "\n",
    "- log into the `audiences` application.\n",
    "- create a new query.\n",
    "- specify the new query by adding at least 3 terms to search for in the `bio` field. make sure to choose the `any` operator. \n",
    "- hit the `search` button.\n",
    "- hit the `save` button and give your new search a name."
   ]
  },
  {
   "cell_type": "markdown",
   "metadata": {},
   "source": [
    "## intercepting the communication with the backend\n",
    "\n",
    "- in your browser, choose the developer view. (cmd-alt-i, in `chrome`)\n",
    "- choose the `networks` tab\n",
    "- change your query slightly and hit the `search` button again.\n",
    "- find the line in the `name` column that begins with `preview?...` and select it.\n",
    "- in the window to the right of that line, make sure that the `headers` is selected and showing.\n",
    "- find the `request` headers.\n",
    "- not the `method` is `POST`.\n",
    "- note the `request_url` header.\n",
    "- note the `request header` authorisastion key field.\n",
    "- note the `request_payload` header\n",
    "\n",
    "these are the fields that we need to send with the request. look carefully at the structure of the "
   ]
  },
  {
   "cell_type": "code",
   "execution_count": 41,
   "metadata": {},
   "outputs": [],
   "source": [
    "# here is what i got when i did it:\n",
    "request_url = 'https://audiences.brandwatch.com/api/audiences/audiences/preview?start=0&count=5&page=0&sort=influence&direction=desc'\n",
    "\n",
    "# where = 'start=0&count=50&page=0&sort=influence&direction=desc' specifies how to \n",
    "# filter results and return order\n",
    "request_payload = \\\n",
    "'{\\\n",
    "  \"id\":\"5c3130dd5c416100010ab2d7\",\\\n",
    "  \"query\":\\\n",
    "  {\\\n",
    "    \"operator\":\"AND\",\\\n",
    "    \"children\":[\\\n",
    "      {\\\n",
    "        \"operator\":\"OR\",\\\n",
    "        \"children\":\\\n",
    "        [\\\n",
    "          {\\\n",
    "            \"operator\":\"OR\",\\\n",
    "            \"field\":\"BIO\",\\\n",
    "            \"value\":[\"cat\"]\\\n",
    "          },\\\n",
    "          {\\\n",
    "            \"operator\":\"OR\",\\\n",
    "            \"field\":\"BIO\",\\\n",
    "            \"value\":[\"dog\"]\\\n",
    "          },\\\n",
    "          {\\\n",
    "            \"operator\":\"OR\",\\\n",
    "            \"field\":\"BIO\",\\\n",
    "            \"value\":[\"kittten\"]\\\n",
    "          },\\\n",
    "          {\\\n",
    "            \"operator\":\"OR\",\\\n",
    "            \"field\":\"BIO\",\\\n",
    "            \"value\":[\"puppy\"]\\\n",
    "            },\\\n",
    "            {\\\n",
    "              \"operator\":\"OR\",\\\n",
    "              \"field\":\"BIO\",\\\n",
    "              \"value\":[\"pup\"]\\\n",
    "            },\\\n",
    "            {\\\n",
    "              \"operator\":\"OR\",\\\n",
    "              \"field\":\"BIO\",\\\n",
    "              \"value\":[\"doggo\"]\\\n",
    "            },\\\n",
    "            {\\\n",
    "              \"operator\":\"OR\",\\\n",
    "              \"field\":\"BIO\",\\\n",
    "              \"value\":[\"kitty\"]\\\n",
    "            },\\\n",
    "            {\\\n",
    "              \"operator\":\"OR\",\\\n",
    "              \"field\":\"BIO\",\\\n",
    "              \"value\":[\"feline\"]\\\n",
    "            }\\\n",
    "          ]\\\n",
    "        },\\\n",
    "        {\\\n",
    "          \"operator\":\"AND\",\\\n",
    "          \"children\":\\\n",
    "          [\\\n",
    "            {\\\n",
    "              \"field\":\"INTERESTS\",\\\n",
    "              \"value\":[\"Animals & Pets\"],\\\n",
    "              \"operator\":\"OR\"\\\n",
    "            }\\\n",
    "          ]\\\n",
    "        }]\\\n",
    "  }\\\n",
    "}'\n",
    "authorisation_key = 'blablaeyJlbWFpbCI6Im9ob2xtQGJyYW5kd2F0Y2guY29tIiwiZmlyc3ROYW1lIjoiT3NrYXIiLCJsYXN0TmFtZSI6IkhvbG0iLCJjbGllbnRJZCI6MTk5NzM5MjcwNSwiYXBpMkFjY2Vzc1Rva2VuIjoiZXlKaGJHY2lPaUpTVXpJMU5pSXNJblI1Y0NJNklrcFhWQ0lzSW10cFpDSTZJakEyTUdSbFlXSTNZVGRoTlRFME1qazJORGc1TkdGbE5qVXdNVEkxWmpnMFkyVmtOamt5TmpnaWZRLmV5SnliMnhsY3lJNld5SkNWMTlDUVZOSlExOVZVMFZTSWl3aVFsZGZRVVJOU1U1ZlZWTkZVaUpkTENKelkyOXdaU0k2ZTMwc0ltVjRjQ0k2TVRVME5qYzBNekk0Tnl3aVlYVmtJanBiSW1GMVpHbGxibU5sY3k1aWNtRnVaSGRoZEdOb0xtTnZiU0lzSW1Gd2FTNWljbUZ1WkhkaGRHTm9MbU52YlNKZExDSnBjM01pT2lKc2IyZHBiaTVpY21GdVpIZGhkR05vTG1OdmJTSXNJbk4xWWlJNklqSXdOemN6TmpRNU1pSjkuQjNNQ0FYdHhoUHpWc1ltaGt6Z0pua3BNeHFpcDZwM0RHcFJjbTg0ODNyNjdXbl9FZksyYWc3UGFuV2JIWEM5REc1N3M2UktnMGR5QnNYZkwtbWc1Y1pfd0lSYzhfbGk4TFVydEJsSWpfQms0Z3RmVEREWVI1RXZFdEV3czg5VUg1c2pCM3FCWXdaMzRYam5qbGRVb2tLZk9FUzE0Z3VQRmRYQmpZdllTMEZmQmc1cVg2ZzhWcS1BYXU4cEpjN004TDYwMXFfVTdKV0ZZSlhtZFE3Y2MwMjNmOGlJZUR0TDNka0JnbTZqZGVKYVB0a3dJQTZueUxtSml6ZWxxd3NrTE1jaFd6cERUbmh6SWNZN292ZUt0bGpVVVVmam90TjN1OXJRRlNtV0ZiVTF1V3pRaUMxaWpsbE54MGdGWGhTSm9fQzV0ZnVwTjhudmxLN1g1dEZGR0pZYWlSSU43dER4LTc0anhtbkw3MENzZ1ZMdGNEMFBtTWhzWUtLdU45UnBqQ0U4RlpLUUlKN0dSS0VsWk1yd0g5SHE2VWNhLWpTTnF0Y1FiNGs5cHZpa0ZTRFBRaDJOZHA5UzROcktRSnNPd0s4VUFNNzJXelBqeHVmNEJwTGhDeTlGQThQOHQxNS1iVHFUdy1BRW5vOTJTcU9NMzNUZGp6dTZxeGRKa1AwRV9OX3E2aDNIVUV3bzZHNldPd3FPdDZvMHNGWk5sQ0EzY1h5Z1Y1OG9LdGxjYkduMGdFckkwTVNlUHp3aUhjaDkxaVZYaVoxWjFOcXlqOU42VWhqaWx0amMzSmJLbktlWHJPTkRFdk5GVlFPX1ItUjBKMWRqc2dPd0F2SVFGbHJRb3ZmU1pwTWVveHR3Nk44VWJkMDZiSUhjQjFnRllreHNOM2U4aDcxWE4tZkEiLCJyb2xlcyI6W10sInNjb3BlIjp7fSwiZXhwIjoxNTQ2NzQzMjg3LCJhdWQiOiJhdWRpZW5jZXMuYnJhbmR3YXRjaC5jb20iLCJpc3MiOiJsb2dpbi5icmFuZHdhdGNoLmNvbSIsInN1YiI6IjIwNzczNjQ5MiJ9.UQfSiTOmnlV1R3VwP6YC5nGnzP35QKtHE9Xhy4U3sjOxm-PFUk_pDxKOGEEYdRPQ0RvEd38YL29XUWIJ2h1myFH8pZ6NgEAZGsQKKz-mO27zqJGNq9prCSwkxK3OC5SvV6PiFa9T_pI3UK1VKSzN0gnWrzKRbNIeyvwo2gZ97Z1nnqTgCkdbYsJiKgFJeOk5yHUjCiw27kVrjNHsP8CEq90pIXSDF6ZnbDE7qeavvrTssSEQq1kLLFkddXutkowfqhDs5YT4XOoo6I8fYw2PkNmRaaMre6eFJTHV4Y1OyrwQAdk4zbiLoXqFATx-IwFFZ3S8FZwr6QkL0cJmtkQ257MiFvSj7LwkLpvBQaXqqk5NB-48p5QEhRnxgF78IcTsVAahVeCo5oTQGAHZb74lWukeRtHKvBWgzZgBOochNcoXEl2_RWMftlRwj1ep9ppeApTHIv35zeUCmvliyon-dJK8rZFBy8YV1c47olwEtwSLRG6pv9UsDw8w9TORONR_WbP8vU7aQXZ4c8J7irzlvk3wKKgll2JIbDBpvPJK4oSLK7acoMIA3QTUYXdUZ5Jvt4iazG_8CRWdS7rrpeEiIVsL_3FCWEPYdLheDDYItzz9KlMp-GzrGKWdphLoMux2vUAcDMfmW359ybWd_I0rjArjKU0eJA_Q7MpgIifvAxc'\n",
    "request_url_save = 'https://audiences.brandwatch.com/api/audiences/audiences?newFormat=true'\n",
    "user_id = '207736492'"
   ]
  },
  {
   "cell_type": "markdown",
   "metadata": {},
   "source": [
    "## using python instead of the browser\n",
    "\n",
    "using the `requests` [module](http://docs.python-requests.org/en/master/), we can send the requests to the backend from python instead of via the browser. \n",
    "\n",
    "the challenge is just about how to generating these requests for a given query of interest. "
   ]
  },
  {
   "cell_type": "code",
   "execution_count": 42,
   "metadata": {},
   "outputs": [],
   "source": [
    "# we will need the following modules\n",
    "import json\n",
    "import requests"
   ]
  },
  {
   "cell_type": "code",
   "execution_count": 43,
   "metadata": {},
   "outputs": [],
   "source": [
    "# to do that we can use these helper functions written by pf (tweaked by oh):\n",
    "def create_query_child(search_term_list, search_field, bool_operator='AND'):\n",
    "    \"\"\" \n",
    "    given a list of search terms, and a search field to, \n",
    "    this function generates and a dict containing a \n",
    "    well-formed child query for the audiences app.\n",
    "\n",
    "    search_term_list: a list of string values to search for\n",
    "    search_field: a string, one of 'BIO', 'INTERESTS', 'TWEETS'...\n",
    "    bool_operator: a string, one of ['AND', 'OR']\n",
    "\n",
    "    returns: a dict containing a well formed child query.    \n",
    "    \"\"\"\n",
    "    bool_operator = bool_operator.upper()\n",
    "    if bool_operator not in ['AND','OR']:\n",
    "        print('error. illegal operator', bool_operator)\n",
    "        return []\n",
    "    grandchildren = [] # initialise list for collection of search terms\n",
    "    for search_term in search_term_list:\n",
    "        grandchild = {'operator':'OR',     # <--- not used?\n",
    "                      'field':search_field, \n",
    "                      'value':[search_term] \n",
    "                     }\n",
    "        grandchildren.append(grandchild)\n",
    "    child = {'operator':bool_operator, 'children':grandchildren}\n",
    "    return child\n",
    "\n",
    "\n",
    "def add_search_term_to_query_child(query_child, search_term, search_field):\n",
    "    \"\"\"\n",
    "    TO BE COMPLETED (tested):\n",
    "    given a query child dict (assumed to be well-formed),\n",
    "    add a search term and search field to it. \n",
    "    note that the operator applied to the terms is not changed.\n",
    "    \"\"\"\n",
    "    grandchildren = query_child['children']\n",
    "    new_grandchild = {'operator':'OR',     # <--- not used?\n",
    "                      'field':search_field, \n",
    "                      'value':[search_term] }\n",
    "    \n",
    "    grandchildren.append(new_grandchild)\n",
    "    query_child['children'] = grandchildren\n",
    "\n",
    "    return query_child\n",
    "\n",
    "\n",
    "def create_query_payload_json(list_of_children, query_id = None):\n",
    "    \"\"\"\n",
    "    given a list of query children (in the form of dicts),\n",
    "    this function packs them into the framework required \n",
    "    for the query payload\n",
    "    \"\"\"\n",
    "    query = {\n",
    "        'id':query_id, \n",
    "        'query':{\n",
    "            'operator':'AND',   # obligatory top level operator\n",
    "            'children':list_of_children\n",
    "        }\n",
    "    }\n",
    "    query_payload = json.dumps(query) # converts dicts to json string\n",
    "    return query_payload\n",
    "\n",
    "\n",
    "def get_query_response(request_url, \n",
    "                       authorisation_key, \n",
    "                       payload, \n",
    "                       user_id=None):\n",
    "    \"\"\"\n",
    "    sends payload (assumed to be a well formed query) to audience's request url\n",
    "    and returns the response object.\n",
    "    if you want to control the number of accounts returned, you need to edit \n",
    "    the request url.\n",
    "    \"\"\"\n",
    "    char_count = str(len(payload))\n",
    "    request_headers={\n",
    "        'Authorization': f'bearer {authorisation_key}', \n",
    "        'Content-Type': 'application/json',\n",
    "        'Content-Length': char_count,\n",
    "#       'userId': user_id\n",
    "    }\n",
    "\n",
    "    response = requests.post(request_url, headers=request_headers, data=payload)\n",
    "    return response\n",
    "\n",
    "\n",
    "def save_audience_search(payload, authorisation_key, char_count, user_id):\n",
    "    \"\"\"\n",
    "    sends payload (assumed to be a well formed query) to request url\n",
    "    and returns the response object.\n",
    "    if you want to limit the number of accounts returned, \n",
    "    \"\"\"\n",
    "\n",
    "    char_count = str(len(payload))\n",
    "    url = 'https://audiences.brandwatch.com/api/audiences/audiences?newFormat=true'\n",
    "    response = requests.post(\n",
    "        url, \n",
    "        headers={'Authorization': f'bearer {authorisation_key}', \n",
    "                 'Content-Type': 'application/json', \n",
    "                 'Content-Length': char_count, \n",
    "                 'userId':user_id}, \n",
    "        data=payload)\n",
    "    return response\n",
    "\n",
    "#response_save = save_audience(save_payload, authorization, character_count)"
   ]
  },
  {
   "cell_type": "code",
   "execution_count": 44,
   "metadata": {},
   "outputs": [
    {
     "data": {
      "text/plain": [
       "{'operator': 'AND',\n",
       " 'children': [{'operator': 'OR', 'field': 'BIO', 'value': ['dog']},\n",
       "  {'operator': 'OR', 'field': 'BIO', 'value': ['cat']}]}"
      ]
     },
     "execution_count": 44,
     "metadata": {},
     "output_type": "execute_result"
    }
   ],
   "source": [
    "# example use:\n",
    "# let us say we want to search for users who have the terms \n",
    "# \"aaaaaa\" AND \"bbbbbbb\" \n",
    "# in their 'BIO' field\n",
    "example_child = create_query_child(['dog', 'cat'], 'BIO', bool_operator='AND')\n",
    "example_child"
   ]
  },
  {
   "cell_type": "code",
   "execution_count": 45,
   "metadata": {},
   "outputs": [
    {
     "data": {
      "text/plain": [
       "'{\"id\": null, \"query\": {\"operator\": \"AND\", \"children\": [{\"operator\": \"AND\", \"children\": [{\"operator\": \"OR\", \"field\": \"BIO\", \"value\": [\"dog\"]}, {\"operator\": \"OR\", \"field\": \"BIO\", \"value\": [\"cat\"]}]}]}}'"
      ]
     },
     "execution_count": 45,
     "metadata": {},
     "output_type": "execute_result"
    }
   ],
   "source": [
    "payload = create_query_payload_json([example_child])\n",
    "payload"
   ]
  },
  {
   "cell_type": "code",
   "execution_count": 46,
   "metadata": {},
   "outputs": [
    {
     "data": {
      "text/plain": [
       "'https://audiences.brandwatch.com/api/audiences/audiences/preview?start=0&count=5&page=0&sort=influence&direction=desc'"
      ]
     },
     "execution_count": 46,
     "metadata": {},
     "output_type": "execute_result"
    }
   ],
   "source": [
    "request_url"
   ]
  },
  {
   "cell_type": "code",
   "execution_count": 47,
   "metadata": {},
   "outputs": [],
   "source": [
    "#https://audiences.brandwatch.com/api/audiences/audiences/preview?start=0&count=50&page=0&sort=influence&direction=desc"
   ]
  },
  {
   "cell_type": "code",
   "execution_count": 48,
   "metadata": {},
   "outputs": [],
   "source": [
    "authorisation_key = 'eyJhbGciOiJSUzI1NiIsInR5cCI6IkpXVCIsImtpZCI6IjA2MGRlYWI3YTdhNTE0Mjk2NDg5NGFlNjUwMTI1Zjg0Y2VkNjkyNjgifQ.eyJlbWFpbCI6Im9ob2xtQGJyYW5kd2F0Y2guY29tIiwiZmlyc3ROYW1lIjoiT3NrYXIiLCJsYXN0TmFtZSI6IkhvbG0iLCJjbGllbnRJZCI6MTk5NzM5MjcwNSwiYXBpMkFjY2Vzc1Rva2VuIjoiZXlKaGJHY2lPaUpTVXpJMU5pSXNJblI1Y0NJNklrcFhWQ0lzSW10cFpDSTZJakEyTUdSbFlXSTNZVGRoTlRFME1qazJORGc1TkdGbE5qVXdNVEkxWmpnMFkyVmtOamt5TmpnaWZRLmV5SnliMnhsY3lJNld5SkNWMTlDUVZOSlExOVZVMFZTSWl3aVFsZGZRVVJOU1U1ZlZWTkZVaUpkTENKelkyOXdaU0k2ZTMwc0ltVjRjQ0k2TVRVME5qZzFPRE0xT1N3aVlYVmtJanBiSW1GMVpHbGxibU5sY3k1aWNtRnVaSGRoZEdOb0xtTnZiU0lzSW1Gd2FTNWljbUZ1WkhkaGRHTm9MbU52YlNKZExDSnBjM01pT2lKc2IyZHBiaTVpY21GdVpIZGhkR05vTG1OdmJTSXNJbk4xWWlJNklqSXdOemN6TmpRNU1pSjkuS202bWxMQUVxSVl2ejdaQUp3WEI0YzhnYkVKVmZfdXRxbmJzN2xmUDFFaU0yVWthTjRESHpYU3NxOWI1RjJBaVhscEthQUhRaGdpd0UwX0RVZDZUVzNUSnRiOGxmTVpEMlRvelhMd005MFZZRXdfb2tYSThta3dPc0EyX1dMU0stVDBZS09jSnRnZGVuXzdoVXJUQTdheEdCVTZMNFg3ZG1ValdObFJ2c3VsR3ZUeDVwanlNakJFdWJHLTlpSkRfR2kzRDJ0SU1GckRLb0NDQmNiS3dpLUNRWkhQenRibXUtaEpoYXNLampYQjJ4NklmTGRETzBwMGs5UFo2aEZOWHJTLVJtOXFRNTBZMC1ITUdwd0wteUtXYVQ2S090cFVQLXE4emlyZ0dpYUE3WWVzWVZ3UnRNLXp5ZDBQbVBsQW9jRnlnd2VJZHdlWGp6WGxabzhRRWJCeHlSMjVLMjd2MDhISXlwYmJlVTZGak5iTXY3c2NjQ1JvbzVPbHFHTGNfNFY2RlBHT2kyOHFfc3dxWlQ4TVd1T25RN3QwbWk1b3A4RVpvc0RVMU16MTFST053bm9TN1hUdmtyWTh2dHFTald2bmE3ZkRIdzJKYnVRU0ZwMTR6Z1NSZUJObUZmU2pRanBURlV3MGxnSXhKSkpyY1A0Y2F6V2JaQmpvTHJtRHplWmZZeElfZ1FkMThrMDZRUlVwNW9ub0tiQjAwbVNBdUxaeHpKa1hTVW80RG5QYzlzR0ZWdEpxLTlNckplSTI3Q0h6NnVHNHItNkZmb2RiQ095Uk9GVnpNQlVlMFZCTC1CQ0gydnJ3Qkc5VmZYVjFDUjAyUWZHamxRYjBlSURtS0lITzFGZzJBRHZWaGliek5WNG1lYTBIVjVYcWZwc2JfTFpJMDZuMTRjTGciLCJyb2xlcyI6W10sInNjb3BlIjp7fSwiZXhwIjoxNTQ2ODU4MzU5LCJhdWQiOiJhdWRpZW5jZXMuYnJhbmR3YXRjaC5jb20iLCJpc3MiOiJsb2dpbi5icmFuZHdhdGNoLmNvbSIsInN1YiI6IjIwNzczNjQ5MiJ9.HcL3DVv-CUv2PE8i0Wav4KJbbtrJ0bzOp7OdUA_UEB7FgvpXCojbTYbzk3HTWSyavu0iviSt6DLUk9p7lPUsw9PXwjSigtKKklHfwNQNP7VQqZHGVPmwPyU-OgYItT77y8QEw10o9bKWDWtjhcA8AJ86kPkZwQkXItj2CvWTIh5UVm0v1hEN6urrjMxlyLvSIU0cEV2EzUj76cm_SlLBYDusb08Yu37Bf7AyZg_41kal8PWtu3mDUvWHVGgSnyb8N8EPQgwW_5dqoKkIZy4i0i9naxlch0duACESrrM-d3PwcRvpIjE2386G10Es-RAmVI50Cqku9J30QWpKVSH350ZzVCtrJreYKOTKJkW1T5umxusmtPTpPp0RN0Rjfy6UQyEws5Kb6gVVK_2i094669z3iwoytsanCQ7IMb3ocHk1x9riU30gYZR5CSNYKhfq96lNAlzxWgkMVfNMXlrkSGCe-N9wML-WBO8Hc3I80-JjvY1OYNQC5TC8pnZkOqgbbBBjD4YoowlnzA8SEECY7WjWH9798sENR83cZBXgsnByPGxxzTwpz5jqf5RtETyqPSmxvYfGXTn2gsJqMwwuJKXmiSXZ5zFc-W395-J3gUxUpAxpoKJd_6yWbdYeGwuaprDqVbj4y0yjqNPuAgqzQypry50g4fzAtxW0dIT_ZpM'\n",
    "#response = get_query_response(request_url, authorisation_key, payload, user_id ='207736492')\n",
    "#  207736492\n",
    "response = get_query_response(request_url, authorisation_key, payload)\n",
    "# \"5c3130dd5c416100010ab2d7\""
   ]
  },
  {
   "cell_type": "code",
   "execution_count": 49,
   "metadata": {},
   "outputs": [
    {
     "data": {
      "text/plain": [
       "'{\"results\":[{\"piScore\":84,\"name\":\"Sarah Millican\",\"screenName\":\"SarahMillican75\",\"profileLocation\":\"hopefully sitting down\",\"demographics\":{\"location\":{\"name\":\"County Down\",\"population\":516000,\"geonameId\":2651037,\"featureCode\":\"ADMD\",\"codes\":{\"PCL\":\"GB\",\"ADM1\":\"NIR\",\"SUBADM\":\"2651037\"},\"coords\":{\"lat\":54.33333,\"lon\":-5.75},\"source\":\"PROFILE_LOCATION\"},\"professions\":[{\"name\":\"Executive\",\"jobs\":[\"Founder\"]},{\"name\":\"Artist\",\"jobs\":[\"Comedian\"]}],\"interests\":[\"Animals & Pets\",\"Books\",\"Politics\"],\"accountType\":\"INDIVIDUAL\",\"accountTypeClassificationProbability\":1.0,\"gender\":\"FEMALE\",\"source\":\"MODEL\"},\"image\":\"https://pbs.twimg.com/profile_images/849266627334074369/gTqe5ILO_normal.jpg\",\"id\":\"20244875\",\"summary\":\"Comedian, writer, founder of Standard Issue podcast. Feminist, eater, dog & cat mam. Tweets ending with TSM are by my team (Team Sarah Millican).\",\"metrics\":{\"followers\":2065639,\"following\":4132,\"statuses\":95715,\"favourites\":5860,\"listed\":5166},\"verified\":true,\"lastUpdated\":1546814015990,\"highlightedSummary\":\"Comedian, writer, founder of Standard Issue podcast. Feminist, eater, <mark>dog</mark> & <mark>cat</mark> mam. Tweets ending with TSM are by my team (Team Sarah Millican).\",\"spamProfile\":false},{\"piScore\":72,\"name\":\"\\\\uD83D\\\\uDC3EStacy Hinojosa\",\"screenName\":\"stacysays\",\"profileLocation\":\"Utah (Mountains or Mesa)\",\"demographics\":{\"location\":{\"name\":\"Utah\",\"population\":2427340,\"geonameId\":5549030,\"featureCode\":\"ADM1\",\"codes\":{\"PCL\":\"US\",\"ADM1\":\"UT\"},\"coords\":{\"lat\":39.25024,\"lon\":-111.75103},\"source\":\"PROFILE_LOCATION\"},\"professions\":[],\"interests\":[\"Animals & Pets\",\"Books\",\"Games\"],\"accountType\":\"INDIVIDUAL\",\"accountTypeClassificationProbability\":1.0,\"gender\":\"UNKNOWN\",\"source\":\"MODEL\"},\"image\":\"https://pbs.twimg.com/profile_images/990439710123216896/hdJtK8sA_normal.jpg\",\"id\":\"21164804\",\"summary\":\"Writer (@WildRescuers), dog & cat rescuer & YouTuber. I play Minecraft. http://www.ShopStacyPlays.com\\\\nFollow my pets: http://YouTube.com/stacyvlogs\",\"metrics\":{\"followers\":757818,\"following\":395,\"statuses\":11678,\"favourites\":8131,\"listed\":440},\"verified\":true,\"lastUpdated\":1546757737936,\"highlightedSummary\":\"Writer (@WildRescuers), <mark>dog</mark> & <mark>cat</mark> rescuer & YouTuber. I play Minecraft. http://www.ShopStacyPlays.com\\\\nFollow my pets: http://YouTube.com/stacyvlogs\",\"spamProfile\":false},{\"piScore\":71,\"name\":\"Battersea\",\"screenName\":\"Battersea_\",\"profileLocation\":\"London, Kent and Berkshire.\",\"demographics\":{\"location\":{\"name\":\"City of London\",\"population\":7556900,\"geonameId\":2643741,\"featureCode\":\"PPLA3\",\"codes\":{\"PCL\":\"GB\",\"ADM1\":\"ENG\",\"ADM2\":\"GLA\",\"ADM3\":\"H9\"},\"coords\":{\"lat\":51.51279,\"lon\":-0.09184},\"source\":\"PROFILE_LOCATION\"},\"professions\":[],\"interests\":[\"Animals & Pets\"],\"accountType\":\"ORGANISATIONAL\",\"accountTypeClassificationProbability\":0.9999844964941477,\"gender\":\"UNKNOWN\",\"source\":\"MODEL\"},\"image\":\"https://pbs.twimg.com/profile_images/981667630909140992/HoVCI1qJ_normal.jpg\",\"id\":\"20505533\",\"summary\":\"Battersea is here for every dog and cat, and has been since 1860. We believe that every dog and cat deserves the best.\",\"metrics\":{\"followers\":189038,\"following\":18334,\"statuses\":21877,\"favourites\":14355,\"listed\":887},\"verified\":true,\"lastUpdated\":1531928313635,\"highlightedSummary\":\"Battersea is here for every <mark>dog</mark> and <mark>cat</mark>, and has been since 1860. We believe that every <mark>dog</mark> and <mark>cat</mark> deserves the best.\",\"spamProfile\":false},{\"piScore\":70,\"name\":\"Ted Leo\",\"screenName\":\"tedleo\",\"profileLocation\":\"\",\"demographics\":{\"location\":null,\"professions\":[],\"interests\":[\"Animals & Pets\"],\"accountType\":\"INDIVIDUAL\",\"accountTypeClassificationProbability\":0.999999977378341,\"gender\":\"MALE\",\"source\":\"MODEL\"},\"image\":\"https://pbs.twimg.com/profile_images/826982602997428224/CrsA7fe__normal.jpg\",\"id\":\"20011858\",\"summary\":\"Journeyman/Virgo-Dog with a cat\",\"metrics\":{\"followers\":43878,\"following\":1305,\"statuses\":43634,\"favourites\":148532,\"listed\":1590},\"verified\":true,\"lastUpdated\":1532787135010,\"highlightedSummary\":\"Journeyman/Virgo-<mark>Dog</mark> with a <mark>cat</mark>\",\"spamProfile\":false},{\"piScore\":70,\"name\":\"lehimesa\",\"screenName\":\"lehimesa\",\"profileLocation\":\"arizona\",\"demographics\":{\"location\":{\"name\":\"Arizona\",\"population\":5863809,\"geonameId\":5551752,\"featureCode\":\"ADM1\",\"codes\":{\"PCL\":\"US\",\"ADM1\":\"AZ\"},\"coords\":{\"lat\":34.5003,\"lon\":-111.50098},\"source\":\"PROFILE_LOCATION\"},\"professions\":[{\"name\":\"Teacher & Lecturer\",\"jobs\":[\"Teacher\"]},{\"name\":\"Artist\",\"jobs\":[\"Artist\"]}],\"interests\":[\"Books\",\"Family & Parenting\",\"Politics\"],\"accountType\":\"INDIVIDUAL\",\"accountTypeClassificationProbability\":1.0,\"gender\":\"FEMALE\",\"source\":\"MODEL\"},\"image\":\"https://pbs.twimg.com/profile_images/470021506941333504/kedO9k2Q_normal.jpeg\",\"id\":\"22846618\",\"summary\":\"artist mom granny wife teacher caretaker mule friend farm worker cat herder dog lover bird watcher voter. Pres Obama will be in history books forever!\",\"metrics\":{\"followers\":11133,\"following\":12250,\"statuses\":652254,\"favourites\":453688,\"listed\":946},\"verified\":false,\"lastUpdated\":1546845658746,\"highlightedSummary\":\"artist mom granny wife teacher caretaker mule friend farm worker <mark>cat</mark> herder <mark>dog</mark> lover bird watcher voter. Pres Obama will be in history books forever!\",\"spamProfile\":false}],\"start\":0,\"count\":5,\"total\":18167}'"
      ]
     },
     "execution_count": 49,
     "metadata": {},
     "output_type": "execute_result"
    }
   ],
   "source": [
    "response.text"
   ]
  },
  {
   "cell_type": "code",
   "execution_count": 50,
   "metadata": {},
   "outputs": [
    {
     "data": {
      "text/plain": [
       "2.0"
      ]
     },
     "execution_count": 50,
     "metadata": {},
     "output_type": "execute_result"
    }
   ],
   "source": [
    "9999999999999999.0 - \\\n",
    "9999999999999998.0"
   ]
  },
  {
   "cell_type": "code",
   "execution_count": null,
   "metadata": {},
   "outputs": [],
   "source": []
  }
 ],
 "metadata": {
  "kernelspec": {
   "display_name": "Python 3",
   "language": "python",
   "name": "python3"
  },
  "language_info": {
   "codemirror_mode": {
    "name": "ipython",
    "version": 3
   },
   "file_extension": ".py",
   "mimetype": "text/x-python",
   "name": "python",
   "nbconvert_exporter": "python",
   "pygments_lexer": "ipython3",
   "version": "3.7.0"
  }
 },
 "nbformat": 4,
 "nbformat_minor": 2
}
