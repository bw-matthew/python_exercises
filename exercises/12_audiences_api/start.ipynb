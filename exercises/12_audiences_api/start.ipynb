{
 "cells": [
  {
   "cell_type": "code",
   "execution_count": 3,
   "metadata": {},
   "outputs": [],
   "source": [
    "from datetime import datetime\n",
    "import json\n",
    "import pandas as pd\n",
    "import re\n",
    "import requests\n",
    "from tqdm import tqdm_notebook as progress\n",
    "\n",
    "from twitter import *\n",
    "#import twcred"
   ]
  },
  {
   "cell_type": "code",
   "execution_count": 4,
   "metadata": {},
   "outputs": [
    {
     "ename": "FileNotFoundError",
     "evalue": "[Errno 2] No such file or directory: 'soc2010indexversion5.116august2016.xls'",
     "output_type": "error",
     "traceback": [
      "\u001b[0;31m---------------------------------------------------------------------------\u001b[0m",
      "\u001b[0;31mFileNotFoundError\u001b[0m                         Traceback (most recent call last)",
      "\u001b[0;32m<ipython-input-4-4bd5c8886f15>\u001b[0m in \u001b[0;36m<module>\u001b[0;34m\u001b[0m\n\u001b[1;32m      1\u001b[0m \u001b[0mfilename\u001b[0m \u001b[0;34m=\u001b[0m \u001b[0;34m'soc2010indexversion5.116august2016.xls'\u001b[0m\u001b[0;34m\u001b[0m\u001b[0m\n\u001b[0;32m----> 2\u001b[0;31m \u001b[0mxl\u001b[0m \u001b[0;34m=\u001b[0m \u001b[0mpd\u001b[0m\u001b[0;34m.\u001b[0m\u001b[0mExcelFile\u001b[0m\u001b[0;34m(\u001b[0m\u001b[0mfilename\u001b[0m\u001b[0;34m)\u001b[0m\u001b[0;34m\u001b[0m\u001b[0m\n\u001b[0m",
      "\u001b[0;32m~/.local/share/virtualenvs/python_exercises-GZG_OgGz/lib/python3.7/site-packages/pandas/io/excel.py\u001b[0m in \u001b[0;36m__init__\u001b[0;34m(self, io, **kwds)\u001b[0m\n\u001b[1;32m    392\u001b[0m             \u001b[0mself\u001b[0m\u001b[0;34m.\u001b[0m\u001b[0mbook\u001b[0m \u001b[0;34m=\u001b[0m \u001b[0mxlrd\u001b[0m\u001b[0;34m.\u001b[0m\u001b[0mopen_workbook\u001b[0m\u001b[0;34m(\u001b[0m\u001b[0mfile_contents\u001b[0m\u001b[0;34m=\u001b[0m\u001b[0mdata\u001b[0m\u001b[0;34m)\u001b[0m\u001b[0;34m\u001b[0m\u001b[0m\n\u001b[1;32m    393\u001b[0m         \u001b[0;32melif\u001b[0m \u001b[0misinstance\u001b[0m\u001b[0;34m(\u001b[0m\u001b[0mself\u001b[0m\u001b[0;34m.\u001b[0m\u001b[0m_io\u001b[0m\u001b[0;34m,\u001b[0m \u001b[0mcompat\u001b[0m\u001b[0;34m.\u001b[0m\u001b[0mstring_types\u001b[0m\u001b[0;34m)\u001b[0m\u001b[0;34m:\u001b[0m\u001b[0;34m\u001b[0m\u001b[0m\n\u001b[0;32m--> 394\u001b[0;31m             \u001b[0mself\u001b[0m\u001b[0;34m.\u001b[0m\u001b[0mbook\u001b[0m \u001b[0;34m=\u001b[0m \u001b[0mxlrd\u001b[0m\u001b[0;34m.\u001b[0m\u001b[0mopen_workbook\u001b[0m\u001b[0;34m(\u001b[0m\u001b[0mself\u001b[0m\u001b[0;34m.\u001b[0m\u001b[0m_io\u001b[0m\u001b[0;34m)\u001b[0m\u001b[0;34m\u001b[0m\u001b[0m\n\u001b[0m\u001b[1;32m    395\u001b[0m         \u001b[0;32melse\u001b[0m\u001b[0;34m:\u001b[0m\u001b[0;34m\u001b[0m\u001b[0m\n\u001b[1;32m    396\u001b[0m             raise ValueError('Must explicitly set engine if not passing in'\n",
      "\u001b[0;32m~/.local/share/virtualenvs/python_exercises-GZG_OgGz/lib/python3.7/site-packages/xlrd/__init__.py\u001b[0m in \u001b[0;36mopen_workbook\u001b[0;34m(filename, logfile, verbosity, use_mmap, file_contents, encoding_override, formatting_info, on_demand, ragged_rows)\u001b[0m\n\u001b[1;32m    109\u001b[0m     \u001b[0;32melse\u001b[0m\u001b[0;34m:\u001b[0m\u001b[0;34m\u001b[0m\u001b[0m\n\u001b[1;32m    110\u001b[0m         \u001b[0mfilename\u001b[0m \u001b[0;34m=\u001b[0m \u001b[0mos\u001b[0m\u001b[0;34m.\u001b[0m\u001b[0mpath\u001b[0m\u001b[0;34m.\u001b[0m\u001b[0mexpanduser\u001b[0m\u001b[0;34m(\u001b[0m\u001b[0mfilename\u001b[0m\u001b[0;34m)\u001b[0m\u001b[0;34m\u001b[0m\u001b[0m\n\u001b[0;32m--> 111\u001b[0;31m         \u001b[0;32mwith\u001b[0m \u001b[0mopen\u001b[0m\u001b[0;34m(\u001b[0m\u001b[0mfilename\u001b[0m\u001b[0;34m,\u001b[0m \u001b[0;34m\"rb\"\u001b[0m\u001b[0;34m)\u001b[0m \u001b[0;32mas\u001b[0m \u001b[0mf\u001b[0m\u001b[0;34m:\u001b[0m\u001b[0;34m\u001b[0m\u001b[0m\n\u001b[0m\u001b[1;32m    112\u001b[0m             \u001b[0mpeek\u001b[0m \u001b[0;34m=\u001b[0m \u001b[0mf\u001b[0m\u001b[0;34m.\u001b[0m\u001b[0mread\u001b[0m\u001b[0;34m(\u001b[0m\u001b[0mpeeksz\u001b[0m\u001b[0;34m)\u001b[0m\u001b[0;34m\u001b[0m\u001b[0m\n\u001b[1;32m    113\u001b[0m     \u001b[0;32mif\u001b[0m \u001b[0mpeek\u001b[0m \u001b[0;34m==\u001b[0m \u001b[0;34mb\"PK\\x03\\x04\"\u001b[0m\u001b[0;34m:\u001b[0m \u001b[0;31m# a ZIP file\u001b[0m\u001b[0;34m\u001b[0m\u001b[0m\n",
      "\u001b[0;31mFileNotFoundError\u001b[0m: [Errno 2] No such file or directory: 'soc2010indexversion5.116august2016.xls'"
     ]
    }
   ],
   "source": [
    "filename = 'soc2010indexversion5.116august2016.xls'\n",
    "xl = pd.ExcelFile(filename)"
   ]
  },
  {
   "cell_type": "code",
   "execution_count": 7,
   "metadata": {},
   "outputs": [
    {
     "name": "stdout",
     "output_type": "stream",
     "text": [
      "Correction Notice\n",
      "Information\n",
      "FILE SPEC\n",
      "SOC2010 Structure\n",
      "SOC2010 Full Index V5\n",
      "All New Entries \n",
      "All Amended Entries \n"
     ]
    }
   ],
   "source": [
    "for name in xl.sheet_names:\n",
    "    print(name)"
   ]
  },
  {
   "cell_type": "code",
   "execution_count": 8,
   "metadata": {},
   "outputs": [],
   "source": [
    "sheet = pd.read_excel(filename, 'SOC2010 Full Index V5')"
   ]
  },
  {
   "cell_type": "code",
   "execution_count": 9,
   "metadata": {},
   "outputs": [],
   "source": [
    "sheet_row_count = sheet.shape[0]\n",
    "sheet_num_relevant_rows = sheet_row_count - 29 # - 29 because the first bunch of rows are special records without a job title"
   ]
  },
  {
   "cell_type": "code",
   "execution_count": 10,
   "metadata": {},
   "outputs": [
    {
     "data": {
      "text/html": [
       "<div>\n",
       "<style scoped>\n",
       "    .dataframe tbody tr th:only-of-type {\n",
       "        vertical-align: middle;\n",
       "    }\n",
       "\n",
       "    .dataframe tbody tr th {\n",
       "        vertical-align: top;\n",
       "    }\n",
       "\n",
       "    .dataframe thead th {\n",
       "        text-align: right;\n",
       "    }\n",
       "</style>\n",
       "<table border=\"1\" class=\"dataframe\">\n",
       "  <thead>\n",
       "    <tr style=\"text-align: right;\">\n",
       "      <th></th>\n",
       "      <th>REC\n",
       "NO</th>\n",
       "      <th>RECNOEXT</th>\n",
       "      <th>D</th>\n",
       "      <th>E</th>\n",
       "      <th>SOC90</th>\n",
       "      <th>SOC 2000</th>\n",
       "      <th>SOC 2010</th>\n",
       "      <th>INDEXOCC</th>\n",
       "      <th>IND</th>\n",
       "      <th>ADD</th>\n",
       "      <th>SEE</th>\n",
       "      <th>NEW</th>\n",
       "      <th>VERSNO</th>\n",
       "    </tr>\n",
       "  </thead>\n",
       "  <tbody>\n",
       "    <tr>\n",
       "      <th>29</th>\n",
       "      <td>32</td>\n",
       "      <td>0</td>\n",
       "      <td>NaN</td>\n",
       "      <td>NaN</td>\n",
       "      <td>292</td>\n",
       "      <td>2444</td>\n",
       "      <td>2444</td>\n",
       "      <td>Abbot</td>\n",
       "      <td>NaN</td>\n",
       "      <td>NaN</td>\n",
       "      <td>NaN</td>\n",
       "      <td>NaN</td>\n",
       "      <td>NaN</td>\n",
       "    </tr>\n",
       "  </tbody>\n",
       "</table>\n",
       "</div>"
      ],
      "text/plain": [
       "    REC\\nNO  RECNOEXT    D    E SOC90 SOC 2000 SOC 2010 INDEXOCC  IND  ADD  \\\n",
       "29       32         0  NaN  NaN   292     2444     2444    Abbot  NaN  NaN   \n",
       "\n",
       "    SEE NEW  VERSNO  \n",
       "29  NaN  NaN    NaN  "
      ]
     },
     "execution_count": 10,
     "metadata": {},
     "output_type": "execute_result"
    }
   ],
   "source": [
    "sheet.loc[[29]] #this should be the first relevant row (Abbot)"
   ]
  },
  {
   "cell_type": "code",
   "execution_count": 11,
   "metadata": {},
   "outputs": [],
   "source": [
    "sheet_relevant = sheet.tail(sheet_num_relevant_rows) # read all the records except the first bunch of irrelevant ones"
   ]
  },
  {
   "cell_type": "code",
   "execution_count": 12,
   "metadata": {},
   "outputs": [
    {
     "data": {
      "text/html": [
       "<div>\n",
       "<style scoped>\n",
       "    .dataframe tbody tr th:only-of-type {\n",
       "        vertical-align: middle;\n",
       "    }\n",
       "\n",
       "    .dataframe tbody tr th {\n",
       "        vertical-align: top;\n",
       "    }\n",
       "\n",
       "    .dataframe thead th {\n",
       "        text-align: right;\n",
       "    }\n",
       "</style>\n",
       "<table border=\"1\" class=\"dataframe\">\n",
       "  <thead>\n",
       "    <tr style=\"text-align: right;\">\n",
       "      <th></th>\n",
       "      <th>REC\n",
       "NO</th>\n",
       "      <th>RECNOEXT</th>\n",
       "      <th>D</th>\n",
       "      <th>E</th>\n",
       "      <th>SOC90</th>\n",
       "      <th>SOC 2000</th>\n",
       "      <th>SOC 2010</th>\n",
       "      <th>INDEXOCC</th>\n",
       "      <th>IND</th>\n",
       "      <th>ADD</th>\n",
       "      <th>SEE</th>\n",
       "      <th>NEW</th>\n",
       "      <th>VERSNO</th>\n",
       "    </tr>\n",
       "  </thead>\n",
       "  <tbody>\n",
       "    <tr>\n",
       "      <th>28743</th>\n",
       "      <td>26160</td>\n",
       "      <td>0</td>\n",
       "      <td>NaN</td>\n",
       "      <td>NaN</td>\n",
       "      <td>900</td>\n",
       "      <td>9111</td>\n",
       "      <td>9111</td>\n",
       "      <td>Yardsman</td>\n",
       "      <td>(farming)</td>\n",
       "      <td>NaN</td>\n",
       "      <td>NaN</td>\n",
       "      <td>NaN</td>\n",
       "      <td>NaN</td>\n",
       "    </tr>\n",
       "    <tr>\n",
       "      <th>28744</th>\n",
       "      <td>26160</td>\n",
       "      <td>250</td>\n",
       "      <td>NaN</td>\n",
       "      <td>NaN</td>\n",
       "      <td>902</td>\n",
       "      <td>6139</td>\n",
       "      <td>6139</td>\n",
       "      <td>Yardsman</td>\n",
       "      <td>(livery stable)</td>\n",
       "      <td>NaN</td>\n",
       "      <td>NaN</td>\n",
       "      <td>NaN</td>\n",
       "      <td>NaN</td>\n",
       "    </tr>\n",
       "    <tr>\n",
       "      <th>28745</th>\n",
       "      <td>26160</td>\n",
       "      <td>500</td>\n",
       "      <td>NaN</td>\n",
       "      <td>NaN</td>\n",
       "      <td>889</td>\n",
       "      <td>9139</td>\n",
       "      <td>9139</td>\n",
       "      <td>Yardsman</td>\n",
       "      <td>(vulcanised fibre board mfr)</td>\n",
       "      <td>NaN</td>\n",
       "      <td>NaN</td>\n",
       "      <td>*</td>\n",
       "      <td>NaN</td>\n",
       "    </tr>\n",
       "    <tr>\n",
       "      <th>28746</th>\n",
       "      <td>26160</td>\n",
       "      <td>750</td>\n",
       "      <td>M</td>\n",
       "      <td>NaN</td>\n",
       "      <td>990</td>\n",
       "      <td>9149</td>\n",
       "      <td>9260</td>\n",
       "      <td>Yardsman</td>\n",
       "      <td>NaN</td>\n",
       "      <td>NaN</td>\n",
       "      <td>NaN</td>\n",
       "      <td>*</td>\n",
       "      <td>NaN</td>\n",
       "    </tr>\n",
       "    <tr>\n",
       "      <th>28747</th>\n",
       "      <td>26161</td>\n",
       "      <td>0</td>\n",
       "      <td>NaN</td>\n",
       "      <td>NaN</td>\n",
       "      <td>201</td>\n",
       "      <td>2112</td>\n",
       "      <td>2112</td>\n",
       "      <td>Zoologist</td>\n",
       "      <td>NaN</td>\n",
       "      <td>NaN</td>\n",
       "      <td>NaN</td>\n",
       "      <td>*</td>\n",
       "      <td>NaN</td>\n",
       "    </tr>\n",
       "  </tbody>\n",
       "</table>\n",
       "</div>"
      ],
      "text/plain": [
       "       REC\\nNO  RECNOEXT    D    E SOC90 SOC 2000 SOC 2010   INDEXOCC  \\\n",
       "28743    26160         0  NaN  NaN   900     9111     9111   Yardsman   \n",
       "28744    26160       250  NaN  NaN   902     6139     6139   Yardsman   \n",
       "28745    26160       500  NaN  NaN   889     9139     9139   Yardsman   \n",
       "28746    26160       750    M  NaN   990     9149     9260   Yardsman   \n",
       "28747    26161         0  NaN  NaN   201     2112     2112  Zoologist   \n",
       "\n",
       "                                IND  ADD  SEE NEW  VERSNO  \n",
       "28743                     (farming)  NaN  NaN  NaN    NaN  \n",
       "28744               (livery stable)  NaN  NaN  NaN    NaN  \n",
       "28745  (vulcanised fibre board mfr)  NaN  NaN    *    NaN  \n",
       "28746                           NaN  NaN  NaN    *    NaN  \n",
       "28747                           NaN  NaN  NaN    *    NaN  "
      ]
     },
     "execution_count": 12,
     "metadata": {},
     "output_type": "execute_result"
    }
   ],
   "source": [
    "sheet_relevant.tail() # this should be the last bunch of jobs"
   ]
  },
  {
   "cell_type": "code",
   "execution_count": 13,
   "metadata": {},
   "outputs": [
    {
     "name": "stdout",
     "output_type": "stream",
     "text": [
      "28719 rows read correctly, 227 rows skipped\n"
     ]
    }
   ],
   "source": [
    "skip_count = 0 # will be the number of rows/records skipped\n",
    "\n",
    "soc_data = {}\n",
    "for row in sheet_relevant.itertuples():\n",
    "    rec_no = row[0]\n",
    "    soc_data[rec_no] = {}\n",
    "    if type(row[7]) == int: #sometimes they aren't integers, but numbers saved as text or a weird '}}}}' which probably means go to another row\n",
    "        soc_data[rec_no]['SOC2010Code'] = row[7]\n",
    "    elif type(row[7]) == str:\n",
    "#         print(row[7])\n",
    "        try:\n",
    "            soc_data[rec_no]['SOC2010Code'] = int(row[7])\n",
    "        except:\n",
    "#             print(row[7])\n",
    "            skip_count +=1\n",
    "    soc_data[rec_no]['UnformattedTitle'] = row[8]\n",
    "    if pd.notnull(row[9]):\n",
    "        soc_data[rec_no]['Industry'] = row[9]\n",
    "    if pd.notnull(row[10]):\n",
    "        soc_data[rec_no]['AdditionalInfo'] = row[10]\n",
    "            \n",
    "            \n",
    "print(f'{len(soc_data)} rows read correctly, {skip_count} rows skipped')"
   ]
  },
  {
   "cell_type": "code",
   "execution_count": 14,
   "metadata": {},
   "outputs": [
    {
     "name": "stdout",
     "output_type": "stream",
     "text": [
      "count of keys to remove: 227\n"
     ]
    }
   ],
   "source": [
    "# delete job titles that don't appear in soc 2010\n",
    "keys_to_remove = []\n",
    "\n",
    "for i in soc_data:\n",
    "    if 'SOC2010Code' in soc_data[i].keys():\n",
    "        continue\n",
    "    else:\n",
    "        keys_to_remove.append(i)\n",
    "\n",
    "# print(keys_to_remove)\n",
    "print(f'count of keys to remove: {len(keys_to_remove)}')\n",
    "\n",
    "for i in keys_to_remove:\n",
    "    del soc_data[i]"
   ]
  },
  {
   "cell_type": "code",
   "execution_count": 15,
   "metadata": {},
   "outputs": [],
   "source": [
    "# Now let's get the major, sub-major and minor group from the full SOC2010 code...\n",
    "#... e.g. the soc code 1234: 1 is the major group, 2 is the sub-major group, and 123 is the minor group...\n",
    "#... as explained in the ONS XLS\n",
    "#... this will help us group the records by majorgroup later\n",
    "for x in soc_data:\n",
    "    soc_data[x]['MajorGroup'] = str(soc_data[x]['SOC2010Code'])[0]\n",
    "    soc_data[x]['SubMajorGroup'] = str(soc_data[x]['SOC2010Code'])[0:2]\n",
    "    soc_data[x]['MinorGroup'] = str(soc_data[x]['SOC2010Code'])[0:3]"
   ]
  },
  {
   "cell_type": "code",
   "execution_count": 16,
   "metadata": {},
   "outputs": [],
   "source": [
    "def make_title(soc_string):\n",
    "    split_string = soc_string.split(', ')\n",
    "    split_string.reverse()\n",
    "    return ' '.join(split_string)    "
   ]
  },
  {
   "cell_type": "code",
   "execution_count": 17,
   "metadata": {},
   "outputs": [],
   "source": [
    "for i in soc_data:\n",
    "    soc_data[i]['FormattedTitle'] = make_title(soc_data[i]['UnformattedTitle'])"
   ]
  },
  {
   "cell_type": "code",
   "execution_count": 20,
   "metadata": {},
   "outputs": [],
   "source": [
    "# major_groups_titles = {'MANAGERS, DIRECTORS AND SENIOR OFFICIALS':[],\n",
    "#                 'PROFESSIONAL OCCUPATIONS':[],\n",
    "#                 'ASSOCIATE PROFESSIONAL AND TECHNICAL OCCUPATIONS':[],\n",
    "#                 'ADMINISTRATIVE AND SECRETARIAL OCCUPATIONS':[],\n",
    "#                 'SKILLED TRADES OCCUPATIONS':[],\n",
    "#                 'CARING, LEISURE AND OTHER SERVICE OCCUPATIONS':[],\n",
    "#                 'SALES AND CUSTOMER SERVICE OCCUPATIONS':[],\n",
    "#                 'PROCESS, PLANT AND MACHINE OPERATIVES':[],\n",
    "#                 'ELEMENTARY OCCUPATIONS':[],}"
   ]
  },
  {
   "cell_type": "code",
   "execution_count": 22,
   "metadata": {},
   "outputs": [
    {
     "data": {
      "application/vnd.jupyter.widget-view+json": {
       "model_id": "d4fea56ed1fe4bc7bceb83c721195424",
       "version_major": 2,
       "version_minor": 0
      },
      "text/plain": [
       "HBox(children=(IntProgress(value=0, max=28492), HTML(value='')))"
      ]
     },
     "metadata": {},
     "output_type": "display_data"
    },
    {
     "name": "stdout",
     "output_type": "stream",
     "text": [
      "\n"
     ]
    }
   ],
   "source": [
    "#working out which job titles require disambiguation (ie they appear twice)\n",
    "\n",
    "all_titles = []\n",
    "for i in soc_data:\n",
    "    all_titles.append(soc_data[i]['UnformattedTitle'])\n",
    "\n",
    "\n",
    "# add in a new key for each job title with a count of how many times it appears    \n",
    "for i in progress(soc_data):\n",
    "    title_count = all_titles.count(soc_data[i]['UnformattedTitle']) #the count of that job title\n",
    "    soc_data[i]['Count'] = title_count"
   ]
  },
  {
   "cell_type": "code",
   "execution_count": 23,
   "metadata": {},
   "outputs": [],
   "source": [
    "def make_search(job):\n",
    "    if 'AdditionalInfo' in job.keys() and 'Industry' in job.keys():\n",
    "        context_string = (job['UnformattedTitle']) + ' ' + job['AdditionalInfo']\n",
    "    elif 'Industry' in job.keys():\n",
    "        context_string = job['Industry']\n",
    "    elif 'AdditionalInfo' in job.keys():\n",
    "        context_string = job['AdditionalInfo']       \n",
    "    context_string = re.sub('[:(),\\']|(mfr)', '', context_string) #regex to remove brackets, commas, apostrophes and colons\n",
    "    return context_string\n",
    "\n",
    "# make_search(soc_data[58])\n",
    "for i in soc_data:\n",
    "    if 'AdditionalInfo' in soc_data[i].keys() or 'Industry' in soc_data[i].keys():\n",
    "        soc_data[i]['Context'] = make_search(soc_data[i])"
   ]
  },
  {
   "cell_type": "code",
   "execution_count": 24,
   "metadata": {},
   "outputs": [
    {
     "name": "stdout",
     "output_type": "stream",
     "text": [
      "16673 titles dont have context to disambiguate\n"
     ]
    }
   ],
   "source": [
    "# Now let's find out how many titles appear more than once, and also don't have context terms\n",
    "xprobcount = 0\n",
    "for i in soc_data:\n",
    "    if soc_data[i]['Count'] > 0 and 'Context' not in soc_data[i].keys():\n",
    "        xprobcount +=1\n",
    "print (f'{xprobcount} titles dont have context to disambiguate')"
   ]
  },
  {
   "cell_type": "code",
   "execution_count": 25,
   "metadata": {},
   "outputs": [],
   "source": [
    "# Okay, but actually, the titles that are going to be problematic are those that aren't specific to one MajorGroup...\n",
    "# ... maybe ...\n",
    "# ... So let's find out how many job titles are actaully found in more than one MajorGroup\n",
    "# ... and if there aren't too many of those, we could simply exclude those job titles"
   ]
  },
  {
   "cell_type": "code",
   "execution_count": 26,
   "metadata": {},
   "outputs": [
    {
     "name": "stdout",
     "output_type": "stream",
     "text": [
      "{1: 1596, 2: 2619, 3: 3100, 4: 1575, 5: 5193, 6: 937, 7: 884, 8: 9595, 9: 2993}\n"
     ]
    }
   ],
   "source": [
    "major_group_counts = {1:0,\n",
    "                      2:0,\n",
    "                      3:0,\n",
    "                      4:0,\n",
    "                      5:0,\n",
    "                      6:0,\n",
    "                      7:0,\n",
    "                      8:0,\n",
    "                      9:0,}\n",
    "\n",
    "for count in major_group_counts:\n",
    "    for record in soc_data:\n",
    "        if int(soc_data[record]['MajorGroup']) == count:\n",
    "            major_group_counts[count] +=1\n",
    "\n",
    "print (major_group_counts)"
   ]
  },
  {
   "cell_type": "code",
   "execution_count": 28,
   "metadata": {},
   "outputs": [],
   "source": [
    "jobs_in_major_groups = {1:[],\n",
    "                      2:[],\n",
    "                      3:[],\n",
    "                      4:[],\n",
    "                      5:[],\n",
    "                      6:[],\n",
    "                      7:[],\n",
    "                      8:[],\n",
    "                      9:[],}\n",
    "\n",
    "for k in jobs_in_major_groups:\n",
    "    for record in soc_data:\n",
    "        if int(soc_data[record]['MajorGroup']) == k:\n",
    "            temp_dict = soc_data[record]\n",
    "            jobs_in_major_groups[k].append(temp_dict)\n",
    "#             temp_dict = {record:{'FormattedTitle':soc_data[record]['FormattedTitle']}}\n",
    "#             if 'Context' in soc_data[record].keys():\n",
    "#                 temp_dict[record]['Context'] = soc_data[record]['Context']\n",
    "#             jobs_in_major_groups[k].append(temp_dict)"
   ]
  },
  {
   "cell_type": "code",
   "execution_count": 32,
   "metadata": {},
   "outputs": [
    {
     "name": "stdout",
     "output_type": "stream",
     "text": [
      "Unique values in 1: 1596\n",
      "Total values in 1: 1596\n",
      "Unique values in 2: 2619\n",
      "Total values in 2: 2619\n",
      "Unique values in 3: 3100\n",
      "Total values in 3: 3100\n",
      "Unique values in 4: 1575\n",
      "Total values in 4: 1575\n",
      "Unique values in 5: 5193\n",
      "Total values in 5: 5193\n",
      "Unique values in 6: 937\n",
      "Total values in 6: 937\n",
      "Unique values in 7: 884\n",
      "Total values in 7: 884\n",
      "Unique values in 8: 9595\n",
      "Total values in 8: 9595\n",
      "Unique values in 9: 2993\n",
      "Total values in 9: 2993\n"
     ]
    }
   ],
   "source": [
    "def count_unique_values(list_of_dicts, list_name):\n",
    "    unique_values = set()    \n",
    "    for i in list_of_dicts:\n",
    "#         print(i.items())\n",
    "        hashable = frozenset(i.items())\n",
    "        unique_values.add(hashable)\n",
    "    print(f'Unique values in {list_name}: {len(unique_values)}')\n",
    "\n",
    "\n",
    "\n",
    "for i in jobs_in_major_groups:\n",
    "    count_unique_values(jobs_in_major_groups[i], i)\n",
    "    print(f'Total values in {i}: {len(jobs_in_major_groups[i])}')"
   ]
  },
  {
   "cell_type": "markdown",
   "metadata": {},
   "source": [
    "## Now let's use Audiences to find people who have those sets of job titles "
   ]
  },
  {
   "cell_type": "code",
   "execution_count": 7,
   "metadata": {},
   "outputs": [],
   "source": [
    "query = \\\n",
    "{\n",
    "    \"id\":None,\n",
    "    \"query\":{\n",
    "        \"operator\":\"AND\",\n",
    "        \"children\":[\n",
    "            {\n",
    "                \"operator\":\"AND\",\n",
    "                \"children\":[\n",
    "                    {\n",
    "                        \"field\":\"BIO\",\n",
    "                        \"value\":[\"testymctestface\"],\n",
    "                        \"operator\":\"OR\"\n",
    "                    },\n",
    "                    {\n",
    "                        \"field\":\"BIO\",\n",
    "                        \"value\":[\"bullibull\"],\n",
    "                        \"operator\":\"OR\"\n",
    "                    }]\n",
    "            },\n",
    "            {\n",
    "                \"operator\":\"OR\",\n",
    "                \"children\":[\n",
    "                    {\n",
    "                        \"field\":\"BIO\",\n",
    "                        \"value\":[\"blahabla\"],\n",
    "                        \"operator\":\"OR\"\n",
    "                    },\n",
    "                    {\n",
    "                        \"field\":\"BIO\",\n",
    "                        \"value\":[\"scrump\"],\n",
    "                        \"operator\":\"OR\"\n",
    "                    }]\n",
    "            }]\n",
    "    }\n",
    "}\n"
   ]
  },
  {
   "cell_type": "code",
   "execution_count": 33,
   "metadata": {},
   "outputs": [],
   "source": [
    "def make_audiences_search(job_list):\n",
    "    children = [] # each child is equivalent to a box on the UI and will also be one job title (sometimes with context)\n",
    "    for i in job_list:\n",
    "        job_info = {'operator':'AND', 'children':[{'operator':'OR', 'field':'BIO', 'value':[i['FormattedTitle']]}]} \n",
    "        if 'Context' in i.keys():\n",
    "            job_info['children'].append({'operator':'OR', 'field':'BIO', 'value':[i['Context']]})\n",
    "        children.append(job_info)\n",
    "    # Now we've made the children bit, we also need to add the outside bit, containing the top level operator...\n",
    "    #... and the ID of the search (null if its not been saved, I think!)\n",
    "    query = {'id':'null', 'query':{'operator':'OR', 'children':children}}\n",
    "    query_formatted = json.dumps(query)\n",
    "    return query_formatted\n",
    "        \n",
    "\n",
    "#Let's test this out using the major group 7 as an example\n",
    "payload = make_audiences_search(jobs_in_major_groups[7])"
   ]
  },
  {
   "cell_type": "code",
   "execution_count": 41,
   "metadata": {},
   "outputs": [],
   "source": [
    "# Input the authorization from the web browser\n",
    "# This will need to be updated with each session - it doesn't last long at all!\n",
    "authorization = \"eyJhbGciOiJSUzI1NiIsInR5cCI6IkpXVCIsImtpZCI6IjA2MGRlYWI3YTdhNTE0Mjk2NDg5NGFlNjUwMTI1Zjg0Y2VkNjkyNjgifQ.eyJlbWFpbCI6Im9ob2xtQGJyYW5kd2F0Y2guY29tIiwiZmlyc3ROYW1lIjoiT3NrYXIiLCJsYXN0TmFtZSI6IkhvbG0iLCJjbGllbnRJZCI6MTk5NzM5MjcwNSwiYXBpMkFjY2Vzc1Rva2VuIjoiZXlKaGJHY2lPaUpTVXpJMU5pSXNJblI1Y0NJNklrcFhWQ0lzSW10cFpDSTZJakEyTUdSbFlXSTNZVGRoTlRFME1qazJORGc1TkdGbE5qVXdNVEkxWmpnMFkyVmtOamt5TmpnaWZRLmV5SnliMnhsY3lJNld5SkNWMTlDUVZOSlExOVZVMFZTSWl3aVFsZGZRVVJOU1U1ZlZWTkZVaUpkTENKelkyOXdaU0k2ZTMwc0ltVjRjQ0k2TVRVME5qWXlOVFV3TUN3aVlYVmtJanBiSW1GMVpHbGxibU5sY3k1aWNtRnVaSGRoZEdOb0xtTnZiU0lzSW1Gd2FTNWljbUZ1WkhkaGRHTm9MbU52YlNKZExDSnBjM01pT2lKc2IyZHBiaTVpY21GdVpIZGhkR05vTG1OdmJTSXNJbk4xWWlJNklqSXdOemN6TmpRNU1pSjkubENVdWlQU3pLX3RtRzlHbGl0ZDlIemkwOUNCYTZtRjhpUjY0WHpRTTAxWndxU3Z0NFU0SVFWajI0R2ZNemljODhHdWxZQU4zS2hwbjRaaDJNUmJoMjVieU1BMWx0RUx3MElwVEFMd3FLcGtwNlZHUjhJVG1RbzRrU0tkRm9YSFdQZ080R0s2bDhkeThlRGNiYi1VRHJTUGV1RFpMRklDMUZ2LU9EYlJ3Y1ZpZ0lERVk2aEcteTZ4ckViNjdERWdWUW5MSmxtb3dpSmpodG5STWlWMUJNa3NoeGV1Z0IwbkpFMnJ6WXdyQmdBdWRiZ0N6bWFIS1hJNTdfdWxLRzFCZDU4Z2NWUmNyUUNJZnFtdWppcWdFeUU4NmUwamZzcG1lLXRyWldVTnFSTTNoWDZfYnhlMDhEYm5GSVZCbHBJc0RlSmZfQ3JDWGEyWTdvWk9mczVVTElUN2pGVkhGeHNuWml5b3oyVU53VWx3UUJvSFVNTWZieTZFaXhYYU41U1pvSGt0ZkRrY0ZGSWNhNDhHWUdxWU91aXZzRkxOYjdLUUxqQ0Z4SDl1cDJlT3Q2emljeEtVbm1GU1ZyYVNBeEotc2x4X01nRDI3cG8tcWI2UjNNWGppLVFqMDlxb3I0ZVVUSmQ0ektpVWtWSG5vUzVydHEyekNuVTFEUjRzSVhHXzlpVjgyYmpTVFl2UGlVVnZ3aWllc3dvaW5uLS1oRTBKVWFrMHFjb0tLNFVoUWhhamsxSTRpUVBmNF9xT1RYRkZaeWU2aFloNXpOYjlQNXdFMnVKYU05SjdYSGVXS2ppNldqRzc0dU1YMHVsRm9mYWJQS21lT1dKaEp1eFQ3cnE2VHBuTEhQYjlJbF9ta0hqOXRNSnZDMUlqSE9RZVlzbGpHUWpPU0I0SFhRN0EiLCJyb2xlcyI6W10sInNjb3BlIjp7fSwiZXhwIjoxNTQ2NjI1NTAwLCJhdWQiOiJhdWRpZW5jZXMuYnJhbmR3YXRjaC5jb20iLCJpc3MiOiJsb2dpbi5icmFuZHdhdGNoLmNvbSIsInN1YiI6IjIwNzczNjQ5MiJ9.GlOSdkpsmzBgi7hDshq1H_eyAIjogmvMf2xYJm_q8ccJ8I6QhkaS2vs4e4n4mJ5Na3CqobEUh-2d4bQh46NP58uLaXZZyXrNEe4n_qCeKyNWSkP2l6O746JP91ovR_Iy7QPkqAfbb-p7QiZUgsTJKHCojWQlmNllBabeIE2B3j3W8saV2BPyQZZSaYhBg1Yqa0phW7oIpwcXCCPe-NGCHnVrPmMFD3z5LYaoxfzPDcuKhaetIT0xR7bCIh7oXPtJ5XAPERppPxFKWlvu6IsgHr6CeFsxhqVWFrDpxjvmYMLhpUL97D6cAztBdQEZtvmxw6YM5Jvk-XivG6vsGyASsVFw_uAOeTwbgowkadlo8H6HDhc5d_917i7mqK-VXFkGGEMHQKZiZvzD1ty0ZsOUgHzNPiOtBG7hRYUhBcH3JOXJPP9N9F82PNTcTvHS7v379Y3Rf38UPsACtEj4F7C2a0XDXvlj_mPMAVm0AMs919VjOzfjR0QbEQKBWsblTM7KCVOOdi3xgo-NnlFK6GkGNrcBAd0BF0lip1cFwyzerMlbgWrGy41IYfXK5Oe2nq1mF-M8g61NbKgK5q2RiE0lw7RCIodnaJztMLXBxuwluDcrSGx69jOplq2fk82yxe8Hzl1ds1FkYGT4oHSBRnwbHvmIZdvvXYpyz-7ej8Ws2z4\""
   ]
  },
  {
   "cell_type": "code",
   "execution_count": 35,
   "metadata": {},
   "outputs": [],
   "source": [
    "def create_audience(payload, authorization):\n",
    "    url = 'https://audiences.brandwatch.com/api/audiences/audiences/preview?start=0&count=50&page=0&sort=influence&direction=desc'\n",
    "    headers={'Authorization': f'bearer {authorization}', 'Content-Type': 'application/json'}, data=payload\n",
    "    response = requests.post(url, headers={'Authorization': f'bearer {authorization}', 'Content-Type': 'application/json'}, data=payload)\n",
    "    return response\n",
    "\n",
    "# response_create = create_audience(payload, authorization)"
   ]
  },
  {
   "cell_type": "code",
   "execution_count": 36,
   "metadata": {},
   "outputs": [],
   "source": [
    "# make a short job list to test the API without straining it\n",
    "\n",
    "short_job_list = jobs_in_major_groups[7][:20]"
   ]
  },
  {
   "cell_type": "code",
   "execution_count": 42,
   "metadata": {},
   "outputs": [
    {
     "name": "stdout",
     "output_type": "stream",
     "text": [
      "Input Audience Namess987f9sdf8d\n"
     ]
    }
   ],
   "source": [
    "# Now turn this into a JSON, in the same format as Audiences needs\n",
    "def make_audiences_save_payload(job_list):\n",
    "    user_input = input('Input Audience Name')\n",
    "    now = datetime.now()\n",
    "    now_string = now.strftime(\"%H:%M %B %d, %Y\")\n",
    "    audience_name = user_input + \" Created through API on \" + now_string\n",
    "    children = [] # each child is equivalent to a box on the UI and will also be one job title (sometimes with context)\n",
    "    for i in job_list:\n",
    "        job_info = {'operator':'AND', 'children':[{'operator':'OR', 'field':'BIO', 'value':[i['FormattedTitle']]}]} \n",
    "        if 'Context' in i.keys():\n",
    "            job_info['children'].append({'operator':'OR', 'field':'BIO', 'value':[i['Context']]})\n",
    "        children.append(job_info)\n",
    "    # Now we've made the children bit, we also need to add the outside bit, containing the top level operator...\n",
    "    #... and the ID of the search (null if its not been saved, I think!)\n",
    "    query = {'name':audience_name, 'query':{'operator':'OR', 'children':children}}\n",
    "    query_formatted = json.dumps(query)\n",
    "    char_count = str(len(query_formatted))\n",
    "    return query_formatted, char_count\n",
    "        \n",
    "        \n",
    "# save_payload = make_audiences_search(jobs_in_major_groups[7])\n",
    "save_payload, character_count = make_audiences_save_payload(short_job_list)\n",
    "# make_audiences_save_payload(jobs_in_major_groups[7])"
   ]
  },
  {
   "cell_type": "code",
   "execution_count": 43,
   "metadata": {},
   "outputs": [],
   "source": [
    "# Note: userId is currently hardcoded!\n",
    "\n",
    "def save_audience(payload, authorization, char_count):\n",
    "    url = 'https://audiences.brandwatch.com/api/audiences/audiences?newFormat=true'\n",
    "    response = requests.post(url, headers={'Authorization': f'bearer {authorization}', 'Content-Type': 'application/json', 'Content-Length': char_count, 'userId':'179993720'}, data=payload)\n",
    "    return response\n",
    "response_save = save_audience(save_payload, authorization, character_count)"
   ]
  },
  {
   "cell_type": "code",
   "execution_count": 44,
   "metadata": {},
   "outputs": [
    {
     "data": {
      "text/plain": [
       "'{\"id\":\"5c2f94bd5c416100010ab2d2\",\"name\":\"ss987f9sdf8d Created through API on 17:15 January 04, 2019\",\"description\":null,\"creationDate\":\"2019-01-04T17:15:41.809+0000\",\"lastModificationDate\":\"2019-01-04T17:15:41.809+0000\",\"discover\":false,\"imageUrl\":null,\"folderId\":null,\"favourite\":false,\"query\":{\"operator\":\"OR\",\"children\":[{\"operator\":\"AND\",\"children\":[{\"operator\":\"OR\",\"field\":\"BIO\",\"value\":[\"customer service Administrator\"]}]},{\"operator\":\"AND\",\"children\":[{\"operator\":\"OR\",\"field\":\"BIO\",\"value\":[\"customer care Adviser\"]}]},{\"operator\":\"AND\",\"children\":[{\"operator\":\"OR\",\"field\":\"BIO\",\"value\":[\"call centre Adviser\"]}]},{\"operator\":\"AND\",\"children\":[{\"operator\":\"OR\",\"field\":\"BIO\",\"value\":[\"contact centre Adviser\"]}]},{\"operator\":\"AND\",\"children\":[{\"operator\":\"OR\",\"field\":\"BIO\",\"value\":[\"communications Adviser\"]},{\"operator\":\"OR\",\"field\":\"BIO\",\"value\":[\"telecommunications\"]}]},{\"operator\":\"AND\",\"children\":[{\"operator\":\"OR\",\"field\":\"BIO\",\"value\":[\"consumer Adviser\"]}]},{\"operator\":\"AND\",\"children\":[{\"operator\":\"OR\",\"field\":\"BIO\",\"value\":[\"customer Adviser\"]},{\"operator\":\"OR\",\"field\":\"BIO\",\"value\":[\"checkout\"]}]},{\"operator\":\"AND\",\"children\":[{\"operator\":\"OR\",\"field\":\"BIO\",\"value\":[\"customer Adviser\"]},{\"operator\":\"OR\",\"field\":\"BIO\",\"value\":[\"telephone\"]}]},{\"operator\":\"AND\",\"children\":[{\"operator\":\"OR\",\"field\":\"BIO\",\"value\":[\"customer Adviser\"]},{\"operator\":\"OR\",\"field\":\"BIO\",\"value\":[\"retail trade\"]}]},{\"operator\":\"AND\",\"children\":[{\"operator\":\"OR\",\"field\":\"BIO\",\"value\":[\"customer Adviser\"]}]},{\"operator\":\"AND\",\"children\":[{\"operator\":\"OR\",\"field\":\"BIO\",\"value\":[\"healthcare Adviser\"]},{\"operator\":\"OR\",\"field\":\"BIO\",\"value\":[\"retail chemist\"]}]},{\"operator\":\"AND\",\"children\":[{\"operator\":\"OR\",\"field\":\"BIO\",\"value\":[\"personal lines Adviser\"]}]},{\"operator\":\"AND\",\"children\":[{\"operator\":\"OR\",\"field\":\"BIO\",\"value\":[\"customer management Adviser\"]}]},{\"operator\":\"AND\",\"children\":[{\"operator\":\"OR\",\"field\":\"BIO\",\"value\":[\"membership Adviser\"]}]},{\"operator\":\"AND\",\"children\":[{\"operator\":\"OR\",\"field\":\"BIO\",\"value\":[\"optical Adviser\"]}]},{\"operator\":\"AND\",\"children\":[{\"operator\":\"OR\",\"field\":\"BIO\",\"value\":[\"parts Adviser\"]},{\"operator\":\"OR\",\"field\":\"BIO\",\"value\":[\"retail trade\"]}]},{\"operator\":\"AND\",\"children\":[{\"operator\":\"OR\",\"field\":\"BIO\",\"value\":[\"customer relations Adviser\"]}]},{\"operator\":\"AND\",\"children\":[{\"operator\":\"OR\",\"field\":\"BIO\",\"value\":[\"sales retention Adviser\"]}]},{\"operator\":\"AND\",\"children\":[{\"operator\":\"OR\",\"field\":\"BIO\",\"value\":[\"car sales Adviser\"]}]},{\"operator\":\"AND\",\"children\":[{\"operator\":\"OR\",\"field\":\"BIO\",\"value\":[\"inbound sales Adviser\"]},{\"operator\":\"OR\",\"field\":\"BIO\",\"value\":[\"insurance\"]}]}]}}'"
      ]
     },
     "execution_count": 44,
     "metadata": {},
     "output_type": "execute_result"
    }
   ],
   "source": [
    "response_save.text"
   ]
  },
  {
   "cell_type": "markdown",
   "metadata": {},
   "source": [
    "## Alternative way of getting professions - Use Twitter API to get bio info"
   ]
  },
  {
   "cell_type": "code",
   "execution_count": 45,
   "metadata": {},
   "outputs": [],
   "source": [
    "twitter = Twitter(auth = OAuth(twcred.access_key,\n",
    "                  twcred.access_secret,\n",
    "                  twcred.consumer_key,\n",
    "                  twcred.consumer_secret))"
   ]
  },
  {
   "cell_type": "code",
   "execution_count": 46,
   "metadata": {},
   "outputs": [],
   "source": [
    "def get_twitter_bio(twhandle):\n",
    "    results = twitter.users.show(screen_name=twhandle)\n",
    "    return results['description']"
   ]
  },
  {
   "cell_type": "code",
   "execution_count": 47,
   "metadata": {},
   "outputs": [
    {
     "data": {
      "text/plain": [
       "'Independent journalist'"
      ]
     },
     "execution_count": 47,
     "metadata": {},
     "output_type": "execute_result"
    }
   ],
   "source": [
    "get_twitter_bio('DanAshcroft6')"
   ]
  },
  {
   "cell_type": "code",
   "execution_count": 8,
   "metadata": {},
   "outputs": [
    {
     "data": {
      "text/plain": [
       "2.0"
      ]
     },
     "execution_count": 8,
     "metadata": {},
     "output_type": "execute_result"
    }
   ],
   "source": [
    "9999999999999999.0 - 9999999999999998.0 "
   ]
  },
  {
   "cell_type": "code",
   "execution_count": null,
   "metadata": {},
   "outputs": [],
   "source": []
  }
 ],
 "metadata": {
  "kernelspec": {
   "display_name": "Python 3",
   "language": "python",
   "name": "python3"
  },
  "language_info": {
   "codemirror_mode": {
    "name": "ipython",
    "version": 3
   },
   "file_extension": ".py",
   "mimetype": "text/x-python",
   "name": "python",
   "nbconvert_exporter": "python",
   "pygments_lexer": "ipython3",
   "version": "3.7.0"
  }
 },
 "nbformat": 4,
 "nbformat_minor": 2
}
