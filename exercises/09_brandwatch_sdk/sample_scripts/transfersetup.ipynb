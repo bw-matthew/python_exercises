{
 "cells": [
  {
   "cell_type": "markdown",
   "metadata": {},
   "source": [
    "# Transfer setup from one account to another"
   ]
  },
  {
   "cell_type": "markdown",
   "metadata": {},
   "source": [
    "DOES NOT CURRENTLY SUPPORT CHANNELS"
   ]
  },
  {
   "cell_type": "code",
   "execution_count": null,
   "metadata": {
    "collapsed": false
   },
   "outputs": [],
   "source": [
    "from bwproject import BWProject\n",
    "from bwresources import BWQueries, BWGroups, BWAuthorLists, BWSiteLists, BWLocationLists, BWTags, BWCategories, BWRules, BWSignals\n",
    "from pprint import pprint\n",
    "import logging\n",
    "import requests\n",
    "import datetime"
   ]
  },
  {
   "cell_type": "code",
   "execution_count": null,
   "metadata": {
    "collapsed": true
   },
   "outputs": [],
   "source": [
    "logger = logging.getLogger(\"bwapi\")\n",
    "#can also set to .DEBUG, .WARN, .ERROR or .CRITICAL (in descending order)\n",
    "logger.setLevel(logging.INFO)"
   ]
  },
  {
   "cell_type": "markdown",
   "metadata": {},
   "source": [
    "Set this information before starting your script"
   ]
  },
  {
   "cell_type": "code",
   "execution_count": null,
   "metadata": {
    "collapsed": false
   },
   "outputs": [],
   "source": [
    "origin_acct = \"[account]\"\n",
    "origin_pass = \"[password]\"\n",
    "origin_proj = \"[project]\"\n",
    "\n",
    "destination_acct = \"[account]\"\n",
    "destination_pass = \"[password]\"\n",
    "destination_proj = \"[project]\""
   ]
  },
  {
   "cell_type": "code",
   "execution_count": null,
   "metadata": {
    "collapsed": true
   },
   "outputs": [],
   "source": [
    "backfill_date = \"2015-06-01\""
   ]
  },
  {
   "cell_type": "markdown",
   "metadata": {},
   "source": [
    "Leave these lists blank if you want to transfer everything"
   ]
  },
  {
   "cell_type": "code",
   "execution_count": null,
   "metadata": {
    "collapsed": true
   },
   "outputs": [],
   "source": [
    "queries_to_transfer = []\n",
    "rules_to_transfer = []"
   ]
  },
  {
   "cell_type": "markdown",
   "metadata": {},
   "source": [
    "# Starting Script"
   ]
  },
  {
   "cell_type": "code",
   "execution_count": null,
   "metadata": {
    "collapsed": false
   },
   "outputs": [],
   "source": [
    "origin = BWProject(username = origin_acct, \n",
    "                   password = origin_pass, \n",
    "                   project = origin_proj,\n",
    "                   grant_type = \"partner-password\",\n",
    "                   client_id = \"partner-api-client\")\n",
    "\n",
    "destination = BWProject(username = destination_acct, \n",
    "                        password = destination_pass, \n",
    "                        project = destination_proj,\n",
    "                        grant_type = \"partner-password\",\n",
    "                        client_id = \"partner-api-client\")"
   ]
  },
  {
   "cell_type": "markdown",
   "metadata": {},
   "source": [
    "## Queries"
   ]
  },
  {
   "cell_type": "code",
   "execution_count": null,
   "metadata": {
    "collapsed": false
   },
   "outputs": [],
   "source": [
    "origin_queries = BWQueries(origin)\n",
    "destination_queries = BWQueries(destination)"
   ]
  },
  {
   "cell_type": "code",
   "execution_count": null,
   "metadata": {
    "collapsed": false,
    "scrolled": true
   },
   "outputs": [],
   "source": [
    "query_list = []\n",
    "channel_list = []\n",
    "found = []\n",
    "not_uploaded = []\n",
    "\n",
    "\n",
    "for query in origin_queries.ids:\n",
    "    if (not queries_to_transfer) or (query in queries_to_transfer):\n",
    "        found.append(query)\n",
    "        query_info = origin_queries.get(query)\n",
    "\n",
    "        if query_info[\"type\"] == \"search string\":\n",
    "            upload_info = {k: query_info[k] for k in (\"name\", \n",
    "                                                 \"includedTerms\", \n",
    "                                                 \"languages\", \n",
    "                                                 \"lockedByUsername\", \n",
    "                                                 \"lockedQuery\", \n",
    "                                                 \"samplePercent\")}\n",
    "            query_list.append(upload_info)\n",
    "\n",
    "        elif query_info[\"type\"] == \"twitter\":\n",
    "            upload_info = {\"name\": query_info[\"name\"],\n",
    "                          \"handle\": query_info[\"twitterScreenName\"],\n",
    "                          \"channel_type\": \"twitter\"}\n",
    "            channel_list.append(upload_info)\n",
    "\n",
    "        #we don't currently support facebook channels\n",
    "        else:\n",
    "            not_uploaded.append(query_info[\"name\"])\n"
   ]
  },
  {
   "cell_type": "code",
   "execution_count": null,
   "metadata": {
    "collapsed": true
   },
   "outputs": [],
   "source": [
    "for query in query_list:\n",
    "    print(\"Uploading: \" + query[\"name\"])\n",
    "    destination_queries.upload(**query)"
   ]
  },
  {
   "cell_type": "code",
   "execution_count": null,
   "metadata": {
    "collapsed": false
   },
   "outputs": [],
   "source": [
    "invalid_channels = []\n",
    "for channel in channel_list:\n",
    "    response = origin.bare_request(verb=requests.get,\n",
    "                                    address_root=\"http://app.brandwatch.net/\",\n",
    "                                    address_suffix=\"twitterapi/users/show.json\",\n",
    "                                    params={\"screen_name\": channel[\"handle\"]})\n",
    "    if \"id_str\" not in response:\n",
    "        print(channel[\"name\"])\n",
    "        print(response)\n",
    "        invalid_channels.append(channel[\"name\"])"
   ]
  },
  {
   "cell_type": "code",
   "execution_count": null,
   "metadata": {
    "collapsed": false,
    "scrolled": true
   },
   "outputs": [],
   "source": [
    "for channel in channel_list:\n",
    "    if channel[\"name\"] not in invalid_channels:\n",
    "        print(\"Uploading: \" + channel[\"name\"])\n",
    "        destination_queries.upload_channel(**channel)"
   ]
  },
  {
   "cell_type": "code",
   "execution_count": null,
   "metadata": {
    "collapsed": true
   },
   "outputs": [],
   "source": [
    "if not_uploaded:\n",
    "    print(\"Could not upload the following queries:\")\n",
    "    print(not_uploaded)\n",
    "    \n",
    "not_found = set(queries_to_transfer) - set(found)\n",
    "if not_found:\n",
    "    print(\"Could not find the following queries:\")\n",
    "    print(not_found)\n",
    "    \n",
    "if invalid_channels:\n",
    "    print(\"The following channels are no longer valid and could not be transferred:\")\n",
    "    print(invalid_channels)\n",
    "    \n",
    "if queries_to_transfer:\n",
    "    print(\"The following queries were not transferred:\")\n",
    "    print(set(queries_to_transfer) - set(destination_queries.ids))"
   ]
  },
  {
   "cell_type": "markdown",
   "metadata": {},
   "source": [
    "## Groups"
   ]
  },
  {
   "cell_type": "code",
   "execution_count": null,
   "metadata": {
    "collapsed": false
   },
   "outputs": [],
   "source": [
    "origin_groups = BWGroups(origin)\n",
    "destination_groups = BWGroups(destination)"
   ]
  },
  {
   "cell_type": "code",
   "execution_count": null,
   "metadata": {
    "collapsed": false
   },
   "outputs": [],
   "source": [
    "groups_not_transferred = []\n",
    "\n",
    "for group in origin_groups.ids:\n",
    "    group_info = origin_groups.get(group)\n",
    "    upload_info = {}\n",
    "    upload_info[\"name\"] = group_info[\"name\"]\n",
    "    upload_info[\"queries\"] = []\n",
    "    for query in group_info[\"queries\"]:\n",
    "        if query[\"name\"] in list(destination_queries.ids):\n",
    "            upload_info[\"queries\"].append(query[\"name\"])\n",
    "    if upload_info[\"queries\"]:\n",
    "        destination_groups.upload(**upload_info)\n",
    "    else:\n",
    "        groups_not_transferred.append(upload_info[\"name\"])\n",
    "\n",
    "if groups_not_transferred:\n",
    "    print(\"The following groups will not be transferred because the queries they were attached to were not transferred:\")\n",
    "    print(groups_not_transferred)"
   ]
  },
  {
   "cell_type": "markdown",
   "metadata": {},
   "source": [
    "## Author Lists"
   ]
  },
  {
   "cell_type": "code",
   "execution_count": null,
   "metadata": {
    "collapsed": false
   },
   "outputs": [],
   "source": [
    "origin_authorlists = BWAuthorLists(origin)\n",
    "destination_authorlists = BWAuthorLists(destination)"
   ]
  },
  {
   "cell_type": "code",
   "execution_count": null,
   "metadata": {
    "collapsed": false
   },
   "outputs": [],
   "source": [
    "for authorlist in origin_authorlists.ids:\n",
    "    destination_authorlists.upload(name = authorlist,\n",
    "                                   authors = origin_authorlists.get(authorlist)[\"authors\"])"
   ]
  },
  {
   "cell_type": "markdown",
   "metadata": {},
   "source": [
    "## Site Lists"
   ]
  },
  {
   "cell_type": "code",
   "execution_count": null,
   "metadata": {
    "collapsed": false
   },
   "outputs": [],
   "source": [
    "origin_sitelists = BWSiteLists(origin)\n",
    "destination_sitelists = BWSiteLists(destination)"
   ]
  },
  {
   "cell_type": "code",
   "execution_count": null,
   "metadata": {
    "collapsed": false
   },
   "outputs": [],
   "source": [
    "for sitelist in origin_sitelists.ids:\n",
    "    destination_sitelists.upload(name = sitelist,\n",
    "                                   domains = origin_sitelists.get(sitelist)[\"domains\"])"
   ]
  },
  {
   "cell_type": "markdown",
   "metadata": {},
   "source": [
    "## Location Lists"
   ]
  },
  {
   "cell_type": "code",
   "execution_count": null,
   "metadata": {
    "collapsed": false
   },
   "outputs": [],
   "source": [
    "origin_locationlists = BWLocationLists(origin)\n",
    "destination_locationlists = BWLocationLists(destination)"
   ]
  },
  {
   "cell_type": "code",
   "execution_count": null,
   "metadata": {
    "collapsed": false
   },
   "outputs": [],
   "source": [
    "for locationlist in origin_locationlists.ids:\n",
    "    destination_locationlists.upload(name = locationlist,\n",
    "                                   locations = origin_locationlists.get(locationlist)[\"locations\"])"
   ]
  },
  {
   "cell_type": "markdown",
   "metadata": {},
   "source": [
    "## Rules"
   ]
  },
  {
   "cell_type": "code",
   "execution_count": null,
   "metadata": {
    "collapsed": false
   },
   "outputs": [],
   "source": [
    "origin_rules = BWRules(origin)\n",
    "destination_rules = BWRules(destination)"
   ]
  },
  {
   "cell_type": "code",
   "execution_count": null,
   "metadata": {
    "collapsed": false
   },
   "outputs": [],
   "source": [
    "rules = origin_rules.get()"
   ]
  },
  {
   "cell_type": "code",
   "execution_count": null,
   "metadata": {
    "collapsed": false,
    "scrolled": true
   },
   "outputs": [],
   "source": [
    "new_rules = []\n",
    "not_transferred_query_deleted = []\n",
    "not_transferred_queries_not_in_acct = []\n",
    "not_transferred_no_action = []\n",
    "for rule in rules:\n",
    "    if (not rules_to_transfer) or (rule[\"name\"] in rules_to_transfer):\n",
    "        if (\"action\" not in rule[\"ruleAction\"]) or (\"setting\" not in rule[\"ruleAction\"]):\n",
    "            not_transferred_no_action.append(rule[\"name\"])\n",
    "        else:\n",
    "            rule[\"ruleAction\"] = destination_rules.rule_action(**rule[\"ruleAction\"])\n",
    "\n",
    "            if (rule[\"filter\"][\"queryName\"] == \"Whole Project\"):\n",
    "                rule[\"filter\"].pop(\"queryName\", None)\n",
    "                rule[\"filter\"] = destination_rules.filters(**rule[\"filter\"])\n",
    "                new_rules.append(rule)\n",
    "            elif rule[\"filter\"][\"queryName\"] == \"\":\n",
    "                not_transferred_query_deleted.append(rule[\"name\"])\n",
    "                pass\n",
    "            else:\n",
    "                queries_for_new_rule = []\n",
    "                for query in rule[\"filter\"][\"queryName\"]:\n",
    "                    if query in destination_queries.ids:\n",
    "                        queries_for_new_rule.append(query)\n",
    "                if queries_for_new_rule:\n",
    "                    rule[\"filter\"][\"queryName\"] = queries_for_new_rule\n",
    "                    rule[\"filter\"] = destination_rules.filters(**rule[\"filter\"])\n",
    "                    new_rules.append(rule)\n",
    "                else:\n",
    "                    not_transferred_queries_not_in_acct.append(rule[\"name\"])\n",
    "\n",
    "if not_transferred_query_deleted:           \n",
    "    print(\"The following rules will not be transferred because they were not attached to any queries in the original acct:\")\n",
    "    print(not_transferred_query_deleted)\n",
    "\n",
    "if not_transferred_queries_not_in_acct:\n",
    "    print(\"The following rules will not be transferred because the queries they were attached to were not transferred:\")\n",
    "    print(not_transferred_queries_not_in_acct)   \n",
    "    \n",
    "if not_transferred_no_action:\n",
    "    print(\"The following rules will not be transferred because they have no action in the origin account:\")\n",
    "    print(not_transferred_no_action) "
   ]
  },
  {
   "cell_type": "code",
   "execution_count": null,
   "metadata": {
    "collapsed": false
   },
   "outputs": [],
   "source": [
    "for rule in new_rules:\n",
    "    print(\"Uploading: \"+ rule[\"name\"])\n",
    "    destination_rules.upload(**rule)"
   ]
  },
  {
   "cell_type": "markdown",
   "metadata": {},
   "source": [
    "## Signals"
   ]
  },
  {
   "cell_type": "code",
   "execution_count": null,
   "metadata": {
    "collapsed": false
   },
   "outputs": [],
   "source": [
    "origin_signals = BWSignals(origin)\n",
    "destination_signals = BWSignals(destination)"
   ]
  },
  {
   "cell_type": "code",
   "execution_count": null,
   "metadata": {
    "collapsed": false
   },
   "outputs": [],
   "source": [
    "signals = origin_signals.get()"
   ]
  },
  {
   "cell_type": "code",
   "execution_count": null,
   "metadata": {
    "collapsed": false
   },
   "outputs": [],
   "source": [
    "origin_categories = BWCategories(origin)\n",
    "origin_tags = BWTags(origin)"
   ]
  },
  {
   "cell_type": "code",
   "execution_count": null,
   "metadata": {
    "collapsed": true
   },
   "outputs": [],
   "source": [
    "inv_queries = {v: k for k, v in origin_queries.ids.items()}\n",
    "inv_tags = {v: k for k, v in origin_tags.ids.items()}\n",
    "\n",
    "inv_categories = {}\n",
    "for category in origin_categories.ids:\n",
    "    for child in origin_categories.ids[category][\"children\"]:\n",
    "        inv_categories[origin_categories.ids[category][\"children\"][child]] = child"
   ]
  },
  {
   "cell_type": "code",
   "execution_count": null,
   "metadata": {
    "collapsed": false
   },
   "outputs": [],
   "source": [
    "signals_to_upload = []\n",
    "for signal in signals:\n",
    "    if signal[\"projectId\"] == origin.project_id:\n",
    "        formatting = {\"name\": signal[\"name\"],\n",
    "                      \"queries\": [],\n",
    "                      \"category\": [],\n",
    "                      \"xcategory\": [],\n",
    "                      \"tags\": [],\n",
    "                      \"xtags\": [],\n",
    "                      \"subscribers\": signal[\"subscribers\"]}\n",
    "        for category in signal[\"includeCategoryIds\"]:\n",
    "            if category not in inv_categories:\n",
    "                pprint(\"Couldn't find \"+ str(category) + \"for signal \" +signal[\"name\"])\n",
    "            else:\n",
    "                formatting[\"category\"].append(inv_categories[category])\n",
    "        for category in signal[\"excludeCategoryIds\"]:\n",
    "            if category not in inv_categories:\n",
    "                pprint(\"Couldn't find \"+ str(category) + \"for signal \" +signal[\"name\"])\n",
    "            else:\n",
    "                formatting[\"xcategory\"].append(inv_categories[category])\n",
    "                \n",
    "        for tag in signal[\"includeTagIds\"]:\n",
    "            if tag not in inv_tags:\n",
    "                pprint(\"Couldn't find \"+ str(tag) + \"for signal \" +signal[\"name\"])\n",
    "            else:\n",
    "                formatting[\"tags\"].append(inv_tags[tag])\n",
    "        for tag in signal[\"excludeTagIds\"]:\n",
    "            if tag not in inv_tags:\n",
    "                pprint(\"Couldn't find \"+ str(tag) + \"for signal \" +signal[\"name\"])\n",
    "            else:\n",
    "                formatting[\"xtags\"].append(inv_tags[tag])\n",
    "                \n",
    "                \n",
    "        for query in signal[\"queryIds\"]:\n",
    "            if query not in inv_queries:\n",
    "                pprint(\"Couldn't find \"+ str(query) + \"for signal \" +signal[\"name\"])\n",
    "            else:\n",
    "                formatting[\"queries\"].append(inv_queries[query])\n",
    "                signals_to_upload.append(formatting)"
   ]
  },
  {
   "cell_type": "code",
   "execution_count": null,
   "metadata": {
    "collapsed": false
   },
   "outputs": [],
   "source": [
    "destination_signals.upload_all(signals_to_upload)"
   ]
  },
  {
   "cell_type": "markdown",
   "metadata": {
    "collapsed": true
   },
   "source": [
    "## Backfill"
   ]
  },
  {
   "cell_type": "code",
   "execution_count": null,
   "metadata": {
    "collapsed": false
   },
   "outputs": [],
   "source": [
    "for query in destination_queries.ids:\n",
    "    destination_queries.backfill(destination_queries.ids[query], backfill_date)"
   ]
  }
 ],
 "metadata": {
  "kernelspec": {
   "display_name": "Python 3",
   "language": "python",
   "name": "python3"
  },
  "language_info": {
   "codemirror_mode": {
    "name": "ipython",
    "version": 3
   },
   "file_extension": ".py",
   "mimetype": "text/x-python",
   "name": "python",
   "nbconvert_exporter": "python",
   "pygments_lexer": "ipython3",
   "version": "3.4.3"
  }
 },
 "nbformat": 4,
 "nbformat_minor": 0
}
