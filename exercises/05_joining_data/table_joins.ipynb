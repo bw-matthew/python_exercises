{
 "cells": [
  {
   "cell_type": "markdown",
   "metadata": {},
   "source": [
    "# joining tables\n",
    "a key concept for tidy data is the separation of data into tables, such that only relevant data is stored in each table. this reduces data size and increases readability. \n",
    "\n",
    "however, what data are relevant together can change based on the use case, so we often need to bring together into a single table information from two or more tables. the `join` operations that do this are the topic of today's session.\n",
    "\n",
    "## today's exercise\n",
    "consider the new york rodent inspection dataset from last time. we have already discussed how to read in that data, how to clean/manipulate the datetime information in it, and how to use group by and aggregation to calculate things like the monthly number of inspections. \n",
    "\n",
    "one might suspect that the weather plays a role in how many rodent inspections occur in a given day/week/month. to explore that hypothesis we must join the data on daily new york rodent inspection counts with data on the daily weather in new york. in the `data` folder there is a data file containing the daily weather summary for new york. read it in, count the number of inspections per day and join the result with the daily weather (precipitation (`PRCP` and `SNOW`) and temperature (`TMAX`, `TMIN`, and `TAVG`). then calculate the average number of daily inspections for days when the precipitation is nonzero, and the average number of daily inspaections for days when the precipitation is zero.\n",
    "\n",
    "## note on image credits\n",
    "this notebook contains links to animated gifs which i copied from here: https://github.com/gadenbuie/tidyexplain"
   ]
  },
  {
   "cell_type": "markdown",
   "metadata": {},
   "source": [
    "# the art of the join\n",
    "- in the following, when we talk of tables we mean a `pandas` dataframe.\n",
    "- when we talk about joining tables, order matters. that is, joining table `x` with table `y` is in general not the same as joining `y` to `x`.\n",
    "- in order to be able to join two tables into a single table, they must have at least one column in common, a column that is the key to the join and lets us know which row of one table to match against the other. \n",
    "- the resulting joined table retains some subset of the rows and columns of the two tables. \n",
    "- we will be using the `pd.merge()` function:\n",
    "```\n",
    "pd.merge(left, right, how='inner', on=None, left_on=None, right_on=None,\n",
    "         left_index=False, right_index=False, sort=True,\n",
    "         suffixes=('_x', '_y'), copy=True, indicator=False,\n",
    "         validate=None)\n",
    "```\n",
    "consider two tables, `x` and `y` defined as dataframes below (for comparison to this week's exercise, imagine  `x` has information on the count of inspections per day, and table `y` has the daily weather information):"
   ]
  },
  {
   "cell_type": "code",
   "execution_count": 13,
   "metadata": {},
   "outputs": [],
   "source": [
    "import pandas as pd\n",
    "x = pd.DataFrame([{'a':1, 'b':'x1'}, {'a':2, 'b':'x2'}, {'a':3, 'b':'x3'}], index=[1,2,3])\n",
    "y = pd.DataFrame([{'a':1, 'c':'y1'}, {'a':2, 'c':'y2'}, {'a':4, 'c':'y4'}], index=[11,12,13])"
   ]
  },
  {
   "cell_type": "code",
   "execution_count": 2,
   "metadata": {},
   "outputs": [
    {
     "name": "stdout",
     "output_type": "stream",
     "text": [
      "   a   b\n",
      "1  1  x1\n",
      "2  2  x2\n",
      "3  3  x3\n"
     ]
    }
   ],
   "source": [
    "print(x)"
   ]
  },
  {
   "cell_type": "code",
   "execution_count": 3,
   "metadata": {},
   "outputs": [
    {
     "name": "stdout",
     "output_type": "stream",
     "text": [
      "    a   c\n",
      "11  1  y1\n",
      "12  2  y2\n",
      "13  4  y4\n"
     ]
    }
   ],
   "source": [
    "print(y)"
   ]
  },
  {
   "cell_type": "markdown",
   "metadata": {},
   "source": [
    "note that `x` and `y` have one column in common: column `a`. each dataframe also has another column unique to itself. \n",
    "it is a good idea to pause here and think about what you expect the resulting joined table to look like? in fact there are several different ways to join these tables with different results. \n",
    "\n",
    "let's start with the simplest."
   ]
  },
  {
   "cell_type": "markdown",
   "metadata": {},
   "source": [
    "## full outer join\n",
    "a *full outer join* of `x` and `y` is a table containing all the rows of `x` and all the rows of `y`, matched up on columns in common. wherever one table has a gap (lacks a value of the key), a `NaN` is inserted in its columns. \n",
    "![full join](images/full-join.gif)\n",
    "this is the kind of join we would use when we are concerned about not dropping any of the data. \n",
    "\n",
    "here is how we can execute this kind of join:"
   ]
  },
  {
   "cell_type": "code",
   "execution_count": 4,
   "metadata": {},
   "outputs": [
    {
     "name": "stdout",
     "output_type": "stream",
     "text": [
      "   a    b    c\n",
      "0  1   x1   y1\n",
      "1  2   x2   y2\n",
      "2  3   x3  NaN\n",
      "3  4  NaN   y4\n"
     ]
    }
   ],
   "source": [
    "outer_join = pd.merge(x,y,how='outer')\n",
    "print(outer_join)"
   ]
  },
  {
   "cell_type": "markdown",
   "metadata": {},
   "source": [
    "note that the index is not being used."
   ]
  },
  {
   "cell_type": "markdown",
   "metadata": {},
   "source": [
    "## inner join\n",
    "an *inner join* of `x` and `y` is a table containing only the rows of `x` and only the rows of `y` that have a match in the key column.\n",
    "![inner join](images/inner-join.gif)\n",
    "this is the kind of join we would often use when we want to investigate (model or plot) the relantionship between columns `b` and `c` and cannot use rows where either is missing."
   ]
  },
  {
   "cell_type": "code",
   "execution_count": 5,
   "metadata": {},
   "outputs": [
    {
     "name": "stdout",
     "output_type": "stream",
     "text": [
      "   a   b   c\n",
      "0  1  x1  y1\n",
      "1  2  x2  y2\n"
     ]
    }
   ],
   "source": [
    "inner_join = pd.merge(x,y,how='inner', on='a')\n",
    "print(inner_join)"
   ]
  },
  {
   "cell_type": "markdown",
   "metadata": {},
   "source": [
    "## left join\n",
    "a *left join* of `x` and `y` is a table containing all the rows of `x` and only the rows of `y` which have matching values in the key column(s).\n",
    "![left join](images/left-join.gif)\n",
    "this is the most frequently used type of join. we use this kind of join when `x` is our main data table that we do not want to drop rows from, but we are augmenting it with some other external data, `y`."
   ]
  },
  {
   "cell_type": "code",
   "execution_count": 6,
   "metadata": {},
   "outputs": [
    {
     "name": "stdout",
     "output_type": "stream",
     "text": [
      "   a   b    c\n",
      "0  1  x1   y1\n",
      "1  2  x2   y2\n",
      "2  3  x3  NaN\n"
     ]
    }
   ],
   "source": [
    "left_join = pd.merge(x,y,how='left', on='a')\n",
    "print(left_join)"
   ]
  },
  {
   "cell_type": "markdown",
   "metadata": {},
   "source": [
    "## right join\n",
    "a *right join* of `x` and `y` is a table containing all the rows of `y` and only the rows of `x` which have matching values in the key column(s).\n",
    "![right join](images/right-join.gif)\n",
    "right join of `x` and `y` is exactly like a left join of `y` and `x`. what matters is which table is the one whose data we are not willing to drop in case of missing key values"
   ]
  },
  {
   "cell_type": "code",
   "execution_count": 7,
   "metadata": {},
   "outputs": [
    {
     "name": "stdout",
     "output_type": "stream",
     "text": [
      "   a    b   c\n",
      "0  1   x1  y1\n",
      "1  2   x2  y2\n",
      "2  4  NaN  y4\n"
     ]
    }
   ],
   "source": [
    "left_join = pd.merge(x,y,how='right', on='a')\n",
    "print(left_join)"
   ]
  },
  {
   "cell_type": "markdown",
   "metadata": {},
   "source": [
    "## specifying columns\n",
    "in case there are no identically named columns between the two tables, we must specify the column in each table"
   ]
  },
  {
   "cell_type": "code",
   "execution_count": null,
   "metadata": {},
   "outputs": [],
   "source": [
    "x = pd.DataFrame([{'x_a':1, 'x_b':'x1'}, {'x_a':2, 'x_b':'x2'}, {'x_a':3, 'x_b':'x3'}], index=[1,2,3])\n",
    "print(x)\n",
    "y = pd.DataFrame([{'y_a':1, 'y_c':'y1'}, {'y_a':2, 'y_c':'y2'}, {'y_a':4, 'y_c':'y4'}], index=[1,2,3])\n",
    "print(y)"
   ]
  },
  {
   "cell_type": "code",
   "execution_count": null,
   "metadata": {},
   "outputs": [],
   "source": [
    "outer_join = pd.merge(x, y, how='outer', left_on='x_a', right_on='y_a').drop(['y_a'], axis=1)\n",
    "print(outer_join)"
   ]
  },
  {
   "cell_type": "code",
   "execution_count": null,
   "metadata": {},
   "outputs": [],
   "source": [
    "outer_join = pd.merge(x, y, how='outer', left_on='x_a', right_on='y_a').drop(['y_a'], axis=1)\n",
    "print(outer_join)"
   ]
  },
  {
   "cell_type": "markdown",
   "metadata": {},
   "source": [
    "# filtered joins"
   ]
  },
  {
   "cell_type": "markdown",
   "metadata": {},
   "source": [
    "## left semi join\n",
    "a *left semi join* of `x` and `y` is a table which retains only the columns of `x` and only the rows where `x` and `y` have matching keys. i\n",
    "![semi join](images/semi-join.gif)\n",
    "(a rarely-seen *right semi join* works similarly) in effect, the rows of `x` get filtered by the intersection of the keys in `x` and `y`. we use a semi join to trim a dataframe based on another dataframe or list."
   ]
  },
  {
   "cell_type": "code",
   "execution_count": 26,
   "metadata": {},
   "outputs": [
    {
     "name": "stdout",
     "output_type": "stream",
     "text": [
      "1     True\n",
      "2     True\n",
      "3    False\n",
      "Name: a, dtype: bool\n",
      "   a   b\n",
      "1  1  x1\n",
      "2  2  x2\n"
     ]
    }
   ],
   "source": [
    "boolean_mask = x['a'].isin(y['a'])\n",
    "print(boolean_mask)\n",
    "semi_join = x.loc[boolean_mask]\n",
    "print(semi_join)"
   ]
  },
  {
   "cell_type": "markdown",
   "metadata": {},
   "source": [
    "## intersect\n",
    "when `x` and `y` have some number of columns in common, an *intersect join* of `x` and `y` is a table with the common columns, containing only the rows of `x` and `y` which have matching values in those columns, dropping the rows that only occur in each tables.\n",
    "![intersect join](images/intersect.gif)"
   ]
  },
  {
   "cell_type": "code",
   "execution_count": 38,
   "metadata": {},
   "outputs": [
    {
     "name": "stdout",
     "output_type": "stream",
     "text": [
      "   a   b\n",
      "0  1  x1\n",
      "1  2  x2\n",
      "2  3  x3\n",
      "   a   b   c\n",
      "0  1  x1  y1\n",
      "1  2  x4  y2\n",
      "2  4  x1  y4\n"
     ]
    }
   ],
   "source": [
    "x = pd.DataFrame([{'a':1, 'b':'x1'}, {'a':2, 'b':'x2'}, {'a':3, 'b':'x3'}])\n",
    "y = pd.DataFrame([{'a':1, 'b':'x1', 'c':'y1'}, {'a':2, 'b':'x4', 'c':'y2'}, {'a':4, 'b':'x1', 'c':'y4'}])\n",
    "print(x)\n",
    "print(y)"
   ]
  },
  {
   "cell_type": "code",
   "execution_count": 39,
   "metadata": {},
   "outputs": [
    {
     "name": "stdout",
     "output_type": "stream",
     "text": [
      "   a   b\n",
      "0  1  x1\n"
     ]
    }
   ],
   "source": [
    "boolean_mask = x['a'].isin(y['a']) & x['b'].isin(y['b'])\n",
    "#print(boolean_mask)\n",
    "intersect = x.loc[boolean_mask]\n",
    "print(intersect)"
   ]
  },
  {
   "cell_type": "markdown",
   "metadata": {},
   "source": [
    "this gets simpler when the dataframes have the same columns:"
   ]
  },
  {
   "cell_type": "code",
   "execution_count": 8,
   "metadata": {},
   "outputs": [
    {
     "name": "stdout",
     "output_type": "stream",
     "text": [
      "   col1 col2\n",
      "0     1    a\n",
      "1     1    b\n",
      "2     2    a\n",
      "   col1 col2\n",
      "0     1    a\n",
      "1     2    b\n"
     ]
    }
   ],
   "source": [
    "x = pd.DataFrame([{'col1':1, 'col2':'a'}, {'col1':1, 'col2':'b'}, {'col1':2, 'col2':'a'}])\n",
    "y = pd.DataFrame([{'col1':1, 'col2':'a'}, {'col1':2, 'col2':'b'}])\n",
    "print(x)\n",
    "print(y)\n"
   ]
  },
  {
   "cell_type": "code",
   "execution_count": 9,
   "metadata": {},
   "outputs": [
    {
     "name": "stdout",
     "output_type": "stream",
     "text": [
      "   col1 col2\n",
      "0     1    a\n"
     ]
    }
   ],
   "source": [
    "intersect_join = pd.merge(x,y,how='inner')\n",
    "print(intersect_join)"
   ]
  },
  {
   "cell_type": "markdown",
   "metadata": {},
   "source": [
    "\n"
   ]
  },
  {
   "cell_type": "code",
   "execution_count": null,
   "metadata": {},
   "outputs": [],
   "source": []
  },
  {
   "cell_type": "code",
   "execution_count": null,
   "metadata": {},
   "outputs": [],
   "source": []
  },
  {
   "cell_type": "code",
   "execution_count": null,
   "metadata": {},
   "outputs": [],
   "source": []
  }
 ],
 "metadata": {
  "kernelspec": {
   "display_name": "Python 3",
   "language": "python",
   "name": "python3"
  },
  "language_info": {
   "codemirror_mode": {
    "name": "ipython",
    "version": 3
   },
   "file_extension": ".py",
   "mimetype": "text/x-python",
   "name": "python",
   "nbconvert_exporter": "python",
   "pygments_lexer": "ipython3",
   "version": "3.7.0"
  }
 },
 "nbformat": 4,
 "nbformat_minor": 2
}
